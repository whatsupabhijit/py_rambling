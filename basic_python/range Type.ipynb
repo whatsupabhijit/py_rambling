{
 "cells": [
  {
   "cell_type": "markdown",
   "metadata": {},
   "source": [
    "## The range function generates  a sequence of integers"
   ]
  },
  {
   "cell_type": "code",
   "execution_count": 2,
   "metadata": {},
   "outputs": [
    {
     "name": "stdout",
     "output_type": "stream",
     "text": [
      "a_range =  range(0, 5)\n"
     ]
    }
   ],
   "source": [
    "a_range = range(5)\n",
    "print ('a_range = ', a_range)"
   ]
  },
  {
   "cell_type": "code",
   "execution_count": 4,
   "metadata": {},
   "outputs": [
    {
     "name": "stdout",
     "output_type": "stream",
     "text": [
      "list(a_range) =  [0, 1, 2, 3, 4]\n"
     ]
    }
   ],
   "source": [
    "print ('list(a_range) = ', list(a_range))"
   ]
  },
  {
   "cell_type": "markdown",
   "metadata": {},
   "source": [
    "## It is often used to execute a `for` loop a number of times"
   ]
  },
  {
   "cell_type": "code",
   "execution_count": 6,
   "metadata": {},
   "outputs": [
    {
     "name": "stdout",
     "output_type": "stream",
     "text": [
      "0 1 2 3 4 \n"
     ]
    }
   ],
   "source": [
    "for i in range(5):\n",
    "    print (i, end = \" \")\n",
    "print ()"
   ]
  },
  {
   "cell_type": "markdown",
   "metadata": {},
   "source": [
    "## it is similar to the slice function with start, stop and step"
   ]
  },
  {
   "cell_type": "code",
   "execution_count": 8,
   "metadata": {},
   "outputs": [
    {
     "name": "stdout",
     "output_type": "stream",
     "text": [
      "list(arange) =  [0, 1, 2, 3, 4, 5, 6, 7, 8, 9]\n",
      "list(arange) =  [10, 11, 12, 13, 14, 15]\n",
      "list(arange )=  [2, 4, 6, 8, 10, 12, 14, 16, 18]\n"
     ]
    }
   ],
   "source": [
    "arange = range(10) ## stop only\n",
    "print ('list(arange) = ', list(arange))\n",
    "\n",
    "arange = range(10,16) ## start and stop\n",
    "print ('list(arange) = ', list(arange))\n",
    "\n",
    "arange = range(2,20,2) ## start stop and step e.g. all even numbers less than 20\n",
    "print ('list(arange )= ', list(arange))"
   ]
  }
 ],
 "metadata": {
  "kernelspec": {
   "display_name": "Python 3",
   "language": "python",
   "name": "python3"
  },
  "language_info": {
   "codemirror_mode": {
    "name": "ipython",
    "version": 3
   },
   "file_extension": ".py",
   "mimetype": "text/x-python",
   "name": "python",
   "nbconvert_exporter": "python",
   "pygments_lexer": "ipython3",
   "version": "3.6.5"
  }
 },
 "nbformat": 4,
 "nbformat_minor": 2
}
