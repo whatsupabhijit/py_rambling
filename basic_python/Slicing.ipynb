{
  "nbformat": 4,
  "nbformat_minor": 0,
  "metadata": {
    "colab": {
      "name": "Slicing.ipynb",
      "version": "0.3.2",
      "provenance": []
    },
    "kernelspec": {
      "display_name": "Python 3",
      "language": "python",
      "name": "python3"
    }
  },
  "cells": [
    {
      "metadata": {
        "id": "TBKhZo8tqKNw",
        "colab_type": "text"
      },
      "cell_type": "markdown",
      "source": [
        "## Slicing allows access one or more elements of a sequence \n",
        "## Immutable sequences include tuples, strings, and bytes"
      ]
    },
    {
      "metadata": {
        "id": "QkIWugojqKNz",
        "colab_type": "code",
        "colab": {}
      },
      "cell_type": "code",
      "source": [
        "atuple = ('a', 1,2, (3,4))\n",
        "astring = 'immutable'\n",
        "abyte= b'sequence'"
      ],
      "execution_count": 0,
      "outputs": []
    },
    {
      "metadata": {
        "id": "dNxFu9thqKN5",
        "colab_type": "text"
      },
      "cell_type": "markdown",
      "source": [
        "## Mutable sequences include lists and bytearrays"
      ]
    },
    {
      "metadata": {
        "id": "aE4D11-MqKN7",
        "colab_type": "code",
        "colab": {}
      },
      "cell_type": "code",
      "source": [
        "alist = [1,2,3,4,[5,6,7]]\n",
        "abytearray = bytearray(b'mutable')"
      ],
      "execution_count": 0,
      "outputs": []
    },
    {
      "metadata": {
        "id": "iqxbQI5zqKOA",
        "colab_type": "text"
      },
      "cell_type": "markdown",
      "source": [
        "## Accessing is allowed in all sequences\n"
      ]
    },
    {
      "metadata": {
        "id": "vqPzFuN5qKOC",
        "colab_type": "code",
        "outputId": "c25a5377-da3c-4f8a-95ff-ebe18bcbdeb8",
        "colab": {
          "base_uri": "https://localhost:8080/",
          "height": 102
        }
      },
      "cell_type": "code",
      "source": [
        "print (\"atuple[0] = \", atuple[0])\n",
        "print (\"astring[1] =\" , astring[1])\n",
        "print (\"abyte[2] = \", abyte[2])\n",
        "print (\"alist[3] = \", alist[3])\n",
        "print (\"abytearray[4] = \" , abytearray[4])"
      ],
      "execution_count": 0,
      "outputs": [
        {
          "output_type": "stream",
          "text": [
            "atuple[0] =  a\n",
            "astring[1] = m\n",
            "abyte[2] =  113\n",
            "alist[3] =  4\n",
            "abytearray[4] =  98\n"
          ],
          "name": "stdout"
        }
      ]
    },
    {
      "metadata": {
        "id": "i5SMyQ-RqKOJ",
        "colab_type": "text"
      },
      "cell_type": "markdown",
      "source": [
        "## Negative indexes are from the end"
      ]
    },
    {
      "metadata": {
        "id": "zbz4xcrfqKOL",
        "colab_type": "code",
        "outputId": "5a97d0b0-baa1-40e6-efe4-bb122d073872",
        "colab": {
          "base_uri": "https://localhost:8080/",
          "height": 102
        }
      },
      "cell_type": "code",
      "source": [
        "print (\"atuple[-1] = \", atuple[-1])\n",
        "print (\"astring[-2] =\" , astring[-2])\n",
        "print (\"abyte[-3] = \", abyte[-3])\n",
        "print (\"alist[-4] = \", alist[-4])\n",
        "print (\"abytearray[-5] = \" , abytearray[-5])"
      ],
      "execution_count": 0,
      "outputs": [
        {
          "output_type": "stream",
          "text": [
            "atuple[-1] =  (3, 4)\n",
            "astring[-2] = l\n",
            "abyte[-3] =  110\n",
            "alist[-4] =  2\n",
            "abytearray[-5] =  116\n"
          ],
          "name": "stdout"
        }
      ]
    },
    {
      "metadata": {
        "id": "H6RaFtBVqKOQ",
        "colab_type": "text"
      },
      "cell_type": "markdown",
      "source": [
        "## Sub slices can be accessed using two indexes"
      ]
    },
    {
      "metadata": {
        "id": "0HWvNxWlqKOR",
        "colab_type": "code",
        "outputId": "507823fe-35ad-4702-f04c-cf63703e2764",
        "colab": {
          "base_uri": "https://localhost:8080/",
          "height": 102
        }
      },
      "cell_type": "code",
      "source": [
        "print (\"alist[0:2] = \", alist[0:2])\n",
        "print (\"alist[:2] = \", alist[:2])\n",
        "print (\"alist[2:5] = \", alist[2:5])\n",
        "print (\"alist[2:] = \", alist[2:])\n",
        "print (\"alist[:] = \", alist[:])"
      ],
      "execution_count": 0,
      "outputs": [
        {
          "output_type": "stream",
          "text": [
            "alist[0:2] =  [1, 2]\n",
            "alist[:2] =  [1, 2]\n",
            "alist[2:5] =  [3, 4, [5, 6, 7]]\n",
            "alist[2:] =  [3, 4, [5, 6, 7]]\n",
            "alist[:] =  [1, 2, 3, 4, [5, 6, 7]]\n"
          ],
          "name": "stdout"
        }
      ]
    },
    {
      "metadata": {
        "id": "MQvFRrM2qKOW",
        "colab_type": "text"
      },
      "cell_type": "markdown",
      "source": [
        "## Advanced\n",
        "`IS` \n"
      ]
    },
    {
      "metadata": {
        "id": "VlrCGbSdqKOX",
        "colab_type": "code",
        "outputId": "202a0be1-245b-43e6-9500-12f2b8ea169b",
        "colab": {
          "base_uri": "https://localhost:8080/",
          "height": 51
        }
      },
      "cell_type": "code",
      "source": [
        "list_ref = alist\n",
        "print ('alist is list_ref =', alist is list_ref)\n",
        "list_copy = alist[:]\n",
        "print (\"alist is list_copy = \", alist is list_copy)"
      ],
      "execution_count": 0,
      "outputs": [
        {
          "output_type": "stream",
          "text": [
            "alist is list_ref = True\n",
            "alist is list_copy =  False\n"
          ],
          "name": "stdout"
        }
      ]
    },
    {
      "metadata": {
        "id": "HW0df_YKqKOb",
        "colab_type": "text"
      },
      "cell_type": "markdown",
      "source": [
        "## Steps can be taken as a third parameter\n"
      ]
    },
    {
      "metadata": {
        "id": "M9Ej018-qKOc",
        "colab_type": "code",
        "outputId": "69a5cef8-dab4-4544-ddec-d3ee6678b395",
        "colab": {
          "base_uri": "https://localhost:8080/",
          "height": 68
        }
      },
      "cell_type": "code",
      "source": [
        "print ('alist [::2] = ', alist[::2])\n",
        "print ('alist [1:4:2] = ', alist[1:4:2])\n",
        "print ('astring [::-1] = ', astring[::-1])"
      ],
      "execution_count": 0,
      "outputs": [
        {
          "output_type": "stream",
          "text": [
            "alist [::2] =  [1, 3, [5, 6, 7]]\n",
            "alist [1:4:2] =  [2, 4]\n",
            "astring [::-1] =  elbatummi\n"
          ],
          "name": "stdout"
        }
      ]
    },
    {
      "metadata": {
        "id": "70WXhvrcqKOj",
        "colab_type": "text"
      },
      "cell_type": "markdown",
      "source": [
        "## Use additional slices to access elements with further sequences"
      ]
    },
    {
      "metadata": {
        "id": "X7unvYkOqKOj",
        "colab_type": "code",
        "outputId": "069481ae-fefe-4020-aba9-1555b50fc569",
        "colab": {
          "base_uri": "https://localhost:8080/",
          "height": 51
        }
      },
      "cell_type": "code",
      "source": [
        "print ('alist[4][0] = ', alist[4][0])\n",
        "print ('alist[4][1] = ', alist[4][1])\n"
      ],
      "execution_count": 0,
      "outputs": [
        {
          "output_type": "stream",
          "text": [
            "alist[4][0] =  5\n",
            "alist[4][1] =  6\n"
          ],
          "name": "stdout"
        }
      ]
    },
    {
      "metadata": {
        "id": "CZls_7ZYqKOp",
        "colab_type": "text"
      },
      "cell_type": "markdown",
      "source": [
        "## Mutable sequences can be updated with slices"
      ]
    },
    {
      "metadata": {
        "id": "cRsVpmJpqKOq",
        "colab_type": "code",
        "outputId": "daef029b-5b2f-4f85-c1a1-edb5eb8571d0",
        "colab": {
          "base_uri": "https://localhost:8080/",
          "height": 34
        }
      },
      "cell_type": "code",
      "source": [
        "alist[0]  = 9\n",
        "alist[1:3] = [8,7,6]\n",
        "print ('alist = ' , alist)"
      ],
      "execution_count": 0,
      "outputs": [
        {
          "output_type": "stream",
          "text": [
            "alist =  [9, 8, 7, 6, 4, [5, 6, 7]]\n"
          ],
          "name": "stdout"
        }
      ]
    },
    {
      "metadata": {
        "id": "BjONNC3tqKOx",
        "colab_type": "text"
      },
      "cell_type": "markdown",
      "source": [
        "## A slice object can be used"
      ]
    },
    {
      "metadata": {
        "id": "44QmAvjLqKOz",
        "colab_type": "code",
        "outputId": "4915fa39-b3ec-484b-9585-03b70de0de02",
        "colab": {
          "base_uri": "https://localhost:8080/",
          "height": 51
        }
      },
      "cell_type": "code",
      "source": [
        "aslice = slice(4)\n",
        "print ('aslice = ', aslice)\n",
        "print ('alist[aslice] = ' , alist[aslice])"
      ],
      "execution_count": 0,
      "outputs": [
        {
          "output_type": "stream",
          "text": [
            "aslice =  slice(None, 4, None)\n",
            "alist[aslice] =  [9, 8, 7, 6]\n"
          ],
          "name": "stdout"
        }
      ]
    },
    {
      "metadata": {
        "id": "0oW_WwF5qKO5",
        "colab_type": "code",
        "outputId": "81e4e326-2086-4aca-f8eb-05583e9711e9",
        "colab": {
          "base_uri": "https://localhost:8080/",
          "height": 51
        }
      },
      "cell_type": "code",
      "source": [
        "aslice = slice(1,6)\n",
        "print ('aslice = ', aslice)\n",
        "print ('alist[aslice] = ' , alist[aslice])"
      ],
      "execution_count": 0,
      "outputs": [
        {
          "output_type": "stream",
          "text": [
            "aslice =  slice(1, 6, None)\n",
            "alist[aslice] =  [8, 7, 6, 4, [5, 6, 7]]\n"
          ],
          "name": "stdout"
        }
      ]
    },
    {
      "metadata": {
        "id": "SgcNlliLqKPA",
        "colab_type": "code",
        "outputId": "415a98d5-8685-4316-f3b0-3ea3211f102f",
        "colab": {
          "base_uri": "https://localhost:8080/",
          "height": 51
        }
      },
      "cell_type": "code",
      "source": [
        "aslice = slice(1,6,2)\n",
        "print ('aslice = ', aslice)\n",
        "print ('alist[aslice] = ' , alist[aslice])"
      ],
      "execution_count": 0,
      "outputs": [
        {
          "output_type": "stream",
          "text": [
            "aslice =  slice(1, 6, 2)\n",
            "alist[aslice] =  [8, 6, [5, 6, 7]]\n"
          ],
          "name": "stdout"
        }
      ]
    },
    {
      "metadata": {
        "id": "CPixvt50qKPH",
        "colab_type": "code",
        "colab": {}
      },
      "cell_type": "code",
      "source": [
        ""
      ],
      "execution_count": 0,
      "outputs": []
    }
  ]
}