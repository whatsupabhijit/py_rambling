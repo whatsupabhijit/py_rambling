{
 "cells": [
  {
   "cell_type": "markdown",
   "metadata": {},
   "source": [
    "## The tuple class provides a immutable sequence of elements"
   ]
  },
  {
   "cell_type": "code",
   "execution_count": 4,
   "metadata": {},
   "outputs": [
    {
     "name": "stdout",
     "output_type": "stream",
     "text": [
      "empty_tuple =  ()\n",
      "empty_tuple =  ()\n"
     ]
    }
   ],
   "source": [
    "empty_tuple = tuple()\n",
    "print ('empty_tuple = ', empty_tuple)\n",
    "\n",
    "empty_typle = tuple()\n",
    "print ('empty_tuple = ', empty_tuple)"
   ]
  },
  {
   "cell_type": "code",
   "execution_count": 2,
   "metadata": {},
   "outputs": [
    {
     "name": "stdout",
     "output_type": "stream",
     "text": [
      "tuple_str =  ('h', 'e', 'l', 'l', 'o')\n"
     ]
    }
   ],
   "source": [
    "tuple_str = tuple('hello')\n",
    "print('tuple_str = ', tuple_str)"
   ]
  },
  {
   "cell_type": "code",
   "execution_count": 3,
   "metadata": {},
   "outputs": [
    {
     "name": "stdout",
     "output_type": "stream",
     "text": [
      "tuple_list =  (1, 2, [3, 4, 5, [6, 7]])\n"
     ]
    }
   ],
   "source": [
    "tuple_list = tuple ([1,2,[3,4,5, [6,7]]])\n",
    "print('tuple_list = ', tuple_list)"
   ]
  },
  {
   "cell_type": "code",
   "execution_count": 8,
   "metadata": {},
   "outputs": [
    {
     "ename": "TypeError",
     "evalue": "'int' object is not iterable",
     "output_type": "error",
     "traceback": [
      "\u001b[1;31m---------------------------------------------------------------------------\u001b[0m",
      "\u001b[1;31mTypeError\u001b[0m                                 Traceback (most recent call last)",
      "\u001b[1;32m<ipython-input-8-08d46f9a79dd>\u001b[0m in \u001b[0;36m<module>\u001b[1;34m()\u001b[0m\n\u001b[1;32m----> 1\u001b[1;33m \u001b[0msingletone_tuple\u001b[0m \u001b[1;33m=\u001b[0m \u001b[0mtuple\u001b[0m\u001b[1;33m(\u001b[0m\u001b[1;36m1\u001b[0m\u001b[1;33m,\u001b[0m\u001b[1;33m)\u001b[0m\u001b[1;33m\u001b[0m\u001b[0m\n\u001b[0m\u001b[0;32m      2\u001b[0m \u001b[0mprint\u001b[0m\u001b[1;33m(\u001b[0m\u001b[1;34m'singletone_tuple = '\u001b[0m \u001b[1;33m,\u001b[0m \u001b[0msingletone_tuple\u001b[0m\u001b[1;33m)\u001b[0m\u001b[1;33m\u001b[0m\u001b[0m\n",
      "\u001b[1;31mTypeError\u001b[0m: 'int' object is not iterable"
     ]
    }
   ],
   "source": [
    "singletone_tuple = tuple(1,)\n",
    "print('singletone_tuple = ' , singletone_tuple)"
   ]
  },
  {
   "cell_type": "code",
   "execution_count": 9,
   "metadata": {},
   "outputs": [
    {
     "name": "stdout",
     "output_type": "stream",
     "text": [
      "tuple_syn =  (3, 4, 'a', 'b')\n"
     ]
    }
   ],
   "source": [
    "tuple_syn = (3,4,'a','b')\n",
    "print ('tuple_syn = ', tuple_syn)"
   ]
  },
  {
   "cell_type": "markdown",
   "metadata": {},
   "source": [
    "## functions\n",
    "+ `in`\n",
    "+ `not in`\n",
    "+ `min`\n",
    "+ `max`\n",
    "+ `sorted`\n",
    "+ `count`\n",
    "+ `index`\n",
    "+ `len`"
   ]
  },
  {
   "cell_type": "code",
   "execution_count": 11,
   "metadata": {},
   "outputs": [
    {
     "name": "stdout",
     "output_type": "stream",
     "text": [
      "'a' in tuple_syn =  True\n",
      "'a' in tuple_syn =  True\n",
      "1 not in tuple_syn =  True\n"
     ]
    }
   ],
   "source": [
    "print(\"'a' in tuple_syn = \", 'a' in tuple_syn)\n",
    "print(\"'a' in tuple_syn = \", \"a\" in tuple_syn)\n",
    "print ('1 not in tuple_syn = ', 1 not in tuple_syn)"
   ]
  },
  {
   "cell_type": "code",
   "execution_count": 14,
   "metadata": {},
   "outputs": [
    {
     "name": "stdout",
     "output_type": "stream",
     "text": [
      "min(tuple_str) =  e\n",
      "max(tuple_str) =  o\n",
      "sorted(tuple_str) =  ['e', 'h', 'l', 'l', 'o']\n",
      "tuple_str.count(\"l\")) =  2\n",
      "tuple_str.index(\"l\")) =  2\n",
      "len(tuple_str) =  5\n"
     ]
    }
   ],
   "source": [
    "print ('min(tuple_str) = ', min(tuple_str))\n",
    "print ('max(tuple_str) = ', max(tuple_str))\n",
    "print ('sorted(tuple_str) = ', sorted(tuple_str))\n",
    "print ('tuple_str.count(\"l\")) = ', tuple_str.count(\"l\"))\n",
    "print ('tuple_str.index(\"l\")) = ', tuple_str.index(\"l\"))\n",
    "print ('len(tuple_str) = ', len(tuple_str))"
   ]
  },
  {
   "cell_type": "code",
   "execution_count": null,
   "metadata": {},
   "outputs": [],
   "source": []
  }
 ],
 "metadata": {
  "kernelspec": {
   "display_name": "Python 3",
   "language": "python",
   "name": "python3"
  },
  "language_info": {
   "codemirror_mode": {
    "name": "ipython",
    "version": 3
   },
   "file_extension": ".py",
   "mimetype": "text/x-python",
   "name": "python",
   "nbconvert_exporter": "python",
   "pygments_lexer": "ipython3",
   "version": "3.6.5"
  }
 },
 "nbformat": 4,
 "nbformat_minor": 2
}
