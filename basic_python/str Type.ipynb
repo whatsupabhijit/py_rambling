{
 "cells": [
  {
   "cell_type": "markdown",
   "metadata": {},
   "source": [
    "## Sequence types in Python\n",
    "\n",
    "In this section you will learn about the different Sequence types in Python and its applications.\n",
    "\n",
    "+ `str` Type\n",
    "+ `bytes` Type\n",
    "+ `bytearray` Type\n",
    "+ `list` Type\n",
    "+ `tuple` Type\n",
    "+ `Slicing`"
   ]
  },
  {
   "attachments": {},
   "cell_type": "markdown",
   "metadata": {},
   "source": [
    "## Strings of class str are created with qoutes"
   ]
  },
  {
   "cell_type": "code",
   "execution_count": 1,
   "metadata": {},
   "outputs": [
    {
     "name": "stdout",
     "output_type": "stream",
     "text": [
      "singel qouted double qouted\n"
     ]
    }
   ],
   "source": [
    "qoute1  = 'singel qouted'\n",
    "qoute2  = \"double qouted\"\n",
    "print (qoute1, qoute2)"
   ]
  },
  {
   "cell_type": "code",
   "execution_count": 2,
   "metadata": {},
   "outputs": [
    {
     "name": "stdout",
     "output_type": "stream",
     "text": [
      "She said \"Hello!\" It's mine\n"
     ]
    }
   ],
   "source": [
    "why1 = 'She said \"Hello!\"'\n",
    "why2 = \"It's mine\"\n",
    "print(why1, why2)"
   ]
  },
  {
   "cell_type": "code",
   "execution_count": 3,
   "metadata": {},
   "outputs": [
    {
     "name": "stdout",
     "output_type": "stream",
     "text": [
      "She said, \"Hello!\" It's mine \n"
     ]
    }
   ],
   "source": [
    "why_not1 = \"She said, \\\"Hello!\\\"\"\n",
    "why_not2 = 'It\\'s mine '\n",
    "print(why_not1, why_not2)"
   ]
  },
  {
   "cell_type": "markdown",
   "metadata": {},
   "source": [
    "## Special escape sequences exist"
   ]
  },
  {
   "cell_type": "code",
   "execution_count": 4,
   "metadata": {},
   "outputs": [
    {
     "name": "stdout",
     "output_type": "stream",
     "text": [
      "line1\n",
      "line2\n",
      "line3\n"
     ]
    }
   ],
   "source": [
    "new_line = 'line1\\nline2\\nline3'\n",
    "print(new_line)"
   ]
  },
  {
   "cell_type": "code",
   "execution_count": 5,
   "metadata": {},
   "outputs": [
    {
     "name": "stdout",
     "output_type": "stream",
     "text": [
      "col1\tcol2\tcol3\n"
     ]
    }
   ],
   "source": [
    "tab_char = 'col1\\tcol2\\tcol3'\n",
    "print (tab_char)"
   ]
  },
  {
   "cell_type": "code",
   "execution_count": 6,
   "metadata": {},
   "outputs": [
    {
     "name": "stdout",
     "output_type": "stream",
     "text": [
      "the backslash: \\\n"
     ]
    }
   ],
   "source": [
    "backslash = 'the backslash: \\\\'\n",
    "print (backslash)"
   ]
  },
  {
   "cell_type": "markdown",
   "metadata": {},
   "source": [
    "## Raw strings prevent escape sequene interpretation"
   ]
  },
  {
   "cell_type": "code",
   "execution_count": 7,
   "metadata": {},
   "outputs": [
    {
     "name": "stdout",
     "output_type": "stream",
     "text": [
      "line1\\nline2\\nline3\n",
      "col1\\tcol2\\tcol3\n",
      "the backslash: \\\\\n"
     ]
    }
   ],
   "source": [
    "raw_line_1 = r'line1\\nline2\\nline3'\n",
    "print(raw_line_1)\n",
    "raw_tab_char = r'col1\\tcol2\\tcol3'\n",
    "print (raw_tab_char)\n",
    "raw_backslash = r'the backslash: \\\\'\n",
    "print (raw_backslash)"
   ]
  },
  {
   "cell_type": "markdown",
   "metadata": {},
   "source": [
    "## Sequence objects can use several operators and functions:"
   ]
  },
  {
   "cell_type": "code",
   "execution_count": 8,
   "metadata": {},
   "outputs": [
    {
     "name": "stdout",
     "output_type": "stream",
     "text": [
      "sub_text =  double\n",
      "doubledouble\n"
     ]
    }
   ],
   "source": [
    "sub_text = 'double'\n",
    "print ('sub_text = ' , sub_text)\n",
    "print(sub_text + sub_text)"
   ]
  },
  {
   "cell_type": "code",
   "execution_count": 9,
   "metadata": {},
   "outputs": [
    {
     "name": "stdout",
     "output_type": "stream",
     "text": [
      "****************************************\n"
     ]
    }
   ],
   "source": [
    "print('*' * 40)"
   ]
  },
  {
   "cell_type": "code",
   "execution_count": 10,
   "metadata": {},
   "outputs": [
    {
     "name": "stdout",
     "output_type": "stream",
     "text": [
      "len(sub_text) =  6\n",
      "min(sub_text) =  b\n",
      "max(sub_text) =  u\n"
     ]
    }
   ],
   "source": [
    "print ('len(sub_text) = ' , len(sub_text))\n",
    "print ('min(sub_text) = ' , min(sub_text))\n",
    "print ('max(sub_text) = ' , max(sub_text))\n"
   ]
  },
  {
   "cell_type": "code",
   "execution_count": 11,
   "metadata": {},
   "outputs": [
    {
     "name": "stdout",
     "output_type": "stream",
     "text": [
      "sub_text not in qoute1 returns: True\n",
      "sub_text in qoute2 returns: True\n"
     ]
    }
   ],
   "source": [
    "print ('sub_text not in qoute1 returns:' , sub_text not in qoute1)\n",
    "print ('sub_text in qoute2 returns:', sub_text in qoute2)"
   ]
  },
  {
   "cell_type": "markdown",
   "metadata": {},
   "source": [
    "## String objects have many available methods like:"
   ]
  },
  {
   "cell_type": "code",
   "execution_count": 12,
   "metadata": {},
   "outputs": [
    {
     "name": "stdout",
     "output_type": "stream",
     "text": [
      "why1.count(\"e\") returns: 2\n",
      "why1.index(\"e\") returns: 2\n",
      "why1.index(\"e\",3,18) returns: 1\n",
      "why1.find(\"X\") returns: -1\n"
     ]
    }
   ],
   "source": [
    "print ('why1.count(\"e\") returns:' , why1.count(\"e\"))\n",
    "print ('why1.index(\"e\") returns:' , why1.index(\"e\"))\n",
    "print ('why1.index(\"e\",3,18) returns:' , why1.count(\"e\", 3, 18))\n",
    "print ('why1.find(\"X\") returns:' , why1.find(\"X\"))"
   ]
  },
  {
   "cell_type": "code",
   "execution_count": 13,
   "metadata": {},
   "outputs": [
    {
     "name": "stdout",
     "output_type": "stream",
     "text": [
      "why1.startswith(\"She\") returns: True\n",
      "why1.endswith(\"!\"\") returns: False\n"
     ]
    }
   ],
   "source": [
    "print ('why1.startswith(\"She\") returns:' , why1.startswith(\"She\"))\n",
    "print ('why1.endswith(\"!\\\"\") returns:' , why1.endswith(\"!\\\" \"))"
   ]
  },
  {
   "cell_type": "code",
   "execution_count": 14,
   "metadata": {},
   "outputs": [
    {
     "name": "stdout",
     "output_type": "stream",
     "text": [
      "why1.upper() =  SHE SAID \"HELLO!\"\n",
      "why1.lower() =  she said \"hello!\"\n"
     ]
    }
   ],
   "source": [
    "print ('why1.upper() = ' , why1.upper())\n",
    "print ('why1.lower() = ' , why1.lower())"
   ]
  },
  {
   "cell_type": "code",
   "execution_count": 15,
   "metadata": {},
   "outputs": [
    {
     "name": "stdout",
     "output_type": "stream",
     "text": [
      "csv.spit(\",\") =  ['a', 'b', 'c']\n"
     ]
    }
   ],
   "source": [
    "csv = 'a,b,c'\n",
    "print  ('csv.spit(\",\") = ' , csv.split(\",\"))"
   ]
  },
  {
   "cell_type": "code",
   "execution_count": 16,
   "metadata": {},
   "outputs": [
    {
     "name": "stdout",
     "output_type": "stream",
     "text": [
      "\",\".join([\"a\", \"b\", \"c\"]) returns  a,b,c\n"
     ]
    }
   ],
   "source": [
    "print ('\",\".join([\"a\", \"b\", \"c\"]) returns ', \",\".join([\"a\", \"b\", \"c\"]))\n"
   ]
  },
  {
   "cell_type": "code",
   "execution_count": 17,
   "metadata": {},
   "outputs": [
    {
     "name": "stdout",
     "output_type": "stream",
     "text": [
      "sub_text.isalpha() =  True\n",
      "sub_text.isdigit() =  False\n"
     ]
    }
   ],
   "source": [
    "print ('sub_text.isalpha() = ', sub_text.isalpha())\n",
    "print ('sub_text.isdigit() = ', sub_text.isdigit())"
   ]
  },
  {
   "cell_type": "code",
   "execution_count": null,
   "metadata": {},
   "outputs": [],
   "source": []
  }
 ],
 "metadata": {
  "kernelspec": {
   "display_name": "Python 3",
   "language": "python",
   "name": "python3"
  },
  "language_info": {
   "codemirror_mode": {
    "name": "ipython",
    "version": 3
   },
   "file_extension": ".py",
   "mimetype": "text/x-python",
   "name": "python",
   "nbconvert_exporter": "python",
   "pygments_lexer": "ipython3",
   "version": "3.6.5"
  }
 },
 "nbformat": 4,
 "nbformat_minor": 2
}
