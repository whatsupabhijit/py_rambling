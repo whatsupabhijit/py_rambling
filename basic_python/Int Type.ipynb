{
 "cells": [
  {
   "cell_type": "markdown",
   "metadata": {},
   "source": [
    "## Int Type"
   ]
  },
  {
   "cell_type": "code",
   "execution_count": 1,
   "metadata": {},
   "outputs": [],
   "source": [
    "x = 5\n",
    "y = 10\n",
    "y = 0xA     #Hexadecimal\n",
    "y = 0o12    #Octal\n",
    "y = 0b1010  #Bindary"
   ]
  },
  {
   "cell_type": "code",
   "execution_count": 2,
   "metadata": {},
   "outputs": [
    {
     "name": "stdout",
     "output_type": "stream",
     "text": [
      "x=  5 , y=  10\n"
     ]
    }
   ],
   "source": [
    "print ('x= ', x, ', y= ', y)"
   ]
  },
  {
   "cell_type": "markdown",
   "metadata": {},
   "source": [
    "## Typical comparisons can be made\n"
   ]
  },
  {
   "cell_type": "code",
   "execution_count": 3,
   "metadata": {},
   "outputs": [
    {
     "name": "stdout",
     "output_type": "stream",
     "text": [
      "x == y =  False\n",
      "x != y =  True\n",
      "x >= y =  False\n",
      "x <= y =  True\n",
      "x >  y =  False\n",
      "x <  y =  True\n"
     ]
    }
   ],
   "source": [
    "print ('x == y = ', x == y)\n",
    "print ('x != y = ', x != y)\n",
    "print ('x >= y = ', x >= y)\n",
    "print ('x <= y = ', x <= y)\n",
    "print ('x >  y = ', x  > y)\n",
    "print ('x <  y = ', x  < y)"
   ]
  },
  {
   "cell_type": "markdown",
   "metadata": {},
   "source": [
    "## The ususal operators can be used\n"
   ]
  },
  {
   "cell_type": "code",
   "execution_count": 4,
   "metadata": {},
   "outputs": [
    {
     "name": "stdout",
     "output_type": "stream",
     "text": [
      "x + y =  15\n",
      "x - y =  -5\n",
      "x * y =  50\n",
      "x / y =  0.5\n"
     ]
    }
   ],
   "source": [
    "print ('x + y = ', x + y)\n",
    "print ('x - y = ', x - y)\n",
    "print ('x * y = ', x * y)\n",
    "print ('x / y = ', x / y)"
   ]
  },
  {
   "cell_type": "markdown",
   "metadata": {},
   "source": [
    "## In Python 2, X/Y uses floor division like:"
   ]
  },
  {
   "cell_type": "code",
   "execution_count": 5,
   "metadata": {},
   "outputs": [
    {
     "name": "stdout",
     "output_type": "stream",
     "text": [
      "x // y =  0\n",
      "x  % y =  5\n",
      "x ** y =  9765625\n"
     ]
    }
   ],
   "source": [
    "print ('x // y = ', x // y)\n",
    "print ('x  % y = ', x  % y)\n",
    "print ('x ** y = ', x ** y)"
   ]
  },
  {
   "cell_type": "markdown",
   "metadata": {},
   "source": [
    "## There are several other builtin functions"
   ]
  },
  {
   "cell_type": "code",
   "execution_count": 6,
   "metadata": {},
   "outputs": [
    {
     "name": "stdout",
     "output_type": "stream",
     "text": [
      "divmod (x, y) =  (0, 5)\n",
      "pow (x, y) =  9765625\n",
      "abs (-x) =  5\n",
      "int(5.2) =  5\n",
      "int (\"0xff\", 16)  =  255\n",
      "float (x) =  5.0\n"
     ]
    }
   ],
   "source": [
    "print ('divmod (x, y) = ' , divmod (x, y))\n",
    "print ('pow (x, y) = ' , pow (x, y))\n",
    "print ('abs (-x) = ' , abs (-x))\n",
    "\n",
    "print ('int(5.2) = ' , int (5.2) )\n",
    "print ('int (\"0xff\", 16)  = ' , int (\"0xff\", 16) )\n",
    "print ('float (x) = ', float(x))"
   ]
  },
  {
   "cell_type": "markdown",
   "metadata": {},
   "source": [
    "## Inline notations can also be used"
   ]
  },
  {
   "cell_type": "code",
   "execution_count": 7,
   "metadata": {},
   "outputs": [
    {
     "name": "stdout",
     "output_type": "stream",
     "text": [
      "x = x + y =  15\n"
     ]
    }
   ],
   "source": [
    "print ('x = x + y = ', end = ' ')\n",
    "x += y\n",
    "print (x)"
   ]
  },
  {
   "cell_type": "code",
   "execution_count": 8,
   "metadata": {},
   "outputs": [
    {
     "name": "stdout",
     "output_type": "stream",
     "text": [
      "x = x - y =  5\n"
     ]
    }
   ],
   "source": [
    "print ('x = x - y = ', end = ' ')\n",
    "x -= y\n",
    "print (x)"
   ]
  },
  {
   "cell_type": "code",
   "execution_count": 9,
   "metadata": {},
   "outputs": [
    {
     "name": "stdout",
     "output_type": "stream",
     "text": [
      "x = x * y =  50\n"
     ]
    }
   ],
   "source": [
    "print ('x = x * y = ', end = ' ')\n",
    "x *= y\n",
    "print (x)"
   ]
  },
  {
   "cell_type": "code",
   "execution_count": 10,
   "metadata": {},
   "outputs": [
    {
     "name": "stdout",
     "output_type": "stream",
     "text": [
      "x = x / y =  5.0\n"
     ]
    }
   ],
   "source": [
    "print ('x = x / y = ', end = ' ')\n",
    "x /= y\n",
    "print (x)"
   ]
  },
  {
   "cell_type": "markdown",
   "metadata": {},
   "source": [
    "## Multiple assignments can be done"
   ]
  },
  {
   "cell_type": "code",
   "execution_count": 11,
   "metadata": {},
   "outputs": [
    {
     "name": "stdout",
     "output_type": "stream",
     "text": [
      "x =  5 , y=  10\n"
     ]
    }
   ],
   "source": [
    "x, y = 5, 10 \n",
    "print ('x = ', x , ', y= ' , y)"
   ]
  },
  {
   "cell_type": "markdown",
   "metadata": {},
   "source": [
    "## Bitwise operators can be used\n"
   ]
  },
  {
   "cell_type": "code",
   "execution_count": 12,
   "metadata": {},
   "outputs": [
    {
     "name": "stdout",
     "output_type": "stream",
     "text": [
      " Or : x | y =  15\n",
      " Xor: x ^ y =  15\n",
      " And: x & y =  0\n",
      " Left Shift: x << 2 =  20\n",
      " Right Shift: x >> 2 =  1\n",
      " Inversion: ~x =  -6\n"
     ]
    }
   ],
   "source": [
    "print (' Or : x | y = ', x | y)\n",
    "print (' Xor: x ^ y = ', x ^ y)\n",
    "print (' And: x & y = ', x & y)\n",
    "print (' Left Shift: x << 2 = ', x << 2)\n",
    "print (' Right Shift: x >> 2 = ', x >> 2)\n",
    "print (' Inversion: ~x = ', ~x)"
   ]
  },
  {
   "cell_type": "code",
   "execution_count": null,
   "metadata": {},
   "outputs": [],
   "source": []
  }
 ],
 "metadata": {
  "kernelspec": {
   "display_name": "Python 3",
   "language": "python",
   "name": "python3"
  },
  "language_info": {
   "codemirror_mode": {
    "name": "ipython",
    "version": 3
   },
   "file_extension": ".py",
   "mimetype": "text/x-python",
   "name": "python",
   "nbconvert_exporter": "python",
   "pygments_lexer": "ipython3",
   "version": "3.6.5"
  }
 },
 "nbformat": 4,
 "nbformat_minor": 2
}
