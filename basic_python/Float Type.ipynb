{
 "cells": [
  {
   "cell_type": "markdown",
   "metadata": {},
   "source": [
    "## Float Type"
   ]
  },
  {
   "cell_type": "code",
   "execution_count": 1,
   "metadata": {},
   "outputs": [],
   "source": [
    "x = 5.0\n",
    "y = float.fromhex('A')"
   ]
  },
  {
   "cell_type": "code",
   "execution_count": 4,
   "metadata": {},
   "outputs": [
    {
     "name": "stdout",
     "output_type": "stream",
     "text": [
      "x=  5.0 , y=  10.0\n",
      "x.as_integer_ratio() =  (5, 1)\n",
      "y.hex() =  0x1.4000000000000p+3\n"
     ]
    }
   ],
   "source": [
    "print ('x= ', x, ', y= ', y)\n",
    "print ('x.as_integer_ratio() = ', x.as_integer_ratio())\n",
    "print ('y.hex() = ', y.hex())"
   ]
  },
  {
   "cell_type": "markdown",
   "metadata": {},
   "source": [
    "## Typical comparisons can be made\n"
   ]
  },
  {
   "cell_type": "code",
   "execution_count": 5,
   "metadata": {},
   "outputs": [
    {
     "name": "stdout",
     "output_type": "stream",
     "text": [
      "x == y =  False\n",
      "x != y =  True\n",
      "x >= y =  False\n",
      "x <= y =  True\n",
      "x >  y =  False\n",
      "x <  y =  True\n"
     ]
    }
   ],
   "source": [
    "print ('x == y = ', x == y)\n",
    "print ('x != y = ', x != y)\n",
    "print ('x >= y = ', x >= y)\n",
    "print ('x <= y = ', x <= y)\n",
    "print ('x >  y = ', x  > y)\n",
    "print ('x <  y = ', x  < y)"
   ]
  },
  {
   "cell_type": "markdown",
   "metadata": {},
   "source": [
    "## The ususal operators can be used\n"
   ]
  },
  {
   "cell_type": "code",
   "execution_count": 6,
   "metadata": {},
   "outputs": [
    {
     "name": "stdout",
     "output_type": "stream",
     "text": [
      "x + y =  15.0\n",
      "x - y =  -5.0\n",
      "x * y =  50.0\n",
      "x / y =  0.5\n"
     ]
    }
   ],
   "source": [
    "print ('x + y = ', x + y)\n",
    "print ('x - y = ', x - y)\n",
    "print ('x * y = ', x * y)\n",
    "print ('x / y = ', x / y)"
   ]
  },
  {
   "cell_type": "markdown",
   "metadata": {},
   "source": [
    "## In Python 2, X/Y uses floor division like:"
   ]
  },
  {
   "cell_type": "code",
   "execution_count": 7,
   "metadata": {},
   "outputs": [
    {
     "name": "stdout",
     "output_type": "stream",
     "text": [
      "x // y =  0.0\n",
      "x  % y =  5.0\n",
      "x ** y =  9765625.0\n"
     ]
    }
   ],
   "source": [
    "print ('x // y = ', x // y)\n",
    "print ('x  % y = ', x  % y)\n",
    "print ('x ** y = ', x ** y)"
   ]
  },
  {
   "cell_type": "markdown",
   "metadata": {},
   "source": [
    "## There are several other builtin functions"
   ]
  },
  {
   "cell_type": "code",
   "execution_count": 9,
   "metadata": {},
   "outputs": [
    {
     "name": "stdout",
     "output_type": "stream",
     "text": [
      "divmod (x, y) =  (0.0, 5.0)\n",
      "pow (x, y) =  9765625.0\n",
      "abs (-x) =  5.0\n",
      "int(x) =  5\n",
      "float (10) =  10.0\n"
     ]
    }
   ],
   "source": [
    "print ('divmod (x, y) = ' , divmod (x, y))\n",
    "print ('pow (x, y) = ' , pow (x, y))\n",
    "print ('abs (-x) = ' , abs (-x))\n",
    "\n",
    "print ('int(x) = ' , int (x) )\n",
    "print ('float (10) = ', float(10))"
   ]
  },
  {
   "cell_type": "markdown",
   "metadata": {},
   "source": [
    "## Inline notations can also be used"
   ]
  },
  {
   "cell_type": "code",
   "execution_count": 10,
   "metadata": {},
   "outputs": [
    {
     "name": "stdout",
     "output_type": "stream",
     "text": [
      "x = x + y =  15.0\n"
     ]
    }
   ],
   "source": [
    "print ('x = x + y = ', end = ' ')\n",
    "x += y\n",
    "print (x)"
   ]
  },
  {
   "cell_type": "code",
   "execution_count": 11,
   "metadata": {},
   "outputs": [
    {
     "name": "stdout",
     "output_type": "stream",
     "text": [
      "x = x - y =  5.0\n"
     ]
    }
   ],
   "source": [
    "print ('x = x - y = ', end = ' ')\n",
    "x -= y\n",
    "print (x)"
   ]
  },
  {
   "cell_type": "code",
   "execution_count": 12,
   "metadata": {},
   "outputs": [
    {
     "name": "stdout",
     "output_type": "stream",
     "text": [
      "x = x * y =  50.0\n"
     ]
    }
   ],
   "source": [
    "print ('x = x * y = ', end = ' ')\n",
    "x *= y\n",
    "print (x)"
   ]
  },
  {
   "cell_type": "code",
   "execution_count": 13,
   "metadata": {},
   "outputs": [
    {
     "name": "stdout",
     "output_type": "stream",
     "text": [
      "x = x / y =  5.0\n"
     ]
    }
   ],
   "source": [
    "print ('x = x / y = ', end = ' ')\n",
    "x /= y\n",
    "print (x)"
   ]
  },
  {
   "cell_type": "markdown",
   "metadata": {},
   "source": [
    "## Multiple assignments can be done"
   ]
  },
  {
   "cell_type": "code",
   "execution_count": 14,
   "metadata": {},
   "outputs": [
    {
     "name": "stdout",
     "output_type": "stream",
     "text": [
      "x =  5.0 , y=  10.0\n"
     ]
    }
   ],
   "source": [
    "x, y = 5.0, 10.\n",
    "print ('x = ', x , ', y= ' , y)"
   ]
  },
  {
   "cell_type": "markdown",
   "metadata": {},
   "source": [
    "## Bitwise operators CAN NOT be used\n"
   ]
  },
  {
   "cell_type": "code",
   "execution_count": 16,
   "metadata": {},
   "outputs": [
    {
     "ename": "TypeError",
     "evalue": "unsupported operand type(s) for |: 'float' and 'float'",
     "output_type": "error",
     "traceback": [
      "\u001b[1;31m---------------------------------------------------------------------------\u001b[0m",
      "\u001b[1;31mTypeError\u001b[0m                                 Traceback (most recent call last)",
      "\u001b[1;32m<ipython-input-16-82fc2ce1462c>\u001b[0m in \u001b[0;36m<module>\u001b[1;34m()\u001b[0m\n\u001b[1;32m----> 1\u001b[1;33m \u001b[0mprint\u001b[0m \u001b[1;33m(\u001b[0m\u001b[1;34m' Or : x | y = '\u001b[0m\u001b[1;33m,\u001b[0m \u001b[0mx\u001b[0m \u001b[1;33m|\u001b[0m \u001b[0my\u001b[0m\u001b[1;33m)\u001b[0m\u001b[1;33m\u001b[0m\u001b[0m\n\u001b[0m\u001b[0;32m      2\u001b[0m \u001b[0mprint\u001b[0m \u001b[1;33m(\u001b[0m\u001b[1;34m' Xor: x ^ y = '\u001b[0m\u001b[1;33m,\u001b[0m \u001b[0mx\u001b[0m \u001b[1;33m^\u001b[0m \u001b[0my\u001b[0m\u001b[1;33m)\u001b[0m\u001b[1;33m\u001b[0m\u001b[0m\n\u001b[0;32m      3\u001b[0m \u001b[0mprint\u001b[0m \u001b[1;33m(\u001b[0m\u001b[1;34m' And: x & y = '\u001b[0m\u001b[1;33m,\u001b[0m \u001b[0mx\u001b[0m \u001b[1;33m&\u001b[0m \u001b[0my\u001b[0m\u001b[1;33m)\u001b[0m\u001b[1;33m\u001b[0m\u001b[0m\n\u001b[0;32m      4\u001b[0m \u001b[0mprint\u001b[0m \u001b[1;33m(\u001b[0m\u001b[1;34m' Left Shift: x << 2 = '\u001b[0m\u001b[1;33m,\u001b[0m \u001b[0mx\u001b[0m \u001b[1;33m<<\u001b[0m \u001b[1;36m2\u001b[0m\u001b[1;33m)\u001b[0m\u001b[1;33m\u001b[0m\u001b[0m\n\u001b[0;32m      5\u001b[0m \u001b[0mprint\u001b[0m \u001b[1;33m(\u001b[0m\u001b[1;34m' Right Shift: x >> 2 = '\u001b[0m\u001b[1;33m,\u001b[0m \u001b[0mx\u001b[0m \u001b[1;33m>>\u001b[0m \u001b[1;36m2\u001b[0m\u001b[1;33m)\u001b[0m\u001b[1;33m\u001b[0m\u001b[0m\n",
      "\u001b[1;31mTypeError\u001b[0m: unsupported operand type(s) for |: 'float' and 'float'"
     ]
    }
   ],
   "source": [
    "print (' Or : x | y = ', x | y)\n",
    "print (' Xor: x ^ y = ', x ^ y)\n",
    "print (' And: x & y = ', x & y)\n",
    "print (' Left Shift: x << 2 = ', x << 2)\n",
    "print (' Right Shift: x >> 2 = ', x >> 2)\n",
    "print (' Inversion: ~x = ', ~x)"
   ]
  }
 ],
 "metadata": {
  "kernelspec": {
   "display_name": "Python 3",
   "language": "python",
   "name": "python3"
  },
  "language_info": {
   "codemirror_mode": {
    "name": "ipython",
    "version": 3
   },
   "file_extension": ".py",
   "mimetype": "text/x-python",
   "name": "python",
   "nbconvert_exporter": "python",
   "pygments_lexer": "ipython3",
   "version": "3.6.5"
  }
 },
 "nbformat": 4,
 "nbformat_minor": 2
}
