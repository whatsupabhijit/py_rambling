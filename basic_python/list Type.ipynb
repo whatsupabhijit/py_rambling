{
 "cells": [
  {
   "cell_type": "markdown",
   "metadata": {},
   "source": [
    "## List class provides a mutable sequence of elements"
   ]
  },
  {
   "cell_type": "code",
   "execution_count": 1,
   "metadata": {},
   "outputs": [
    {
     "name": "stdout",
     "output_type": "stream",
     "text": [
      "empty_list =  []\n",
      "empty_list =  []\n"
     ]
    }
   ],
   "source": [
    "empty_list = list()\n",
    "print('empty_list = ', empty_list)\n",
    "\n",
    "empty_list = []\n",
    "print('empty_list = ', empty_list)"
   ]
  },
  {
   "cell_type": "code",
   "execution_count": 3,
   "metadata": {},
   "outputs": [
    {
     "name": "stdout",
     "output_type": "stream",
     "text": [
      "list_str =  ['h', 'e', 'l', 'l', 'o']\n",
      "list_tup =  [1, 2, (3, 4, 5)]\n",
      "list_syn =  [3, 4, 'a', 'b']\n"
     ]
    }
   ],
   "source": [
    "list_str = list('hello')\n",
    "list_tup = list((1,2,(3,4,5)))\n",
    "list_syn = [3,4,'a', 'b']\n",
    "\n",
    "print('list_str = ', list_str)\n",
    "print('list_tup = ', list_tup)\n",
    "print('list_syn = ', list_syn)"
   ]
  },
  {
   "cell_type": "code",
   "execution_count": 6,
   "metadata": {},
   "outputs": [
    {
     "name": "stdout",
     "output_type": "stream",
     "text": [
      "a in list_syn ?  True\n",
      "1 in list_syn?  True\n"
     ]
    }
   ],
   "source": [
    "print('a in list_syn ? ', 'a' in list_syn)\n",
    "print ('1 in list_syn? ', 1 not in list_syn)"
   ]
  },
  {
   "cell_type": "code",
   "execution_count": 7,
   "metadata": {},
   "outputs": [
    {
     "name": "stdout",
     "output_type": "stream",
     "text": [
      "empty_list =  [5]\n",
      "empty_list =  [5, [6, 7]]\n"
     ]
    }
   ],
   "source": [
    "empty_list.append(5)\n",
    "print('empty_list = ', empty_list)\n",
    "\n",
    "empty_list.append([6,7])\n",
    "print('empty_list = ', empty_list)"
   ]
  },
  {
   "cell_type": "code",
   "execution_count": 11,
   "metadata": {},
   "outputs": [
    {
     "name": "stdout",
     "output_type": "stream",
     "text": [
      "last_elem =  6\n",
      "empty_list =  [5]\n"
     ]
    }
   ],
   "source": [
    "last_elem = empty_list.pop()\n",
    "print('last_elem = ', last_elem)\n",
    "print('empty_list = ', empty_list)"
   ]
  },
  {
   "cell_type": "code",
   "execution_count": 12,
   "metadata": {},
   "outputs": [
    {
     "name": "stdout",
     "output_type": "stream",
     "text": [
      "empty_list =  [5, 6, 7]\n"
     ]
    }
   ],
   "source": [
    "empty_list.extend([6,7])\n",
    "print('empty_list = ', empty_list)"
   ]
  },
  {
   "cell_type": "code",
   "execution_count": 13,
   "metadata": {},
   "outputs": [
    {
     "name": "stdout",
     "output_type": "stream",
     "text": [
      "first_elem =  5\n",
      "empty_list =  [6, 7]\n"
     ]
    }
   ],
   "source": [
    "first_elem = empty_list.pop(0)\n",
    "print('first_elem = ', first_elem)\n",
    "print('empty_list = ', empty_list)"
   ]
  },
  {
   "cell_type": "code",
   "execution_count": 14,
   "metadata": {},
   "outputs": [
    {
     "name": "stdout",
     "output_type": "stream",
     "text": [
      "empty_list =  [10, 6, 7]\n",
      "empty_list =  [10, 6, 7, 100]\n",
      "empty_list =  [10, 6, 100]\n",
      "empty_list =  []\n"
     ]
    }
   ],
   "source": [
    "empty_list.insert(0,10)\n",
    "print('empty_list = ', empty_list)\n",
    "\n",
    "empty_list.insert(3, 100)\n",
    "print('empty_list = ', empty_list)\n",
    "\n",
    "empty_list.remove(7)\n",
    "print('empty_list = ', empty_list)\n",
    "\n",
    "\n",
    "empty_list.clear()\n",
    "print('empty_list = ', empty_list)"
   ]
  },
  {
   "cell_type": "code",
   "execution_count": 15,
   "metadata": {},
   "outputs": [
    {
     "name": "stdout",
     "output_type": "stream",
     "text": [
      "list_str =  ['h', 'e', 'l', 'l', 'o']\n",
      "min(list_str)= e\n",
      "max(list_str)= o\n",
      "sorted(list_str)= ['e', 'h', 'l', 'l', 'o']\n",
      "list_str =  ['h', 'e', 'l', 'l', 'o']\n"
     ]
    }
   ],
   "source": [
    "print('list_str = ', list_str)\n",
    "print('min(list_str)=', min(list_str))\n",
    "print('max(list_str)=', max(list_str))\n",
    "print('sorted(list_str)=', sorted(list_str))\n",
    "print('list_str = ', list_str)"
   ]
  },
  {
   "cell_type": "code",
   "execution_count": 17,
   "metadata": {},
   "outputs": [
    {
     "name": "stdout",
     "output_type": "stream",
     "text": [
      "list_str.sort() =  ['e', 'h', 'l', 'l', 'o']\n",
      "list_str.reverse() =  ['o', 'l', 'l', 'h', 'e']\n"
     ]
    }
   ],
   "source": [
    "list_str.sort()\n",
    "print('list_str.sort() = ', list_str)\n",
    "\n",
    "list_str.reverse()\n",
    "print('list_str.reverse() = ' , list_str)"
   ]
  },
  {
   "cell_type": "code",
   "execution_count": 19,
   "metadata": {},
   "outputs": [
    {
     "name": "stdout",
     "output_type": "stream",
     "text": [
      "list_str.count(\"o\") =  1\n",
      "list_str.index(\"o\") =  0\n"
     ]
    }
   ],
   "source": [
    "print('list_str.count(\"o\") = ', list_str.count(\"o\"))\n",
    "print('list_str.index(\"o\") = ', list_str.index(\"o\"))"
   ]
  },
  {
   "cell_type": "code",
   "execution_count": null,
   "metadata": {},
   "outputs": [],
   "source": []
  }
 ],
 "metadata": {
  "kernelspec": {
   "display_name": "Python 3",
   "language": "python",
   "name": "python3"
  },
  "language_info": {
   "codemirror_mode": {
    "name": "ipython",
    "version": 3
   },
   "file_extension": ".py",
   "mimetype": "text/x-python",
   "name": "python",
   "nbconvert_exporter": "python",
   "pygments_lexer": "ipython3",
   "version": "3.6.5"
  }
 },
 "nbformat": 4,
 "nbformat_minor": 2
}
