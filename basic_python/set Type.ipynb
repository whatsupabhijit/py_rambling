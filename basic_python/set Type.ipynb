{
 "cells": [
  {
   "cell_type": "markdown",
   "metadata": {},
   "source": [
    "## The set class provides a mapping of unique immutable objects"
   ]
  },
  {
   "cell_type": "code",
   "execution_count": 1,
   "metadata": {},
   "outputs": [
    {
     "name": "stdout",
     "output_type": "stream",
     "text": [
      "emptyset =  set()\n",
      "alpha =  {'b', 'a', 'c', 'd'}\n"
     ]
    }
   ],
   "source": [
    "emptyset = set()\n",
    "print ('emptyset = ', emptyset)\n",
    "\n",
    "\n",
    "alpha  = set(('a', 'b', 'c', 'd'))\n",
    "print ('alpha = ', alpha)"
   ]
  },
  {
   "cell_type": "markdown",
   "metadata": {},
   "source": [
    "## list to set"
   ]
  },
  {
   "cell_type": "code",
   "execution_count": 2,
   "metadata": {},
   "outputs": [
    {
     "name": "stdout",
     "output_type": "stream",
     "text": [
      "beta =  {'f', 'e', 'c', 'd'}\n"
     ]
    }
   ],
   "source": [
    "dup_list = ['c' , 'd', 'c', 'd', 'e', 'f']\n",
    "beta = set (dup_list)\n",
    "print ('beta = ', beta)"
   ]
  },
  {
   "cell_type": "markdown",
   "metadata": {},
   "source": [
    "## set to list"
   ]
  },
  {
   "cell_type": "code",
   "execution_count": 3,
   "metadata": {},
   "outputs": [
    {
     "name": "stdout",
     "output_type": "stream",
     "text": [
      "uniq_list =  ['f', 'e', 'c', 'd']\n"
     ]
    }
   ],
   "source": [
    "uniq_list = list(beta)\n",
    "print ('uniq_list = ', uniq_list)"
   ]
  },
  {
   "cell_type": "markdown",
   "metadata": {},
   "source": [
    "## all the set operators union, intersection, difference"
   ]
  },
  {
   "cell_type": "code",
   "execution_count": 4,
   "metadata": {},
   "outputs": [
    {
     "name": "stdout",
     "output_type": "stream",
     "text": [
      "gamma =  {'f', 'a', 'b', 'c', 'e', 'd'}\n",
      "gamma =  {'f', 'a', 'b', 'c', 'e', 'd'}\n"
     ]
    }
   ],
   "source": [
    "gamma = alpha.union(beta)\n",
    "print ('gamma = ', gamma)\n",
    "\n",
    "\n",
    "gamma = alpha | beta\n",
    "print ('gamma = ', gamma)"
   ]
  },
  {
   "cell_type": "code",
   "execution_count": 5,
   "metadata": {},
   "outputs": [
    {
     "name": "stdout",
     "output_type": "stream",
     "text": [
      "delta =  {'c', 'd'}\n",
      "delta =  {'c', 'd'}\n"
     ]
    }
   ],
   "source": [
    "delta = alpha.intersection(beta)\n",
    "print ('delta = ', delta)\n",
    "\n",
    "delta = alpha & beta\n",
    "print ('delta = ', delta)"
   ]
  },
  {
   "cell_type": "code",
   "execution_count": 6,
   "metadata": {},
   "outputs": [
    {
     "name": "stdout",
     "output_type": "stream",
     "text": [
      "epsilon =  {'b', 'a'}\n",
      "epsilon =  {'b', 'a'}\n"
     ]
    }
   ],
   "source": [
    "epsilon = alpha.difference(beta)\n",
    "print('epsilon = ', epsilon)\n",
    "\n",
    "epsilon = alpha - beta\n",
    "print ('epsilon = ' , epsilon)"
   ]
  },
  {
   "cell_type": "code",
   "execution_count": 7,
   "metadata": {},
   "outputs": [
    {
     "name": "stdout",
     "output_type": "stream",
     "text": [
      "eta =  {'f', 'a', 'b', 'e'}\n",
      "eta =  {'f', 'a', 'b', 'e'}\n"
     ]
    }
   ],
   "source": [
    "eta = alpha.symmetric_difference(beta)\n",
    "print ('eta = ', eta)\n",
    "\n",
    "\n",
    "eta = alpha ^ beta\n",
    "print('eta = ', eta)"
   ]
  },
  {
   "cell_type": "markdown",
   "metadata": {},
   "source": [
    "## Some more"
   ]
  },
  {
   "cell_type": "code",
   "execution_count": 8,
   "metadata": {},
   "outputs": [
    {
     "name": "stdout",
     "output_type": "stream",
     "text": [
      "epsilon.isdisjoint(delta) =  True\n",
      "epsilon.disjoint(eta) = False\n"
     ]
    }
   ],
   "source": [
    "print ('epsilon.isdisjoint(delta) = ' , epsilon.isdisjoint(delta))\n",
    "print ('epsilon.disjoint(eta) =' , epsilon.isdisjoint(eta))\n"
   ]
  },
  {
   "cell_type": "code",
   "execution_count": 9,
   "metadata": {},
   "outputs": [
    {
     "name": "stdout",
     "output_type": "stream",
     "text": [
      "epsilon.issubset(delta) =  False\n",
      "epsilon.issubset(eta) = True\n"
     ]
    }
   ],
   "source": [
    "print ('epsilon.issubset(delta) = ' , epsilon.issubset(delta))\n",
    "print ('epsilon.issubset(eta) =' , epsilon.issubset(eta))"
   ]
  },
  {
   "cell_type": "code",
   "execution_count": 10,
   "metadata": {},
   "outputs": [
    {
     "name": "stdout",
     "output_type": "stream",
     "text": [
      "epsilon.issuperset(delta) =  False\n",
      "epsilon.issuperset(eta) = False\n"
     ]
    }
   ],
   "source": [
    "print ('epsilon.issuperset(delta) = ' , epsilon.issuperset(delta))\n",
    "print ('epsilon.issuperset(eta) =' , epsilon.issuperset(eta))"
   ]
  },
  {
   "cell_type": "markdown",
   "metadata": {},
   "source": [
    "## Immutable set"
   ]
  },
  {
   "cell_type": "code",
   "execution_count": 11,
   "metadata": {},
   "outputs": [
    {
     "name": "stdout",
     "output_type": "stream",
     "text": [
      "feta =  frozenset({'f', 'a', 'b', 'e'})\n"
     ]
    }
   ],
   "source": [
    "feta = frozenset(eta)\n",
    "print ('feta = ', feta)"
   ]
  },
  {
   "cell_type": "code",
   "execution_count": 12,
   "metadata": {},
   "outputs": [
    {
     "name": "stdout",
     "output_type": "stream",
     "text": [
      "zeta =  set()\n",
      "zeta =  {3}\n",
      "zeta =  {3}\n",
      "zeta =  {3, 4}\n"
     ]
    }
   ],
   "source": [
    "zeta = set()\n",
    "print ('zeta = ', zeta)\n",
    "zeta.add(3)\n",
    "print ('zeta = ', zeta)\n",
    "zeta.add(3)\n",
    "print ('zeta = ', zeta)\n",
    "zeta.add(4)\n",
    "print ('zeta = ', zeta)"
   ]
  },
  {
   "cell_type": "code",
   "execution_count": 13,
   "metadata": {},
   "outputs": [
    {
     "name": "stdout",
     "output_type": "stream",
     "text": [
      "gamma= {'f', 'a', 'b', 'c', 'e', 'd'}\n",
      "gamma= {'f', 'b', 'c', 'e', 'd'}\n",
      "gamma= {'f', 'b', 'c', 'e', 'd'}\n",
      "gamma= {'f', 'c', 'e', 'd'}\n",
      "random_elem =  f\n",
      "gamma= {'c', 'e', 'd'}\n"
     ]
    }
   ],
   "source": [
    "print('gamma=', gamma)\n",
    "gamma.discard('a')\n",
    "print('gamma=', gamma)\n",
    "gamma.discard('z')\n",
    "print('gamma=', gamma)\n",
    "gamma.remove('b')\n",
    "print('gamma=', gamma)\n",
    "random_elem = gamma.pop()\n",
    "print ('random_elem = ', random_elem)\n",
    "print('gamma=', gamma)\n"
   ]
  },
  {
   "cell_type": "code",
   "execution_count": 14,
   "metadata": {},
   "outputs": [
    {
     "name": "stdout",
     "output_type": "stream",
     "text": [
      "zeta =  set()\n",
      "zeta_ref =  set()\n",
      "zeta_copy =  {3, 4}\n"
     ]
    }
   ],
   "source": [
    "zeta_ref  = zeta\n",
    "zeta_copy = zeta.copy()\n",
    "zeta.clear()\n",
    "print('zeta = ', zeta)\n",
    "print('zeta_ref = ', zeta_ref)\n",
    "print('zeta_copy = ', zeta_copy)"
   ]
  },
  {
   "cell_type": "code",
   "execution_count": 15,
   "metadata": {},
   "outputs": [
    {
     "name": "stdout",
     "output_type": "stream",
     "text": [
      "alpha =  {'b', 'a', 'c', 'd'}\n",
      "alpha diff =  {'a', 'b'}\n"
     ]
    }
   ],
   "source": [
    "print('alpha = ', alpha)\n",
    "alpha_diff = alpha.copy()\n",
    "alpha_diff.difference_update(beta)\n",
    "print('alpha diff = ', alpha_diff)"
   ]
  },
  {
   "cell_type": "code",
   "execution_count": 18,
   "metadata": {},
   "outputs": [
    {
     "name": "stdout",
     "output_type": "stream",
     "text": [
      "alpha_intersect =  {'c', 'd'}\n"
     ]
    }
   ],
   "source": [
    "alpha_intersect = alpha.copy()\n",
    "alpha_intersect.intersection_update(beta)\n",
    "print('alpha_intersect = ', alpha_intersect)"
   ]
  },
  {
   "cell_type": "code",
   "execution_count": 20,
   "metadata": {},
   "outputs": [
    {
     "name": "stdout",
     "output_type": "stream",
     "text": [
      "alpha_sym_diff =  {'f', 'a', 'b', 'e'}\n"
     ]
    }
   ],
   "source": [
    "alpha_sym_diff = alpha.copy()\n",
    "alpha_sym_diff.symmetric_difference_update(beta)\n",
    "print('alpha_sym_diff = ', alpha_sym_diff)"
   ]
  },
  {
   "cell_type": "code",
   "execution_count": 21,
   "metadata": {},
   "outputs": [
    {
     "name": "stdout",
     "output_type": "stream",
     "text": [
      "alpha_union :  {'f', 'a', 'b', 'c', 'e', 'd'}\n"
     ]
    }
   ],
   "source": [
    "alpha_union = alpha.copy()\n",
    "alpha_union.update(beta)\n",
    "print('alpha_union : ', alpha_union)"
   ]
  },
  {
   "cell_type": "code",
   "execution_count": null,
   "metadata": {},
   "outputs": [],
   "source": []
  }
 ],
 "metadata": {
  "kernelspec": {
   "display_name": "Python 3",
   "language": "python",
   "name": "python3"
  },
  "language_info": {
   "codemirror_mode": {
    "name": "ipython",
    "version": 3
   },
   "file_extension": ".py",
   "mimetype": "text/x-python",
   "name": "python",
   "nbconvert_exporter": "python",
   "pygments_lexer": "ipython3",
   "version": "3.6.5"
  }
 },
 "nbformat": 4,
 "nbformat_minor": 2
}
