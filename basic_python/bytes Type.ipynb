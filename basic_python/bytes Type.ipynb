{
 "cells": [
  {
   "cell_type": "markdown",
   "metadata": {},
   "source": [
    "## The bytes class provides an immutable  sequence\n",
    "## Values must be from 0-255 to represent a byte\n"
   ]
  },
  {
   "cell_type": "code",
   "execution_count": 1,
   "metadata": {},
   "outputs": [
    {
     "name": "stdout",
     "output_type": "stream",
     "text": [
      "bytes_literal =  b'copyright \\xc2\\xa9'\n"
     ]
    }
   ],
   "source": [
    "bytes_literal = b'copyright \\xc2\\xa9'\n",
    "print ('bytes_literal = ', bytes_literal)"
   ]
  },
  {
   "cell_type": "code",
   "execution_count": 2,
   "metadata": {},
   "outputs": [
    {
     "name": "stdout",
     "output_type": "stream",
     "text": [
      "bytes_literal.decode() =  copyright ©\n"
     ]
    }
   ],
   "source": [
    "print('bytes_literal.decode() = ', bytes_literal.decode())"
   ]
  },
  {
   "cell_type": "code",
   "execution_count": 3,
   "metadata": {},
   "outputs": [
    {
     "name": "stdout",
     "output_type": "stream",
     "text": [
      "bytes_literal.decode(\"utf-8\") =  copyright ©\n"
     ]
    }
   ],
   "source": [
    "print('bytes_literal.decode(\"utf-8\") = ', bytes_literal.decode(\"utf-8\"))"
   ]
  },
  {
   "cell_type": "code",
   "execution_count": 4,
   "metadata": {},
   "outputs": [
    {
     "name": "stdout",
     "output_type": "stream",
     "text": [
      "bytes_literal.decode(\"utf-16\") =  潣祰楲桧⁴꧂\n"
     ]
    }
   ],
   "source": [
    "print('bytes_literal.decode(\"utf-16\") = ', bytes_literal.decode(\"utf-16\"))"
   ]
  },
  {
   "cell_type": "markdown",
   "metadata": {},
   "source": [
    "## str and bytes interaction\n"
   ]
  },
  {
   "cell_type": "code",
   "execution_count": 5,
   "metadata": {},
   "outputs": [
    {
     "name": "stdout",
     "output_type": "stream",
     "text": [
      "bytes_encoded =  b'Trademark \\xc2\\xae'\n"
     ]
    }
   ],
   "source": [
    "str_literal = 'Trademark ®'\n",
    "bytes_encoded = str_literal.encode()\n",
    "print('bytes_encoded = ' , bytes_encoded)"
   ]
  },
  {
   "cell_type": "code",
   "execution_count": 6,
   "metadata": {},
   "outputs": [
    {
     "name": "stdout",
     "output_type": "stream",
     "text": [
      "bytes_encoded.decode() =  Trademark ®\n"
     ]
    }
   ],
   "source": [
    "print('bytes_encoded.decode() = ', bytes_encoded.decode())"
   ]
  },
  {
   "cell_type": "code",
   "execution_count": 8,
   "metadata": {},
   "outputs": [
    {
     "name": "stdout",
     "output_type": "stream",
     "text": [
      "bytes(str_literal) =  b'Trademark \\xc2\\xae'\n"
     ]
    }
   ],
   "source": [
    "print('bytes(str_literal) = ', bytes(str_literal, \"utf-8\"))"
   ]
  },
  {
   "cell_type": "code",
   "execution_count": 9,
   "metadata": {},
   "outputs": [
    {
     "name": "stdout",
     "output_type": "stream",
     "text": [
      "bytes_construct.decode() =  Trademark ®\n"
     ]
    }
   ],
   "source": [
    "bytes_construct = bytes(str_literal, \"utf-8\")\n",
    "print ('bytes_construct.decode() = ', bytes_construct.decode())"
   ]
  },
  {
   "cell_type": "code",
   "execution_count": 10,
   "metadata": {},
   "outputs": [
    {
     "name": "stdout",
     "output_type": "stream",
     "text": [
      "bytes_from_hex.decode() =  Trademark ®\n"
     ]
    }
   ],
   "source": [
    "bytes_from_hex = bytes.fromhex('54 72 61 64 65 6d 61 72 6b 20 c2 ae')\n",
    "print ('bytes_from_hex.decode() = ', bytes_from_hex.decode())"
   ]
  },
  {
   "cell_type": "markdown",
   "metadata": {},
   "source": [
    "## A byte sequence behaves similar like str"
   ]
  },
  {
   "cell_type": "code",
   "execution_count": 11,
   "metadata": {},
   "outputs": [
    {
     "name": "stdout",
     "output_type": "stream",
     "text": [
      "str_literal.count(\"T\") =  1\n"
     ]
    }
   ],
   "source": [
    "print ('str_literal.count(\"T\") = ' , str_literal.count(\"T\"))"
   ]
  },
  {
   "cell_type": "code",
   "execution_count": 12,
   "metadata": {},
   "outputs": [
    {
     "name": "stdout",
     "output_type": "stream",
     "text": [
      "str_literal.index(\"T\") =  0\n"
     ]
    }
   ],
   "source": [
    "print ('str_literal.index(\"T\") = ' , str_literal.index(\"T\"))"
   ]
  },
  {
   "cell_type": "markdown",
   "metadata": {},
   "source": [
    "## However byte values are used instead of string values"
   ]
  },
  {
   "cell_type": "code",
   "execution_count": 14,
   "metadata": {},
   "outputs": [
    {
     "name": "stdout",
     "output_type": "stream",
     "text": [
      "bytes_encoded.count(0x54) =  1\n"
     ]
    }
   ],
   "source": [
    "print ('bytes_encoded.count(0x54) = ' , bytes_encoded.count(0x54))"
   ]
  },
  {
   "cell_type": "code",
   "execution_count": 15,
   "metadata": {},
   "outputs": [
    {
     "name": "stdout",
     "output_type": "stream",
     "text": [
      "bytes_encoded.index(0x54) =  0\n"
     ]
    }
   ],
   "source": [
    "print ('bytes_encoded.index(0x54) = ' , bytes_encoded.index(0x54))"
   ]
  },
  {
   "cell_type": "code",
   "execution_count": null,
   "metadata": {},
   "outputs": [],
   "source": []
  }
 ],
 "metadata": {
  "kernelspec": {
   "display_name": "Python 3",
   "language": "python",
   "name": "python3"
  },
  "language_info": {
   "codemirror_mode": {
    "name": "ipython",
    "version": 3
   },
   "file_extension": ".py",
   "mimetype": "text/x-python",
   "name": "python",
   "nbconvert_exporter": "python",
   "pygments_lexer": "ipython3",
   "version": "3.6.5"
  }
 },
 "nbformat": 4,
 "nbformat_minor": 2
}
