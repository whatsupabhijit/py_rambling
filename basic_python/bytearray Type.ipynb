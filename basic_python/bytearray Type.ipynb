{
 "cells": [
  {
   "cell_type": "markdown",
   "metadata": {},
   "source": [
    "## They bytearray class provides an mutable sequence \n",
    "## values must be from 0-255  to represent a byte"
   ]
  },
  {
   "cell_type": "code",
   "execution_count": 3,
   "metadata": {},
   "outputs": [],
   "source": [
    "empty_array = bytearray\n",
    "null_array = bytearray(11)\n",
    "ints_array = bytearray((84, 114, 97, 100, 101, 109, 97, 114, 107, 32, 194, 174))\n",
    "\n",
    "str_array  = bytearray('Trademark ®', \"utf-8\")\n",
    "\n",
    "bytes_array  = bytearray(b'Trademark \\xc2\\xae')"
   ]
  },
  {
   "cell_type": "code",
   "execution_count": 6,
   "metadata": {},
   "outputs": [
    {
     "name": "stdout",
     "output_type": "stream",
     "text": [
      "bytes_array =  bytearray(b'Trademark \\xc2\\xae')\n",
      "bytes_array.decode() =  Trademark ®\n"
     ]
    }
   ],
   "source": [
    "print ('bytes_array = ', bytes_array)\n",
    "print ('bytes_array.decode() = ', bytes_array.decode())"
   ]
  },
  {
   "cell_type": "markdown",
   "metadata": {},
   "source": [
    "## A bytearray sequence behaves similar to a string. However bytes values are used instead of string\n"
   ]
  },
  {
   "cell_type": "code",
   "execution_count": 7,
   "metadata": {},
   "outputs": [
    {
     "name": "stdout",
     "output_type": "stream",
     "text": [
      "str_array.count(0x54) =  1\n"
     ]
    }
   ],
   "source": [
    "print ('str_array.count(0x54) = ', str_array.count(0x54))"
   ]
  },
  {
   "cell_type": "code",
   "execution_count": 8,
   "metadata": {},
   "outputs": [
    {
     "name": "stdout",
     "output_type": "stream",
     "text": [
      "bytes_array.count(0x54) =  1\n"
     ]
    }
   ],
   "source": [
    "print ('bytes_array.count(0x54) = ', bytes_array.count(0x54))"
   ]
  },
  {
   "cell_type": "code",
   "execution_count": 9,
   "metadata": {},
   "outputs": [
    {
     "name": "stdout",
     "output_type": "stream",
     "text": [
      "ints_array.count(0x54) =  1\n"
     ]
    }
   ],
   "source": [
    "print ('ints_array.count(0x54) = ' , ints_array.count(0x54))"
   ]
  },
  {
   "cell_type": "code",
   "execution_count": 10,
   "metadata": {},
   "outputs": [
    {
     "name": "stdout",
     "output_type": "stream",
     "text": [
      "ints_array.index(0x54) =  0\n"
     ]
    }
   ],
   "source": [
    "print ('ints_array.index(0x54) = ', ints_array.index(0x54))"
   ]
  },
  {
   "cell_type": "markdown",
   "metadata": {},
   "source": [
    "## bytearray objects have methods to mutate them"
   ]
  },
  {
   "cell_type": "code",
   "execution_count": 11,
   "metadata": {},
   "outputs": [
    {
     "name": "stdout",
     "output_type": "stream",
     "text": [
      "bytes_array =  bytearray(b'Trademark \\xc2\\xae ')\n",
      "bytes_array =  bytearray(b'Trademark \\xc2\\xae \\xc2\\xae')\n",
      "bytes_array.decode() =  Trademark ® ®\n"
     ]
    }
   ],
   "source": [
    "bytes_array.append (32)\n",
    "print ('bytes_array = ', bytes_array)\n",
    "\n",
    "bytes_array.extend((194, 174))\n",
    "print ('bytes_array = ', bytes_array)\n",
    "\n",
    "print ('bytes_array.decode() = ', bytes_array.decode())"
   ]
  }
 ],
 "metadata": {
  "kernelspec": {
   "display_name": "Python 3",
   "language": "python",
   "name": "python3"
  },
  "language_info": {
   "codemirror_mode": {
    "name": "ipython",
    "version": 3
   },
   "file_extension": ".py",
   "mimetype": "text/x-python",
   "name": "python",
   "nbconvert_exporter": "python",
   "pygments_lexer": "ipython3",
   "version": "3.6.5"
  }
 },
 "nbformat": 4,
 "nbformat_minor": 2
}
