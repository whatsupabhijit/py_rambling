{
 "cells": [
  {
   "cell_type": "markdown",
   "metadata": {},
   "source": [
    "## The dict class allows creating an associative array\n",
    "## of keys and values. Keys must be unique immutable objects"
   ]
  },
  {
   "cell_type": "code",
   "execution_count": 4,
   "metadata": {},
   "outputs": [
    {
     "name": "stdout",
     "output_type": "stream",
     "text": [
      "empty_dict =  {}\n",
      "empty_dict =  {}\n",
      "dict_syn =  {'k1': 'v1', 'k2': 'v2'}\n",
      "dict_syn =  {'k1': 'v1', 'k2': 'v2'}\n"
     ]
    }
   ],
   "source": [
    "empty_dict  = dict()\n",
    "print('empty_dict = ', empty_dict)\n",
    "\n",
    "empty_dict = {}\n",
    "print('empty_dict = ', empty_dict)\n",
    "\n",
    "dict_syn = dict(k1 = 'v1', k2 =  'v2')\n",
    "print('dict_syn = ', dict_syn)\n",
    "\n",
    "dict_syn = {'k1': 'v1', 'k2' : 'v2'}\n",
    "print('dict_syn = ', dict_syn)"
   ]
  },
  {
   "cell_type": "code",
   "execution_count": 5,
   "metadata": {},
   "outputs": [
    {
     "name": "stdout",
     "output_type": "stream",
     "text": [
      "dict_syn[\"k2\"] =  v2\n"
     ]
    }
   ],
   "source": [
    "print('dict_syn[\"k2\"] = ' , dict_syn[\"k2\"])"
   ]
  },
  {
   "cell_type": "code",
   "execution_count": 10,
   "metadata": {},
   "outputs": [
    {
     "name": "stdout",
     "output_type": "stream",
     "text": [
      "dict_syn =  {'k1': 'v1', 'k2': 'v2', 'k3': 'v3'}\n"
     ]
    }
   ],
   "source": [
    "dict_syn[\"k3\"] = 'v3'\n",
    "print('dict_syn = ' , dict_syn)"
   ]
  },
  {
   "cell_type": "code",
   "execution_count": 11,
   "metadata": {},
   "outputs": [
    {
     "name": "stdout",
     "output_type": "stream",
     "text": [
      "dict_syn =  {'k1': 'v1', 'k2': 'v2'}\n"
     ]
    }
   ],
   "source": [
    "del(dict_syn[\"k3\"])\n",
    "print('dict_syn = ', dict_syn)"
   ]
  },
  {
   "cell_type": "code",
   "execution_count": 12,
   "metadata": {},
   "outputs": [
    {
     "name": "stdout",
     "output_type": "stream",
     "text": [
      "dict_syn =  {'k1': 1, 'k2': 1}\n"
     ]
    }
   ],
   "source": [
    "dict_syn[\"k1\"] = 1\n",
    "dict_syn[\"k2\"] = 1\n",
    "print('dict_syn = ', dict_syn)"
   ]
  },
  {
   "cell_type": "code",
   "execution_count": 13,
   "metadata": {},
   "outputs": [
    {
     "name": "stdout",
     "output_type": "stream",
     "text": [
      "dict_syn =  {}\n",
      "dict_ref =  {}\n",
      "dict_copy =  {'k1': 1, 'k2': 1}\n"
     ]
    }
   ],
   "source": [
    "dict_ref = dict_syn\n",
    "dict_copy = dict_syn.copy()\n",
    "dict_syn.clear()\n",
    "print('dict_syn = ', dict_syn)\n",
    "print('dict_ref = ', dict_ref)\n",
    "print('dict_copy = ', dict_copy)"
   ]
  },
  {
   "cell_type": "code",
   "execution_count": 14,
   "metadata": {},
   "outputs": [
    {
     "name": "stdout",
     "output_type": "stream",
     "text": [
      "key_list =  dict_keys(['k1', 'k2'])\n",
      "value list =  dict_values([1, 1])\n"
     ]
    }
   ],
   "source": [
    "key_list = dict_copy.keys()\n",
    "print(\"key_list = \", key_list)\n",
    "\n",
    "value_list = dict_copy.values()\n",
    "print('value list = ', value_list)"
   ]
  },
  {
   "cell_type": "code",
   "execution_count": 15,
   "metadata": {},
   "outputs": [
    {
     "name": "stdout",
     "output_type": "stream",
     "text": [
      "mapping =  <zip object at 0x0000027CEBE6C048>\n"
     ]
    }
   ],
   "source": [
    "mapping = zip(key_list, value_list)\n",
    "print ('mapping = ', mapping)"
   ]
  },
  {
   "cell_type": "code",
   "execution_count": 16,
   "metadata": {},
   "outputs": [
    {
     "name": "stdout",
     "output_type": "stream",
     "text": [
      "dict_new =  {'k1': 1, 'k2': 1}\n"
     ]
    }
   ],
   "source": [
    "dict_new = dict(mapping)\n",
    "print ('dict_new = ', dict_new)"
   ]
  },
  {
   "cell_type": "code",
   "execution_count": 20,
   "metadata": {},
   "outputs": [
    {
     "name": "stdout",
     "output_type": "stream",
     "text": [
      "k3 not in dict_new ?  True\n",
      "k2 in dict_new ?  True\n"
     ]
    }
   ],
   "source": [
    "print('k3 not in dict_new ? ', 'k3' not in dict_new)\n",
    "print('k2 in dict_new ? ', 'k2' in dict_new)"
   ]
  },
  {
   "cell_type": "code",
   "execution_count": null,
   "metadata": {},
   "outputs": [],
   "source": []
  }
 ],
 "metadata": {
  "kernelspec": {
   "display_name": "Python 3",
   "language": "python",
   "name": "python3"
  },
  "language_info": {
   "codemirror_mode": {
    "name": "ipython",
    "version": 3
   },
   "file_extension": ".py",
   "mimetype": "text/x-python",
   "name": "python",
   "nbconvert_exporter": "python",
   "pygments_lexer": "ipython3",
   "version": "3.6.5"
  }
 },
 "nbformat": 4,
 "nbformat_minor": 2
}
