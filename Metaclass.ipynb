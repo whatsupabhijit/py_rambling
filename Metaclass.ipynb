{
  "nbformat": 4,
  "nbformat_minor": 0,
  "metadata": {
    "colab": {
      "name": "Metaclass.ipynb",
      "version": "0.3.2",
      "provenance": [],
      "include_colab_link": true
    },
    "kernelspec": {
      "name": "python3",
      "display_name": "Python 3"
    }
  },
  "cells": [
    {
      "cell_type": "markdown",
      "metadata": {
        "id": "view-in-github",
        "colab_type": "text"
      },
      "source": [
        "<a href=\"https://colab.research.google.com/github/whatsupabhijit/py_rambling/blob/master/Metaclass.ipynb\" target=\"_parent\"><img src=\"https://colab.research.google.com/assets/colab-badge.svg\" alt=\"Open In Colab\"/></a>"
      ]
    },
    {
      "metadata": {
        "id": "CMtnFCWcDIG_",
        "colab_type": "text"
      },
      "cell_type": "markdown",
      "source": [
        "# [MetaClass](https://eli.thegreenplace.net/2011/08/14/python-metaclasses-by-example)"
      ]
    },
    {
      "metadata": {
        "id": "fyA5Qp-ux2j3",
        "colab_type": "code",
        "colab": {
          "base_uri": "https://localhost:8080/",
          "height": 445
        },
        "outputId": "fdb70768-d8c5-41ba-dcd5-e8cb630fc3e8"
      },
      "cell_type": "code",
      "source": [
        "class A:\n",
        "    x = 0\n",
        "\n",
        "    def __init__(self, a, b):\n",
        "        self.a = a\n",
        "        self.b = b\n",
        "        A.x += 1\n",
        "\n",
        "    def __init__():\n",
        "        A.x += 1\n",
        "\n",
        "    def displayCount():\n",
        "        print('Count : %d' % A.x)\n",
        "\n",
        "    def display(self):\n",
        "        print('a :', self.a, ' b :', self.b)\n",
        "\n",
        "a1 = A('George', 25000)\n",
        "a2 = A('John', 30000)\n",
        "#a3 = A()\n",
        "a1.display()\n",
        "a2.display()\n",
        "print(A.x)"
      ],
      "execution_count": 65,
      "outputs": [
        {
          "output_type": "error",
          "ename": "TypeError",
          "evalue": "ignored",
          "traceback": [
            "\u001b[0;31m---------------------------------------------------------------------------\u001b[0m",
            "\u001b[0;31mTypeError\u001b[0m                                 Traceback (most recent call last)",
            "\u001b[0;32m<ipython-input-61-0915dcdb589c>\u001b[0m in \u001b[0;36m<module>\u001b[0;34m()\u001b[0m\n\u001b[1;32m     16\u001b[0m         \u001b[0mprint\u001b[0m\u001b[0;34m(\u001b[0m\u001b[0;34m'a :'\u001b[0m\u001b[0;34m,\u001b[0m \u001b[0mself\u001b[0m\u001b[0;34m.\u001b[0m\u001b[0ma\u001b[0m\u001b[0;34m,\u001b[0m \u001b[0;34m' b :'\u001b[0m\u001b[0;34m,\u001b[0m \u001b[0mself\u001b[0m\u001b[0;34m.\u001b[0m\u001b[0mb\u001b[0m\u001b[0;34m)\u001b[0m\u001b[0;34m\u001b[0m\u001b[0;34m\u001b[0m\u001b[0m\n\u001b[1;32m     17\u001b[0m \u001b[0;34m\u001b[0m\u001b[0m\n\u001b[0;32m---> 18\u001b[0;31m \u001b[0ma1\u001b[0m \u001b[0;34m=\u001b[0m \u001b[0mA\u001b[0m\u001b[0;34m(\u001b[0m\u001b[0;34m'George'\u001b[0m\u001b[0;34m,\u001b[0m \u001b[0;36m25000\u001b[0m\u001b[0;34m)\u001b[0m\u001b[0;34m\u001b[0m\u001b[0;34m\u001b[0m\u001b[0m\n\u001b[0m\u001b[1;32m     19\u001b[0m \u001b[0ma2\u001b[0m \u001b[0;34m=\u001b[0m \u001b[0mA\u001b[0m\u001b[0;34m(\u001b[0m\u001b[0;34m'John'\u001b[0m\u001b[0;34m,\u001b[0m \u001b[0;36m30000\u001b[0m\u001b[0;34m)\u001b[0m\u001b[0;34m\u001b[0m\u001b[0;34m\u001b[0m\u001b[0m\n\u001b[1;32m     20\u001b[0m \u001b[0;31m#a3 = A()\u001b[0m\u001b[0;34m\u001b[0m\u001b[0;34m\u001b[0m\u001b[0;34m\u001b[0m\u001b[0m\n",
            "\u001b[0;31mTypeError\u001b[0m: __init__() takes 0 positional arguments but 3 were given"
          ]
        },
        {
          "output_type": "error",
          "ename": "TypeError",
          "evalue": "ignored",
          "traceback": [
            "\u001b[0;31m---------------------------------------------------------------------------\u001b[0m",
            "\u001b[0;31mTypeError\u001b[0m                                 Traceback (most recent call last)",
            "\u001b[0;32m<ipython-input-65-0915dcdb589c>\u001b[0m in \u001b[0;36m<module>\u001b[0;34m()\u001b[0m\n\u001b[1;32m     16\u001b[0m         \u001b[0mprint\u001b[0m\u001b[0;34m(\u001b[0m\u001b[0;34m'a :'\u001b[0m\u001b[0;34m,\u001b[0m \u001b[0mself\u001b[0m\u001b[0;34m.\u001b[0m\u001b[0ma\u001b[0m\u001b[0;34m,\u001b[0m \u001b[0;34m' b :'\u001b[0m\u001b[0;34m,\u001b[0m \u001b[0mself\u001b[0m\u001b[0;34m.\u001b[0m\u001b[0mb\u001b[0m\u001b[0;34m)\u001b[0m\u001b[0;34m\u001b[0m\u001b[0;34m\u001b[0m\u001b[0m\n\u001b[1;32m     17\u001b[0m \u001b[0;34m\u001b[0m\u001b[0m\n\u001b[0;32m---> 18\u001b[0;31m \u001b[0ma1\u001b[0m \u001b[0;34m=\u001b[0m \u001b[0mA\u001b[0m\u001b[0;34m(\u001b[0m\u001b[0;34m'George'\u001b[0m\u001b[0;34m,\u001b[0m \u001b[0;36m25000\u001b[0m\u001b[0;34m)\u001b[0m\u001b[0;34m\u001b[0m\u001b[0;34m\u001b[0m\u001b[0m\n\u001b[0m\u001b[1;32m     19\u001b[0m \u001b[0ma2\u001b[0m \u001b[0;34m=\u001b[0m \u001b[0mA\u001b[0m\u001b[0;34m(\u001b[0m\u001b[0;34m'John'\u001b[0m\u001b[0;34m,\u001b[0m \u001b[0;36m30000\u001b[0m\u001b[0;34m)\u001b[0m\u001b[0;34m\u001b[0m\u001b[0;34m\u001b[0m\u001b[0m\n\u001b[1;32m     20\u001b[0m \u001b[0;31m#a3 = A()\u001b[0m\u001b[0;34m\u001b[0m\u001b[0;34m\u001b[0m\u001b[0;34m\u001b[0m\u001b[0m\n",
            "\u001b[0;31mTypeError\u001b[0m: __init__() takes 0 positional arguments but 3 were given"
          ]
        }
      ]
    },
    {
      "metadata": {
        "id": "Xz0G08f_ynb_",
        "colab_type": "code",
        "colab": {
          "base_uri": "https://localhost:8080/",
          "height": 51
        },
        "outputId": "9a7d4a69-ab47-4883-eb5f-eaa0d74e0ed0"
      },
      "cell_type": "code",
      "source": [
        "class A:\n",
        "    def __init__(self, x, y):\n",
        "        self.x = x\n",
        "        self.y = y\n",
        "\n",
        "    def __str__(self):\n",
        "        return 'A(x: {}, y: {})'.format(self.x, self.y)\n",
        "        \n",
        "    def __eq__(self, other):\n",
        "        return self.x * self.y == other.x * other.y\n",
        "     \n",
        "def f1():\n",
        "    a = A(12, 3)\n",
        "    b = A(3, 12)\n",
        "    if (a == b):\n",
        "        print(b != a)\n",
        "        print(a)\n",
        "\n",
        "f1()"
      ],
      "execution_count": 0,
      "outputs": [
        {
          "output_type": "stream",
          "text": [
            "False\n",
            "A(x: 12, y: 3)\n"
          ],
          "name": "stdout"
        }
      ]
    },
    {
      "metadata": {
        "id": "G-BIkq5Zy0IU",
        "colab_type": "code",
        "colab": {
          "base_uri": "https://localhost:8080/",
          "height": 51
        },
        "outputId": "cf734adc-a7ce-4b30-dc16-bfa48c7d1dd1"
      },
      "cell_type": "code",
      "source": [
        "class A:\n",
        "    def __init__(self, x=5, y=4):\n",
        "        self.x = x\n",
        "        self.y = y\n",
        "\n",
        "    def __str__(self):\n",
        "        return 'A(x: {}, y: {})'.format(self.x, self.y)\n",
        "        \n",
        "    def __eq__(self, other):\n",
        "        return self.x * self.y == other.x * other.y\n",
        "     \n",
        "def f1():\n",
        "    a = A(12, 3)\n",
        "    b = A(3, 12)\n",
        "    if (a == b):\n",
        "        print(b != a)\n",
        "        print(a)\n",
        "\n",
        "f1()"
      ],
      "execution_count": 0,
      "outputs": [
        {
          "output_type": "stream",
          "text": [
            "False\n",
            "A(x: 12, y: 3)\n"
          ],
          "name": "stdout"
        }
      ]
    },
    {
      "metadata": {
        "id": "nYgkvHl3zOLk",
        "colab_type": "code",
        "colab": {
          "base_uri": "https://localhost:8080/",
          "height": 34
        },
        "outputId": "66b4901c-362c-4847-a3d0-0907b73f08ce"
      },
      "cell_type": "code",
      "source": [
        "class class1:\n",
        "    a = 1\n",
        "\n",
        "    def f1(self):\n",
        "        a = 2\n",
        "        class1.a += 1\n",
        "        print(class1.a, end=' ')\n",
        "        print(a, end=' ')\n",
        "\n",
        "class1().f1()\n",
        "class1().f1()"
      ],
      "execution_count": 0,
      "outputs": [
        {
          "output_type": "stream",
          "text": [
            "2 2 3 2 "
          ],
          "name": "stdout"
        }
      ]
    },
    {
      "metadata": {
        "id": "TY4NTAO97del",
        "colab_type": "text"
      },
      "cell_type": "markdown",
      "source": [
        "# [Operator Overload](https://www.python-course.eu/python3_magic_methods.php)"
      ]
    },
    {
      "metadata": {
        "id": "6uywzeSh04T2",
        "colab_type": "code",
        "colab": {}
      },
      "cell_type": "code",
      "source": [
        "import math\n",
        "\n",
        "class Point:\n",
        "    \n",
        "    # public variable (kind of static variables)\n",
        "    var = 1\n",
        "    \n",
        "    # private but can be accesssed outside class\n",
        "    _var2 = 1\n",
        "    \n",
        "    # private variable, can't be accessed outside class.\n",
        "    __var3 = 1\n",
        "    \n",
        "    dist = 0\n",
        "    \n",
        "    def __init__(self, x, y, z):\n",
        "        self.x = x\n",
        "        self.y = y\n",
        "        self.z = z\n",
        "        Point.var += 1\n",
        "        Point._var2 += 1\n",
        "        Point.__var3 += 1\n",
        "        \n",
        "    # __str__() prints the class in a readable way if you don't have this method \n",
        "    # and try to print the object of the class it will show like below\n",
        "    # <__main__.Point object at 0x7f63f674f668>\n",
        "    # but if you override the __str__( ) as below it will show like below\n",
        "    # Point : ( 4 , 2 , 9) \n",
        "    def __str__(self):\n",
        "      return \"Point : ( %s , %s , %s) \" % (self.x, self.y, self.z)\n",
        "    \n",
        "    \n",
        "    # You can overload operators also in python\n",
        "    # lets override + operator. Check below link for more details.\n",
        "    # https://www.python-course.eu/python3_magic_methods.php\n",
        "    \n",
        "    def __add__(self, other):\n",
        "      nx = self.x + other.x\n",
        "      ny = self.y + other.y\n",
        "      nz = self.z + other.z\n",
        "      return Point(nx, ny, nz)\n",
        "      \n",
        "        \n",
        "    def get_distance(x1, y1, z1, x2, y2, z2):\n",
        "      return math.sqrt( (x1 - x2)**2 + (y1 - y2)**2 + (z1 - z2)**2 )\n",
        "\n",
        "    \n",
        "    \n",
        "p1 = Point(4, 5, 6)\n",
        "p2 = Point (-2, -1, 4)\n",
        "p3 = Point(2, 3, 6)\n",
        "print(p1.x)\n",
        "print(p1.var)\n",
        "print(p3.var)\n",
        "\n",
        "print ('You can also call class variable')\n",
        "print(Point.var)"
      ],
      "execution_count": 0,
      "outputs": []
    },
    {
      "metadata": {
        "id": "dgN5wQyq3nAV",
        "colab_type": "code",
        "colab": {}
      },
      "cell_type": "code",
      "source": [
        "print(p1)"
      ],
      "execution_count": 0,
      "outputs": []
    },
    {
      "metadata": {
        "id": "GfhnLchU8a12",
        "colab_type": "code",
        "colab": {}
      },
      "cell_type": "code",
      "source": [
        "print(p1 + p2)"
      ],
      "execution_count": 0,
      "outputs": []
    },
    {
      "metadata": {
        "id": "u-oChXQ65071",
        "colab_type": "code",
        "colab": {}
      },
      "cell_type": "code",
      "source": [
        "print(Point.get_distance(p1.x, p1.y, p1.z, p2.x, p2.y, p2.z))"
      ],
      "execution_count": 0,
      "outputs": []
    },
    {
      "metadata": {
        "id": "awDnlLQ122uV",
        "colab_type": "code",
        "colab": {}
      },
      "cell_type": "code",
      "source": [
        "print(p1._var2)\n",
        "print(p3._var2)\n",
        "print ('You can also call class variable')\n",
        "print(Point._var2)"
      ],
      "execution_count": 0,
      "outputs": []
    },
    {
      "metadata": {
        "id": "eSHkXrW_3Bc0",
        "colab_type": "code",
        "colab": {}
      },
      "cell_type": "code",
      "source": [
        "print(p1.__var3)\n",
        "#print(p3.__var3)\n",
        "#print(Point.__var3)"
      ],
      "execution_count": 0,
      "outputs": []
    },
    {
      "metadata": {
        "id": "HiaaA88Q_Ux5",
        "colab_type": "code",
        "colab": {
          "base_uri": "https://localhost:8080/",
          "height": 34
        },
        "outputId": "07eab8f2-325f-4efe-82e3-aa2c6fc7e255"
      },
      "cell_type": "code",
      "source": [
        "class A:\n",
        "    def __init__(self, a = 5):\n",
        "        self.a = a\n",
        "\n",
        "        def f1(self):\n",
        "            self.a += 10\n",
        "\n",
        "\n",
        "class B(A):\n",
        "    def __init__(self, b = 0):\n",
        "        A.__init__(self, 4)\n",
        "        self.b = b\n",
        "\n",
        "    def f1(self):\n",
        "        self.b += 10\n",
        "\n",
        "x = B()\n",
        "x.f1()\n",
        "print(x.a,'-', x.b)"
      ],
      "execution_count": 66,
      "outputs": [
        {
          "output_type": "stream",
          "text": [
            "4 - 10\n"
          ],
          "name": "stdout"
        }
      ]
    },
    {
      "metadata": {
        "id": "cijQXj58AU3a",
        "colab_type": "code",
        "colab": {
          "base_uri": "https://localhost:8080/",
          "height": 34
        },
        "outputId": "eefad917-a163-4e8d-857c-3d6e01ba0303"
      },
      "cell_type": "code",
      "source": [
        "class grandpa(object):\n",
        "    pass\n",
        "\n",
        "class father(grandpa):\n",
        "    pass\n",
        "\n",
        "class mother(object):\n",
        "    pass\n",
        "\n",
        "class child(mother, father):\n",
        "    pass\n",
        "\n",
        "print(child.__mro__)"
      ],
      "execution_count": 67,
      "outputs": [
        {
          "output_type": "stream",
          "text": [
            "(<class '__main__.child'>, <class '__main__.mother'>, <class '__main__.father'>, <class '__main__.grandpa'>, <class 'object'>)\n"
          ],
          "name": "stdout"
        }
      ]
    },
    {
      "metadata": {
        "id": "4yn61sY6Aa2a",
        "colab_type": "code",
        "colab": {
          "base_uri": "https://localhost:8080/",
          "height": 34
        },
        "outputId": "7df6c853-242d-4f7c-d934-e91da0dd49a8"
      },
      "cell_type": "code",
      "source": [
        "[(i.upper(), len(i)) for i in 'kiwi' ]"
      ],
      "execution_count": 68,
      "outputs": [
        {
          "output_type": "execute_result",
          "data": {
            "text/plain": [
              "[('K', 1), ('I', 1), ('W', 1), ('I', 1)]"
            ]
          },
          "metadata": {
            "tags": []
          },
          "execution_count": 68
        }
      ]
    },
    {
      "metadata": {
        "id": "fMaRmCTIAmIR",
        "colab_type": "code",
        "colab": {
          "base_uri": "https://localhost:8080/",
          "height": 34
        },
        "outputId": "b8210fc3-0a9e-406c-a0c9-622e46e4a16d"
      },
      "cell_type": "code",
      "source": [
        "import itertools\n",
        "x = itertools.dropwhile(lambda x: x<5, [1,4,6,4,1])\n",
        "print(x)"
      ],
      "execution_count": 74,
      "outputs": [
        {
          "output_type": "stream",
          "text": [
            "<itertools.dropwhile object at 0x7f63f6702448>\n"
          ],
          "name": "stdout"
        }
      ]
    },
    {
      "metadata": {
        "id": "keejysitBRV0",
        "colab_type": "code",
        "colab": {
          "base_uri": "https://localhost:8080/",
          "height": 68
        },
        "outputId": "77af7086-1ccd-4705-d783-9c3b26594178"
      },
      "cell_type": "code",
      "source": [
        "class A:\n",
        "    def __init__(self):\n",
        "        print('one')\n",
        "\n",
        "    def f(self):\n",
        "        print(float())\n",
        "        print(hex(-255))\n",
        "\n",
        "class B(A):\n",
        "    def __init__(self):\n",
        "        print('two')\n",
        "\n",
        "    def f(self):\n",
        "        print(float())\n",
        "        print(hex(-42))\n",
        "\n",
        "x = B()\n",
        "x.f()"
      ],
      "execution_count": 75,
      "outputs": [
        {
          "output_type": "stream",
          "text": [
            "two\n",
            "0.0\n",
            "-0x2a\n"
          ],
          "name": "stdout"
        }
      ]
    },
    {
      "metadata": {
        "id": "2GEeOUhnBxJ1",
        "colab_type": "code",
        "colab": {
          "base_uri": "https://localhost:8080/",
          "height": 34
        },
        "outputId": "0d444ccc-614c-457d-8f42-bbc87345a9ed"
      },
      "cell_type": "code",
      "source": [
        "'2' == 2"
      ],
      "execution_count": 76,
      "outputs": [
        {
          "output_type": "execute_result",
          "data": {
            "text/plain": [
              "False"
            ]
          },
          "metadata": {
            "tags": []
          },
          "execution_count": 76
        }
      ]
    },
    {
      "metadata": {
        "id": "IldWYylxBz7J",
        "colab_type": "code",
        "colab": {
          "base_uri": "https://localhost:8080/",
          "height": 34
        },
        "outputId": "a745f599-50b2-4e90-8766-467eba07590a"
      },
      "cell_type": "code",
      "source": [
        "{i:j for i in \"abcd\" for j in \"kiwi\"}"
      ],
      "execution_count": 77,
      "outputs": [
        {
          "output_type": "execute_result",
          "data": {
            "text/plain": [
              "{'a': 'i', 'b': 'i', 'c': 'i', 'd': 'i'}"
            ]
          },
          "metadata": {
            "tags": []
          },
          "execution_count": 77
        }
      ]
    }
  ]
}