{
  "nbformat": 4,
  "nbformat_minor": 0,
  "metadata": {
    "colab": {
      "name": "panda.ipynb",
      "version": "0.3.2",
      "provenance": [],
      "include_colab_link": true
    },
    "kernelspec": {
      "name": "python3",
      "display_name": "Python 3"
    }
  },
  "cells": [
    {
      "cell_type": "markdown",
      "metadata": {
        "id": "view-in-github",
        "colab_type": "text"
      },
      "source": [
        "<a href=\"https://colab.research.google.com/github/whatsupabhijit/py_rambling/blob/master/pandas/panda.ipynb\" target=\"_parent\"><img src=\"https://colab.research.google.com/assets/colab-badge.svg\" alt=\"Open In Colab\"/></a>"
      ]
    },
    {
      "metadata": {
        "id": "HNyEJ7Ly5kqL",
        "colab_type": "toc"
      },
      "cell_type": "markdown",
      "source": [
        ">[Pandas](#scrollTo=dOlkheh4Z1wX)\n",
        "\n",
        ">[Series](#scrollTo=TTeZ84PhacEh)\n",
        "\n",
        ">[Data Frame](#scrollTo=-YfwJSqBfS8I)\n",
        "\n",
        ">[Panel](#scrollTo=YL4siMbofqwZ)\n",
        "\n",
        ">[Data Access](#scrollTo=LO60AuW3_YGw)\n",
        "\n",
        ">[Knowing a Series](#scrollTo=e-do3ytA7dcM)\n",
        "\n",
        ">[Knowing a DataFrame](#scrollTo=6xe4amUS8I5m)\n",
        "\n",
        ">[Pandas I/O](#scrollTo=rNN1p_6G-R4J)\n",
        "\n",
        ">[How to read csv file from an url](#scrollTo=OmHqJ1csErJf)\n",
        "\n",
        ">[How to deal with large datasets in smaller chunks](#scrollTo=uj0qCHjwK5yL)\n",
        "\n",
        ">[Indexing](#scrollTo=i4tKTogSUCmt)\n",
        "\n",
        ">[Single Level Indexing](#scrollTo=17zhQ8yCYHYG)\n",
        "\n",
        ">[Date Level Indexing](#scrollTo=ArvjCQDeeH61)\n",
        "\n",
        ">[Multi Level Indexing / Hierarchical indexing](#scrollTo=rwnqJr9XiDr6)\n",
        "\n",
        ">[Data Cleaning](#scrollTo=Zk1NWgMjwY29)\n",
        "\n",
        ">[Data Aggregation](#scrollTo=LtZlp0z36DtP)\n",
        "\n",
        ">[Data Merging](#scrollTo=8TiI4V3kOWtD)\n",
        "\n"
      ]
    },
    {
      "metadata": {
        "id": "dOlkheh4Z1wX",
        "colab_type": "text"
      },
      "cell_type": "markdown",
      "source": [
        "# **Pandas**\n",
        "\n",
        "- `Pandas` is a popular Python data analysis tool.\n",
        "\n",
        "- It provides easy to use and highly efficient data structures.\n",
        "\n",
        "- These data structures deal with numeric or labeled data, stored in the form of tables"
      ]
    },
    {
      "metadata": {
        "id": "83ZJTVAYaPm3",
        "colab_type": "text"
      },
      "cell_type": "markdown",
      "source": [
        "**Data Structures in Pandas**\n",
        "\n",
        "Three fundamental data structures used in pandas are,\n",
        "\n",
        "- Series: A 1-D array.\n",
        "\n",
        "- Data Frame: A 2-D array or two or more Series joined together\n",
        "\n",
        "- Panel: A 3-D array\n"
      ]
    },
    {
      "metadata": {
        "id": "TTeZ84PhacEh",
        "colab_type": "text"
      },
      "cell_type": "markdown",
      "source": [
        "# **Series ** \n",
        "\n",
        "is a 1-D array, holding data values of a single variable, captured from multiple observations.\n",
        "\n",
        "Few examples are:\n",
        "\n",
        "1. Height of each student, belonging to a Class 'C'.''\n",
        "2. Amount of daily rainfall received at Station 'X', in July 2017\n",
        "3. Total sales of a product 'P' in every quarter of 2016."
      ]
    },
    {
      "metadata": {
        "id": "WCUBiTm9a6xR",
        "colab_type": "code",
        "outputId": "0e606c43-1225-4e2d-c81f-6cf7fb41766f",
        "colab": {
          "base_uri": "https://localhost:8080/",
          "height": 496
        }
      },
      "cell_type": "code",
      "source": [
        "!pip install panda\n",
        "!pip install request"
      ],
      "execution_count": 1,
      "outputs": [
        {
          "output_type": "stream",
          "text": [
            "Collecting panda\n",
            "  Downloading https://files.pythonhosted.org/packages/79/03/74996420528fe488ce17c42b6400531c8067d7eb661c304fa3aa8fdad17c/panda-0.3.1.tar.gz\n",
            "Requirement already satisfied: setuptools in /usr/local/lib/python3.6/dist-packages (from panda) (40.6.2)\n",
            "Requirement already satisfied: requests in /usr/local/lib/python3.6/dist-packages (from panda) (2.18.4)\n",
            "Requirement already satisfied: urllib3<1.23,>=1.21.1 in /usr/local/lib/python3.6/dist-packages (from requests->panda) (1.22)\n",
            "Requirement already satisfied: idna<2.7,>=2.5 in /usr/local/lib/python3.6/dist-packages (from requests->panda) (2.6)\n",
            "Requirement already satisfied: chardet<3.1.0,>=3.0.2 in /usr/local/lib/python3.6/dist-packages (from requests->panda) (3.0.4)\n",
            "Requirement already satisfied: certifi>=2017.4.17 in /usr/local/lib/python3.6/dist-packages (from requests->panda) (2018.10.15)\n",
            "Building wheels for collected packages: panda\n",
            "  Running setup.py bdist_wheel for panda ... \u001b[?25l-\b \bdone\n",
            "\u001b[?25h  Stored in directory: /root/.cache/pip/wheels/c6/c8/45/06ed898b0bb401c1ff207dbb05b1587ff28860a236d98b1996\n",
            "Successfully built panda\n",
            "Installing collected packages: panda\n",
            "Successfully installed panda-0.3.1\n",
            "Collecting request\n",
            "  Downloading https://files.pythonhosted.org/packages/14/03/3985ca165063f8825be231383df7e214551a074b69c8358034b5a6c6d556/request-2018.11.20-py2.py3-none-any.whl\n",
            "Collecting post (from request)\n",
            "  Downloading https://files.pythonhosted.org/packages/60/bf/9e3a234021486d3f25edda957f82c7228a6b4ce5b413bc6e771f634a6ba9/post-2018.11.20-py2.py3-none-any.whl\n",
            "Requirement already satisfied: setuptools in /usr/local/lib/python3.6/dist-packages (from request) (40.6.2)\n",
            "Collecting get (from request)\n",
            "  Downloading https://files.pythonhosted.org/packages/77/50/a8f316f095765b6299791f8a2263893a01856036be1c377170a91e4696ed/get-2018.11.19-py2.py3-none-any.whl\n",
            "Collecting query-string (from get->request)\n",
            "  Downloading https://files.pythonhosted.org/packages/a5/b6/7d896d6cdc0660275512e8835ac27ecdddf3540adb8375bb2e5b5ccb56bc/query_string-2018.11.20-py2.py3-none-any.whl\n",
            "Collecting public (from query-string->get->request)\n",
            "  Downloading https://files.pythonhosted.org/packages/36/c8/6dbeeeeb5ae9d897873df6bcdf4141cf8f160fa1e75a8a62d53535ddd19f/public-2018.11.20-py2.py3-none-any.whl\n",
            "Installing collected packages: post, public, query-string, get, request\n",
            "Successfully installed get-2018.11.19 post-2018.11.20 public-2018.11.20 query-string-2018.11.20 request-2018.11.20\n"
          ],
          "name": "stdout"
        }
      ]
    },
    {
      "metadata": {
        "id": "lyFMslLOFc_G",
        "colab_type": "code",
        "colab": {}
      },
      "cell_type": "code",
      "source": [
        "import numpy as np\n",
        "import pandas as pd   # mind the extra 's' in pandas as importing panda alone gives you error"
      ],
      "execution_count": 0,
      "outputs": []
    },
    {
      "metadata": {
        "id": "RSomb7xgbryo",
        "colab_type": "code",
        "outputId": "85ba6111-d0c5-4b4e-d141-32d2ca9171f3",
        "colab": {
          "base_uri": "https://localhost:8080/",
          "height": 85
        }
      },
      "cell_type": "code",
      "source": [
        "## creating panda series from a dictionary\n",
        "\n",
        "d = {'Math': 180, 'Physics': 157, 'Chemistry:': 157}\n",
        "pd.Series(d)"
      ],
      "execution_count": 3,
      "outputs": [
        {
          "output_type": "execute_result",
          "data": {
            "text/plain": [
              "Chemistry:    157\n",
              "Math          180\n",
              "Physics       157\n",
              "dtype: int64"
            ]
          },
          "metadata": {
            "tags": []
          },
          "execution_count": 3
        }
      ]
    },
    {
      "metadata": {
        "id": "N9qf3zcDcRKJ",
        "colab_type": "code",
        "outputId": "92237c39-d1f5-4ffc-8071-bd89a638791c",
        "colab": {
          "base_uri": "https://localhost:8080/",
          "height": 85
        }
      },
      "cell_type": "code",
      "source": [
        "# Creating a panda series from numpy\n",
        "\n",
        "n = 30 + 25 * np.random.randn(3) \n",
        "\n",
        "pd.Series(n, index = ['Math', 'Physics', 'Chemistry'])"
      ],
      "execution_count": 4,
      "outputs": [
        {
          "output_type": "execute_result",
          "data": {
            "text/plain": [
              "Math         17.167061\n",
              "Physics      -2.574403\n",
              "Chemistry    54.007375\n",
              "dtype: float64"
            ]
          },
          "metadata": {
            "tags": []
          },
          "execution_count": 4
        }
      ]
    },
    {
      "metadata": {
        "id": "To1jAxG6dEPK",
        "colab_type": "text"
      },
      "cell_type": "markdown",
      "source": [
        "**Problem 1.1**\n",
        "Create a series named heights_A with values 176.2, 158.4, 167.6, 156.2, and 161.4, which represent heights of 5 students of class A.\n",
        "\n",
        "Label each student as s1, s2, s3, s4, and s5.\n",
        "\n",
        "Determine the shape of heights_A and display it."
      ]
    },
    {
      "metadata": {
        "id": "LGmH7R2CdC5R",
        "colab_type": "code",
        "outputId": "6853a86f-f50a-48fb-bfd5-4908657e46ab",
        "colab": {
          "base_uri": "https://localhost:8080/",
          "height": 34
        }
      },
      "cell_type": "code",
      "source": [
        "ht = [176.2, 158.4, 167.6, 156.2, 161.4]\n",
        "\n",
        "heights_A = pd.Series(ht, index = ['s1', 's2', 's3', 's4', 's5'])\n",
        "heights_A\n",
        "\n",
        "heights_A.shape"
      ],
      "execution_count": 5,
      "outputs": [
        {
          "output_type": "execute_result",
          "data": {
            "text/plain": [
              "(5,)"
            ]
          },
          "metadata": {
            "tags": []
          },
          "execution_count": 5
        }
      ]
    },
    {
      "metadata": {
        "id": "h1uesjcaeZci",
        "colab_type": "text"
      },
      "cell_type": "markdown",
      "source": [
        "**Problem 1.2**\n",
        "Create a series named weights_A with values 85.1, 90.2, 76.8, 80.4, and 78.9, which represent weights of 5 students of class A.\n",
        "\n",
        "Label each student as s1, s2, s3, s4, and s5.\n",
        "\n",
        "Determine data type of weights_A and display it.\n",
        "\n",
        "Hint: Make use of Series method available in pandas library."
      ]
    },
    {
      "metadata": {
        "id": "JuedULX3edR3",
        "colab_type": "code",
        "outputId": "93dccaf8-17fc-4e4b-b535-e31088e8102a",
        "colab": {
          "base_uri": "https://localhost:8080/",
          "height": 136
        }
      },
      "cell_type": "code",
      "source": [
        "wt = [85.1, 90.2, 76.8, 80.4,  78.9,]\n",
        "weights_A = pd.Series(wt, index = ['s1', 's2', 's3', 's4', 's5'])\n",
        "\n",
        "print(weights_A)\n",
        "\n",
        "print(weights_A.shape)"
      ],
      "execution_count": 6,
      "outputs": [
        {
          "output_type": "stream",
          "text": [
            "s1    85.1\n",
            "s2    90.2\n",
            "s3    76.8\n",
            "s4    80.4\n",
            "s5    78.9\n",
            "dtype: float64\n",
            "(5,)\n"
          ],
          "name": "stdout"
        }
      ]
    },
    {
      "metadata": {
        "id": "-YfwJSqBfS8I",
        "colab_type": "text"
      },
      "cell_type": "markdown",
      "source": [
        "# ***Data Frame***\n",
        "\n",
        "is 2-D shaped and contains data of diff parameters, captured from multiple observations.\n",
        "\n",
        "Each **observation** is represented by a single **row**, and each **parameter** by a single **column**.\n",
        "\n",
        "Each column can hold different data type.\n",
        "Few examples are:\n",
        "\n",
        "- Height and Weight of all students, belonging to a Class 'C'.\n",
        "- Daily Rainfall received and Average Temperature of a location 'X', in the year 2017.\n",
        "\n",
        "---\n",
        "\n"
      ]
    },
    {
      "metadata": {
        "id": "mdLX5rrSgtsw",
        "colab_type": "code",
        "outputId": "3c63ee04-7355-423d-ecd0-02c0163995cc",
        "colab": {
          "base_uri": "https://localhost:8080/",
          "height": 142
        }
      },
      "cell_type": "code",
      "source": [
        "## Data frame created from pd.Series\n",
        "\n",
        "s = {'subject': pd.Series(['Math', 'Physics', 'Chemistry']), 'marks': pd.Series([100, 190, 185]) }\n",
        "df = pd.DataFrame(s)\n",
        "df"
      ],
      "execution_count": 7,
      "outputs": [
        {
          "output_type": "execute_result",
          "data": {
            "text/html": [
              "<div>\n",
              "<style scoped>\n",
              "    .dataframe tbody tr th:only-of-type {\n",
              "        vertical-align: middle;\n",
              "    }\n",
              "\n",
              "    .dataframe tbody tr th {\n",
              "        vertical-align: top;\n",
              "    }\n",
              "\n",
              "    .dataframe thead th {\n",
              "        text-align: right;\n",
              "    }\n",
              "</style>\n",
              "<table border=\"1\" class=\"dataframe\">\n",
              "  <thead>\n",
              "    <tr style=\"text-align: right;\">\n",
              "      <th></th>\n",
              "      <th>marks</th>\n",
              "      <th>subject</th>\n",
              "    </tr>\n",
              "  </thead>\n",
              "  <tbody>\n",
              "    <tr>\n",
              "      <th>0</th>\n",
              "      <td>100</td>\n",
              "      <td>Math</td>\n",
              "    </tr>\n",
              "    <tr>\n",
              "      <th>1</th>\n",
              "      <td>190</td>\n",
              "      <td>Physics</td>\n",
              "    </tr>\n",
              "    <tr>\n",
              "      <th>2</th>\n",
              "      <td>185</td>\n",
              "      <td>Chemistry</td>\n",
              "    </tr>\n",
              "  </tbody>\n",
              "</table>\n",
              "</div>"
            ],
            "text/plain": [
              "   marks    subject\n",
              "0    100       Math\n",
              "1    190    Physics\n",
              "2    185  Chemistry"
            ]
          },
          "metadata": {
            "tags": []
          },
          "execution_count": 7
        }
      ]
    },
    {
      "metadata": {
        "id": "h3-keNNfjqwu",
        "colab_type": "code",
        "outputId": "2ff7da39-2d9d-49ca-a920-48824fbf83c7",
        "colab": {
          "base_uri": "https://localhost:8080/",
          "height": 142
        }
      },
      "cell_type": "code",
      "source": [
        "## Data frame created from list\n",
        "\n",
        "s = {'subject': ['Math', 'Physics', 'Chemistry'], 'marks': [100, 190, 185] }\n",
        "df = pd.DataFrame(s)\n",
        "df"
      ],
      "execution_count": 8,
      "outputs": [
        {
          "output_type": "execute_result",
          "data": {
            "text/html": [
              "<div>\n",
              "<style scoped>\n",
              "    .dataframe tbody tr th:only-of-type {\n",
              "        vertical-align: middle;\n",
              "    }\n",
              "\n",
              "    .dataframe tbody tr th {\n",
              "        vertical-align: top;\n",
              "    }\n",
              "\n",
              "    .dataframe thead th {\n",
              "        text-align: right;\n",
              "    }\n",
              "</style>\n",
              "<table border=\"1\" class=\"dataframe\">\n",
              "  <thead>\n",
              "    <tr style=\"text-align: right;\">\n",
              "      <th></th>\n",
              "      <th>marks</th>\n",
              "      <th>subject</th>\n",
              "    </tr>\n",
              "  </thead>\n",
              "  <tbody>\n",
              "    <tr>\n",
              "      <th>0</th>\n",
              "      <td>100</td>\n",
              "      <td>Math</td>\n",
              "    </tr>\n",
              "    <tr>\n",
              "      <th>1</th>\n",
              "      <td>190</td>\n",
              "      <td>Physics</td>\n",
              "    </tr>\n",
              "    <tr>\n",
              "      <th>2</th>\n",
              "      <td>185</td>\n",
              "      <td>Chemistry</td>\n",
              "    </tr>\n",
              "  </tbody>\n",
              "</table>\n",
              "</div>"
            ],
            "text/plain": [
              "   marks    subject\n",
              "0    100       Math\n",
              "1    190    Physics\n",
              "2    185  Chemistry"
            ]
          },
          "metadata": {
            "tags": []
          },
          "execution_count": 8
        }
      ]
    },
    {
      "metadata": {
        "id": "lmyIM9YZe6uI",
        "colab_type": "text"
      },
      "cell_type": "markdown",
      "source": [
        "**Problem 1.3**\n",
        "Create a Data Frame named df_A, which holds the height and weight of five students namely s1, s2, s3, s4 and s5.\n",
        "\n",
        "Label the columns as Student_height and Student_weight respectively.\n",
        "\n",
        "Display index values of df_A.\n",
        "\n",
        "Hint: Make use of DataFrame method in pandas, and also the series heights_A, weights_A created in previous problems."
      ]
    },
    {
      "metadata": {
        "id": "coZkxy3ytvwR",
        "colab_type": "code",
        "outputId": "74d2990b-7db7-4332-9e2c-247a833b014f",
        "colab": {
          "base_uri": "https://localhost:8080/",
          "height": 204
        }
      },
      "cell_type": "code",
      "source": [
        "sf_dict = {'heights': heights_A, 'weights': weights_A }\n",
        "df_A = pd.DataFrame(sf_dict)\n",
        "df_A"
      ],
      "execution_count": 9,
      "outputs": [
        {
          "output_type": "execute_result",
          "data": {
            "text/html": [
              "<div>\n",
              "<style scoped>\n",
              "    .dataframe tbody tr th:only-of-type {\n",
              "        vertical-align: middle;\n",
              "    }\n",
              "\n",
              "    .dataframe tbody tr th {\n",
              "        vertical-align: top;\n",
              "    }\n",
              "\n",
              "    .dataframe thead th {\n",
              "        text-align: right;\n",
              "    }\n",
              "</style>\n",
              "<table border=\"1\" class=\"dataframe\">\n",
              "  <thead>\n",
              "    <tr style=\"text-align: right;\">\n",
              "      <th></th>\n",
              "      <th>heights</th>\n",
              "      <th>weights</th>\n",
              "    </tr>\n",
              "  </thead>\n",
              "  <tbody>\n",
              "    <tr>\n",
              "      <th>s1</th>\n",
              "      <td>176.2</td>\n",
              "      <td>85.1</td>\n",
              "    </tr>\n",
              "    <tr>\n",
              "      <th>s2</th>\n",
              "      <td>158.4</td>\n",
              "      <td>90.2</td>\n",
              "    </tr>\n",
              "    <tr>\n",
              "      <th>s3</th>\n",
              "      <td>167.6</td>\n",
              "      <td>76.8</td>\n",
              "    </tr>\n",
              "    <tr>\n",
              "      <th>s4</th>\n",
              "      <td>156.2</td>\n",
              "      <td>80.4</td>\n",
              "    </tr>\n",
              "    <tr>\n",
              "      <th>s5</th>\n",
              "      <td>161.4</td>\n",
              "      <td>78.9</td>\n",
              "    </tr>\n",
              "  </tbody>\n",
              "</table>\n",
              "</div>"
            ],
            "text/plain": [
              "    heights  weights\n",
              "s1    176.2     85.1\n",
              "s2    158.4     90.2\n",
              "s3    167.6     76.8\n",
              "s4    156.2     80.4\n",
              "s5    161.4     78.9"
            ]
          },
          "metadata": {
            "tags": []
          },
          "execution_count": 9
        }
      ]
    },
    {
      "metadata": {
        "id": "-_GQmVSnuY_N",
        "colab_type": "text"
      },
      "cell_type": "markdown",
      "source": [
        "**Problem 1.4**\n",
        "Create two Series named heights_B and weights_B from two random 1-D numpy arrays with five elements each.\n",
        "\n",
        "The first array is obtained from the normal distribution of mean 170.0 and standard deviation 25.0.\n",
        "\n",
        "The second array is derived from the normal distribution of mean 75.0 and standard deviation 12.0.\n",
        "\n",
        "Label both Series elements with s1, s2, s3, s4 and s5."
      ]
    },
    {
      "metadata": {
        "id": "71uugSAruYNt",
        "colab_type": "code",
        "outputId": "bbd10b3b-f192-4967-aa04-d03c69eb7e76",
        "colab": {
          "base_uri": "https://localhost:8080/",
          "height": 221
        }
      },
      "cell_type": "code",
      "source": [
        "heights_B = pd.Series(170 + 25 * np.random.randn(5), index = ['s1', 's2', 's3', 's4', 's5'])\n",
        "weights_B = pd.Series(75  + 12 * np.random.randn(5), index = ['s1', 's2', 's3', 's4', 's5'])\n",
        "\n",
        "print(heights_B)\n",
        "\n",
        "print(weights_B)"
      ],
      "execution_count": 10,
      "outputs": [
        {
          "output_type": "stream",
          "text": [
            "s1    143.310548\n",
            "s2    159.783511\n",
            "s3    202.873569\n",
            "s4    174.756818\n",
            "s5    164.627470\n",
            "dtype: float64\n",
            "s1     82.942539\n",
            "s2     86.109501\n",
            "s3     60.636275\n",
            "s4    106.413945\n",
            "s5     70.447475\n",
            "dtype: float64\n"
          ],
          "name": "stdout"
        }
      ]
    },
    {
      "metadata": {
        "id": "_y_ywZOOwA6t",
        "colab_type": "text"
      },
      "cell_type": "markdown",
      "source": [
        "**Problem 1.5**\n",
        "Create a Data Frame df_B holding height and weight of students s1, s2, s3, s4 and s5 belonging to class B.\n",
        "\n",
        "Label the columns as Student_height and Student_weight respectively.\n",
        "\n",
        "Display the column names of df_B."
      ]
    },
    {
      "metadata": {
        "id": "ydERgqpkwFjN",
        "colab_type": "code",
        "outputId": "77f7c19c-bbe6-410e-f90d-ad20db65a009",
        "colab": {
          "base_uri": "https://localhost:8080/",
          "height": 204
        }
      },
      "cell_type": "code",
      "source": [
        "df_B = pd.DataFrame({'heights': heights_B, 'weights': weights_B})\n",
        "df_B"
      ],
      "execution_count": 11,
      "outputs": [
        {
          "output_type": "execute_result",
          "data": {
            "text/html": [
              "<div>\n",
              "<style scoped>\n",
              "    .dataframe tbody tr th:only-of-type {\n",
              "        vertical-align: middle;\n",
              "    }\n",
              "\n",
              "    .dataframe tbody tr th {\n",
              "        vertical-align: top;\n",
              "    }\n",
              "\n",
              "    .dataframe thead th {\n",
              "        text-align: right;\n",
              "    }\n",
              "</style>\n",
              "<table border=\"1\" class=\"dataframe\">\n",
              "  <thead>\n",
              "    <tr style=\"text-align: right;\">\n",
              "      <th></th>\n",
              "      <th>heights</th>\n",
              "      <th>weights</th>\n",
              "    </tr>\n",
              "  </thead>\n",
              "  <tbody>\n",
              "    <tr>\n",
              "      <th>s1</th>\n",
              "      <td>143.310548</td>\n",
              "      <td>82.942539</td>\n",
              "    </tr>\n",
              "    <tr>\n",
              "      <th>s2</th>\n",
              "      <td>159.783511</td>\n",
              "      <td>86.109501</td>\n",
              "    </tr>\n",
              "    <tr>\n",
              "      <th>s3</th>\n",
              "      <td>202.873569</td>\n",
              "      <td>60.636275</td>\n",
              "    </tr>\n",
              "    <tr>\n",
              "      <th>s4</th>\n",
              "      <td>174.756818</td>\n",
              "      <td>106.413945</td>\n",
              "    </tr>\n",
              "    <tr>\n",
              "      <th>s5</th>\n",
              "      <td>164.627470</td>\n",
              "      <td>70.447475</td>\n",
              "    </tr>\n",
              "  </tbody>\n",
              "</table>\n",
              "</div>"
            ],
            "text/plain": [
              "       heights     weights\n",
              "s1  143.310548   82.942539\n",
              "s2  159.783511   86.109501\n",
              "s3  202.873569   60.636275\n",
              "s4  174.756818  106.413945\n",
              "s5  164.627470   70.447475"
            ]
          },
          "metadata": {
            "tags": []
          },
          "execution_count": 11
        }
      ]
    },
    {
      "metadata": {
        "id": "YL4siMbofqwZ",
        "colab_type": "text"
      },
      "cell_type": "markdown",
      "source": [
        "# **Panel**\n",
        "\n",
        "holds **two** or **more** Data **Frames** together as a single unit.\n",
        "\n",
        "Few examples are:\n",
        "\n",
        "- Height and Weight of all students, belonging to 3 Classes 'A', 'B', and 'C'.\n",
        "- Daily Rainfall received and Average Temperatures of 3 locations 'X', 'Y', and 'Z' captured in the year 2017.\n",
        "\n",
        "---\n",
        "\n"
      ]
    },
    {
      "metadata": {
        "id": "nCwHt6x6wwoM",
        "colab_type": "text"
      },
      "cell_type": "markdown",
      "source": [
        "**Problem 1.6**\n",
        "Create a panel p, which holds previously created two data frames df_A and df_B.\n",
        "\n",
        "Label the first data frame as ClassA and second as ClassB.\n",
        "\n",
        "\n",
        "Determine the shape of panel p and display it."
      ]
    },
    {
      "metadata": {
        "id": "rJcUK9wDyV1e",
        "colab_type": "code",
        "outputId": "a8b43542-2dd5-4aaa-f7a6-f23e3577a55d",
        "colab": {
          "base_uri": "https://localhost:8080/",
          "height": 513
        }
      },
      "cell_type": "code",
      "source": [
        "df_panel = pd.Panel({'ClassA': df_A, 'ClassB': df_B})\n",
        "\n",
        "print('Shape:-')\n",
        "print(df_panel.shape)\n",
        "\n",
        "print('\\n\\nClassA')\n",
        "print(df_panel.ClassA)\n",
        "\n",
        "\n",
        "print('\\n\\nClassB')\n",
        "print(df_panel.ClassB)\n",
        "\n",
        "print(\"\\n\\ndf_panel:- \")\n",
        "print(df_panel)"
      ],
      "execution_count": 12,
      "outputs": [
        {
          "output_type": "stream",
          "text": [
            "Shape:-\n",
            "(2, 5, 2)\n",
            "\n",
            "\n",
            "ClassA\n",
            "    heights  weights\n",
            "s1    176.2     85.1\n",
            "s2    158.4     90.2\n",
            "s3    167.6     76.8\n",
            "s4    156.2     80.4\n",
            "s5    161.4     78.9\n",
            "\n",
            "\n",
            "ClassB\n",
            "       heights     weights\n",
            "s1  143.310548   82.942539\n",
            "s2  159.783511   86.109501\n",
            "s3  202.873569   60.636275\n",
            "s4  174.756818  106.413945\n",
            "s5  164.627470   70.447475\n",
            "\n",
            "\n",
            "df_panel:- \n",
            "<class 'pandas.core.panel.Panel'>\n",
            "Dimensions: 2 (items) x 5 (major_axis) x 2 (minor_axis)\n",
            "Items axis: ClassA to ClassB\n",
            "Major_axis axis: s1 to s5\n",
            "Minor_axis axis: heights to weights\n"
          ],
          "name": "stdout"
        }
      ]
    },
    {
      "metadata": {
        "id": "LO60AuW3_YGw",
        "colab_type": "text"
      },
      "cell_type": "markdown",
      "source": [
        "# Data Access\n",
        "\n",
        "Data Access refers to extracting data present in defined data structures.\n",
        "\n",
        "Pandas provide utilities like **loc** and **iloc** to get data from a Series, a DataFrame, or a Panel."
      ]
    },
    {
      "metadata": {
        "id": "IgxsSACKAQm3",
        "colab_type": "text"
      },
      "cell_type": "markdown",
      "source": [
        "**Problem 2.1**\n",
        "\n",
        "Print the second element of series heights_A, as a string."
      ]
    },
    {
      "metadata": {
        "id": "8-wyuvybAXZJ",
        "colab_type": "code",
        "outputId": "9bde3c85-b8f2-4e29-9b79-1bd1d98978c2",
        "colab": {
          "base_uri": "https://localhost:8080/",
          "height": 105
        }
      },
      "cell_type": "code",
      "source": [
        "#Using index\n",
        "print (heights_A[1])\n",
        "\n",
        "#Using get() and index\n",
        "print (heights_A.get(1))\n",
        "\n",
        "\n",
        "#Using get() and index variable name\n",
        "print (heights_A.get('s2'))\n",
        "\n",
        "# yet another way :)\n",
        "print(heights_A.s2)"
      ],
      "execution_count": 13,
      "outputs": [
        {
          "output_type": "stream",
          "text": [
            "158.4\n",
            "158.4\n",
            "158.4\n",
            "158.4\n"
          ],
          "name": "stdout"
        }
      ]
    },
    {
      "metadata": {
        "id": "vYqQObffBtdg",
        "colab_type": "text"
      },
      "cell_type": "markdown",
      "source": [
        "**Problem 2.2**\n",
        "\n",
        "Obtain central three elements of Series heights_A."
      ]
    },
    {
      "metadata": {
        "id": "5xwpNQBDBwYG",
        "colab_type": "code",
        "outputId": "0cdd601f-a3a6-42cd-aaa8-4753b60ac3d6",
        "colab": {
          "base_uri": "https://localhost:8080/",
          "height": 105
        }
      },
      "cell_type": "code",
      "source": [
        "print (heights_A[1:-1])"
      ],
      "execution_count": 14,
      "outputs": [
        {
          "output_type": "stream",
          "text": [
            "s2    158.4\n",
            "s3    167.6\n",
            "s4    156.2\n",
            "dtype: float64\n"
          ],
          "name": "stdout"
        }
      ]
    },
    {
      "metadata": {
        "id": "T7B6fFdyFbXm",
        "colab_type": "text"
      },
      "cell_type": "markdown",
      "source": [
        "**Accessing Data from a Data Frame**\n",
        "\n",
        "Pandas allows .loc, .iloc methods for selecting rows.\n",
        "\n",
        "Using square brackets ([ ]) is also allowed, especially for selecting columns."
      ]
    },
    {
      "metadata": {
        "id": "dqxR0g7Darnp",
        "colab_type": "text"
      },
      "cell_type": "markdown",
      "source": [
        "**Problem 2.3**\n",
        "\n",
        "Select the column of df_A, referring to student heights and store in variable height.\n",
        "\n",
        "Display the type of height"
      ]
    },
    {
      "metadata": {
        "id": "wETLIX8xawKq",
        "colab_type": "code",
        "outputId": "deae692e-5fc7-4674-f139-59aad242634a",
        "colab": {
          "base_uri": "https://localhost:8080/",
          "height": 360
        }
      },
      "cell_type": "code",
      "source": [
        "print(df_A)\n",
        "\n",
        "height = df_A['heights']\n",
        "\n",
        "print('\\n\\nheight:')\n",
        "print(height)\n",
        "\n",
        "\n",
        "print('\\n\\n Type of Height')\n",
        "print(type(height))   ## You could also use print(type(_))   _ refers to latest one"
      ],
      "execution_count": 15,
      "outputs": [
        {
          "output_type": "stream",
          "text": [
            "    heights  weights\n",
            "s1    176.2     85.1\n",
            "s2    158.4     90.2\n",
            "s3    167.6     76.8\n",
            "s4    156.2     80.4\n",
            "s5    161.4     78.9\n",
            "\n",
            "\n",
            "height:\n",
            "s1    176.2\n",
            "s2    158.4\n",
            "s3    167.6\n",
            "s4    156.2\n",
            "s5    161.4\n",
            "Name: heights, dtype: float64\n",
            "\n",
            "\n",
            " Type of Height\n",
            "<class 'pandas.core.series.Series'>\n"
          ],
          "name": "stdout"
        }
      ]
    },
    {
      "metadata": {
        "id": "_JcKFslmbbpi",
        "colab_type": "text"
      },
      "cell_type": "markdown",
      "source": [
        "**Problem 2.4**\n",
        "\n",
        "Select the rows corresponding to students s1, s2 of df_A and display them."
      ]
    },
    {
      "metadata": {
        "id": "_zv21p1qbeTV",
        "colab_type": "code",
        "outputId": "d3d66732-1e54-4aef-c837-891a61919fc2",
        "colab": {
          "base_uri": "https://localhost:8080/",
          "height": 131
        }
      },
      "cell_type": "code",
      "source": [
        "df_A[:2]"
      ],
      "execution_count": 16,
      "outputs": [
        {
          "output_type": "execute_result",
          "data": {
            "text/html": [
              "<div>\n",
              "<style scoped>\n",
              "    .dataframe tbody tr th:only-of-type {\n",
              "        vertical-align: middle;\n",
              "    }\n",
              "\n",
              "    .dataframe tbody tr th {\n",
              "        vertical-align: top;\n",
              "    }\n",
              "\n",
              "    .dataframe thead th {\n",
              "        text-align: right;\n",
              "    }\n",
              "</style>\n",
              "<table border=\"1\" class=\"dataframe\">\n",
              "  <thead>\n",
              "    <tr style=\"text-align: right;\">\n",
              "      <th></th>\n",
              "      <th>heights</th>\n",
              "      <th>weights</th>\n",
              "    </tr>\n",
              "  </thead>\n",
              "  <tbody>\n",
              "    <tr>\n",
              "      <th>s1</th>\n",
              "      <td>176.2</td>\n",
              "      <td>85.1</td>\n",
              "    </tr>\n",
              "    <tr>\n",
              "      <th>s2</th>\n",
              "      <td>158.4</td>\n",
              "      <td>90.2</td>\n",
              "    </tr>\n",
              "  </tbody>\n",
              "</table>\n",
              "</div>"
            ],
            "text/plain": [
              "    heights  weights\n",
              "s1    176.2     85.1\n",
              "s2    158.4     90.2"
            ]
          },
          "metadata": {
            "tags": []
          },
          "execution_count": 16
        }
      ]
    },
    {
      "metadata": {
        "id": "W31q_xjKbvrT",
        "colab_type": "code",
        "outputId": "cf4dec57-0f8d-4259-ec62-5831f6bcf7d6",
        "colab": {
          "base_uri": "https://localhost:8080/",
          "height": 139
        }
      },
      "cell_type": "code",
      "source": [
        "print(df_A.loc['s1'])\n",
        "\n",
        "print(df_A.loc['s2'])"
      ],
      "execution_count": 17,
      "outputs": [
        {
          "output_type": "stream",
          "text": [
            "heights    176.2\n",
            "weights     85.1\n",
            "Name: s1, dtype: float64\n",
            "heights    158.4\n",
            "weights     90.2\n",
            "Name: s2, dtype: float64\n"
          ],
          "name": "stdout"
        }
      ]
    },
    {
      "metadata": {
        "id": "vKc23Au0cctS",
        "colab_type": "text"
      },
      "cell_type": "markdown",
      "source": [
        "**Problem 2.5**\n",
        "\n",
        "Select the rows corresponding to students s1, s2 and s5 of df_A in the order s2, s5, s1 and display them."
      ]
    },
    {
      "metadata": {
        "id": "6eiWYBXTci3p",
        "colab_type": "code",
        "outputId": "ec50bf47-2618-4736-cff9-9617017c8330",
        "colab": {
          "base_uri": "https://localhost:8080/",
          "height": 162
        }
      },
      "cell_type": "code",
      "source": [
        "df_A.loc[['s2', 's5', 's1']]"
      ],
      "execution_count": 18,
      "outputs": [
        {
          "output_type": "execute_result",
          "data": {
            "text/html": [
              "<div>\n",
              "<style scoped>\n",
              "    .dataframe tbody tr th:only-of-type {\n",
              "        vertical-align: middle;\n",
              "    }\n",
              "\n",
              "    .dataframe tbody tr th {\n",
              "        vertical-align: top;\n",
              "    }\n",
              "\n",
              "    .dataframe thead th {\n",
              "        text-align: right;\n",
              "    }\n",
              "</style>\n",
              "<table border=\"1\" class=\"dataframe\">\n",
              "  <thead>\n",
              "    <tr style=\"text-align: right;\">\n",
              "      <th></th>\n",
              "      <th>heights</th>\n",
              "      <th>weights</th>\n",
              "    </tr>\n",
              "  </thead>\n",
              "  <tbody>\n",
              "    <tr>\n",
              "      <th>s2</th>\n",
              "      <td>158.4</td>\n",
              "      <td>90.2</td>\n",
              "    </tr>\n",
              "    <tr>\n",
              "      <th>s5</th>\n",
              "      <td>161.4</td>\n",
              "      <td>78.9</td>\n",
              "    </tr>\n",
              "    <tr>\n",
              "      <th>s1</th>\n",
              "      <td>176.2</td>\n",
              "      <td>85.1</td>\n",
              "    </tr>\n",
              "  </tbody>\n",
              "</table>\n",
              "</div>"
            ],
            "text/plain": [
              "    heights  weights\n",
              "s2    158.4     90.2\n",
              "s5    161.4     78.9\n",
              "s1    176.2     85.1"
            ]
          },
          "metadata": {
            "tags": []
          },
          "execution_count": 18
        }
      ]
    },
    {
      "metadata": {
        "id": "YejW5bMUsklY",
        "colab_type": "code",
        "outputId": "2def19aa-405b-4a6b-9522-428e7c922e45",
        "colab": {
          "base_uri": "https://localhost:8080/",
          "height": 122
        }
      },
      "cell_type": "code",
      "source": [
        "#yet another way... Don't forget to put ',' before/after :\n",
        "print(df_A.iloc[lambda x: [1, 4, 0], : ] ,  end ='\\n\\n')\n",
        "\n",
        "#note if you wanted similar thing on columns then lambda function would have just been opposite\n",
        "#print(df_A.iloc[:, lambda x : [0,1]],  end ='\\n\\n')"
      ],
      "execution_count": 19,
      "outputs": [
        {
          "output_type": "stream",
          "text": [
            "    heights  weights\n",
            "s2    158.4     90.2\n",
            "s5    161.4     78.9\n",
            "s1    176.2     85.1\n",
            "\n"
          ],
          "name": "stdout"
        }
      ]
    },
    {
      "metadata": {
        "id": "ptWDIE7j5D_Q",
        "colab_type": "text"
      },
      "cell_type": "markdown",
      "source": [
        "**# Problem 2.6**\n",
        "\n",
        "whats the difference between loc and iloc?.\n",
        "\n",
        "\n",
        "loc gets rows (or columns) with particular labels from the index. iloc gets rows (or columns) at particular positions in the index (so it only takes integers). ix usually tries to behave like loc but falls back to behaving like iloc if a label is not present in the index."
      ]
    },
    {
      "metadata": {
        "id": "kSFemaEo0wu-",
        "colab_type": "code",
        "outputId": "96e315d8-91bf-4835-f256-fec935c072c3",
        "colab": {
          "base_uri": "https://localhost:8080/",
          "height": 139
        }
      },
      "cell_type": "code",
      "source": [
        "df_p26 = pd.DataFrame({'A':[34, 78, 54], 'B':[12, 67, 43]}, index=['r1', 'r2', 'r3'])\n",
        "\n",
        "print(df_p26.iloc[1:3])   #### taking integer index as input \n",
        " \n",
        "print(df_p26.loc['r2':'r3'])   #### taking given string index as input"
      ],
      "execution_count": 20,
      "outputs": [
        {
          "output_type": "stream",
          "text": [
            "     A   B\n",
            "r2  78  67\n",
            "r3  54  43\n",
            "     A   B\n",
            "r2  78  67\n",
            "r3  54  43\n"
          ],
          "name": "stdout"
        }
      ]
    },
    {
      "metadata": {
        "id": "CbaFI2GZ5sh-",
        "colab_type": "text"
      },
      "cell_type": "markdown",
      "source": [
        "**Problem 2.7**\n",
        "\n",
        "\n",
        "How do you add a new column 'C' to a data frame as similar to the previous one, with 3 rows"
      ]
    },
    {
      "metadata": {
        "id": "9EytxKBO54_C",
        "colab_type": "code",
        "outputId": "288dbe97-b18a-4572-dd8f-49b821793c90",
        "colab": {
          "base_uri": "https://localhost:8080/",
          "height": 162
        }
      },
      "cell_type": "code",
      "source": [
        "df_p26['C'] = [12, 98, 45]\n",
        "df_p26"
      ],
      "execution_count": 21,
      "outputs": [
        {
          "output_type": "execute_result",
          "data": {
            "text/html": [
              "<div>\n",
              "<style scoped>\n",
              "    .dataframe tbody tr th:only-of-type {\n",
              "        vertical-align: middle;\n",
              "    }\n",
              "\n",
              "    .dataframe tbody tr th {\n",
              "        vertical-align: top;\n",
              "    }\n",
              "\n",
              "    .dataframe thead th {\n",
              "        text-align: right;\n",
              "    }\n",
              "</style>\n",
              "<table border=\"1\" class=\"dataframe\">\n",
              "  <thead>\n",
              "    <tr style=\"text-align: right;\">\n",
              "      <th></th>\n",
              "      <th>A</th>\n",
              "      <th>B</th>\n",
              "      <th>C</th>\n",
              "    </tr>\n",
              "  </thead>\n",
              "  <tbody>\n",
              "    <tr>\n",
              "      <th>r1</th>\n",
              "      <td>34</td>\n",
              "      <td>12</td>\n",
              "      <td>12</td>\n",
              "    </tr>\n",
              "    <tr>\n",
              "      <th>r2</th>\n",
              "      <td>78</td>\n",
              "      <td>67</td>\n",
              "      <td>98</td>\n",
              "    </tr>\n",
              "    <tr>\n",
              "      <th>r3</th>\n",
              "      <td>54</td>\n",
              "      <td>43</td>\n",
              "      <td>45</td>\n",
              "    </tr>\n",
              "  </tbody>\n",
              "</table>\n",
              "</div>"
            ],
            "text/plain": [
              "     A   B   C\n",
              "r1  34  12  12\n",
              "r2  78  67  98\n",
              "r3  54  43  45"
            ]
          },
          "metadata": {
            "tags": []
          },
          "execution_count": 21
        }
      ]
    },
    {
      "metadata": {
        "id": "rXSEMzSL6MIj",
        "colab_type": "text"
      },
      "cell_type": "markdown",
      "source": [
        "**Problem 2.8**\n",
        "\n",
        "How do you delete a column from a data fram?"
      ]
    },
    {
      "metadata": {
        "id": "9hbHqRAF6R-n",
        "colab_type": "code",
        "outputId": "f9361a57-3138-400c-d516-ef26ae15f7d3",
        "colab": {
          "base_uri": "https://localhost:8080/",
          "height": 162
        }
      },
      "cell_type": "code",
      "source": [
        "del df_p26['B']\n",
        "df_p26"
      ],
      "execution_count": 22,
      "outputs": [
        {
          "output_type": "execute_result",
          "data": {
            "text/html": [
              "<div>\n",
              "<style scoped>\n",
              "    .dataframe tbody tr th:only-of-type {\n",
              "        vertical-align: middle;\n",
              "    }\n",
              "\n",
              "    .dataframe tbody tr th {\n",
              "        vertical-align: top;\n",
              "    }\n",
              "\n",
              "    .dataframe thead th {\n",
              "        text-align: right;\n",
              "    }\n",
              "</style>\n",
              "<table border=\"1\" class=\"dataframe\">\n",
              "  <thead>\n",
              "    <tr style=\"text-align: right;\">\n",
              "      <th></th>\n",
              "      <th>A</th>\n",
              "      <th>C</th>\n",
              "    </tr>\n",
              "  </thead>\n",
              "  <tbody>\n",
              "    <tr>\n",
              "      <th>r1</th>\n",
              "      <td>34</td>\n",
              "      <td>12</td>\n",
              "    </tr>\n",
              "    <tr>\n",
              "      <th>r2</th>\n",
              "      <td>78</td>\n",
              "      <td>98</td>\n",
              "    </tr>\n",
              "    <tr>\n",
              "      <th>r3</th>\n",
              "      <td>54</td>\n",
              "      <td>45</td>\n",
              "    </tr>\n",
              "  </tbody>\n",
              "</table>\n",
              "</div>"
            ],
            "text/plain": [
              "     A   C\n",
              "r1  34  12\n",
              "r2  78  98\n",
              "r3  54  45"
            ]
          },
          "metadata": {
            "tags": []
          },
          "execution_count": 22
        }
      ]
    },
    {
      "metadata": {
        "id": "e-do3ytA7dcM",
        "colab_type": "text"
      },
      "cell_type": "markdown",
      "source": [
        "# Knowing a Series\n",
        "\n",
        "It is possible to understand a Series better by using ***describe*** method.\n",
        "\n",
        "The method provides details like mean, std, etc. about a series."
      ]
    },
    {
      "metadata": {
        "id": "8aw0OzGn7qKh",
        "colab_type": "code",
        "outputId": "8fb79df4-29c1-42e5-a70d-b1e4929236a7",
        "colab": {
          "base_uri": "https://localhost:8080/",
          "height": 170
        }
      },
      "cell_type": "code",
      "source": [
        "temp = pd.Series(28 + 10*np.random.randn(10))\n",
        "\n",
        "print(temp.describe())"
      ],
      "execution_count": 23,
      "outputs": [
        {
          "output_type": "stream",
          "text": [
            "count    10.000000\n",
            "mean     24.876232\n",
            "std      10.577208\n",
            "min       9.351536\n",
            "25%      16.645921\n",
            "50%      27.998071\n",
            "75%      31.538179\n",
            "max      41.967579\n",
            "dtype: float64\n"
          ],
          "name": "stdout"
        }
      ]
    },
    {
      "metadata": {
        "id": "6xe4amUS8I5m",
        "colab_type": "text"
      },
      "cell_type": "markdown",
      "source": [
        "# Knowing a DataFrame\n",
        "\n",
        "Two methods majorly ***info*** and ***describe*** can be used to know about the data, present in a data frame.\n",
        "\n",
        "- **describe** method by default provides details of **only** ***numeric*** fields.\n",
        "- You can use ***include*** argument to know about other columns.\n",
        "\n"
      ]
    },
    {
      "metadata": {
        "id": "ccBltcAT8QNK",
        "colab_type": "code",
        "outputId": "f69d50ba-c799-4ac4-9d31-1dab7359eb5c",
        "colab": {
          "base_uri": "https://localhost:8080/",
          "height": 561
        }
      },
      "cell_type": "code",
      "source": [
        "df = pd.DataFrame({\n",
        "    'temp':pd.Series(28 + 10*np.random.randn(10)), \n",
        "    'rain':pd.Series(100 + 50*np.random.randn(10)),\n",
        "    'location':list('AAAAABBBBB')\n",
        "})\n",
        "\n",
        "print(df.info(), end= \"\\n\\n\")\n",
        "\n",
        "print(df.describe(), end='\\n\\n')\n",
        "\n",
        "print(df.describe(include=['object', 'float64']))  ### object is used to include location"
      ],
      "execution_count": 24,
      "outputs": [
        {
          "output_type": "stream",
          "text": [
            "<class 'pandas.core.frame.DataFrame'>\n",
            "RangeIndex: 10 entries, 0 to 9\n",
            "Data columns (total 3 columns):\n",
            "location    10 non-null object\n",
            "rain        10 non-null float64\n",
            "temp        10 non-null float64\n",
            "dtypes: float64(2), object(1)\n",
            "memory usage: 320.0+ bytes\n",
            "None\n",
            "\n",
            "             rain       temp\n",
            "count   10.000000  10.000000\n",
            "mean   102.854896  31.702492\n",
            "std     55.294406  12.564743\n",
            "min     27.336962   9.551527\n",
            "25%     60.152576  24.230637\n",
            "50%    104.752898  31.185500\n",
            "75%    157.992658  39.212608\n",
            "max    162.325627  49.829029\n",
            "\n",
            "       location        rain       temp\n",
            "count        10   10.000000  10.000000\n",
            "unique        2         NaN        NaN\n",
            "top           B         NaN        NaN\n",
            "freq          5         NaN        NaN\n",
            "mean        NaN  102.854896  31.702492\n",
            "std         NaN   55.294406  12.564743\n",
            "min         NaN   27.336962   9.551527\n",
            "25%         NaN   60.152576  24.230637\n",
            "50%         NaN  104.752898  31.185500\n",
            "75%         NaN  157.992658  39.212608\n",
            "max         NaN  162.325627  49.829029\n"
          ],
          "name": "stdout"
        }
      ]
    },
    {
      "metadata": {
        "id": "rNN1p_6G-R4J",
        "colab_type": "text"
      },
      "cell_type": "markdown",
      "source": [
        "# Pandas I/O\n",
        "\n",
        "- pandas.read_csv()                   --> mainly path in  qoutes, delimitter\n",
        "- pandas.read_excel()\n",
        "- pandas.read_sql_table\n",
        "- pandas.read_json()\n",
        "- pandas.DataFrame.to_csv()     --> \n",
        "- pandas.DataFrame.to_excel()\n"
      ]
    },
    {
      "metadata": {
        "id": "VXOMmKkAD_i4",
        "colab_type": "code",
        "outputId": "3cf21a98-5059-4a8e-9c0f-bd57b23f4f24",
        "colab": {
          "base_uri": "https://localhost:8080/",
          "height": 105
        }
      },
      "cell_type": "code",
      "source": [
        "# You can always put ?pd.read_csv enter to get what the function requires\n",
        "\n",
        "df_IO = pd.DataFrame({'A': pd.Series([10,20,30]), 'B':pd.Series([90,100,80])})\n",
        "print(df_IO)\n",
        "\n",
        "df_IO.to_csv(\"app.csv\")"
      ],
      "execution_count": 25,
      "outputs": [
        {
          "output_type": "stream",
          "text": [
            "    A    B\n",
            "0  10   90\n",
            "1  20  100\n",
            "2  30   80\n"
          ],
          "name": "stdout"
        }
      ]
    },
    {
      "metadata": {
        "id": "OmHqJ1csErJf",
        "colab_type": "text"
      },
      "cell_type": "markdown",
      "source": [
        "# How to read csv file from an url"
      ]
    },
    {
      "metadata": {
        "id": "KUZCzgcuGxIu",
        "colab_type": "code",
        "outputId": "8ad21415-f9c6-44e1-dda4-e97d3e03e4ed",
        "colab": {
          "base_uri": "https://localhost:8080/",
          "height": 379
        }
      },
      "cell_type": "code",
      "source": [
        "import urllib.request as ur\n",
        "\n",
        "file = ur.urlopen(ur.Request(\"https://raw.githubusercontent.com/uiuc-cse/data-fa14/gh-pages/data/iris.csv\"))\n",
        "\n",
        "data = pd.read_csv(file, sep = ',' , header  = None, decimal= '.', names = ['sepal_length', 'sepal_width', 'petal_length', 'petal_width', 'target'])\n",
        "\n",
        "data.head(10)\n"
      ],
      "execution_count": 26,
      "outputs": [
        {
          "output_type": "execute_result",
          "data": {
            "text/html": [
              "<div>\n",
              "<style scoped>\n",
              "    .dataframe tbody tr th:only-of-type {\n",
              "        vertical-align: middle;\n",
              "    }\n",
              "\n",
              "    .dataframe tbody tr th {\n",
              "        vertical-align: top;\n",
              "    }\n",
              "\n",
              "    .dataframe thead th {\n",
              "        text-align: right;\n",
              "    }\n",
              "</style>\n",
              "<table border=\"1\" class=\"dataframe\">\n",
              "  <thead>\n",
              "    <tr style=\"text-align: right;\">\n",
              "      <th></th>\n",
              "      <th>sepal_length</th>\n",
              "      <th>sepal_width</th>\n",
              "      <th>petal_length</th>\n",
              "      <th>petal_width</th>\n",
              "      <th>target</th>\n",
              "    </tr>\n",
              "  </thead>\n",
              "  <tbody>\n",
              "    <tr>\n",
              "      <th>0</th>\n",
              "      <td>sepal_length</td>\n",
              "      <td>sepal_width</td>\n",
              "      <td>petal_length</td>\n",
              "      <td>petal_width</td>\n",
              "      <td>species</td>\n",
              "    </tr>\n",
              "    <tr>\n",
              "      <th>1</th>\n",
              "      <td>5.1</td>\n",
              "      <td>3.5</td>\n",
              "      <td>1.4</td>\n",
              "      <td>0.2</td>\n",
              "      <td>setosa</td>\n",
              "    </tr>\n",
              "    <tr>\n",
              "      <th>2</th>\n",
              "      <td>4.9</td>\n",
              "      <td>3</td>\n",
              "      <td>1.4</td>\n",
              "      <td>0.2</td>\n",
              "      <td>setosa</td>\n",
              "    </tr>\n",
              "    <tr>\n",
              "      <th>3</th>\n",
              "      <td>4.7</td>\n",
              "      <td>3.2</td>\n",
              "      <td>1.3</td>\n",
              "      <td>0.2</td>\n",
              "      <td>setosa</td>\n",
              "    </tr>\n",
              "    <tr>\n",
              "      <th>4</th>\n",
              "      <td>4.6</td>\n",
              "      <td>3.1</td>\n",
              "      <td>1.5</td>\n",
              "      <td>0.2</td>\n",
              "      <td>setosa</td>\n",
              "    </tr>\n",
              "    <tr>\n",
              "      <th>5</th>\n",
              "      <td>5</td>\n",
              "      <td>3.6</td>\n",
              "      <td>1.4</td>\n",
              "      <td>0.2</td>\n",
              "      <td>setosa</td>\n",
              "    </tr>\n",
              "    <tr>\n",
              "      <th>6</th>\n",
              "      <td>5.4</td>\n",
              "      <td>3.9</td>\n",
              "      <td>1.7</td>\n",
              "      <td>0.4</td>\n",
              "      <td>setosa</td>\n",
              "    </tr>\n",
              "    <tr>\n",
              "      <th>7</th>\n",
              "      <td>4.6</td>\n",
              "      <td>3.4</td>\n",
              "      <td>1.4</td>\n",
              "      <td>0.3</td>\n",
              "      <td>setosa</td>\n",
              "    </tr>\n",
              "    <tr>\n",
              "      <th>8</th>\n",
              "      <td>5</td>\n",
              "      <td>3.4</td>\n",
              "      <td>1.5</td>\n",
              "      <td>0.2</td>\n",
              "      <td>setosa</td>\n",
              "    </tr>\n",
              "    <tr>\n",
              "      <th>9</th>\n",
              "      <td>4.4</td>\n",
              "      <td>2.9</td>\n",
              "      <td>1.4</td>\n",
              "      <td>0.2</td>\n",
              "      <td>setosa</td>\n",
              "    </tr>\n",
              "  </tbody>\n",
              "</table>\n",
              "</div>"
            ],
            "text/plain": [
              "   sepal_length  sepal_width  petal_length  petal_width   target\n",
              "0  sepal_length  sepal_width  petal_length  petal_width  species\n",
              "1           5.1          3.5           1.4          0.2   setosa\n",
              "2           4.9            3           1.4          0.2   setosa\n",
              "3           4.7          3.2           1.3          0.2   setosa\n",
              "4           4.6          3.1           1.5          0.2   setosa\n",
              "5             5          3.6           1.4          0.2   setosa\n",
              "6           5.4          3.9           1.7          0.4   setosa\n",
              "7           4.6          3.4           1.4          0.3   setosa\n",
              "8             5          3.4           1.5          0.2   setosa\n",
              "9           4.4          2.9           1.4          0.2   setosa"
            ]
          },
          "metadata": {
            "tags": []
          },
          "execution_count": 26
        }
      ]
    },
    {
      "metadata": {
        "id": "sJHgOoi0KGGk",
        "colab_type": "text"
      },
      "cell_type": "markdown",
      "source": [
        "To read from mysql database you can use below commands. Since I don't have mysql database loaded here just showing the code snippet required.\n",
        "\n",
        "`from sqlalchemy import create_engine`\n",
        "\n",
        "`engine = create_engine('mysql+localhost:8888/table')`\n",
        "\n",
        "`df = pd.read_sql_table('Table:', engine)`\n",
        "`df`\n",
        "\n"
      ]
    },
    {
      "metadata": {
        "id": "uj0qCHjwK5yL",
        "colab_type": "text"
      },
      "cell_type": "markdown",
      "source": [
        "# **How to deal with large datasets in smaller chunks**\n",
        "\n",
        "- Set the **iterator** to True in pandas methods\n",
        "- use the **get_chunk()** to receive data."
      ]
    },
    {
      "metadata": {
        "id": "e8Y5hS79PhiE",
        "colab_type": "code",
        "outputId": "fa2b9dd3-7968-43fb-ff91-307484cb4c92",
        "colab": {
          "base_uri": "https://localhost:8080/",
          "height": 131
        }
      },
      "cell_type": "code",
      "source": [
        "import urllib.request as ur\n",
        "\n",
        "file = ur.urlopen(ur.Request(\"https://raw.githubusercontent.com/uiuc-cse/data-fa14/gh-pages/data/iris.csv\"))\n",
        "\n",
        "data_iterator = pd.read_csv(file, sep = ',' , header  = None, decimal= '.', names = ['sepal_length', 'sepal_width', 'petal_length', 'petal_width', 'target'], \n",
        "                            iterator = True)\n",
        "\n",
        "chunk = [data_iterator.get_chunk(100), data_iterator.get_chunk(5), data_iterator.get_chunk(2)]\n",
        "\n",
        "chunk[2] "
      ],
      "execution_count": 27,
      "outputs": [
        {
          "output_type": "execute_result",
          "data": {
            "text/html": [
              "<div>\n",
              "<style scoped>\n",
              "    .dataframe tbody tr th:only-of-type {\n",
              "        vertical-align: middle;\n",
              "    }\n",
              "\n",
              "    .dataframe tbody tr th {\n",
              "        vertical-align: top;\n",
              "    }\n",
              "\n",
              "    .dataframe thead th {\n",
              "        text-align: right;\n",
              "    }\n",
              "</style>\n",
              "<table border=\"1\" class=\"dataframe\">\n",
              "  <thead>\n",
              "    <tr style=\"text-align: right;\">\n",
              "      <th></th>\n",
              "      <th>sepal_length</th>\n",
              "      <th>sepal_width</th>\n",
              "      <th>petal_length</th>\n",
              "      <th>petal_width</th>\n",
              "      <th>target</th>\n",
              "    </tr>\n",
              "  </thead>\n",
              "  <tbody>\n",
              "    <tr>\n",
              "      <th>105</th>\n",
              "      <td>6.5</td>\n",
              "      <td>3</td>\n",
              "      <td>5.8</td>\n",
              "      <td>2.2</td>\n",
              "      <td>virginica</td>\n",
              "    </tr>\n",
              "    <tr>\n",
              "      <th>106</th>\n",
              "      <td>7.6</td>\n",
              "      <td>3</td>\n",
              "      <td>6.6</td>\n",
              "      <td>2.1</td>\n",
              "      <td>virginica</td>\n",
              "    </tr>\n",
              "  </tbody>\n",
              "</table>\n",
              "</div>"
            ],
            "text/plain": [
              "     sepal_length  sepal_width  petal_length  petal_width     target\n",
              "105           6.5            3           5.8          2.2  virginica\n",
              "106           7.6            3           6.6          2.1  virginica"
            ]
          },
          "metadata": {
            "tags": []
          },
          "execution_count": 27
        }
      ]
    },
    {
      "metadata": {
        "id": "velo7IvKQwEw",
        "colab_type": "text"
      },
      "cell_type": "markdown",
      "source": [
        "**Reading Data from Json**\n",
        "\n",
        "pandas provides the utilities read_json and to_json to deal with JSON strings or files."
      ]
    },
    {
      "metadata": {
        "id": "xCgDgSQGQ_EW",
        "colab_type": "code",
        "outputId": "84e7177f-099d-4349-a459-7a1cbd848fa5",
        "colab": {
          "base_uri": "https://localhost:8080/",
          "height": 282
        }
      },
      "cell_type": "code",
      "source": [
        "import urllib.request as ur\n",
        "\n",
        "file = ur.urlopen(ur.Request(\"https://raw.githubusercontent.com/whatsupabhijit/py_rambling/master/pandas/contact.json\"))\n",
        "\n",
        "##\n",
        "## If you don't want to take from url and simply declare in your code\n",
        "## then import json and use json.dumps(give your json variable name here)\n",
        "#\n",
        "# import json\n",
        "# person = [your json goes here]\n",
        "# person_json_str = json.dumps(person)\n",
        "# df_json = pd.read_json(person_json_str)\n",
        "#\n",
        "\n",
        "df_json = pd.read_json(file)\n",
        "\n",
        "df_json.head(1)"
      ],
      "execution_count": 28,
      "outputs": [
        {
          "output_type": "execute_result",
          "data": {
            "text/html": [
              "<div>\n",
              "<style scoped>\n",
              "    .dataframe tbody tr th:only-of-type {\n",
              "        vertical-align: middle;\n",
              "    }\n",
              "\n",
              "    .dataframe tbody tr th {\n",
              "        vertical-align: top;\n",
              "    }\n",
              "\n",
              "    .dataframe thead th {\n",
              "        text-align: right;\n",
              "    }\n",
              "</style>\n",
              "<table border=\"1\" class=\"dataframe\">\n",
              "  <thead>\n",
              "    <tr style=\"text-align: right;\">\n",
              "      <th></th>\n",
              "      <th>_id</th>\n",
              "      <th>about</th>\n",
              "      <th>address</th>\n",
              "      <th>age</th>\n",
              "      <th>balance</th>\n",
              "      <th>company</th>\n",
              "      <th>email</th>\n",
              "      <th>eyeColor</th>\n",
              "      <th>favoriteFruit</th>\n",
              "      <th>friends</th>\n",
              "      <th>...</th>\n",
              "      <th>guid</th>\n",
              "      <th>index</th>\n",
              "      <th>isActive</th>\n",
              "      <th>latitude</th>\n",
              "      <th>longitude</th>\n",
              "      <th>name</th>\n",
              "      <th>phone</th>\n",
              "      <th>picture</th>\n",
              "      <th>registered</th>\n",
              "      <th>tags</th>\n",
              "    </tr>\n",
              "  </thead>\n",
              "  <tbody>\n",
              "    <tr>\n",
              "      <th>0</th>\n",
              "      <td>5bf8e6475fc62129cdf61a9a</td>\n",
              "      <td>Voluptate fugiat ut nisi aute adipisicing volu...</td>\n",
              "      <td>526 Oliver Street, Edgar, Delaware, 6455</td>\n",
              "      <td>32</td>\n",
              "      <td>$3,010.22</td>\n",
              "      <td>ENORMO</td>\n",
              "      <td>hodgesrivera@enormo.com</td>\n",
              "      <td>green</td>\n",
              "      <td>strawberry</td>\n",
              "      <td>[{'id': 0, 'name': 'Berta Hays'}, {'id': 1, 'n...</td>\n",
              "      <td>...</td>\n",
              "      <td>90ae433a-6ad4-438d-a6c7-d8668d9df7ef</td>\n",
              "      <td>0</td>\n",
              "      <td>True</td>\n",
              "      <td>38.115627</td>\n",
              "      <td>-21.175877</td>\n",
              "      <td>Hodges Rivera</td>\n",
              "      <td>+1 (933) 471-2714</td>\n",
              "      <td>http://placehold.it/32x32</td>\n",
              "      <td>2018-01-30T09:25:45 -08:00</td>\n",
              "      <td>[esse, minim, reprehenderit, ullamco, consequa...</td>\n",
              "    </tr>\n",
              "  </tbody>\n",
              "</table>\n",
              "<p>1 rows × 22 columns</p>\n",
              "</div>"
            ],
            "text/plain": [
              "                        _id  \\\n",
              "0  5bf8e6475fc62129cdf61a9a   \n",
              "\n",
              "                                               about  \\\n",
              "0  Voluptate fugiat ut nisi aute adipisicing volu...   \n",
              "\n",
              "                                    address  age    balance company  \\\n",
              "0  526 Oliver Street, Edgar, Delaware, 6455   32  $3,010.22  ENORMO   \n",
              "\n",
              "                     email eyeColor favoriteFruit  \\\n",
              "0  hodgesrivera@enormo.com    green    strawberry   \n",
              "\n",
              "                                             friends  \\\n",
              "0  [{'id': 0, 'name': 'Berta Hays'}, {'id': 1, 'n...   \n",
              "\n",
              "                         ...                          \\\n",
              "0                        ...                           \n",
              "\n",
              "                                   guid index isActive   latitude  longitude  \\\n",
              "0  90ae433a-6ad4-438d-a6c7-d8668d9df7ef     0     True  38.115627 -21.175877   \n",
              "\n",
              "            name              phone                    picture  \\\n",
              "0  Hodges Rivera  +1 (933) 471-2714  http://placehold.it/32x32   \n",
              "\n",
              "                   registered  \\\n",
              "0  2018-01-30T09:25:45 -08:00   \n",
              "\n",
              "                                                tags  \n",
              "0  [esse, minim, reprehenderit, ullamco, consequa...  \n",
              "\n",
              "[1 rows x 22 columns]"
            ]
          },
          "metadata": {
            "tags": []
          },
          "execution_count": 28
        }
      ]
    },
    {
      "metadata": {
        "id": "avN2JqpJVSoO",
        "colab_type": "code",
        "colab": {}
      },
      "cell_type": "code",
      "source": [
        "#?pd.DataFrame.to_csv\n",
        "?pd.read_csv"
      ],
      "execution_count": 0,
      "outputs": []
    },
    {
      "metadata": {
        "id": "i4tKTogSUCmt",
        "colab_type": "text"
      },
      "cell_type": "markdown",
      "source": [
        "# Indexing\n",
        "\n",
        "Till now have seen very basic indexing of rows or columns. But pandas provide more. Letss see what we can index and how."
      ]
    },
    {
      "metadata": {
        "id": "17zhQ8yCYHYG",
        "colab_type": "text"
      },
      "cell_type": "markdown",
      "source": [
        "# Single Level Indexing\n",
        "\n",
        "till now we have seen when data frame object was created we passed one index ***paramter***. \n",
        "We can still do that. \n",
        "\n",
        "But DataFrame also has index as an attribute. Once dataframe is created you can set the index ***attribute*** later."
      ]
    },
    {
      "metadata": {
        "id": "QvNBw3OsYrid",
        "colab_type": "code",
        "outputId": "f10be06a-b562-44fe-ef6e-426635184680",
        "colab": {
          "base_uri": "https://localhost:8080/",
          "height": 224
        }
      },
      "cell_type": "code",
      "source": [
        "row = 5\n",
        "col = 3\n",
        "\n",
        "df = pd.DataFrame(np.random.rand(row,col))\n",
        "\n",
        "df.index = [ 'row#' + str(i) for i in range(1, row+1) ]\n",
        "\n",
        "df"
      ],
      "execution_count": 30,
      "outputs": [
        {
          "output_type": "execute_result",
          "data": {
            "text/html": [
              "<div>\n",
              "<style scoped>\n",
              "    .dataframe tbody tr th:only-of-type {\n",
              "        vertical-align: middle;\n",
              "    }\n",
              "\n",
              "    .dataframe tbody tr th {\n",
              "        vertical-align: top;\n",
              "    }\n",
              "\n",
              "    .dataframe thead th {\n",
              "        text-align: right;\n",
              "    }\n",
              "</style>\n",
              "<table border=\"1\" class=\"dataframe\">\n",
              "  <thead>\n",
              "    <tr style=\"text-align: right;\">\n",
              "      <th></th>\n",
              "      <th>0</th>\n",
              "      <th>1</th>\n",
              "      <th>2</th>\n",
              "    </tr>\n",
              "  </thead>\n",
              "  <tbody>\n",
              "    <tr>\n",
              "      <th>row#1</th>\n",
              "      <td>0.883461</td>\n",
              "      <td>0.405152</td>\n",
              "      <td>0.342498</td>\n",
              "    </tr>\n",
              "    <tr>\n",
              "      <th>row#2</th>\n",
              "      <td>0.555348</td>\n",
              "      <td>0.873402</td>\n",
              "      <td>0.543226</td>\n",
              "    </tr>\n",
              "    <tr>\n",
              "      <th>row#3</th>\n",
              "      <td>0.430184</td>\n",
              "      <td>0.806405</td>\n",
              "      <td>0.197427</td>\n",
              "    </tr>\n",
              "    <tr>\n",
              "      <th>row#4</th>\n",
              "      <td>0.028415</td>\n",
              "      <td>0.645227</td>\n",
              "      <td>0.234589</td>\n",
              "    </tr>\n",
              "    <tr>\n",
              "      <th>row#5</th>\n",
              "      <td>0.115265</td>\n",
              "      <td>0.628677</td>\n",
              "      <td>0.117111</td>\n",
              "    </tr>\n",
              "  </tbody>\n",
              "</table>\n",
              "</div>"
            ],
            "text/plain": [
              "              0         1         2\n",
              "row#1  0.883461  0.405152  0.342498\n",
              "row#2  0.555348  0.873402  0.543226\n",
              "row#3  0.430184  0.806405  0.197427\n",
              "row#4  0.028415  0.645227  0.234589\n",
              "row#5  0.115265  0.628677  0.117111"
            ]
          },
          "metadata": {
            "tags": []
          },
          "execution_count": 30
        }
      ]
    },
    {
      "metadata": {
        "id": "ArvjCQDeeH61",
        "colab_type": "text"
      },
      "cell_type": "markdown",
      "source": [
        "# Date Level Indexing\n",
        "\n",
        "How to create a date range from any day of specified perio and freequency\n",
        "\n",
        "- **date_range**\n",
        "- **to_datetime**\n",
        "\n",
        "More at [here](http://pandas.pydata.org/pandas-docs/stable/timeseries.html)"
      ]
    },
    {
      "metadata": {
        "id": "3Ym8CwEteUpc",
        "colab_type": "code",
        "outputId": "6721a421-e2a8-4e5f-dad5-35ee56292021",
        "colab": {
          "base_uri": "https://localhost:8080/",
          "height": 207
        }
      },
      "cell_type": "code",
      "source": [
        "\n",
        "print(\"These are the 10 days\" , pd.date_range('1/1/2018', periods=10, freq='D'))\n",
        "print(\"These are the 5 months\" , pd.date_range('1/1/2018', periods=5, freq='M'))\n",
        "print(\"These are the 3 years\" , pd.date_range('1/1/2018', periods=3, freq='Y'))\n",
        "print(\"These are the 3 weeks\" , pd.date_range('1/1/2018', periods=3, freq='W'))\n",
        "print(\"These are the 4 Business Quarters\" , pd.date_range('1/1/2018', periods=4, freq='BQ'))"
      ],
      "execution_count": 31,
      "outputs": [
        {
          "output_type": "stream",
          "text": [
            "These are the 10 days DatetimeIndex(['2018-01-01', '2018-01-02', '2018-01-03', '2018-01-04',\n",
            "               '2018-01-05', '2018-01-06', '2018-01-07', '2018-01-08',\n",
            "               '2018-01-09', '2018-01-10'],\n",
            "              dtype='datetime64[ns]', freq='D')\n",
            "These are the 5 months DatetimeIndex(['2018-01-31', '2018-02-28', '2018-03-31', '2018-04-30',\n",
            "               '2018-05-31'],\n",
            "              dtype='datetime64[ns]', freq='M')\n",
            "These are the 3 years DatetimeIndex(['2018-12-31', '2019-12-31', '2020-12-31'], dtype='datetime64[ns]', freq='A-DEC')\n",
            "These are the 3 weeks DatetimeIndex(['2018-01-07', '2018-01-14', '2018-01-21'], dtype='datetime64[ns]', freq='W-SUN')\n",
            "These are the 4 Business Quarters DatetimeIndex(['2018-03-30', '2018-06-29', '2018-09-28', '2018-12-31'], dtype='datetime64[ns]', freq='BQ-DEC')\n"
          ],
          "name": "stdout"
        }
      ]
    },
    {
      "metadata": {
        "id": "B1kUBUiuglv9",
        "colab_type": "code",
        "outputId": "c0af4e9c-8f23-4b03-f3ec-e7285731e809",
        "colab": {
          "base_uri": "https://localhost:8080/",
          "height": 139
        }
      },
      "cell_type": "code",
      "source": [
        "#Date values with formatting\n",
        "\n",
        "print(pd.to_datetime(['20180310', '20181214', 'stringnotindateformat'], format='%Y%m%d', errors='coerce'), end = '\\n\\n') # NaT - Not a Time\n",
        "\n",
        "print(pd.to_datetime(pd.Series(['Jul 31, 2009', '2010-01-10', None])))"
      ],
      "execution_count": 32,
      "outputs": [
        {
          "output_type": "stream",
          "text": [
            "DatetimeIndex(['2018-03-10', '2018-12-14', 'NaT'], dtype='datetime64[ns]', freq=None)\n",
            "\n",
            "0   2009-07-31\n",
            "1   2010-01-10\n",
            "2          NaT\n",
            "dtype: datetime64[ns]\n"
          ],
          "name": "stdout"
        }
      ]
    },
    {
      "metadata": {
        "id": "Lbz0n5Kqhdu8",
        "colab_type": "text"
      },
      "cell_type": "markdown",
      "source": [
        "**All is fine but how is it related to DataFrame**\n"
      ]
    },
    {
      "metadata": {
        "id": "9KcDSQr7hiec",
        "colab_type": "code",
        "outputId": "5e5d9185-3341-4bb7-fe12-7e30e894715b",
        "colab": {
          "base_uri": "https://localhost:8080/",
          "height": 88
        }
      },
      "cell_type": "code",
      "source": [
        "df_index = pd.DataFrame({'year': [2014, 2015], 'month': [7,2], 'day': [28,16]})\n",
        "\n",
        "pd.to_datetime(df_index)"
      ],
      "execution_count": 33,
      "outputs": [
        {
          "output_type": "execute_result",
          "data": {
            "text/plain": [
              "0   2014-07-28\n",
              "1   2015-02-16\n",
              "dtype: datetime64[ns]"
            ]
          },
          "metadata": {
            "tags": []
          },
          "execution_count": 33
        }
      ]
    },
    {
      "metadata": {
        "id": "OWguKhtKfZyg",
        "colab_type": "code",
        "colab": {}
      },
      "cell_type": "code",
      "source": [
        "?pd.date_range"
      ],
      "execution_count": 0,
      "outputs": []
    },
    {
      "metadata": {
        "id": "rwnqJr9XiDr6",
        "colab_type": "text"
      },
      "cell_type": "markdown",
      "source": [
        "# Multi Level Indexing / Hierarchical indexing\n",
        "\n",
        "We have seen single level indexing. Now we will see hierarchical indexing.\n",
        "\n",
        "To deal with this we need to create Multi Level object.\n",
        "\n",
        "\n"
      ]
    },
    {
      "metadata": {
        "id": "CFoYTms9ifRv",
        "colab_type": "code",
        "outputId": "cbd66708-c474-45d8-d683-1e4b7909765f",
        "colab": {
          "base_uri": "https://localhost:8080/",
          "height": 156
        }
      },
      "cell_type": "code",
      "source": [
        "lists = [['Abhijit', 'Abhijit',   'Abhijit', 'Joyee', 'Joyee'],\n",
        "         ['won',      'lost',   'won',     'lost',    'won']]\n",
        "\n",
        "\n",
        "m_index = pd.MultiIndex.from_arrays(lists, names = ['name' , 'game'])\n",
        "\n",
        "m_index\n",
        "\n",
        "#Now you can use this multi level index in your Series/DataFrame\n",
        "\n",
        "m_series = pd.Series(np.random.randn(5)*100 % 100, index=m_index)\n",
        "m_series"
      ],
      "execution_count": 35,
      "outputs": [
        {
          "output_type": "execute_result",
          "data": {
            "text/plain": [
              "name     game\n",
              "Abhijit  won     76.117854\n",
              "         lost    95.722863\n",
              "         won     80.260210\n",
              "Joyee    lost    65.185428\n",
              "         won     90.064270\n",
              "dtype: float64"
            ]
          },
          "metadata": {
            "tags": []
          },
          "execution_count": 35
        }
      ]
    },
    {
      "metadata": {
        "id": "_xuo25ImmJYt",
        "colab_type": "code",
        "outputId": "4388b9b6-638b-4272-e0fc-c56cfffc7eda",
        "colab": {
          "base_uri": "https://localhost:8080/",
          "height": 122
        }
      },
      "cell_type": "code",
      "source": [
        "m_series['Abhijit']"
      ],
      "execution_count": 36,
      "outputs": [
        {
          "output_type": "execute_result",
          "data": {
            "text/plain": [
              "game\n",
              "won     76.117854\n",
              "lost    95.722863\n",
              "won     80.260210\n",
              "dtype: float64"
            ]
          },
          "metadata": {
            "tags": []
          },
          "execution_count": 36
        }
      ]
    },
    {
      "metadata": {
        "id": "-6QxL2zcmS7c",
        "colab_type": "code",
        "outputId": "7a5990cd-c474-40e8-e4eb-9394feb5589c",
        "colab": {
          "base_uri": "https://localhost:8080/",
          "height": 88
        }
      },
      "cell_type": "code",
      "source": [
        "m_series['Abhijit','won']"
      ],
      "execution_count": 37,
      "outputs": [
        {
          "output_type": "execute_result",
          "data": {
            "text/plain": [
              "(Abhijit, won)    76.117854\n",
              "(Abhijit, won)    80.260210\n",
              "dtype: float64"
            ]
          },
          "metadata": {
            "tags": []
          },
          "execution_count": 37
        }
      ]
    },
    {
      "metadata": {
        "id": "3aBjAafeqp3f",
        "colab_type": "text"
      },
      "cell_type": "markdown",
      "source": [
        "**Indexing Summary **\n",
        "\n",
        "1. Create an index named dates, representing a range of dates starting from 1-Sep-2017 to 15-Sep-2017.\n",
        "\n",
        "2. Convert the following list of date strings into datetime objects. Capture the result in search_dates\n",
        "\n",
        "                    datelist = ['14-Sep-2017', '9-Sep-2017']\n",
        "\n",
        "3. Filter those index dates from dates which match dates in search_dates. Display the filtered dates.  \n",
        "\n",
        "     Hint: use isin method associated with DatetimeIndex objects.\n",
        "     \n",
        "\n",
        "4. Add 1 hours 2 Days to the filtered days and display it\n",
        "\n",
        "\n",
        "5. Create a multi index named mi_index of two levels, represented in the below array arraylist. Display levels of mi_index.\n",
        "\n",
        "                      `arraylist = [['classA'] * 5 + ['classB'] * 5, ['s1', 's2', 's3','s4', 's5'] * 2]`"
      ]
    },
    {
      "metadata": {
        "id": "ITBwAuRCrQJx",
        "colab_type": "code",
        "outputId": "5432c250-617a-49a4-d884-8ca90f042d1a",
        "colab": {
          "base_uri": "https://localhost:8080/",
          "height": 258
        }
      },
      "cell_type": "code",
      "source": [
        "#1\n",
        "dates = pd.date_range('9/1/2017', periods=15, freq = 'D')\n",
        "print(dates, end='\\n\\n')\n",
        "\n",
        "#2\n",
        "datelist = ['14-Sep-2017', '9-Sep-2017']\n",
        "search_dates = pd.to_datetime(datelist)\n",
        "print(search_dates, end= '\\n\\n')\n",
        "\n",
        "\n",
        "#3\n",
        "filtered_dates_bool = dates.isin(search_dates)\n",
        "#print (filtered_dates_bool, end='\\n\\n')\n",
        "\n",
        "filtered_dates = dates[filtered_dates_bool]\n",
        "print (filtered_dates, end='\\n\\n')\n",
        "\n",
        "#4\n",
        "print(filtered_dates + pd.Timedelta('1 days 2 hours'), end='\\n\\n')\n",
        "\n",
        "#5\n",
        "arraylist = [['classA'] * 5 + ['classB'] * 5, ['s1', 's2', 's3','s4', 's5'] * 2]\n",
        "mi_index = pd.MultiIndex.from_arrays(arraylist)\n",
        "print(mi_index.levels)"
      ],
      "execution_count": 38,
      "outputs": [
        {
          "output_type": "stream",
          "text": [
            "DatetimeIndex(['2017-09-01', '2017-09-02', '2017-09-03', '2017-09-04',\n",
            "               '2017-09-05', '2017-09-06', '2017-09-07', '2017-09-08',\n",
            "               '2017-09-09', '2017-09-10', '2017-09-11', '2017-09-12',\n",
            "               '2017-09-13', '2017-09-14', '2017-09-15'],\n",
            "              dtype='datetime64[ns]', freq='D')\n",
            "\n",
            "DatetimeIndex(['2017-09-14', '2017-09-09'], dtype='datetime64[ns]', freq=None)\n",
            "\n",
            "DatetimeIndex(['2017-09-09', '2017-09-14'], dtype='datetime64[ns]', freq=None)\n",
            "\n",
            "DatetimeIndex(['2017-09-10 02:00:00', '2017-09-15 02:00:00'], dtype='datetime64[ns]', freq=None)\n",
            "\n",
            "[['classA', 'classB'], ['s1', 's2', 's3', 's4', 's5']]\n"
          ],
          "name": "stdout"
        }
      ]
    },
    {
      "metadata": {
        "id": "SJj69VhyvAUq",
        "colab_type": "code",
        "outputId": "1ad218c4-e4e8-4edc-95e0-4bdb95daa0b8",
        "colab": {
          "base_uri": "https://localhost:8080/",
          "height": 54
        }
      },
      "cell_type": "code",
      "source": [
        "pd.bdate_range('11-Sep-2017', '17-Sep-2017', freq='2D')"
      ],
      "execution_count": 39,
      "outputs": [
        {
          "output_type": "execute_result",
          "data": {
            "text/plain": [
              "DatetimeIndex(['2017-09-11', '2017-09-13', '2017-09-15', '2017-09-17'], dtype='datetime64[ns]', freq='2D')"
            ]
          },
          "metadata": {
            "tags": []
          },
          "execution_count": 39
        }
      ]
    },
    {
      "metadata": {
        "id": "yW9koYy3vJDT",
        "colab_type": "code",
        "outputId": "d4fa6452-bd57-4201-e0ec-a20388ab173d",
        "colab": {
          "base_uri": "https://localhost:8080/",
          "height": 54
        }
      },
      "cell_type": "code",
      "source": [
        "pd.period_range('11-Sep-2017', '17-Sep-2017', freq='M')"
      ],
      "execution_count": 40,
      "outputs": [
        {
          "output_type": "execute_result",
          "data": {
            "text/plain": [
              "PeriodIndex(['2017-09'], dtype='period[M]', freq='M')"
            ]
          },
          "metadata": {
            "tags": []
          },
          "execution_count": 40
        }
      ]
    },
    {
      "metadata": {
        "id": "8-BVYNEiwGci",
        "colab_type": "code",
        "outputId": "7c01e888-ccaf-41ef-b669-05b396a0bcfa",
        "colab": {
          "base_uri": "https://localhost:8080/",
          "height": 88
        }
      },
      "cell_type": "code",
      "source": [
        "d = pd.date_range('11-Sep-2017', '17-Sep-2017', freq='2D')\n",
        "print(d + pd.Timedelta('1 days 2 hours'))"
      ],
      "execution_count": 41,
      "outputs": [
        {
          "output_type": "stream",
          "text": [
            "DatetimeIndex(['2017-09-12 02:00:00', '2017-09-14 02:00:00',\n",
            "               '2017-09-16 02:00:00', '2017-09-18 02:00:00'],\n",
            "              dtype='datetime64[ns]', freq='2D')\n"
          ],
          "name": "stdout"
        }
      ]
    },
    {
      "metadata": {
        "id": "Zk1NWgMjwY29",
        "colab_type": "text"
      },
      "cell_type": "markdown",
      "source": [
        "# Data Cleaning \n",
        "\n",
        "Data Cleaning alludes to change of crude information to a helpful organized shape, which is utilized for further examination. \n",
        "\n",
        "The procedure incorporates different ways like managing missing fields, removing duplicates etc.\n",
        "\n",
        "- Remove **duplicate** records\n",
        "  `d = d.drop_duplicates()`\n",
        "  \n",
        "- **Missing** Values\n",
        "  - **Find** missing values\n",
        "  `d['col_name'].isnull().value_counts()`\n",
        "  \n",
        "  - **Remove** all rows with missing values\n",
        "  `d = d.dropna(how='any')`\n",
        "  \n",
        "  - **Replace** missing data\n",
        "  `d = d.fillna(0)\n",
        "    d  =  d.fillna(method='pad')\n",
        "    d  =  d.fillna(df.mean())`\n",
        "  \n",
        "- **Extract** data from a existing column and put into a new column (use regular expression to copy first word)\n",
        " `df['new_col_name'] = df['existing_col_name'].str.extract('\\W+')`\n",
        " \n",
        "- **Replace** data\n",
        "`df['existing_col_name'] = df['existing_col_name'].str.replace('^Abhi', 'Joyee')`\n",
        "\n",
        "- **Filter** specific rows\n",
        "`df[df['col_name'] == 'somevalue']`\n"
      ]
    },
    {
      "metadata": {
        "id": "f5KN5FpT0wMz",
        "colab_type": "text"
      },
      "cell_type": "markdown",
      "source": [
        "**Summary Data Cleaning **\n",
        "\n",
        "\n",
        "1. Set height and weight values of student s3 to NaN in the data frame df_A\n",
        "2. Also set the weight of s5 to NaN in df_A.\n",
        "3. Drop the rows having null values in any of the columns and assign the result to df_drop.\n",
        "4. Display df_drop index."
      ]
    },
    {
      "metadata": {
        "id": "BkdEevo00vVu",
        "colab_type": "code",
        "outputId": "9e21107c-c68a-4d35-ee7a-d319ab9b28b4",
        "colab": {
          "base_uri": "https://localhost:8080/",
          "height": 428
        }
      },
      "cell_type": "code",
      "source": [
        "print(df_A, end='\\n\\n\\n')\n",
        "\n",
        "#1\n",
        "df_A.loc['s3', 'heights'] = np.nan\n",
        "df_A.loc['s3', 'weights'] = np.nan\n",
        "\n",
        "#2\n",
        "df_A.loc['s5', 'weights'] = np.nan\n",
        "\n",
        "#3\n",
        "print(df_A, end='\\n\\n\\n')\n",
        "\n",
        "df_drop = df_A.dropna(how='any')\n",
        "\n",
        "print(df_drop, end='\\n\\n\\n')\n",
        "\n",
        "#4\n",
        "df_drop.index\n",
        "\n"
      ],
      "execution_count": 42,
      "outputs": [
        {
          "output_type": "stream",
          "text": [
            "    heights  weights\n",
            "s1    176.2     85.1\n",
            "s2    158.4     90.2\n",
            "s3    167.6     76.8\n",
            "s4    156.2     80.4\n",
            "s5    161.4     78.9\n",
            "\n",
            "\n",
            "    heights  weights\n",
            "s1    176.2     85.1\n",
            "s2    158.4     90.2\n",
            "s3      NaN      NaN\n",
            "s4    156.2     80.4\n",
            "s5    161.4      NaN\n",
            "\n",
            "\n",
            "    heights  weights\n",
            "s1    176.2     85.1\n",
            "s2    158.4     90.2\n",
            "s4    156.2     80.4\n",
            "\n",
            "\n"
          ],
          "name": "stdout"
        },
        {
          "output_type": "execute_result",
          "data": {
            "text/plain": [
              "Index(['s1', 's2', 's4'], dtype='object')"
            ]
          },
          "metadata": {
            "tags": []
          },
          "execution_count": 42
        }
      ]
    },
    {
      "metadata": {
        "id": "LtZlp0z36DtP",
        "colab_type": "text"
      },
      "cell_type": "markdown",
      "source": [
        "# Data Aggregation\n",
        "\n",
        "Data aggregation is useful when you want to group some data together based on certain condition.\n",
        "\n",
        "You can create such group and make a comparative study.\n"
      ]
    },
    {
      "metadata": {
        "id": "eGW5eNwH9XY6",
        "colab_type": "text"
      },
      "cell_type": "markdown",
      "source": [
        "- **Filtering examples:-**"
      ]
    },
    {
      "metadata": {
        "id": "p4VxwUKp6VnG",
        "colab_type": "code",
        "outputId": "ac620308-6309-4039-c0f2-8e68c9bfb3e6",
        "colab": {
          "base_uri": "https://localhost:8080/",
          "height": 187
        }
      },
      "cell_type": "code",
      "source": [
        "file = ur.urlopen(ur.Request(\"https://raw.githubusercontent.com/uiuc-cse/data-fa14/gh-pages/data/iris.csv\"))\n",
        "\n",
        "data = pd.read_csv(file, sep = ',' , skiprows=1, decimal= '.', names = ['sepal_length', 'sepal_width', 'petal_length', 'petal_width', 'target'])\n",
        "\n",
        "print(type(data))\n",
        "\n",
        "print (\"Total Count\")\n",
        "print(data['target'].count())\n",
        "\n",
        "print('setoa count')\n",
        "setoa = data[data['target'] == 'setosa'] \n",
        "print(setoa['target'].count())\n",
        "\n",
        "\n",
        "print(setoa['petal_length'].min())\n",
        "print(setoa['petal_length'].median())\n",
        "print(setoa['petal_length'].mode())\n",
        "print(setoa['petal_length'].std())"
      ],
      "execution_count": 61,
      "outputs": [
        {
          "output_type": "stream",
          "text": [
            "<class 'pandas.core.frame.DataFrame'>\n",
            "Total Count\n",
            "150\n",
            "setoa count\n",
            "50\n",
            "1.0\n",
            "1.5\n",
            "0    1.5\n",
            "dtype: float64\n",
            "0.17351115943644546\n"
          ],
          "name": "stdout"
        }
      ]
    },
    {
      "metadata": {
        "id": "oQE8Wvui8JLB",
        "colab_type": "code",
        "colab": {
          "base_uri": "https://localhost:8080/",
          "height": 340
        },
        "outputId": "0155c910-9fa3-4973-c11b-e38bf9ddf2cd"
      },
      "cell_type": "code",
      "source": [
        "#What is the median of the petal_length column?\n",
        "print(setoa.petal_length.median(), end='\\n\\n')\n",
        "\n",
        "#what are the unique targets in this dataset\n",
        "print(data.target.unique(), end='\\n\\n')\n",
        "\n",
        "#How often each target appear in the dataset\n",
        "print(data.target.value_counts(), end='\\n\\n')\n",
        "\n",
        "#convert the petal length into zero-mean series \n",
        "#(note that mean is single value, but petal_length is a series but pandas has this nice feature)\n",
        "# Also note this does not change the original column.. it just returns a new series\n",
        "print((data.petal_length - data.petal_length.mean()).head(2))\n",
        "\n",
        "#You could also use map function\n",
        "print((data.petal_length.map(lambda p: p - data.petal_length.mean())).head(2), end='\\n\\n')\n",
        "\n",
        "#find that index whose sepal_length to petal_length ratio is highest\n",
        "print((data.sepal_length / data.petal_length).idxmax())\n",
        "print(data.loc[(data.sepal_length / data.petal_length).idxmax(), 'target'], end='\\n\\n')\n",
        "\n",
        "#lets convert the lengths into rating. Any length greater than 5 is rating 3, less than 5 but at least 2 is 2 and 1 otherwise\n",
        "# also lets make all the setosa  as rank 3\n",
        "def rating(row):\n",
        "    if row.target == 'Setosa':\n",
        "        return 3\n",
        "    elif row.petal_length >= 5:\n",
        "        return 3\n",
        "    elif row.petal_length >= 2:\n",
        "        return 2\n",
        "    else:\n",
        "        return 1\n",
        "      \n",
        "star_ratings = data.apply(rating, axis='columns') "
      ],
      "execution_count": 84,
      "outputs": [
        {
          "output_type": "stream",
          "text": [
            "1.5\n",
            "\n",
            "['setosa' 'versicolor' 'virginica']\n",
            "\n",
            "versicolor    50\n",
            "virginica     50\n",
            "setosa        50\n",
            "Name: target, dtype: int64\n",
            "\n",
            "0   -2.358667\n",
            "1   -2.358667\n",
            "Name: petal_length, dtype: float64\n",
            "0   -2.358667\n",
            "1   -2.358667\n",
            "Name: petal_length, dtype: float64\n",
            "\n",
            "14\n",
            "setosa\n",
            "\n"
          ],
          "name": "stdout"
        }
      ]
    },
    {
      "metadata": {
        "id": "aB0i9WNP9dI-",
        "colab_type": "text"
      },
      "cell_type": "markdown",
      "source": [
        "- ** Transforming examples**"
      ]
    },
    {
      "metadata": {
        "id": "4i4Tc6FP9hHk",
        "colab_type": "code",
        "outputId": "8178a139-c6e6-4044-9ff9-d261aecc2f29",
        "colab": {
          "base_uri": "https://localhost:8080/",
          "height": 544
        }
      },
      "cell_type": "code",
      "source": [
        "df_bef = pd.DataFrame({'temp':pd.Series(28 + 10*np.random.randn(10)),\n",
        "\n",
        "                   'rain':pd.Series(100 + 50*np.random.randn(10)),\n",
        "\n",
        "                   'location':list('AAAAABBBBB')\n",
        "\n",
        "})\n",
        "\n",
        "print('Before replacements')\n",
        "print(df_bef, end = '\\n\\n')\n",
        "\n",
        "# define replacement dictionary\n",
        "replacements = {\n",
        "\n",
        "'location': {'A':'Hyderabad', 'B':'Mumbai'}\n",
        "\n",
        "}\n",
        "\n",
        "df_rpl = df_bef.replace(replacements, regex=True)\n",
        "\n",
        "print(df_rpl, end = '\\n\\n')\n",
        "\n",
        "\n",
        "#you can also use replacement based on specific pattern\n",
        "\n",
        "mumbai_replacements = df_rpl.loc[df_rpl.location.str.contains('umb'),:]\n",
        "print(mumbai_replacements)"
      ],
      "execution_count": 44,
      "outputs": [
        {
          "output_type": "stream",
          "text": [
            "Before replacements\n",
            "  location        rain       temp\n",
            "0        A  150.554046  28.264859\n",
            "1        A   75.150708  36.242809\n",
            "2        A  116.029884  12.442743\n",
            "3        A   55.552784  31.052057\n",
            "4        A  113.777959  21.388496\n",
            "5        B  111.061757  16.635727\n",
            "6        B   89.259305  36.160746\n",
            "7        B   67.294606  33.785998\n",
            "8        B   84.742452  38.025529\n",
            "9        B   89.494146  42.356092\n",
            "\n",
            "    location        rain       temp\n",
            "0  Hyderabad  150.554046  28.264859\n",
            "1  Hyderabad   75.150708  36.242809\n",
            "2  Hyderabad  116.029884  12.442743\n",
            "3  Hyderabad   55.552784  31.052057\n",
            "4  Hyderabad  113.777959  21.388496\n",
            "5     Mumbai  111.061757  16.635727\n",
            "6     Mumbai   89.259305  36.160746\n",
            "7     Mumbai   67.294606  33.785998\n",
            "8     Mumbai   84.742452  38.025529\n",
            "9     Mumbai   89.494146  42.356092\n",
            "\n",
            "  location        rain       temp\n",
            "5   Mumbai  111.061757  16.635727\n",
            "6   Mumbai   89.259305  36.160746\n",
            "7   Mumbai   67.294606  33.785998\n",
            "8   Mumbai   84.742452  38.025529\n",
            "9   Mumbai   89.494146  42.356092\n"
          ],
          "name": "stdout"
        }
      ]
    },
    {
      "metadata": {
        "id": "zX60NyKe--DF",
        "colab_type": "text"
      },
      "cell_type": "markdown",
      "source": [
        "- ** Grouping examples**"
      ]
    },
    {
      "metadata": {
        "id": "mdxx-Khq-__D",
        "colab_type": "code",
        "outputId": "9daa95e0-7c5c-4d51-9c0b-157d83afb397",
        "colab": {
          "base_uri": "https://localhost:8080/",
          "height": 85
        }
      },
      "cell_type": "code",
      "source": [
        "regions = df_rpl.groupby('location')\n",
        "\n",
        "print(regions.mean())"
      ],
      "execution_count": 45,
      "outputs": [
        {
          "output_type": "stream",
          "text": [
            "                 rain       temp\n",
            "location                        \n",
            "Hyderabad  102.213076  25.878193\n",
            "Mumbai      88.370453  33.392818\n"
          ],
          "name": "stdout"
        }
      ]
    },
    {
      "metadata": {
        "id": "RMAdBe4L_LFl",
        "colab_type": "text"
      },
      "cell_type": "markdown",
      "source": [
        "**Data Grouping summary**\n",
        "\n",
        "1. Filter the rows from df_A, whose Student_height > 160.0 and Student_weight < 80.0 and display the filtered rows.\n",
        "2. Filter the rows from df_A, whose index values end with 5 and display them.\n",
        "3. Create a new column Gender in data frame df_A using the below command.\n",
        "     `df_A['Gender'] = ['M', 'F', 'M', 'M', 'F']``\n",
        "     \n",
        "4. Group df_A based on Gender and calculated mean height and weight of each group.\n",
        "5. Print the column 0th and 1st column using lambda() from df_A "
      ]
    },
    {
      "metadata": {
        "id": "Oit1Y0PI_czA",
        "colab_type": "code",
        "outputId": "de073c11-5c3a-4fb5-a8ea-cac8b813ff74",
        "colab": {
          "base_uri": "https://localhost:8080/",
          "height": 561
        }
      },
      "cell_type": "code",
      "source": [
        "#1\n",
        "print(df_A, end ='\\n\\n')\n",
        "df_st = df_A[(df_A['heights'] > 160) & (df_A['weights'] > 80)]\n",
        "print(df_st,  end ='\\n\\n')\n",
        "\n",
        "#2 \n",
        "# Note 5$ is a regular expression for ending with 5\n",
        "# Also note that if you wanted column just type dataframe dot columnname. \n",
        "# Here we wanted indexes so we are saying dataframe dot index\n",
        "print(df_A.iloc[df_A.index.str.contains('5$')],  end ='\\n\\n')\n",
        "\n",
        "\n",
        "#3\n",
        "df_A['Gender'] = ['M', 'F', 'M', 'M', 'F']\n",
        "print(df_A,  end ='\\n\\n')\n",
        "\n",
        "\n",
        "#4\n",
        "genders = df_A.groupby('Gender')\n",
        "print(genders.mean(),  end ='\\n\\n')\n",
        "\n",
        "#5\n",
        "print(df_A.iloc[:, lambda x : [0,1]],  end ='\\n\\n')\n",
        "\n",
        "#print(df_ind,  end ='\\n\\n')"
      ],
      "execution_count": 46,
      "outputs": [
        {
          "output_type": "stream",
          "text": [
            "    heights  weights\n",
            "s1    176.2     85.1\n",
            "s2    158.4     90.2\n",
            "s3      NaN      NaN\n",
            "s4    156.2     80.4\n",
            "s5    161.4      NaN\n",
            "\n",
            "    heights  weights\n",
            "s1    176.2     85.1\n",
            "\n",
            "    heights  weights\n",
            "s5    161.4      NaN\n",
            "\n",
            "    heights  weights Gender\n",
            "s1    176.2     85.1      M\n",
            "s2    158.4     90.2      F\n",
            "s3      NaN      NaN      M\n",
            "s4    156.2     80.4      M\n",
            "s5    161.4      NaN      F\n",
            "\n",
            "        heights  weights\n",
            "Gender                  \n",
            "F         159.9    90.20\n",
            "M         166.2    82.75\n",
            "\n",
            "    heights  weights\n",
            "s1    176.2     85.1\n",
            "s2    158.4     90.2\n",
            "s3      NaN      NaN\n",
            "s4    156.2     80.4\n",
            "s5    161.4      NaN\n",
            "\n"
          ],
          "name": "stdout"
        }
      ]
    },
    {
      "metadata": {
        "id": "8TiI4V3kOWtD",
        "colab_type": "text"
      },
      "cell_type": "markdown",
      "source": [
        "# Data Merging\n",
        "\n",
        "- `Data` Merging refers to combining data stored in multiple entities based on a specific criteria.\n",
        "\n",
        "- Pandas provides utilities like merge, which is used to merge two or more data frames."
      ]
    },
    {
      "metadata": {
        "id": "bU65DiIuQL_A",
        "colab_type": "code",
        "outputId": "c15e00c9-976f-40eb-fc7f-770b9cc0d228",
        "colab": {
          "base_uri": "https://localhost:8080/",
          "height": 224
        }
      },
      "cell_type": "code",
      "source": [
        "df1 = pd.DataFrame({'org': [111, 747, 777, 888, 638], 'logo': [1, 2, 3, 1, 1], 'key': ['K0', 'K1', 'K2', 'K3', 'K4']})\n",
        "df2 = pd.DataFrame({'org': [112, 748, 778, 889, 639], 'logo': [10, 20, 30, 10, 10], 'key': ['K0', 'K1', 'K2', 'K3', 'K4']})\n",
        "df1"
      ],
      "execution_count": 47,
      "outputs": [
        {
          "output_type": "execute_result",
          "data": {
            "text/html": [
              "<div>\n",
              "<style scoped>\n",
              "    .dataframe tbody tr th:only-of-type {\n",
              "        vertical-align: middle;\n",
              "    }\n",
              "\n",
              "    .dataframe tbody tr th {\n",
              "        vertical-align: top;\n",
              "    }\n",
              "\n",
              "    .dataframe thead th {\n",
              "        text-align: right;\n",
              "    }\n",
              "</style>\n",
              "<table border=\"1\" class=\"dataframe\">\n",
              "  <thead>\n",
              "    <tr style=\"text-align: right;\">\n",
              "      <th></th>\n",
              "      <th>key</th>\n",
              "      <th>logo</th>\n",
              "      <th>org</th>\n",
              "    </tr>\n",
              "  </thead>\n",
              "  <tbody>\n",
              "    <tr>\n",
              "      <th>0</th>\n",
              "      <td>K0</td>\n",
              "      <td>1</td>\n",
              "      <td>111</td>\n",
              "    </tr>\n",
              "    <tr>\n",
              "      <th>1</th>\n",
              "      <td>K1</td>\n",
              "      <td>2</td>\n",
              "      <td>747</td>\n",
              "    </tr>\n",
              "    <tr>\n",
              "      <th>2</th>\n",
              "      <td>K2</td>\n",
              "      <td>3</td>\n",
              "      <td>777</td>\n",
              "    </tr>\n",
              "    <tr>\n",
              "      <th>3</th>\n",
              "      <td>K3</td>\n",
              "      <td>1</td>\n",
              "      <td>888</td>\n",
              "    </tr>\n",
              "    <tr>\n",
              "      <th>4</th>\n",
              "      <td>K4</td>\n",
              "      <td>1</td>\n",
              "      <td>638</td>\n",
              "    </tr>\n",
              "  </tbody>\n",
              "</table>\n",
              "</div>"
            ],
            "text/plain": [
              "  key  logo  org\n",
              "0  K0     1  111\n",
              "1  K1     2  747\n",
              "2  K2     3  777\n",
              "3  K3     1  888\n",
              "4  K4     1  638"
            ]
          },
          "metadata": {
            "tags": []
          },
          "execution_count": 47
        }
      ]
    },
    {
      "metadata": {
        "id": "YnKJ0yMaRPzJ",
        "colab_type": "code",
        "outputId": "fe45c82d-a6f3-43b8-ee74-5b27515590dc",
        "colab": {
          "base_uri": "https://localhost:8080/",
          "height": 224
        }
      },
      "cell_type": "code",
      "source": [
        "pd.DataFrame.merge(df1, df2, on='key')"
      ],
      "execution_count": 48,
      "outputs": [
        {
          "output_type": "execute_result",
          "data": {
            "text/html": [
              "<div>\n",
              "<style scoped>\n",
              "    .dataframe tbody tr th:only-of-type {\n",
              "        vertical-align: middle;\n",
              "    }\n",
              "\n",
              "    .dataframe tbody tr th {\n",
              "        vertical-align: top;\n",
              "    }\n",
              "\n",
              "    .dataframe thead th {\n",
              "        text-align: right;\n",
              "    }\n",
              "</style>\n",
              "<table border=\"1\" class=\"dataframe\">\n",
              "  <thead>\n",
              "    <tr style=\"text-align: right;\">\n",
              "      <th></th>\n",
              "      <th>key</th>\n",
              "      <th>logo_x</th>\n",
              "      <th>org_x</th>\n",
              "      <th>logo_y</th>\n",
              "      <th>org_y</th>\n",
              "    </tr>\n",
              "  </thead>\n",
              "  <tbody>\n",
              "    <tr>\n",
              "      <th>0</th>\n",
              "      <td>K0</td>\n",
              "      <td>1</td>\n",
              "      <td>111</td>\n",
              "      <td>10</td>\n",
              "      <td>112</td>\n",
              "    </tr>\n",
              "    <tr>\n",
              "      <th>1</th>\n",
              "      <td>K1</td>\n",
              "      <td>2</td>\n",
              "      <td>747</td>\n",
              "      <td>20</td>\n",
              "      <td>748</td>\n",
              "    </tr>\n",
              "    <tr>\n",
              "      <th>2</th>\n",
              "      <td>K2</td>\n",
              "      <td>3</td>\n",
              "      <td>777</td>\n",
              "      <td>30</td>\n",
              "      <td>778</td>\n",
              "    </tr>\n",
              "    <tr>\n",
              "      <th>3</th>\n",
              "      <td>K3</td>\n",
              "      <td>1</td>\n",
              "      <td>888</td>\n",
              "      <td>10</td>\n",
              "      <td>889</td>\n",
              "    </tr>\n",
              "    <tr>\n",
              "      <th>4</th>\n",
              "      <td>K4</td>\n",
              "      <td>1</td>\n",
              "      <td>638</td>\n",
              "      <td>10</td>\n",
              "      <td>639</td>\n",
              "    </tr>\n",
              "  </tbody>\n",
              "</table>\n",
              "</div>"
            ],
            "text/plain": [
              "  key  logo_x  org_x  logo_y  org_y\n",
              "0  K0       1    111      10    112\n",
              "1  K1       2    747      20    748\n",
              "2  K2       3    777      30    778\n",
              "3  K3       1    888      10    889\n",
              "4  K4       1    638      10    639"
            ]
          },
          "metadata": {
            "tags": []
          },
          "execution_count": 48
        }
      ]
    },
    {
      "metadata": {
        "id": "oA_UWfI3Rfg4",
        "colab_type": "code",
        "outputId": "2f6bd238-ee6e-4f72-ce3a-0cf79e3af382",
        "colab": {
          "base_uri": "https://localhost:8080/",
          "height": 224
        }
      },
      "cell_type": "code",
      "source": [
        "df2 = pd.DataFrame({'org': [112, 748, 778, 889], 'logo': [10, 20, 30, 10], 'key': ['K0', 'K1', 'K4', 'K3']})\n",
        "pd.DataFrame.merge(df1, df2, on='key', how='left') \n",
        "\n",
        "## if you had to match on two columns you can give that by on=['key1' , 'key2']"
      ],
      "execution_count": 49,
      "outputs": [
        {
          "output_type": "execute_result",
          "data": {
            "text/html": [
              "<div>\n",
              "<style scoped>\n",
              "    .dataframe tbody tr th:only-of-type {\n",
              "        vertical-align: middle;\n",
              "    }\n",
              "\n",
              "    .dataframe tbody tr th {\n",
              "        vertical-align: top;\n",
              "    }\n",
              "\n",
              "    .dataframe thead th {\n",
              "        text-align: right;\n",
              "    }\n",
              "</style>\n",
              "<table border=\"1\" class=\"dataframe\">\n",
              "  <thead>\n",
              "    <tr style=\"text-align: right;\">\n",
              "      <th></th>\n",
              "      <th>key</th>\n",
              "      <th>logo_x</th>\n",
              "      <th>org_x</th>\n",
              "      <th>logo_y</th>\n",
              "      <th>org_y</th>\n",
              "    </tr>\n",
              "  </thead>\n",
              "  <tbody>\n",
              "    <tr>\n",
              "      <th>0</th>\n",
              "      <td>K0</td>\n",
              "      <td>1</td>\n",
              "      <td>111</td>\n",
              "      <td>10.0</td>\n",
              "      <td>112.0</td>\n",
              "    </tr>\n",
              "    <tr>\n",
              "      <th>1</th>\n",
              "      <td>K1</td>\n",
              "      <td>2</td>\n",
              "      <td>747</td>\n",
              "      <td>20.0</td>\n",
              "      <td>748.0</td>\n",
              "    </tr>\n",
              "    <tr>\n",
              "      <th>2</th>\n",
              "      <td>K2</td>\n",
              "      <td>3</td>\n",
              "      <td>777</td>\n",
              "      <td>NaN</td>\n",
              "      <td>NaN</td>\n",
              "    </tr>\n",
              "    <tr>\n",
              "      <th>3</th>\n",
              "      <td>K3</td>\n",
              "      <td>1</td>\n",
              "      <td>888</td>\n",
              "      <td>10.0</td>\n",
              "      <td>889.0</td>\n",
              "    </tr>\n",
              "    <tr>\n",
              "      <th>4</th>\n",
              "      <td>K4</td>\n",
              "      <td>1</td>\n",
              "      <td>638</td>\n",
              "      <td>30.0</td>\n",
              "      <td>778.0</td>\n",
              "    </tr>\n",
              "  </tbody>\n",
              "</table>\n",
              "</div>"
            ],
            "text/plain": [
              "  key  logo_x  org_x  logo_y  org_y\n",
              "0  K0       1    111    10.0  112.0\n",
              "1  K1       2    747    20.0  748.0\n",
              "2  K2       3    777     NaN    NaN\n",
              "3  K3       1    888    10.0  889.0\n",
              "4  K4       1    638    30.0  778.0"
            ]
          },
          "metadata": {
            "tags": []
          },
          "execution_count": 49
        }
      ]
    },
    {
      "metadata": {
        "id": "pf59QQNPSNGh",
        "colab_type": "text"
      },
      "cell_type": "markdown",
      "source": [
        "**Problems** \n",
        "\n",
        "Create a row from a list [165.4, 82.7, 'F'].\n",
        "\n",
        "Append the row to data frame df_A and store the captured array in df_AA.\n",
        "\n",
        "Display index values of df_AA."
      ]
    },
    {
      "metadata": {
        "id": "nxNk1NgfSOOW",
        "colab_type": "code",
        "outputId": "03e3b713-1ed2-41bb-f08a-0136979dab5e",
        "colab": {
          "base_uri": "https://localhost:8080/",
          "height": 255
        }
      },
      "cell_type": "code",
      "source": [
        "df_temp = pd.DataFrame({'heights': 165.4, 'weights': 82.7, 'Gender': 'F'}, index=['s6'])\n",
        "\n",
        "df_AA = pd.concat([df_A, df_temp])\n",
        "df_AA"
      ],
      "execution_count": 50,
      "outputs": [
        {
          "output_type": "execute_result",
          "data": {
            "text/html": [
              "<div>\n",
              "<style scoped>\n",
              "    .dataframe tbody tr th:only-of-type {\n",
              "        vertical-align: middle;\n",
              "    }\n",
              "\n",
              "    .dataframe tbody tr th {\n",
              "        vertical-align: top;\n",
              "    }\n",
              "\n",
              "    .dataframe thead th {\n",
              "        text-align: right;\n",
              "    }\n",
              "</style>\n",
              "<table border=\"1\" class=\"dataframe\">\n",
              "  <thead>\n",
              "    <tr style=\"text-align: right;\">\n",
              "      <th></th>\n",
              "      <th>Gender</th>\n",
              "      <th>heights</th>\n",
              "      <th>weights</th>\n",
              "    </tr>\n",
              "  </thead>\n",
              "  <tbody>\n",
              "    <tr>\n",
              "      <th>s1</th>\n",
              "      <td>M</td>\n",
              "      <td>176.2</td>\n",
              "      <td>85.1</td>\n",
              "    </tr>\n",
              "    <tr>\n",
              "      <th>s2</th>\n",
              "      <td>F</td>\n",
              "      <td>158.4</td>\n",
              "      <td>90.2</td>\n",
              "    </tr>\n",
              "    <tr>\n",
              "      <th>s3</th>\n",
              "      <td>M</td>\n",
              "      <td>NaN</td>\n",
              "      <td>NaN</td>\n",
              "    </tr>\n",
              "    <tr>\n",
              "      <th>s4</th>\n",
              "      <td>M</td>\n",
              "      <td>156.2</td>\n",
              "      <td>80.4</td>\n",
              "    </tr>\n",
              "    <tr>\n",
              "      <th>s5</th>\n",
              "      <td>F</td>\n",
              "      <td>161.4</td>\n",
              "      <td>NaN</td>\n",
              "    </tr>\n",
              "    <tr>\n",
              "      <th>s6</th>\n",
              "      <td>F</td>\n",
              "      <td>165.4</td>\n",
              "      <td>82.7</td>\n",
              "    </tr>\n",
              "  </tbody>\n",
              "</table>\n",
              "</div>"
            ],
            "text/plain": [
              "   Gender  heights  weights\n",
              "s1      M    176.2     85.1\n",
              "s2      F    158.4     90.2\n",
              "s3      M      NaN      NaN\n",
              "s4      M    156.2     80.4\n",
              "s5      F    161.4      NaN\n",
              "s6      F    165.4     82.7"
            ]
          },
          "metadata": {
            "tags": []
          },
          "execution_count": 50
        }
      ]
    },
    {
      "metadata": {
        "id": "9q584Oi0Talo",
        "colab_type": "text"
      },
      "cell_type": "markdown",
      "source": [
        "**Next One **\n",
        "\n",
        "Change the index of df_B to [ 's6', 's7', 's8', 's9', 's10']\n",
        "\n",
        "Create the Gender column in df_B with values ['F', 'M', 'F', 'F', 'M']\n",
        "\n",
        "Concatenate two data frames df_A and df_B and assign the result to df."
      ]
    },
    {
      "metadata": {
        "id": "rN7CZrWe2C2B",
        "colab_type": "code",
        "outputId": "9561dc38-a294-4ab7-f9fb-7ce4ad7763a7",
        "colab": {
          "base_uri": "https://localhost:8080/",
          "height": 583
        }
      },
      "cell_type": "code",
      "source": [
        "print(df_B)\n",
        "\n",
        "\n",
        "df_B.index =  ['s6', 's7', 's8', 's9', 's10']\n",
        "print(df_B)\n",
        "\n",
        "df_B['Gender'] = ['F', 'M', 'F', 'F', 'M']\n",
        "\n",
        "\n",
        "df_concatenated = pd.concat([df_A, df_B])\n",
        "df_concatenated"
      ],
      "execution_count": 51,
      "outputs": [
        {
          "output_type": "stream",
          "text": [
            "       heights     weights\n",
            "s1  143.310548   82.942539\n",
            "s2  159.783511   86.109501\n",
            "s3  202.873569   60.636275\n",
            "s4  174.756818  106.413945\n",
            "s5  164.627470   70.447475\n",
            "        heights     weights\n",
            "s6   143.310548   82.942539\n",
            "s7   159.783511   86.109501\n",
            "s8   202.873569   60.636275\n",
            "s9   174.756818  106.413945\n",
            "s10  164.627470   70.447475\n"
          ],
          "name": "stdout"
        },
        {
          "output_type": "execute_result",
          "data": {
            "text/html": [
              "<div>\n",
              "<style scoped>\n",
              "    .dataframe tbody tr th:only-of-type {\n",
              "        vertical-align: middle;\n",
              "    }\n",
              "\n",
              "    .dataframe tbody tr th {\n",
              "        vertical-align: top;\n",
              "    }\n",
              "\n",
              "    .dataframe thead th {\n",
              "        text-align: right;\n",
              "    }\n",
              "</style>\n",
              "<table border=\"1\" class=\"dataframe\">\n",
              "  <thead>\n",
              "    <tr style=\"text-align: right;\">\n",
              "      <th></th>\n",
              "      <th>heights</th>\n",
              "      <th>weights</th>\n",
              "      <th>Gender</th>\n",
              "    </tr>\n",
              "  </thead>\n",
              "  <tbody>\n",
              "    <tr>\n",
              "      <th>s1</th>\n",
              "      <td>176.200000</td>\n",
              "      <td>85.100000</td>\n",
              "      <td>M</td>\n",
              "    </tr>\n",
              "    <tr>\n",
              "      <th>s2</th>\n",
              "      <td>158.400000</td>\n",
              "      <td>90.200000</td>\n",
              "      <td>F</td>\n",
              "    </tr>\n",
              "    <tr>\n",
              "      <th>s3</th>\n",
              "      <td>NaN</td>\n",
              "      <td>NaN</td>\n",
              "      <td>M</td>\n",
              "    </tr>\n",
              "    <tr>\n",
              "      <th>s4</th>\n",
              "      <td>156.200000</td>\n",
              "      <td>80.400000</td>\n",
              "      <td>M</td>\n",
              "    </tr>\n",
              "    <tr>\n",
              "      <th>s5</th>\n",
              "      <td>161.400000</td>\n",
              "      <td>NaN</td>\n",
              "      <td>F</td>\n",
              "    </tr>\n",
              "    <tr>\n",
              "      <th>s6</th>\n",
              "      <td>143.310548</td>\n",
              "      <td>82.942539</td>\n",
              "      <td>F</td>\n",
              "    </tr>\n",
              "    <tr>\n",
              "      <th>s7</th>\n",
              "      <td>159.783511</td>\n",
              "      <td>86.109501</td>\n",
              "      <td>M</td>\n",
              "    </tr>\n",
              "    <tr>\n",
              "      <th>s8</th>\n",
              "      <td>202.873569</td>\n",
              "      <td>60.636275</td>\n",
              "      <td>F</td>\n",
              "    </tr>\n",
              "    <tr>\n",
              "      <th>s9</th>\n",
              "      <td>174.756818</td>\n",
              "      <td>106.413945</td>\n",
              "      <td>F</td>\n",
              "    </tr>\n",
              "    <tr>\n",
              "      <th>s10</th>\n",
              "      <td>164.627470</td>\n",
              "      <td>70.447475</td>\n",
              "      <td>M</td>\n",
              "    </tr>\n",
              "  </tbody>\n",
              "</table>\n",
              "</div>"
            ],
            "text/plain": [
              "        heights     weights Gender\n",
              "s1   176.200000   85.100000      M\n",
              "s2   158.400000   90.200000      F\n",
              "s3          NaN         NaN      M\n",
              "s4   156.200000   80.400000      M\n",
              "s5   161.400000         NaN      F\n",
              "s6   143.310548   82.942539      F\n",
              "s7   159.783511   86.109501      M\n",
              "s8   202.873569   60.636275      F\n",
              "s9   174.756818  106.413945      F\n",
              "s10  164.627470   70.447475      M"
            ]
          },
          "metadata": {
            "tags": []
          },
          "execution_count": 51
        }
      ]
    },
    {
      "metadata": {
        "id": "4HIC_KpaTbRR",
        "colab_type": "text"
      },
      "cell_type": "markdown",
      "source": [
        "**Last One**\n",
        "\n",
        "- Create the following Series.\n",
        "\n",
        "```\n",
        "       nameid = pd.Series(range(101, 111))\n",
        "       name = pd.Series(['person' + str(i) for i in range(1, 11)])\n",
        "```\n",
        "\n",
        "- Create the data frame master with series nameid and name\n",
        "\n",
        "- Create the data frame transaction using below command.\n",
        "\n",
        "```\n",
        "        transaction = pd.DataFrame({'nameid':[108, 108, 108,103], 'product':['iPhone', 'Nokia', 'Micromax', 'Vivo']})\n",
        "```\n",
        "\n",
        "- Merge master and transaction on nameid and display the merged data frame. perform inner join."
      ]
    },
    {
      "metadata": {
        "id": "CTL-b9yg4xxU",
        "colab_type": "code",
        "outputId": "ca1e18af-df54-457e-a473-48da536f589d",
        "colab": {
          "base_uri": "https://localhost:8080/",
          "height": 581
        }
      },
      "cell_type": "code",
      "source": [
        "nameid = pd.Series(range(101, 111))\n",
        "name = pd.Series(['person' + str(i) for i in range(1, 11)])\n",
        "\n",
        "df_master = pd.DataFrame({'nameid': nameid, 'name': name})\n",
        "print(df_master, end= '\\n\\n')\n",
        "\n",
        "df_transaction = pd.DataFrame({'nameid':[108, 108, 108,103], 'product':['iPhone', 'Nokia', 'Micromax', 'Vivo']})\n",
        "print(df_transaction, end= '\\n\\n')\n",
        "\n",
        "\n",
        "df_merged = pd.merge(df_master, df_transaction, on='nameid', how='left')\n",
        "print(df_merged, end='\\n\\n')"
      ],
      "execution_count": 52,
      "outputs": [
        {
          "output_type": "stream",
          "text": [
            "       name  nameid\n",
            "0   person1     101\n",
            "1   person2     102\n",
            "2   person3     103\n",
            "3   person4     104\n",
            "4   person5     105\n",
            "5   person6     106\n",
            "6   person7     107\n",
            "7   person8     108\n",
            "8   person9     109\n",
            "9  person10     110\n",
            "\n",
            "   nameid   product\n",
            "0     108    iPhone\n",
            "1     108     Nokia\n",
            "2     108  Micromax\n",
            "3     103      Vivo\n",
            "\n",
            "        name  nameid   product\n",
            "0    person1     101       NaN\n",
            "1    person2     102       NaN\n",
            "2    person3     103      Vivo\n",
            "3    person4     104       NaN\n",
            "4    person5     105       NaN\n",
            "5    person6     106       NaN\n",
            "6    person7     107       NaN\n",
            "7    person8     108    iPhone\n",
            "8    person8     108     Nokia\n",
            "9    person8     108  Micromax\n",
            "10   person9     109       NaN\n",
            "11  person10     110       NaN\n",
            "\n"
          ],
          "name": "stdout"
        }
      ]
    },
    {
      "metadata": {
        "id": "jMxdcxdk10hx",
        "colab_type": "text"
      },
      "cell_type": "markdown",
      "source": [
        "**Rough work**"
      ]
    },
    {
      "metadata": {
        "id": "1lAp45urTrZp",
        "colab_type": "code",
        "outputId": "132c41d3-99a6-43fb-a0e5-cc5d40bbb996",
        "colab": {
          "base_uri": "https://localhost:8080/",
          "height": 54
        }
      },
      "cell_type": "code",
      "source": [
        "pd.bdate_range('11-Sep-2017', '17-Sep-2017', freq='2D')"
      ],
      "execution_count": 53,
      "outputs": [
        {
          "output_type": "execute_result",
          "data": {
            "text/plain": [
              "DatetimeIndex(['2017-09-11', '2017-09-13', '2017-09-15', '2017-09-17'], dtype='datetime64[ns]', freq='2D')"
            ]
          },
          "metadata": {
            "tags": []
          },
          "execution_count": 53
        }
      ]
    },
    {
      "metadata": {
        "id": "KcbHKrVYT4Mf",
        "colab_type": "code",
        "outputId": "6b93da2f-3484-4ca1-8bb8-4be2c182cdd7",
        "colab": {
          "base_uri": "https://localhost:8080/",
          "height": 173
        }
      },
      "cell_type": "code",
      "source": [
        "df = pd.DataFrame({'A':[34, 78, 54], 'B':[12, 67, 43]}, index=['r1', 'r2', 'r3'])\n",
        "print(df)\n",
        "df.B"
      ],
      "execution_count": 54,
      "outputs": [
        {
          "output_type": "stream",
          "text": [
            "     A   B\n",
            "r1  34  12\n",
            "r2  78  67\n",
            "r3  54  43\n"
          ],
          "name": "stdout"
        },
        {
          "output_type": "execute_result",
          "data": {
            "text/plain": [
              "r1    12\n",
              "r2    67\n",
              "r3    43\n",
              "Name: B, dtype: int64"
            ]
          },
          "metadata": {
            "tags": []
          },
          "execution_count": 54
        }
      ]
    },
    {
      "metadata": {
        "id": "xsnY3Q0eUV6h",
        "colab_type": "code",
        "outputId": "d19f0510-942b-42e2-e2d7-6d29a0be6f51",
        "colab": {
          "base_uri": "https://localhost:8080/",
          "height": 88
        }
      },
      "cell_type": "code",
      "source": [
        "df.iloc[1]"
      ],
      "execution_count": 55,
      "outputs": [
        {
          "output_type": "execute_result",
          "data": {
            "text/plain": [
              "A    78\n",
              "B    67\n",
              "Name: r2, dtype: int64"
            ]
          },
          "metadata": {
            "tags": []
          },
          "execution_count": 55
        }
      ]
    },
    {
      "metadata": {
        "id": "7U3Jpe50VJg6",
        "colab_type": "code",
        "outputId": "63ec5a3d-e9a6-4ca4-92de-13a501a8c992",
        "colab": {
          "base_uri": "https://localhost:8080/",
          "height": 105
        }
      },
      "cell_type": "code",
      "source": [
        "s = pd.Series([89.2, 76.4, 98.2, 75.9], index=list('abcd'))\n",
        "print(s[['c', 'a']])\n",
        "\n",
        "print ('b' in s)"
      ],
      "execution_count": 56,
      "outputs": [
        {
          "output_type": "stream",
          "text": [
            "c    98.2\n",
            "a    89.2\n",
            "dtype: float64\n",
            "True\n"
          ],
          "name": "stdout"
        }
      ]
    },
    {
      "metadata": {
        "id": "zI3dk6YbVmDR",
        "colab_type": "code",
        "outputId": "85749234-8cae-45cb-9200-db7407f95251",
        "colab": {
          "base_uri": "https://localhost:8080/",
          "height": 131
        }
      },
      "cell_type": "code",
      "source": [
        "df = pd.DataFrame({'A':[34, 78, 54], 'B':[12, 67, 43]}, index=['r1', 'r2', 'r3'])\n",
        "df.loc['r2':'r3']"
      ],
      "execution_count": 57,
      "outputs": [
        {
          "output_type": "execute_result",
          "data": {
            "text/html": [
              "<div>\n",
              "<style scoped>\n",
              "    .dataframe tbody tr th:only-of-type {\n",
              "        vertical-align: middle;\n",
              "    }\n",
              "\n",
              "    .dataframe tbody tr th {\n",
              "        vertical-align: top;\n",
              "    }\n",
              "\n",
              "    .dataframe thead th {\n",
              "        text-align: right;\n",
              "    }\n",
              "</style>\n",
              "<table border=\"1\" class=\"dataframe\">\n",
              "  <thead>\n",
              "    <tr style=\"text-align: right;\">\n",
              "      <th></th>\n",
              "      <th>A</th>\n",
              "      <th>B</th>\n",
              "    </tr>\n",
              "  </thead>\n",
              "  <tbody>\n",
              "    <tr>\n",
              "      <th>r2</th>\n",
              "      <td>78</td>\n",
              "      <td>67</td>\n",
              "    </tr>\n",
              "    <tr>\n",
              "      <th>r3</th>\n",
              "      <td>54</td>\n",
              "      <td>43</td>\n",
              "    </tr>\n",
              "  </tbody>\n",
              "</table>\n",
              "</div>"
            ],
            "text/plain": [
              "     A   B\n",
              "r2  78  67\n",
              "r3  54  43"
            ]
          },
          "metadata": {
            "tags": []
          },
          "execution_count": 57
        }
      ]
    },
    {
      "metadata": {
        "id": "OFyAwb6gV2LY",
        "colab_type": "code",
        "outputId": "ea71c6bb-4fd9-489a-eeb2-ed7414df810d",
        "colab": {
          "base_uri": "https://localhost:8080/",
          "height": 54
        }
      },
      "cell_type": "code",
      "source": [
        "data = [{'a': 1, 'b': 2}, {'a': 5, 'b': 10, 'c': 20}]\n",
        "df = pd.DataFrame(data, columns=['a', 'b'])\n",
        "df.shape"
      ],
      "execution_count": 58,
      "outputs": [
        {
          "output_type": "execute_result",
          "data": {
            "text/plain": [
              "(2, 2)"
            ]
          },
          "metadata": {
            "tags": []
          },
          "execution_count": 58
        }
      ]
    }
  ]
}