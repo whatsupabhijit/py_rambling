{
  "nbformat": 4,
  "nbformat_minor": 0,
  "metadata": {
    "colab": {
      "name": "panda.ipynb",
      "version": "0.3.2",
      "provenance": [],
      "include_colab_link": true
    },
    "kernelspec": {
      "name": "python3",
      "display_name": "Python 3"
    }
  },
  "cells": [
    {
      "cell_type": "markdown",
      "metadata": {
        "id": "view-in-github",
        "colab_type": "text"
      },
      "source": [
        "<a href=\"https://colab.research.google.com/github/whatsupabhijit/py_rambling/blob/master/pandas/panda.ipynb\" target=\"_parent\"><img src=\"https://colab.research.google.com/assets/colab-badge.svg\" alt=\"Open In Colab\"/></a>"
      ]
    },
    {
      "metadata": {
        "id": "HNyEJ7Ly5kqL",
        "colab_type": "toc"
      },
      "cell_type": "markdown",
      "source": [
        ">[Pandas](#scrollTo=dOlkheh4Z1wX)\n",
        "\n",
        ">[Series](#scrollTo=TTeZ84PhacEh)\n",
        "\n",
        ">[Data Frame](#scrollTo=-YfwJSqBfS8I)\n",
        "\n",
        ">[Panel](#scrollTo=YL4siMbofqwZ)\n",
        "\n",
        ">[Data Access](#scrollTo=LO60AuW3_YGw)\n",
        "\n",
        ">[Knowing a Series](#scrollTo=e-do3ytA7dcM)\n",
        "\n",
        ">[Knowing a DataFrame](#scrollTo=6xe4amUS8I5m)\n",
        "\n",
        ">[Pandas I/O](#scrollTo=rNN1p_6G-R4J)\n",
        "\n",
        ">[How to read csv file from an url](#scrollTo=OmHqJ1csErJf)\n",
        "\n",
        ">[How to deal with large datasets in smaller chunks](#scrollTo=uj0qCHjwK5yL)\n",
        "\n",
        ">[Indexing](#scrollTo=i4tKTogSUCmt)\n",
        "\n",
        ">[Single Level Indexing](#scrollTo=17zhQ8yCYHYG)\n",
        "\n",
        ">[Date Level Indexing](#scrollTo=ArvjCQDeeH61)\n",
        "\n",
        ">[Multi Level Indexing / Hierarchical indexing](#scrollTo=rwnqJr9XiDr6)\n",
        "\n",
        ">[Data Cleaning](#scrollTo=Zk1NWgMjwY29)\n",
        "\n",
        ">[Data Aggregation](#scrollTo=LtZlp0z36DtP)\n",
        "\n",
        ">[Data Merging](#scrollTo=8TiI4V3kOWtD)\n",
        "\n"
      ]
    },
    {
      "metadata": {
        "id": "dOlkheh4Z1wX",
        "colab_type": "text"
      },
      "cell_type": "markdown",
      "source": [
        "# **Pandas**\n",
        "\n",
        "- `Pandas` is a popular Python data analysis tool.\n",
        "\n",
        "- It provides easy to use and highly efficient data structures.\n",
        "\n",
        "- These data structures deal with numeric or labeled data, stored in the form of tables"
      ]
    },
    {
      "metadata": {
        "id": "83ZJTVAYaPm3",
        "colab_type": "text"
      },
      "cell_type": "markdown",
      "source": [
        "**Data Structures in Pandas**\n",
        "\n",
        "Three fundamental data structures used in pandas are,\n",
        "\n",
        "- Series: A 1-D array.\n",
        "\n",
        "- Data Frame: A 2-D array or two or more Series joined together\n",
        "\n",
        "- Panel: A 3-D array\n"
      ]
    },
    {
      "metadata": {
        "id": "TTeZ84PhacEh",
        "colab_type": "text"
      },
      "cell_type": "markdown",
      "source": [
        "# **Series ** \n",
        "\n",
        "is a 1-D array, holding data values of a single variable, captured from multiple observations.\n",
        "\n",
        "Few examples are:\n",
        "\n",
        "1. Height of each student, belonging to a Class 'C'.''\n",
        "2. Amount of daily rainfall received at Station 'X', in July 2017\n",
        "3. Total sales of a product 'P' in every quarter of 2016."
      ]
    },
    {
      "metadata": {
        "id": "WCUBiTm9a6xR",
        "colab_type": "code",
        "outputId": "4b8f5b43-78a7-4ee5-d958-d13ab314079a",
        "colab": {
          "base_uri": "https://localhost:8080/",
          "height": 238
        }
      },
      "cell_type": "code",
      "source": [
        "!pip install panda\n",
        "!pip install request"
      ],
      "execution_count": 200,
      "outputs": [
        {
          "output_type": "stream",
          "text": [
            "Requirement already satisfied: panda in /usr/local/lib/python3.6/dist-packages (0.3.1)\n",
            "Requirement already satisfied: requests in /usr/local/lib/python3.6/dist-packages (from panda) (2.18.4)\n",
            "Requirement already satisfied: setuptools in /usr/local/lib/python3.6/dist-packages (from panda) (40.6.2)\n",
            "Requirement already satisfied: certifi>=2017.4.17 in /usr/local/lib/python3.6/dist-packages (from requests->panda) (2018.10.15)\n",
            "Requirement already satisfied: urllib3<1.23,>=1.21.1 in /usr/local/lib/python3.6/dist-packages (from requests->panda) (1.22)\n",
            "Requirement already satisfied: idna<2.7,>=2.5 in /usr/local/lib/python3.6/dist-packages (from requests->panda) (2.6)\n",
            "Requirement already satisfied: chardet<3.1.0,>=3.0.2 in /usr/local/lib/python3.6/dist-packages (from requests->panda) (3.0.4)\n",
            "Requirement already satisfied: request in /usr/local/lib/python3.6/dist-packages (2018.11.20)\n",
            "Requirement already satisfied: post in /usr/local/lib/python3.6/dist-packages (from request) (2018.11.20)\n",
            "Requirement already satisfied: setuptools in /usr/local/lib/python3.6/dist-packages (from request) (40.6.2)\n",
            "Requirement already satisfied: get in /usr/local/lib/python3.6/dist-packages (from request) (2018.11.19)\n",
            "Requirement already satisfied: query-string in /usr/local/lib/python3.6/dist-packages (from get->request) (2018.11.20)\n",
            "Requirement already satisfied: public in /usr/local/lib/python3.6/dist-packages (from query-string->get->request) (2018.11.20)\n"
          ],
          "name": "stdout"
        }
      ]
    },
    {
      "metadata": {
        "id": "lyFMslLOFc_G",
        "colab_type": "code",
        "colab": {}
      },
      "cell_type": "code",
      "source": [
        "import numpy as np\n",
        "import pandas as pd   # mind the extra 's' in pandas as importing panda alone gives you error"
      ],
      "execution_count": 0,
      "outputs": []
    },
    {
      "metadata": {
        "id": "RSomb7xgbryo",
        "colab_type": "code",
        "outputId": "9cd119cd-40e6-496e-a37a-51e7185f7daf",
        "colab": {
          "base_uri": "https://localhost:8080/",
          "height": 85
        }
      },
      "cell_type": "code",
      "source": [
        "## creating panda series from a dictionary\n",
        "\n",
        "d = {'Math': 180, 'Physics': 157, 'Chemistry:': 157}\n",
        "pd.Series(d)"
      ],
      "execution_count": 202,
      "outputs": [
        {
          "output_type": "execute_result",
          "data": {
            "text/plain": [
              "Chemistry:    157\n",
              "Math          180\n",
              "Physics       157\n",
              "dtype: int64"
            ]
          },
          "metadata": {
            "tags": []
          },
          "execution_count": 202
        }
      ]
    },
    {
      "metadata": {
        "id": "N9qf3zcDcRKJ",
        "colab_type": "code",
        "outputId": "2db157a0-2041-4219-f643-4aa4d4ee1049",
        "colab": {
          "base_uri": "https://localhost:8080/",
          "height": 85
        }
      },
      "cell_type": "code",
      "source": [
        "# Creating a panda series from numpy\n",
        "\n",
        "n = 30 + 25 * np.random.randn(3) \n",
        "\n",
        "pd.Series(n, index = ['Math', 'Physics', 'Chemistry'])"
      ],
      "execution_count": 203,
      "outputs": [
        {
          "output_type": "execute_result",
          "data": {
            "text/plain": [
              "Math         41.633784\n",
              "Physics       9.998200\n",
              "Chemistry    -3.630610\n",
              "dtype: float64"
            ]
          },
          "metadata": {
            "tags": []
          },
          "execution_count": 203
        }
      ]
    },
    {
      "metadata": {
        "id": "To1jAxG6dEPK",
        "colab_type": "text"
      },
      "cell_type": "markdown",
      "source": [
        "**Problem 1.1**\n",
        "Create a series named heights_A with values 176.2, 158.4, 167.6, 156.2, and 161.4, which represent heights of 5 students of class A.\n",
        "\n",
        "Label each student as s1, s2, s3, s4, and s5.\n",
        "\n",
        "Determine the shape of heights_A and display it."
      ]
    },
    {
      "metadata": {
        "id": "LGmH7R2CdC5R",
        "colab_type": "code",
        "outputId": "c7659f88-80a3-449f-dda7-2a8aa4b37f6f",
        "colab": {
          "base_uri": "https://localhost:8080/",
          "height": 34
        }
      },
      "cell_type": "code",
      "source": [
        "ht = [176.2, 158.4, 167.6, 156.2, 161.4]\n",
        "\n",
        "heights_A = pd.Series(ht, index = ['s1', 's2', 's3', 's4', 's5'])\n",
        "heights_A\n",
        "\n",
        "heights_A.shape"
      ],
      "execution_count": 204,
      "outputs": [
        {
          "output_type": "execute_result",
          "data": {
            "text/plain": [
              "(5,)"
            ]
          },
          "metadata": {
            "tags": []
          },
          "execution_count": 204
        }
      ]
    },
    {
      "metadata": {
        "id": "h1uesjcaeZci",
        "colab_type": "text"
      },
      "cell_type": "markdown",
      "source": [
        "**Problem 1.2**\n",
        "Create a series named weights_A with values 85.1, 90.2, 76.8, 80.4, and 78.9, which represent weights of 5 students of class A.\n",
        "\n",
        "Label each student as s1, s2, s3, s4, and s5.\n",
        "\n",
        "Determine data type of weights_A and display it.\n",
        "\n",
        "Hint: Make use of Series method available in pandas library."
      ]
    },
    {
      "metadata": {
        "id": "JuedULX3edR3",
        "colab_type": "code",
        "outputId": "96b8ac67-4c38-414c-9305-74c405bbbec3",
        "colab": {
          "base_uri": "https://localhost:8080/",
          "height": 136
        }
      },
      "cell_type": "code",
      "source": [
        "wt = [85.1, 90.2, 76.8, 80.4,  78.9,]\n",
        "weights_A = pd.Series(wt, index = ['s1', 's2', 's3', 's4', 's5'])\n",
        "\n",
        "print(weights_A)\n",
        "\n",
        "print(weights_A.shape)"
      ],
      "execution_count": 205,
      "outputs": [
        {
          "output_type": "stream",
          "text": [
            "s1    85.1\n",
            "s2    90.2\n",
            "s3    76.8\n",
            "s4    80.4\n",
            "s5    78.9\n",
            "dtype: float64\n",
            "(5,)\n"
          ],
          "name": "stdout"
        }
      ]
    },
    {
      "metadata": {
        "id": "-YfwJSqBfS8I",
        "colab_type": "text"
      },
      "cell_type": "markdown",
      "source": [
        "# ***Data Frame***\n",
        "\n",
        "is 2-D shaped and contains data of diff parameters, captured from multiple observations.\n",
        "\n",
        "Each **observation** is represented by a single **row**, and each **parameter** by a single **column**.\n",
        "\n",
        "Each column can hold different data type.\n",
        "Few examples are:\n",
        "\n",
        "- Height and Weight of all students, belonging to a Class 'C'.\n",
        "- Daily Rainfall received and Average Temperature of a location 'X', in the year 2017.\n",
        "\n",
        "---\n",
        "\n"
      ]
    },
    {
      "metadata": {
        "id": "mdLX5rrSgtsw",
        "colab_type": "code",
        "outputId": "54576cac-4ee0-40ea-c0f5-cce0cad71afe",
        "colab": {
          "base_uri": "https://localhost:8080/",
          "height": 142
        }
      },
      "cell_type": "code",
      "source": [
        "## Data frame created from pd.Series\n",
        "\n",
        "s = {'subject': pd.Series(['Math', 'Physics', 'Chemistry']), 'marks': pd.Series([100, 190, 185]) }\n",
        "df = pd.DataFrame(s)\n",
        "df"
      ],
      "execution_count": 206,
      "outputs": [
        {
          "output_type": "execute_result",
          "data": {
            "text/html": [
              "<div>\n",
              "<style scoped>\n",
              "    .dataframe tbody tr th:only-of-type {\n",
              "        vertical-align: middle;\n",
              "    }\n",
              "\n",
              "    .dataframe tbody tr th {\n",
              "        vertical-align: top;\n",
              "    }\n",
              "\n",
              "    .dataframe thead th {\n",
              "        text-align: right;\n",
              "    }\n",
              "</style>\n",
              "<table border=\"1\" class=\"dataframe\">\n",
              "  <thead>\n",
              "    <tr style=\"text-align: right;\">\n",
              "      <th></th>\n",
              "      <th>marks</th>\n",
              "      <th>subject</th>\n",
              "    </tr>\n",
              "  </thead>\n",
              "  <tbody>\n",
              "    <tr>\n",
              "      <th>0</th>\n",
              "      <td>100</td>\n",
              "      <td>Math</td>\n",
              "    </tr>\n",
              "    <tr>\n",
              "      <th>1</th>\n",
              "      <td>190</td>\n",
              "      <td>Physics</td>\n",
              "    </tr>\n",
              "    <tr>\n",
              "      <th>2</th>\n",
              "      <td>185</td>\n",
              "      <td>Chemistry</td>\n",
              "    </tr>\n",
              "  </tbody>\n",
              "</table>\n",
              "</div>"
            ],
            "text/plain": [
              "   marks    subject\n",
              "0    100       Math\n",
              "1    190    Physics\n",
              "2    185  Chemistry"
            ]
          },
          "metadata": {
            "tags": []
          },
          "execution_count": 206
        }
      ]
    },
    {
      "metadata": {
        "id": "h3-keNNfjqwu",
        "colab_type": "code",
        "outputId": "c1501824-ae34-468a-c08f-e2a3df61d63b",
        "colab": {
          "base_uri": "https://localhost:8080/",
          "height": 142
        }
      },
      "cell_type": "code",
      "source": [
        "## Data frame created from list\n",
        "\n",
        "s = {'subject': ['Math', 'Physics', 'Chemistry'], 'marks': [100, 190, 185] }\n",
        "df = pd.DataFrame(s)\n",
        "df"
      ],
      "execution_count": 207,
      "outputs": [
        {
          "output_type": "execute_result",
          "data": {
            "text/html": [
              "<div>\n",
              "<style scoped>\n",
              "    .dataframe tbody tr th:only-of-type {\n",
              "        vertical-align: middle;\n",
              "    }\n",
              "\n",
              "    .dataframe tbody tr th {\n",
              "        vertical-align: top;\n",
              "    }\n",
              "\n",
              "    .dataframe thead th {\n",
              "        text-align: right;\n",
              "    }\n",
              "</style>\n",
              "<table border=\"1\" class=\"dataframe\">\n",
              "  <thead>\n",
              "    <tr style=\"text-align: right;\">\n",
              "      <th></th>\n",
              "      <th>marks</th>\n",
              "      <th>subject</th>\n",
              "    </tr>\n",
              "  </thead>\n",
              "  <tbody>\n",
              "    <tr>\n",
              "      <th>0</th>\n",
              "      <td>100</td>\n",
              "      <td>Math</td>\n",
              "    </tr>\n",
              "    <tr>\n",
              "      <th>1</th>\n",
              "      <td>190</td>\n",
              "      <td>Physics</td>\n",
              "    </tr>\n",
              "    <tr>\n",
              "      <th>2</th>\n",
              "      <td>185</td>\n",
              "      <td>Chemistry</td>\n",
              "    </tr>\n",
              "  </tbody>\n",
              "</table>\n",
              "</div>"
            ],
            "text/plain": [
              "   marks    subject\n",
              "0    100       Math\n",
              "1    190    Physics\n",
              "2    185  Chemistry"
            ]
          },
          "metadata": {
            "tags": []
          },
          "execution_count": 207
        }
      ]
    },
    {
      "metadata": {
        "id": "lmyIM9YZe6uI",
        "colab_type": "text"
      },
      "cell_type": "markdown",
      "source": [
        "**Problem 1.3**\n",
        "Create a Data Frame named df_A, which holds the height and weight of five students namely s1, s2, s3, s4 and s5.\n",
        "\n",
        "Label the columns as Student_height and Student_weight respectively.\n",
        "\n",
        "Display index values of df_A.\n",
        "\n",
        "Hint: Make use of DataFrame method in pandas, and also the series heights_A, weights_A created in previous problems."
      ]
    },
    {
      "metadata": {
        "id": "coZkxy3ytvwR",
        "colab_type": "code",
        "outputId": "7997d8a7-5903-4395-9f14-4fa7f7f94b65",
        "colab": {
          "base_uri": "https://localhost:8080/",
          "height": 204
        }
      },
      "cell_type": "code",
      "source": [
        "sf_dict = {'heights': heights_A, 'weights': weights_A }\n",
        "df_A = pd.DataFrame(sf_dict)\n",
        "df_A"
      ],
      "execution_count": 208,
      "outputs": [
        {
          "output_type": "execute_result",
          "data": {
            "text/html": [
              "<div>\n",
              "<style scoped>\n",
              "    .dataframe tbody tr th:only-of-type {\n",
              "        vertical-align: middle;\n",
              "    }\n",
              "\n",
              "    .dataframe tbody tr th {\n",
              "        vertical-align: top;\n",
              "    }\n",
              "\n",
              "    .dataframe thead th {\n",
              "        text-align: right;\n",
              "    }\n",
              "</style>\n",
              "<table border=\"1\" class=\"dataframe\">\n",
              "  <thead>\n",
              "    <tr style=\"text-align: right;\">\n",
              "      <th></th>\n",
              "      <th>heights</th>\n",
              "      <th>weights</th>\n",
              "    </tr>\n",
              "  </thead>\n",
              "  <tbody>\n",
              "    <tr>\n",
              "      <th>s1</th>\n",
              "      <td>176.2</td>\n",
              "      <td>85.1</td>\n",
              "    </tr>\n",
              "    <tr>\n",
              "      <th>s2</th>\n",
              "      <td>158.4</td>\n",
              "      <td>90.2</td>\n",
              "    </tr>\n",
              "    <tr>\n",
              "      <th>s3</th>\n",
              "      <td>167.6</td>\n",
              "      <td>76.8</td>\n",
              "    </tr>\n",
              "    <tr>\n",
              "      <th>s4</th>\n",
              "      <td>156.2</td>\n",
              "      <td>80.4</td>\n",
              "    </tr>\n",
              "    <tr>\n",
              "      <th>s5</th>\n",
              "      <td>161.4</td>\n",
              "      <td>78.9</td>\n",
              "    </tr>\n",
              "  </tbody>\n",
              "</table>\n",
              "</div>"
            ],
            "text/plain": [
              "    heights  weights\n",
              "s1    176.2     85.1\n",
              "s2    158.4     90.2\n",
              "s3    167.6     76.8\n",
              "s4    156.2     80.4\n",
              "s5    161.4     78.9"
            ]
          },
          "metadata": {
            "tags": []
          },
          "execution_count": 208
        }
      ]
    },
    {
      "metadata": {
        "id": "-_GQmVSnuY_N",
        "colab_type": "text"
      },
      "cell_type": "markdown",
      "source": [
        "**Problem 1.4**\n",
        "Create two Series named heights_B and weights_B from two random 1-D numpy arrays with five elements each.\n",
        "\n",
        "The first array is obtained from the normal distribution of mean 170.0 and standard deviation 25.0.\n",
        "\n",
        "The second array is derived from the normal distribution of mean 75.0 and standard deviation 12.0.\n",
        "\n",
        "Label both Series elements with s1, s2, s3, s4 and s5."
      ]
    },
    {
      "metadata": {
        "id": "71uugSAruYNt",
        "colab_type": "code",
        "outputId": "3f2fc658-90f1-4f46-979e-f3ad77bf98d7",
        "colab": {
          "base_uri": "https://localhost:8080/",
          "height": 221
        }
      },
      "cell_type": "code",
      "source": [
        "heights_B = pd.Series(170 + 25 * np.random.randn(5), index = ['s1', 's2', 's3', 's4', 's5'])\n",
        "weights_B = pd.Series(75  + 12 * np.random.randn(5), index = ['s1', 's2', 's3', 's4', 's5'])\n",
        "\n",
        "print(heights_B)\n",
        "\n",
        "print(weights_B)"
      ],
      "execution_count": 209,
      "outputs": [
        {
          "output_type": "stream",
          "text": [
            "s1    155.347731\n",
            "s2    154.714943\n",
            "s3    191.150304\n",
            "s4    165.536714\n",
            "s5    143.281789\n",
            "dtype: float64\n",
            "s1    65.710223\n",
            "s2    50.176876\n",
            "s3    67.517040\n",
            "s4    72.916535\n",
            "s5    93.881906\n",
            "dtype: float64\n"
          ],
          "name": "stdout"
        }
      ]
    },
    {
      "metadata": {
        "id": "_y_ywZOOwA6t",
        "colab_type": "text"
      },
      "cell_type": "markdown",
      "source": [
        "**Problem 1.5**\n",
        "Create a Data Frame df_B holding height and weight of students s1, s2, s3, s4 and s5 belonging to class B.\n",
        "\n",
        "Label the columns as Student_height and Student_weight respectively.\n",
        "\n",
        "Display the column names of df_B."
      ]
    },
    {
      "metadata": {
        "id": "ydERgqpkwFjN",
        "colab_type": "code",
        "outputId": "3153716d-6185-4746-e43d-4317fa0a6580",
        "colab": {
          "base_uri": "https://localhost:8080/",
          "height": 204
        }
      },
      "cell_type": "code",
      "source": [
        "df_B = pd.DataFrame({'heights': heights_B, 'weights': weights_B})\n",
        "df_B"
      ],
      "execution_count": 210,
      "outputs": [
        {
          "output_type": "execute_result",
          "data": {
            "text/html": [
              "<div>\n",
              "<style scoped>\n",
              "    .dataframe tbody tr th:only-of-type {\n",
              "        vertical-align: middle;\n",
              "    }\n",
              "\n",
              "    .dataframe tbody tr th {\n",
              "        vertical-align: top;\n",
              "    }\n",
              "\n",
              "    .dataframe thead th {\n",
              "        text-align: right;\n",
              "    }\n",
              "</style>\n",
              "<table border=\"1\" class=\"dataframe\">\n",
              "  <thead>\n",
              "    <tr style=\"text-align: right;\">\n",
              "      <th></th>\n",
              "      <th>heights</th>\n",
              "      <th>weights</th>\n",
              "    </tr>\n",
              "  </thead>\n",
              "  <tbody>\n",
              "    <tr>\n",
              "      <th>s1</th>\n",
              "      <td>155.347731</td>\n",
              "      <td>65.710223</td>\n",
              "    </tr>\n",
              "    <tr>\n",
              "      <th>s2</th>\n",
              "      <td>154.714943</td>\n",
              "      <td>50.176876</td>\n",
              "    </tr>\n",
              "    <tr>\n",
              "      <th>s3</th>\n",
              "      <td>191.150304</td>\n",
              "      <td>67.517040</td>\n",
              "    </tr>\n",
              "    <tr>\n",
              "      <th>s4</th>\n",
              "      <td>165.536714</td>\n",
              "      <td>72.916535</td>\n",
              "    </tr>\n",
              "    <tr>\n",
              "      <th>s5</th>\n",
              "      <td>143.281789</td>\n",
              "      <td>93.881906</td>\n",
              "    </tr>\n",
              "  </tbody>\n",
              "</table>\n",
              "</div>"
            ],
            "text/plain": [
              "       heights    weights\n",
              "s1  155.347731  65.710223\n",
              "s2  154.714943  50.176876\n",
              "s3  191.150304  67.517040\n",
              "s4  165.536714  72.916535\n",
              "s5  143.281789  93.881906"
            ]
          },
          "metadata": {
            "tags": []
          },
          "execution_count": 210
        }
      ]
    },
    {
      "metadata": {
        "id": "YL4siMbofqwZ",
        "colab_type": "text"
      },
      "cell_type": "markdown",
      "source": [
        "# **Panel**\n",
        "\n",
        "holds **two** or **more** Data **Frames** together as a single unit.\n",
        "\n",
        "Few examples are:\n",
        "\n",
        "- Height and Weight of all students, belonging to 3 Classes 'A', 'B', and 'C'.\n",
        "- Daily Rainfall received and Average Temperatures of 3 locations 'X', 'Y', and 'Z' captured in the year 2017.\n",
        "\n",
        "---\n",
        "\n"
      ]
    },
    {
      "metadata": {
        "id": "nCwHt6x6wwoM",
        "colab_type": "text"
      },
      "cell_type": "markdown",
      "source": [
        "**Problem 1.6**\n",
        "Create a panel p, which holds previously created two data frames df_A and df_B.\n",
        "\n",
        "Label the first data frame as ClassA and second as ClassB.\n",
        "\n",
        "\n",
        "Determine the shape of panel p and display it."
      ]
    },
    {
      "metadata": {
        "id": "rJcUK9wDyV1e",
        "colab_type": "code",
        "outputId": "eb05fa6b-b39b-410a-8cda-a43c5d7fd77e",
        "colab": {
          "base_uri": "https://localhost:8080/",
          "height": 513
        }
      },
      "cell_type": "code",
      "source": [
        "df_panel = pd.Panel({'ClassA': df_A, 'ClassB': df_B})\n",
        "\n",
        "print('Shape:-')\n",
        "print(df_panel.shape)\n",
        "\n",
        "print('\\n\\nClassA')\n",
        "print(df_panel.ClassA)\n",
        "\n",
        "\n",
        "print('\\n\\nClassB')\n",
        "print(df_panel.ClassB)\n",
        "\n",
        "print(\"\\n\\ndf_panel:- \")\n",
        "print(df_panel)"
      ],
      "execution_count": 211,
      "outputs": [
        {
          "output_type": "stream",
          "text": [
            "Shape:-\n",
            "(2, 5, 2)\n",
            "\n",
            "\n",
            "ClassA\n",
            "    heights  weights\n",
            "s1    176.2     85.1\n",
            "s2    158.4     90.2\n",
            "s3    167.6     76.8\n",
            "s4    156.2     80.4\n",
            "s5    161.4     78.9\n",
            "\n",
            "\n",
            "ClassB\n",
            "       heights    weights\n",
            "s1  155.347731  65.710223\n",
            "s2  154.714943  50.176876\n",
            "s3  191.150304  67.517040\n",
            "s4  165.536714  72.916535\n",
            "s5  143.281789  93.881906\n",
            "\n",
            "\n",
            "df_panel:- \n",
            "<class 'pandas.core.panel.Panel'>\n",
            "Dimensions: 2 (items) x 5 (major_axis) x 2 (minor_axis)\n",
            "Items axis: ClassA to ClassB\n",
            "Major_axis axis: s1 to s5\n",
            "Minor_axis axis: heights to weights\n"
          ],
          "name": "stdout"
        }
      ]
    },
    {
      "metadata": {
        "id": "LO60AuW3_YGw",
        "colab_type": "text"
      },
      "cell_type": "markdown",
      "source": [
        "# Data Access\n",
        "\n",
        "Data Access refers to extracting data present in defined data structures.\n",
        "\n",
        "Pandas provide utilities like **loc** and **iloc** to get data from a Series, a DataFrame, or a Panel."
      ]
    },
    {
      "metadata": {
        "id": "IgxsSACKAQm3",
        "colab_type": "text"
      },
      "cell_type": "markdown",
      "source": [
        "**Problem 2.1**\n",
        "\n",
        "Print the second element of series heights_A, as a string."
      ]
    },
    {
      "metadata": {
        "id": "8-wyuvybAXZJ",
        "colab_type": "code",
        "outputId": "9506c50e-d469-415e-b505-df3537bea080",
        "colab": {
          "base_uri": "https://localhost:8080/",
          "height": 85
        }
      },
      "cell_type": "code",
      "source": [
        "#Using index\n",
        "print (heights_A[1])\n",
        "\n",
        "#Using get() and index\n",
        "print (heights_A.get(1))\n",
        "\n",
        "\n",
        "#Using get() and index variable name\n",
        "print (heights_A.get('s2'))\n",
        "\n",
        "# yet another way :)\n",
        "print(heights_A.s2)"
      ],
      "execution_count": 212,
      "outputs": [
        {
          "output_type": "stream",
          "text": [
            "158.4\n",
            "158.4\n",
            "158.4\n",
            "158.4\n"
          ],
          "name": "stdout"
        }
      ]
    },
    {
      "metadata": {
        "id": "vYqQObffBtdg",
        "colab_type": "text"
      },
      "cell_type": "markdown",
      "source": [
        "**Problem 2.2**\n",
        "\n",
        "Obtain central three elements of Series heights_A."
      ]
    },
    {
      "metadata": {
        "id": "5xwpNQBDBwYG",
        "colab_type": "code",
        "outputId": "537db166-5be4-4763-f3ff-c3078e75f16a",
        "colab": {
          "base_uri": "https://localhost:8080/",
          "height": 85
        }
      },
      "cell_type": "code",
      "source": [
        "print (heights_A[1:-1])"
      ],
      "execution_count": 213,
      "outputs": [
        {
          "output_type": "stream",
          "text": [
            "s2    158.4\n",
            "s3    167.6\n",
            "s4    156.2\n",
            "dtype: float64\n"
          ],
          "name": "stdout"
        }
      ]
    },
    {
      "metadata": {
        "id": "T7B6fFdyFbXm",
        "colab_type": "text"
      },
      "cell_type": "markdown",
      "source": [
        "**Accessing Data from a Data Frame**\n",
        "\n",
        "Pandas allows .loc, .iloc methods for selecting rows.\n",
        "\n",
        "Using square brackets ([ ]) is also allowed, especially for selecting columns."
      ]
    },
    {
      "metadata": {
        "id": "dqxR0g7Darnp",
        "colab_type": "text"
      },
      "cell_type": "markdown",
      "source": [
        "**Problem 2.3**\n",
        "\n",
        "Select the column of df_A, referring to student heights and store in variable height.\n",
        "\n",
        "Display the type of height"
      ]
    },
    {
      "metadata": {
        "id": "wETLIX8xawKq",
        "colab_type": "code",
        "outputId": "ac34e104-af33-454e-b5e1-c5e0bf660e13",
        "colab": {
          "base_uri": "https://localhost:8080/",
          "height": 340
        }
      },
      "cell_type": "code",
      "source": [
        "print(df_A)\n",
        "\n",
        "height = df_A['heights']\n",
        "\n",
        "print('\\n\\nheight:')\n",
        "print(height)\n",
        "\n",
        "\n",
        "print('\\n\\n Type of Height')\n",
        "print(type(height))   ## You could also use print(type(_))   _ refers to latest one"
      ],
      "execution_count": 214,
      "outputs": [
        {
          "output_type": "stream",
          "text": [
            "    heights  weights\n",
            "s1    176.2     85.1\n",
            "s2    158.4     90.2\n",
            "s3    167.6     76.8\n",
            "s4    156.2     80.4\n",
            "s5    161.4     78.9\n",
            "\n",
            "\n",
            "height:\n",
            "s1    176.2\n",
            "s2    158.4\n",
            "s3    167.6\n",
            "s4    156.2\n",
            "s5    161.4\n",
            "Name: heights, dtype: float64\n",
            "\n",
            "\n",
            " Type of Height\n",
            "<class 'pandas.core.series.Series'>\n"
          ],
          "name": "stdout"
        }
      ]
    },
    {
      "metadata": {
        "id": "_JcKFslmbbpi",
        "colab_type": "text"
      },
      "cell_type": "markdown",
      "source": [
        "**Problem 2.4**\n",
        "\n",
        "Select the rows corresponding to students s1, s2 of df_A and display them."
      ]
    },
    {
      "metadata": {
        "id": "_zv21p1qbeTV",
        "colab_type": "code",
        "outputId": "c0157b55-2203-4109-c71a-67c4f0cd15dd",
        "colab": {
          "base_uri": "https://localhost:8080/",
          "height": 111
        }
      },
      "cell_type": "code",
      "source": [
        "df_A[:2]"
      ],
      "execution_count": 215,
      "outputs": [
        {
          "output_type": "execute_result",
          "data": {
            "text/html": [
              "<div>\n",
              "<style scoped>\n",
              "    .dataframe tbody tr th:only-of-type {\n",
              "        vertical-align: middle;\n",
              "    }\n",
              "\n",
              "    .dataframe tbody tr th {\n",
              "        vertical-align: top;\n",
              "    }\n",
              "\n",
              "    .dataframe thead th {\n",
              "        text-align: right;\n",
              "    }\n",
              "</style>\n",
              "<table border=\"1\" class=\"dataframe\">\n",
              "  <thead>\n",
              "    <tr style=\"text-align: right;\">\n",
              "      <th></th>\n",
              "      <th>heights</th>\n",
              "      <th>weights</th>\n",
              "    </tr>\n",
              "  </thead>\n",
              "  <tbody>\n",
              "    <tr>\n",
              "      <th>s1</th>\n",
              "      <td>176.2</td>\n",
              "      <td>85.1</td>\n",
              "    </tr>\n",
              "    <tr>\n",
              "      <th>s2</th>\n",
              "      <td>158.4</td>\n",
              "      <td>90.2</td>\n",
              "    </tr>\n",
              "  </tbody>\n",
              "</table>\n",
              "</div>"
            ],
            "text/plain": [
              "    heights  weights\n",
              "s1    176.2     85.1\n",
              "s2    158.4     90.2"
            ]
          },
          "metadata": {
            "tags": []
          },
          "execution_count": 215
        }
      ]
    },
    {
      "metadata": {
        "id": "W31q_xjKbvrT",
        "colab_type": "code",
        "outputId": "32e6929a-7f09-4d89-d89b-6bfd492f213e",
        "colab": {
          "base_uri": "https://localhost:8080/",
          "height": 119
        }
      },
      "cell_type": "code",
      "source": [
        "print(df_A.loc['s1'])\n",
        "\n",
        "print(df_A.loc['s2'])"
      ],
      "execution_count": 216,
      "outputs": [
        {
          "output_type": "stream",
          "text": [
            "heights    176.2\n",
            "weights     85.1\n",
            "Name: s1, dtype: float64\n",
            "heights    158.4\n",
            "weights     90.2\n",
            "Name: s2, dtype: float64\n"
          ],
          "name": "stdout"
        }
      ]
    },
    {
      "metadata": {
        "id": "vKc23Au0cctS",
        "colab_type": "text"
      },
      "cell_type": "markdown",
      "source": [
        "**Problem 2.5**\n",
        "\n",
        "Select the rows corresponding to students s1, s2 and s5 of df_A in the order s2, s5, s1 and display them."
      ]
    },
    {
      "metadata": {
        "id": "6eiWYBXTci3p",
        "colab_type": "code",
        "outputId": "2ce01deb-2f3d-4941-9dc4-cfe35ba7ba9d",
        "colab": {
          "base_uri": "https://localhost:8080/",
          "height": 142
        }
      },
      "cell_type": "code",
      "source": [
        "df_A.loc[['s2', 's5', 's1']]"
      ],
      "execution_count": 217,
      "outputs": [
        {
          "output_type": "execute_result",
          "data": {
            "text/html": [
              "<div>\n",
              "<style scoped>\n",
              "    .dataframe tbody tr th:only-of-type {\n",
              "        vertical-align: middle;\n",
              "    }\n",
              "\n",
              "    .dataframe tbody tr th {\n",
              "        vertical-align: top;\n",
              "    }\n",
              "\n",
              "    .dataframe thead th {\n",
              "        text-align: right;\n",
              "    }\n",
              "</style>\n",
              "<table border=\"1\" class=\"dataframe\">\n",
              "  <thead>\n",
              "    <tr style=\"text-align: right;\">\n",
              "      <th></th>\n",
              "      <th>heights</th>\n",
              "      <th>weights</th>\n",
              "    </tr>\n",
              "  </thead>\n",
              "  <tbody>\n",
              "    <tr>\n",
              "      <th>s2</th>\n",
              "      <td>158.4</td>\n",
              "      <td>90.2</td>\n",
              "    </tr>\n",
              "    <tr>\n",
              "      <th>s5</th>\n",
              "      <td>161.4</td>\n",
              "      <td>78.9</td>\n",
              "    </tr>\n",
              "    <tr>\n",
              "      <th>s1</th>\n",
              "      <td>176.2</td>\n",
              "      <td>85.1</td>\n",
              "    </tr>\n",
              "  </tbody>\n",
              "</table>\n",
              "</div>"
            ],
            "text/plain": [
              "    heights  weights\n",
              "s2    158.4     90.2\n",
              "s5    161.4     78.9\n",
              "s1    176.2     85.1"
            ]
          },
          "metadata": {
            "tags": []
          },
          "execution_count": 217
        }
      ]
    },
    {
      "metadata": {
        "id": "YejW5bMUsklY",
        "colab_type": "code",
        "colab": {
          "base_uri": "https://localhost:8080/",
          "height": 102
        },
        "outputId": "07a79e14-74a1-4c0c-91dc-41d0d4dadd98"
      },
      "cell_type": "code",
      "source": [
        "#yet another way... Don't forget to put ',' before/after :\n",
        "print(df_A.iloc[lambda x: [1, 4, 0], : ] ,  end ='\\n\\n')\n",
        "\n",
        "#note if you wanted similar thing on columns then lambda function would have just been opposite\n",
        "#print(df_A.iloc[:, lambda x : [0,1]],  end ='\\n\\n')"
      ],
      "execution_count": 218,
      "outputs": [
        {
          "output_type": "stream",
          "text": [
            "    heights  weights\n",
            "s2    158.4     90.2\n",
            "s5    161.4     78.9\n",
            "s1    176.2     85.1\n",
            "\n"
          ],
          "name": "stdout"
        }
      ]
    },
    {
      "metadata": {
        "id": "ptWDIE7j5D_Q",
        "colab_type": "text"
      },
      "cell_type": "markdown",
      "source": [
        "**# Problem 2.6**\n",
        "\n",
        "whats the difference between loc and iloc?.\n",
        "\n",
        "\n",
        "loc gets rows (or columns) with particular labels from the index. iloc gets rows (or columns) at particular positions in the index (so it only takes integers). ix usually tries to behave like loc but falls back to behaving like iloc if a label is not present in the index."
      ]
    },
    {
      "metadata": {
        "id": "kSFemaEo0wu-",
        "colab_type": "code",
        "outputId": "937fc710-bd7f-4884-9166-4638d61728e2",
        "colab": {
          "base_uri": "https://localhost:8080/",
          "height": 119
        }
      },
      "cell_type": "code",
      "source": [
        "df_p26 = pd.DataFrame({'A':[34, 78, 54], 'B':[12, 67, 43]}, index=['r1', 'r2', 'r3'])\n",
        "\n",
        "print(df_p26.iloc[1:3])   #### taking integer index as input \n",
        " \n",
        "print(df_p26.loc['r2':'r3'])   #### taking given string index as input"
      ],
      "execution_count": 219,
      "outputs": [
        {
          "output_type": "stream",
          "text": [
            "     A   B\n",
            "r2  78  67\n",
            "r3  54  43\n",
            "     A   B\n",
            "r2  78  67\n",
            "r3  54  43\n"
          ],
          "name": "stdout"
        }
      ]
    },
    {
      "metadata": {
        "id": "CbaFI2GZ5sh-",
        "colab_type": "text"
      },
      "cell_type": "markdown",
      "source": [
        "**Problem 2.7**\n",
        "\n",
        "\n",
        "How do you add a new column 'C' to a data frame as similar to the previous one, with 3 rows"
      ]
    },
    {
      "metadata": {
        "id": "9EytxKBO54_C",
        "colab_type": "code",
        "outputId": "d33839f9-d5a5-4397-80bf-ac401838e443",
        "colab": {
          "base_uri": "https://localhost:8080/",
          "height": 142
        }
      },
      "cell_type": "code",
      "source": [
        "df_p26['C'] = [12, 98, 45]\n",
        "df_p26"
      ],
      "execution_count": 220,
      "outputs": [
        {
          "output_type": "execute_result",
          "data": {
            "text/html": [
              "<div>\n",
              "<style scoped>\n",
              "    .dataframe tbody tr th:only-of-type {\n",
              "        vertical-align: middle;\n",
              "    }\n",
              "\n",
              "    .dataframe tbody tr th {\n",
              "        vertical-align: top;\n",
              "    }\n",
              "\n",
              "    .dataframe thead th {\n",
              "        text-align: right;\n",
              "    }\n",
              "</style>\n",
              "<table border=\"1\" class=\"dataframe\">\n",
              "  <thead>\n",
              "    <tr style=\"text-align: right;\">\n",
              "      <th></th>\n",
              "      <th>A</th>\n",
              "      <th>B</th>\n",
              "      <th>C</th>\n",
              "    </tr>\n",
              "  </thead>\n",
              "  <tbody>\n",
              "    <tr>\n",
              "      <th>r1</th>\n",
              "      <td>34</td>\n",
              "      <td>12</td>\n",
              "      <td>12</td>\n",
              "    </tr>\n",
              "    <tr>\n",
              "      <th>r2</th>\n",
              "      <td>78</td>\n",
              "      <td>67</td>\n",
              "      <td>98</td>\n",
              "    </tr>\n",
              "    <tr>\n",
              "      <th>r3</th>\n",
              "      <td>54</td>\n",
              "      <td>43</td>\n",
              "      <td>45</td>\n",
              "    </tr>\n",
              "  </tbody>\n",
              "</table>\n",
              "</div>"
            ],
            "text/plain": [
              "     A   B   C\n",
              "r1  34  12  12\n",
              "r2  78  67  98\n",
              "r3  54  43  45"
            ]
          },
          "metadata": {
            "tags": []
          },
          "execution_count": 220
        }
      ]
    },
    {
      "metadata": {
        "id": "rXSEMzSL6MIj",
        "colab_type": "text"
      },
      "cell_type": "markdown",
      "source": [
        "**Problem 2.8**\n",
        "\n",
        "How do you delete a column from a data fram?"
      ]
    },
    {
      "metadata": {
        "id": "9hbHqRAF6R-n",
        "colab_type": "code",
        "outputId": "32560a42-1836-43e9-f92f-3b649135b7af",
        "colab": {
          "base_uri": "https://localhost:8080/",
          "height": 142
        }
      },
      "cell_type": "code",
      "source": [
        "del df_p26['B']\n",
        "df_p26"
      ],
      "execution_count": 221,
      "outputs": [
        {
          "output_type": "execute_result",
          "data": {
            "text/html": [
              "<div>\n",
              "<style scoped>\n",
              "    .dataframe tbody tr th:only-of-type {\n",
              "        vertical-align: middle;\n",
              "    }\n",
              "\n",
              "    .dataframe tbody tr th {\n",
              "        vertical-align: top;\n",
              "    }\n",
              "\n",
              "    .dataframe thead th {\n",
              "        text-align: right;\n",
              "    }\n",
              "</style>\n",
              "<table border=\"1\" class=\"dataframe\">\n",
              "  <thead>\n",
              "    <tr style=\"text-align: right;\">\n",
              "      <th></th>\n",
              "      <th>A</th>\n",
              "      <th>C</th>\n",
              "    </tr>\n",
              "  </thead>\n",
              "  <tbody>\n",
              "    <tr>\n",
              "      <th>r1</th>\n",
              "      <td>34</td>\n",
              "      <td>12</td>\n",
              "    </tr>\n",
              "    <tr>\n",
              "      <th>r2</th>\n",
              "      <td>78</td>\n",
              "      <td>98</td>\n",
              "    </tr>\n",
              "    <tr>\n",
              "      <th>r3</th>\n",
              "      <td>54</td>\n",
              "      <td>45</td>\n",
              "    </tr>\n",
              "  </tbody>\n",
              "</table>\n",
              "</div>"
            ],
            "text/plain": [
              "     A   C\n",
              "r1  34  12\n",
              "r2  78  98\n",
              "r3  54  45"
            ]
          },
          "metadata": {
            "tags": []
          },
          "execution_count": 221
        }
      ]
    },
    {
      "metadata": {
        "id": "e-do3ytA7dcM",
        "colab_type": "text"
      },
      "cell_type": "markdown",
      "source": [
        "# Knowing a Series\n",
        "\n",
        "It is possible to understand a Series better by using ***describe*** method.\n",
        "\n",
        "The method provides details like mean, std, etc. about a series."
      ]
    },
    {
      "metadata": {
        "id": "8aw0OzGn7qKh",
        "colab_type": "code",
        "outputId": "14cbe561-c4da-4f9e-cf33-6959c385b192",
        "colab": {
          "base_uri": "https://localhost:8080/",
          "height": 190
        }
      },
      "cell_type": "code",
      "source": [
        "temp = pd.Series(28 + 10*np.random.randn(10))\n",
        "\n",
        "print(temp.describe())"
      ],
      "execution_count": 222,
      "outputs": [
        {
          "output_type": "stream",
          "text": [
            "count    10.000000\n",
            "mean     24.796099\n",
            "std      14.213996\n",
            "min       2.518462\n",
            "25%      15.773003\n",
            "50%      21.772369\n",
            "75%      35.151597\n",
            "max      47.212858\n",
            "dtype: float64\n"
          ],
          "name": "stdout"
        }
      ]
    },
    {
      "metadata": {
        "id": "6xe4amUS8I5m",
        "colab_type": "text"
      },
      "cell_type": "markdown",
      "source": [
        "# Knowing a DataFrame\n",
        "\n",
        "Two methods majorly ***info*** and ***describe*** can be used to know about the data, present in a data frame.\n",
        "\n",
        "- **describe** method by default provides details of **only** ***numeric*** fields.\n",
        "- You can use ***include*** argument to know about other columns.\n",
        "\n"
      ]
    },
    {
      "metadata": {
        "id": "ccBltcAT8QNK",
        "colab_type": "code",
        "outputId": "1cd8e697-10b8-4270-d98a-6dd9f4b3e291",
        "colab": {
          "base_uri": "https://localhost:8080/",
          "height": 581
        }
      },
      "cell_type": "code",
      "source": [
        "df = pd.DataFrame({\n",
        "    'temp':pd.Series(28 + 10*np.random.randn(10)), \n",
        "    'rain':pd.Series(100 + 50*np.random.randn(10)),\n",
        "    'location':list('AAAAABBBBB')\n",
        "})\n",
        "\n",
        "print(df.info(), end= \"\\n\\n\")\n",
        "\n",
        "print(df.describe(), end='\\n\\n')\n",
        "\n",
        "print(df.describe(include=['object', 'float64']))  ### object is used to include location"
      ],
      "execution_count": 223,
      "outputs": [
        {
          "output_type": "stream",
          "text": [
            "<class 'pandas.core.frame.DataFrame'>\n",
            "RangeIndex: 10 entries, 0 to 9\n",
            "Data columns (total 3 columns):\n",
            "location    10 non-null object\n",
            "rain        10 non-null float64\n",
            "temp        10 non-null float64\n",
            "dtypes: float64(2), object(1)\n",
            "memory usage: 320.0+ bytes\n",
            "None\n",
            "\n",
            "             rain       temp\n",
            "count   10.000000  10.000000\n",
            "mean    63.460110  28.990996\n",
            "std     63.908471   8.031689\n",
            "min    -33.930357   8.141171\n",
            "25%     15.872690  28.588582\n",
            "50%     68.956496  29.092759\n",
            "75%     98.260530  32.591635\n",
            "max    154.695825  37.798400\n",
            "\n",
            "       location        rain       temp\n",
            "count        10   10.000000  10.000000\n",
            "unique        2         NaN        NaN\n",
            "top           A         NaN        NaN\n",
            "freq          5         NaN        NaN\n",
            "mean        NaN   63.460110  28.990996\n",
            "std         NaN   63.908471   8.031689\n",
            "min         NaN  -33.930357   8.141171\n",
            "25%         NaN   15.872690  28.588582\n",
            "50%         NaN   68.956496  29.092759\n",
            "75%         NaN   98.260530  32.591635\n",
            "max         NaN  154.695825  37.798400\n"
          ],
          "name": "stdout"
        }
      ]
    },
    {
      "metadata": {
        "id": "rNN1p_6G-R4J",
        "colab_type": "text"
      },
      "cell_type": "markdown",
      "source": [
        "# Pandas I/O\n",
        "\n",
        "- pandas.read_csv()                   --> mainly path in  qoutes, delimitter\n",
        "- pandas.read_excel()\n",
        "- pandas.read_sql_table\n",
        "- pandas.read_json()\n",
        "- pandas.DataFrame.to_csv()     --> \n",
        "- pandas.DataFrame.to_excel()\n"
      ]
    },
    {
      "metadata": {
        "id": "VXOMmKkAD_i4",
        "colab_type": "code",
        "outputId": "a319e90c-6eab-4fa7-8855-b69acbafb83f",
        "colab": {
          "base_uri": "https://localhost:8080/",
          "height": 105
        }
      },
      "cell_type": "code",
      "source": [
        "# You can always put ?pd.read_csv enter to get what the function requires\n",
        "\n",
        "df_IO = pd.DataFrame({'A': pd.Series([10,20,30]), 'B':pd.Series([90,100,80])})\n",
        "print(df_IO)\n",
        "\n",
        "df_IO.to_csv(\"app.csv\")"
      ],
      "execution_count": 224,
      "outputs": [
        {
          "output_type": "stream",
          "text": [
            "    A    B\n",
            "0  10   90\n",
            "1  20  100\n",
            "2  30   80\n"
          ],
          "name": "stdout"
        }
      ]
    },
    {
      "metadata": {
        "id": "OmHqJ1csErJf",
        "colab_type": "text"
      },
      "cell_type": "markdown",
      "source": [
        "# How to read csv file from an url"
      ]
    },
    {
      "metadata": {
        "id": "KUZCzgcuGxIu",
        "colab_type": "code",
        "outputId": "cfbb5b4c-67fa-456e-9ee2-e8674d65b661",
        "colab": {
          "base_uri": "https://localhost:8080/",
          "height": 379
        }
      },
      "cell_type": "code",
      "source": [
        "import urllib.request as ur\n",
        "\n",
        "file = ur.urlopen(ur.Request(\"https://raw.githubusercontent.com/uiuc-cse/data-fa14/gh-pages/data/iris.csv\"))\n",
        "\n",
        "data = pd.read_csv(file, sep = ',' , header  = None, decimal= '.', names = ['sepal_length', 'sepal_width', 'petal_length', 'petal_width', 'target'])\n",
        "\n",
        "data.head(10)\n"
      ],
      "execution_count": 225,
      "outputs": [
        {
          "output_type": "execute_result",
          "data": {
            "text/html": [
              "<div>\n",
              "<style scoped>\n",
              "    .dataframe tbody tr th:only-of-type {\n",
              "        vertical-align: middle;\n",
              "    }\n",
              "\n",
              "    .dataframe tbody tr th {\n",
              "        vertical-align: top;\n",
              "    }\n",
              "\n",
              "    .dataframe thead th {\n",
              "        text-align: right;\n",
              "    }\n",
              "</style>\n",
              "<table border=\"1\" class=\"dataframe\">\n",
              "  <thead>\n",
              "    <tr style=\"text-align: right;\">\n",
              "      <th></th>\n",
              "      <th>sepal_length</th>\n",
              "      <th>sepal_width</th>\n",
              "      <th>petal_length</th>\n",
              "      <th>petal_width</th>\n",
              "      <th>target</th>\n",
              "    </tr>\n",
              "  </thead>\n",
              "  <tbody>\n",
              "    <tr>\n",
              "      <th>0</th>\n",
              "      <td>sepal_length</td>\n",
              "      <td>sepal_width</td>\n",
              "      <td>petal_length</td>\n",
              "      <td>petal_width</td>\n",
              "      <td>species</td>\n",
              "    </tr>\n",
              "    <tr>\n",
              "      <th>1</th>\n",
              "      <td>5.1</td>\n",
              "      <td>3.5</td>\n",
              "      <td>1.4</td>\n",
              "      <td>0.2</td>\n",
              "      <td>setosa</td>\n",
              "    </tr>\n",
              "    <tr>\n",
              "      <th>2</th>\n",
              "      <td>4.9</td>\n",
              "      <td>3</td>\n",
              "      <td>1.4</td>\n",
              "      <td>0.2</td>\n",
              "      <td>setosa</td>\n",
              "    </tr>\n",
              "    <tr>\n",
              "      <th>3</th>\n",
              "      <td>4.7</td>\n",
              "      <td>3.2</td>\n",
              "      <td>1.3</td>\n",
              "      <td>0.2</td>\n",
              "      <td>setosa</td>\n",
              "    </tr>\n",
              "    <tr>\n",
              "      <th>4</th>\n",
              "      <td>4.6</td>\n",
              "      <td>3.1</td>\n",
              "      <td>1.5</td>\n",
              "      <td>0.2</td>\n",
              "      <td>setosa</td>\n",
              "    </tr>\n",
              "    <tr>\n",
              "      <th>5</th>\n",
              "      <td>5</td>\n",
              "      <td>3.6</td>\n",
              "      <td>1.4</td>\n",
              "      <td>0.2</td>\n",
              "      <td>setosa</td>\n",
              "    </tr>\n",
              "    <tr>\n",
              "      <th>6</th>\n",
              "      <td>5.4</td>\n",
              "      <td>3.9</td>\n",
              "      <td>1.7</td>\n",
              "      <td>0.4</td>\n",
              "      <td>setosa</td>\n",
              "    </tr>\n",
              "    <tr>\n",
              "      <th>7</th>\n",
              "      <td>4.6</td>\n",
              "      <td>3.4</td>\n",
              "      <td>1.4</td>\n",
              "      <td>0.3</td>\n",
              "      <td>setosa</td>\n",
              "    </tr>\n",
              "    <tr>\n",
              "      <th>8</th>\n",
              "      <td>5</td>\n",
              "      <td>3.4</td>\n",
              "      <td>1.5</td>\n",
              "      <td>0.2</td>\n",
              "      <td>setosa</td>\n",
              "    </tr>\n",
              "    <tr>\n",
              "      <th>9</th>\n",
              "      <td>4.4</td>\n",
              "      <td>2.9</td>\n",
              "      <td>1.4</td>\n",
              "      <td>0.2</td>\n",
              "      <td>setosa</td>\n",
              "    </tr>\n",
              "  </tbody>\n",
              "</table>\n",
              "</div>"
            ],
            "text/plain": [
              "   sepal_length  sepal_width  petal_length  petal_width   target\n",
              "0  sepal_length  sepal_width  petal_length  petal_width  species\n",
              "1           5.1          3.5           1.4          0.2   setosa\n",
              "2           4.9            3           1.4          0.2   setosa\n",
              "3           4.7          3.2           1.3          0.2   setosa\n",
              "4           4.6          3.1           1.5          0.2   setosa\n",
              "5             5          3.6           1.4          0.2   setosa\n",
              "6           5.4          3.9           1.7          0.4   setosa\n",
              "7           4.6          3.4           1.4          0.3   setosa\n",
              "8             5          3.4           1.5          0.2   setosa\n",
              "9           4.4          2.9           1.4          0.2   setosa"
            ]
          },
          "metadata": {
            "tags": []
          },
          "execution_count": 225
        }
      ]
    },
    {
      "metadata": {
        "id": "sJHgOoi0KGGk",
        "colab_type": "text"
      },
      "cell_type": "markdown",
      "source": [
        "To read from mysql database you can use below commands. Since I don't have mysql database loaded here just showing the code snippet required.\n",
        "\n",
        "`from sqlalchemy import create_engine`\n",
        "\n",
        "`engine = create_engine('mysql+localhost:8888/table')`\n",
        "\n",
        "`df = pd.read_sql_table('Table:', engine)`\n",
        "`df`\n",
        "\n"
      ]
    },
    {
      "metadata": {
        "id": "uj0qCHjwK5yL",
        "colab_type": "text"
      },
      "cell_type": "markdown",
      "source": [
        "# **How to deal with large datasets in smaller chunks**\n",
        "\n",
        "- Set the **iterator** to True in pandas methods\n",
        "- use the **get_chunk()** to receive data."
      ]
    },
    {
      "metadata": {
        "id": "e8Y5hS79PhiE",
        "colab_type": "code",
        "outputId": "afdf79f3-df56-44d2-d793-637ee19cc445",
        "colab": {
          "base_uri": "https://localhost:8080/",
          "height": 131
        }
      },
      "cell_type": "code",
      "source": [
        "import urllib.request as ur\n",
        "\n",
        "file = ur.urlopen(ur.Request(\"https://raw.githubusercontent.com/uiuc-cse/data-fa14/gh-pages/data/iris.csv\"))\n",
        "\n",
        "data_iterator = pd.read_csv(file, sep = ',' , header  = None, decimal= '.', names = ['sepal_length', 'sepal_width', 'petal_length', 'petal_width', 'target'], \n",
        "                            iterator = True)\n",
        "\n",
        "chunk = [data_iterator.get_chunk(100), data_iterator.get_chunk(5), data_iterator.get_chunk(2)]\n",
        "\n",
        "chunk[2] "
      ],
      "execution_count": 226,
      "outputs": [
        {
          "output_type": "execute_result",
          "data": {
            "text/html": [
              "<div>\n",
              "<style scoped>\n",
              "    .dataframe tbody tr th:only-of-type {\n",
              "        vertical-align: middle;\n",
              "    }\n",
              "\n",
              "    .dataframe tbody tr th {\n",
              "        vertical-align: top;\n",
              "    }\n",
              "\n",
              "    .dataframe thead th {\n",
              "        text-align: right;\n",
              "    }\n",
              "</style>\n",
              "<table border=\"1\" class=\"dataframe\">\n",
              "  <thead>\n",
              "    <tr style=\"text-align: right;\">\n",
              "      <th></th>\n",
              "      <th>sepal_length</th>\n",
              "      <th>sepal_width</th>\n",
              "      <th>petal_length</th>\n",
              "      <th>petal_width</th>\n",
              "      <th>target</th>\n",
              "    </tr>\n",
              "  </thead>\n",
              "  <tbody>\n",
              "    <tr>\n",
              "      <th>105</th>\n",
              "      <td>6.5</td>\n",
              "      <td>3</td>\n",
              "      <td>5.8</td>\n",
              "      <td>2.2</td>\n",
              "      <td>virginica</td>\n",
              "    </tr>\n",
              "    <tr>\n",
              "      <th>106</th>\n",
              "      <td>7.6</td>\n",
              "      <td>3</td>\n",
              "      <td>6.6</td>\n",
              "      <td>2.1</td>\n",
              "      <td>virginica</td>\n",
              "    </tr>\n",
              "  </tbody>\n",
              "</table>\n",
              "</div>"
            ],
            "text/plain": [
              "     sepal_length  sepal_width  petal_length  petal_width     target\n",
              "105           6.5            3           5.8          2.2  virginica\n",
              "106           7.6            3           6.6          2.1  virginica"
            ]
          },
          "metadata": {
            "tags": []
          },
          "execution_count": 226
        }
      ]
    },
    {
      "metadata": {
        "id": "velo7IvKQwEw",
        "colab_type": "text"
      },
      "cell_type": "markdown",
      "source": [
        "**Reading Data from Json**\n",
        "\n",
        "pandas provides the utilities read_json and to_json to deal with JSON strings or files."
      ]
    },
    {
      "metadata": {
        "id": "xCgDgSQGQ_EW",
        "colab_type": "code",
        "outputId": "340d3a19-9f55-4d17-a770-72a281657530",
        "colab": {
          "base_uri": "https://localhost:8080/",
          "height": 282
        }
      },
      "cell_type": "code",
      "source": [
        "import urllib.request as ur\n",
        "\n",
        "file = ur.urlopen(ur.Request(\"https://raw.githubusercontent.com/whatsupabhijit/py_rambling/master/pandas/contact.json\"))\n",
        "\n",
        "##\n",
        "## If you don't want to take from url and simply declare in your code\n",
        "## then import json and use json.dumps(give your json variable name here)\n",
        "#\n",
        "# import json\n",
        "# person = [your json goes here]\n",
        "# person_json_str = json.dumps(person)\n",
        "# df_json = pd.read_json(person_json_str)\n",
        "#\n",
        "\n",
        "df_json = pd.read_json(file)\n",
        "\n",
        "df_json.head(1)"
      ],
      "execution_count": 227,
      "outputs": [
        {
          "output_type": "execute_result",
          "data": {
            "text/html": [
              "<div>\n",
              "<style scoped>\n",
              "    .dataframe tbody tr th:only-of-type {\n",
              "        vertical-align: middle;\n",
              "    }\n",
              "\n",
              "    .dataframe tbody tr th {\n",
              "        vertical-align: top;\n",
              "    }\n",
              "\n",
              "    .dataframe thead th {\n",
              "        text-align: right;\n",
              "    }\n",
              "</style>\n",
              "<table border=\"1\" class=\"dataframe\">\n",
              "  <thead>\n",
              "    <tr style=\"text-align: right;\">\n",
              "      <th></th>\n",
              "      <th>_id</th>\n",
              "      <th>about</th>\n",
              "      <th>address</th>\n",
              "      <th>age</th>\n",
              "      <th>balance</th>\n",
              "      <th>company</th>\n",
              "      <th>email</th>\n",
              "      <th>eyeColor</th>\n",
              "      <th>favoriteFruit</th>\n",
              "      <th>friends</th>\n",
              "      <th>...</th>\n",
              "      <th>guid</th>\n",
              "      <th>index</th>\n",
              "      <th>isActive</th>\n",
              "      <th>latitude</th>\n",
              "      <th>longitude</th>\n",
              "      <th>name</th>\n",
              "      <th>phone</th>\n",
              "      <th>picture</th>\n",
              "      <th>registered</th>\n",
              "      <th>tags</th>\n",
              "    </tr>\n",
              "  </thead>\n",
              "  <tbody>\n",
              "    <tr>\n",
              "      <th>0</th>\n",
              "      <td>5bf8e6475fc62129cdf61a9a</td>\n",
              "      <td>Voluptate fugiat ut nisi aute adipisicing volu...</td>\n",
              "      <td>526 Oliver Street, Edgar, Delaware, 6455</td>\n",
              "      <td>32</td>\n",
              "      <td>$3,010.22</td>\n",
              "      <td>ENORMO</td>\n",
              "      <td>hodgesrivera@enormo.com</td>\n",
              "      <td>green</td>\n",
              "      <td>strawberry</td>\n",
              "      <td>[{'id': 0, 'name': 'Berta Hays'}, {'id': 1, 'n...</td>\n",
              "      <td>...</td>\n",
              "      <td>90ae433a-6ad4-438d-a6c7-d8668d9df7ef</td>\n",
              "      <td>0</td>\n",
              "      <td>True</td>\n",
              "      <td>38.115627</td>\n",
              "      <td>-21.175877</td>\n",
              "      <td>Hodges Rivera</td>\n",
              "      <td>+1 (933) 471-2714</td>\n",
              "      <td>http://placehold.it/32x32</td>\n",
              "      <td>2018-01-30T09:25:45 -08:00</td>\n",
              "      <td>[esse, minim, reprehenderit, ullamco, consequa...</td>\n",
              "    </tr>\n",
              "  </tbody>\n",
              "</table>\n",
              "<p>1 rows × 22 columns</p>\n",
              "</div>"
            ],
            "text/plain": [
              "                        _id  \\\n",
              "0  5bf8e6475fc62129cdf61a9a   \n",
              "\n",
              "                                               about  \\\n",
              "0  Voluptate fugiat ut nisi aute adipisicing volu...   \n",
              "\n",
              "                                    address  age    balance company  \\\n",
              "0  526 Oliver Street, Edgar, Delaware, 6455   32  $3,010.22  ENORMO   \n",
              "\n",
              "                     email eyeColor favoriteFruit  \\\n",
              "0  hodgesrivera@enormo.com    green    strawberry   \n",
              "\n",
              "                                             friends  \\\n",
              "0  [{'id': 0, 'name': 'Berta Hays'}, {'id': 1, 'n...   \n",
              "\n",
              "                         ...                          \\\n",
              "0                        ...                           \n",
              "\n",
              "                                   guid index isActive   latitude  longitude  \\\n",
              "0  90ae433a-6ad4-438d-a6c7-d8668d9df7ef     0     True  38.115627 -21.175877   \n",
              "\n",
              "            name              phone                    picture  \\\n",
              "0  Hodges Rivera  +1 (933) 471-2714  http://placehold.it/32x32   \n",
              "\n",
              "                   registered  \\\n",
              "0  2018-01-30T09:25:45 -08:00   \n",
              "\n",
              "                                                tags  \n",
              "0  [esse, minim, reprehenderit, ullamco, consequa...  \n",
              "\n",
              "[1 rows x 22 columns]"
            ]
          },
          "metadata": {
            "tags": []
          },
          "execution_count": 227
        }
      ]
    },
    {
      "metadata": {
        "id": "avN2JqpJVSoO",
        "colab_type": "code",
        "colab": {}
      },
      "cell_type": "code",
      "source": [
        "#?pd.DataFrame.to_csv\n",
        "?pd.read_csv"
      ],
      "execution_count": 0,
      "outputs": []
    },
    {
      "metadata": {
        "id": "i4tKTogSUCmt",
        "colab_type": "text"
      },
      "cell_type": "markdown",
      "source": [
        "# Indexing\n",
        "\n",
        "Till now have seen very basic indexing of rows or columns. But pandas provide more. Letss see what we can index and how."
      ]
    },
    {
      "metadata": {
        "id": "17zhQ8yCYHYG",
        "colab_type": "text"
      },
      "cell_type": "markdown",
      "source": [
        "# Single Level Indexing\n",
        "\n",
        "till now we have seen when data frame object was created we passed one index ***paramter***. \n",
        "We can still do that. \n",
        "\n",
        "But DataFrame also has index as an attribute. Once dataframe is created you can set the index ***attribute*** later."
      ]
    },
    {
      "metadata": {
        "id": "QvNBw3OsYrid",
        "colab_type": "code",
        "outputId": "8f90add8-9ee6-4d8b-94d7-e9f3e4783b92",
        "colab": {
          "base_uri": "https://localhost:8080/",
          "height": 224
        }
      },
      "cell_type": "code",
      "source": [
        "row = 5\n",
        "col = 3\n",
        "\n",
        "df = pd.DataFrame(np.random.rand(row,col))\n",
        "\n",
        "df.index = [ 'row#' + str(i) for i in range(1, row+1) ]\n",
        "\n",
        "df"
      ],
      "execution_count": 229,
      "outputs": [
        {
          "output_type": "execute_result",
          "data": {
            "text/html": [
              "<div>\n",
              "<style scoped>\n",
              "    .dataframe tbody tr th:only-of-type {\n",
              "        vertical-align: middle;\n",
              "    }\n",
              "\n",
              "    .dataframe tbody tr th {\n",
              "        vertical-align: top;\n",
              "    }\n",
              "\n",
              "    .dataframe thead th {\n",
              "        text-align: right;\n",
              "    }\n",
              "</style>\n",
              "<table border=\"1\" class=\"dataframe\">\n",
              "  <thead>\n",
              "    <tr style=\"text-align: right;\">\n",
              "      <th></th>\n",
              "      <th>0</th>\n",
              "      <th>1</th>\n",
              "      <th>2</th>\n",
              "    </tr>\n",
              "  </thead>\n",
              "  <tbody>\n",
              "    <tr>\n",
              "      <th>row#1</th>\n",
              "      <td>0.953152</td>\n",
              "      <td>0.792667</td>\n",
              "      <td>0.145819</td>\n",
              "    </tr>\n",
              "    <tr>\n",
              "      <th>row#2</th>\n",
              "      <td>0.065798</td>\n",
              "      <td>0.068669</td>\n",
              "      <td>0.328109</td>\n",
              "    </tr>\n",
              "    <tr>\n",
              "      <th>row#3</th>\n",
              "      <td>0.680854</td>\n",
              "      <td>0.892061</td>\n",
              "      <td>0.820837</td>\n",
              "    </tr>\n",
              "    <tr>\n",
              "      <th>row#4</th>\n",
              "      <td>0.296181</td>\n",
              "      <td>0.052830</td>\n",
              "      <td>0.678291</td>\n",
              "    </tr>\n",
              "    <tr>\n",
              "      <th>row#5</th>\n",
              "      <td>0.849150</td>\n",
              "      <td>0.713946</td>\n",
              "      <td>0.561343</td>\n",
              "    </tr>\n",
              "  </tbody>\n",
              "</table>\n",
              "</div>"
            ],
            "text/plain": [
              "              0         1         2\n",
              "row#1  0.953152  0.792667  0.145819\n",
              "row#2  0.065798  0.068669  0.328109\n",
              "row#3  0.680854  0.892061  0.820837\n",
              "row#4  0.296181  0.052830  0.678291\n",
              "row#5  0.849150  0.713946  0.561343"
            ]
          },
          "metadata": {
            "tags": []
          },
          "execution_count": 229
        }
      ]
    },
    {
      "metadata": {
        "id": "ArvjCQDeeH61",
        "colab_type": "text"
      },
      "cell_type": "markdown",
      "source": [
        "# Date Level Indexing\n",
        "\n",
        "How to create a date range from any day of specified perio and freequency\n",
        "\n",
        "- **date_range**\n",
        "- **to_datetime**\n",
        "\n",
        "More at [here](http://pandas.pydata.org/pandas-docs/stable/timeseries.html)"
      ]
    },
    {
      "metadata": {
        "id": "3Ym8CwEteUpc",
        "colab_type": "code",
        "outputId": "e5984b7a-46b4-4d6c-90f7-c6de33a50afa",
        "colab": {
          "base_uri": "https://localhost:8080/",
          "height": 207
        }
      },
      "cell_type": "code",
      "source": [
        "\n",
        "print(\"These are the 10 days\" , pd.date_range('1/1/2018', periods=10, freq='D'))\n",
        "print(\"These are the 5 months\" , pd.date_range('1/1/2018', periods=5, freq='M'))\n",
        "print(\"These are the 3 years\" , pd.date_range('1/1/2018', periods=3, freq='Y'))\n",
        "print(\"These are the 3 weeks\" , pd.date_range('1/1/2018', periods=3, freq='W'))\n",
        "print(\"These are the 4 Business Quarters\" , pd.date_range('1/1/2018', periods=4, freq='BQ'))"
      ],
      "execution_count": 230,
      "outputs": [
        {
          "output_type": "stream",
          "text": [
            "These are the 10 days DatetimeIndex(['2018-01-01', '2018-01-02', '2018-01-03', '2018-01-04',\n",
            "               '2018-01-05', '2018-01-06', '2018-01-07', '2018-01-08',\n",
            "               '2018-01-09', '2018-01-10'],\n",
            "              dtype='datetime64[ns]', freq='D')\n",
            "These are the 5 months DatetimeIndex(['2018-01-31', '2018-02-28', '2018-03-31', '2018-04-30',\n",
            "               '2018-05-31'],\n",
            "              dtype='datetime64[ns]', freq='M')\n",
            "These are the 3 years DatetimeIndex(['2018-12-31', '2019-12-31', '2020-12-31'], dtype='datetime64[ns]', freq='A-DEC')\n",
            "These are the 3 weeks DatetimeIndex(['2018-01-07', '2018-01-14', '2018-01-21'], dtype='datetime64[ns]', freq='W-SUN')\n",
            "These are the 4 Business Quarters DatetimeIndex(['2018-03-30', '2018-06-29', '2018-09-28', '2018-12-31'], dtype='datetime64[ns]', freq='BQ-DEC')\n"
          ],
          "name": "stdout"
        }
      ]
    },
    {
      "metadata": {
        "id": "B1kUBUiuglv9",
        "colab_type": "code",
        "outputId": "63f7bf77-2323-431c-e7cd-11a5629b0937",
        "colab": {
          "base_uri": "https://localhost:8080/",
          "height": 139
        }
      },
      "cell_type": "code",
      "source": [
        "#Date values with formatting\n",
        "\n",
        "print(pd.to_datetime(['20180310', '20181214', 'stringnotindateformat'], format='%Y%m%d', errors='coerce'), end = '\\n\\n') # NaT - Not a Time\n",
        "\n",
        "print(pd.to_datetime(pd.Series(['Jul 31, 2009', '2010-01-10', None])))"
      ],
      "execution_count": 231,
      "outputs": [
        {
          "output_type": "stream",
          "text": [
            "DatetimeIndex(['2018-03-10', '2018-12-14', 'NaT'], dtype='datetime64[ns]', freq=None)\n",
            "\n",
            "0   2009-07-31\n",
            "1   2010-01-10\n",
            "2          NaT\n",
            "dtype: datetime64[ns]\n"
          ],
          "name": "stdout"
        }
      ]
    },
    {
      "metadata": {
        "id": "Lbz0n5Kqhdu8",
        "colab_type": "text"
      },
      "cell_type": "markdown",
      "source": [
        "**All is fine but how is it related to DataFrame**\n"
      ]
    },
    {
      "metadata": {
        "id": "9KcDSQr7hiec",
        "colab_type": "code",
        "outputId": "af1f1dd6-0719-40e2-fab3-4e7b0cea8375",
        "colab": {
          "base_uri": "https://localhost:8080/",
          "height": 88
        }
      },
      "cell_type": "code",
      "source": [
        "df_index = pd.DataFrame({'year': [2014, 2015], 'month': [7,2], 'day': [28,16]})\n",
        "\n",
        "pd.to_datetime(df_index)"
      ],
      "execution_count": 232,
      "outputs": [
        {
          "output_type": "execute_result",
          "data": {
            "text/plain": [
              "0   2014-07-28\n",
              "1   2015-02-16\n",
              "dtype: datetime64[ns]"
            ]
          },
          "metadata": {
            "tags": []
          },
          "execution_count": 232
        }
      ]
    },
    {
      "metadata": {
        "id": "OWguKhtKfZyg",
        "colab_type": "code",
        "colab": {}
      },
      "cell_type": "code",
      "source": [
        "?pd.date_range"
      ],
      "execution_count": 0,
      "outputs": []
    },
    {
      "metadata": {
        "id": "rwnqJr9XiDr6",
        "colab_type": "text"
      },
      "cell_type": "markdown",
      "source": [
        "# Multi Level Indexing / Hierarchical indexing\n",
        "\n",
        "We have seen single level indexing. Now we will see hierarchical indexing.\n",
        "\n",
        "To deal with this we need to create Multi Level object.\n",
        "\n",
        "\n"
      ]
    },
    {
      "metadata": {
        "id": "CFoYTms9ifRv",
        "colab_type": "code",
        "outputId": "60801dda-7762-4de7-ebec-fca30813b121",
        "colab": {
          "base_uri": "https://localhost:8080/",
          "height": 156
        }
      },
      "cell_type": "code",
      "source": [
        "lists = [['Abhijit', 'Abhijit',   'Abhijit', 'Joyee', 'Joyee'],\n",
        "         ['won',      'lost',   'won',     'lost',    'won']]\n",
        "\n",
        "\n",
        "m_index = pd.MultiIndex.from_arrays(lists, names = ['name' , 'game'])\n",
        "\n",
        "m_index\n",
        "\n",
        "#Now you can use this multi level index in your Series/DataFrame\n",
        "\n",
        "m_series = pd.Series(np.random.randn(5)*100 % 100, index=m_index)\n",
        "m_series"
      ],
      "execution_count": 234,
      "outputs": [
        {
          "output_type": "execute_result",
          "data": {
            "text/plain": [
              "name     game\n",
              "Abhijit  won      6.287599\n",
              "         lost    44.560047\n",
              "         won     58.370616\n",
              "Joyee    lost    78.491047\n",
              "         won     77.454342\n",
              "dtype: float64"
            ]
          },
          "metadata": {
            "tags": []
          },
          "execution_count": 234
        }
      ]
    },
    {
      "metadata": {
        "id": "_xuo25ImmJYt",
        "colab_type": "code",
        "outputId": "ae3b2e99-195f-49d9-a6fe-ad5734d4e24e",
        "colab": {
          "base_uri": "https://localhost:8080/",
          "height": 122
        }
      },
      "cell_type": "code",
      "source": [
        "m_series['Abhijit']"
      ],
      "execution_count": 235,
      "outputs": [
        {
          "output_type": "execute_result",
          "data": {
            "text/plain": [
              "game\n",
              "won      6.287599\n",
              "lost    44.560047\n",
              "won     58.370616\n",
              "dtype: float64"
            ]
          },
          "metadata": {
            "tags": []
          },
          "execution_count": 235
        }
      ]
    },
    {
      "metadata": {
        "id": "-6QxL2zcmS7c",
        "colab_type": "code",
        "outputId": "940ef98d-e9f3-4762-e917-a028d51fdae6",
        "colab": {
          "base_uri": "https://localhost:8080/",
          "height": 88
        }
      },
      "cell_type": "code",
      "source": [
        "m_series['Abhijit','won']"
      ],
      "execution_count": 236,
      "outputs": [
        {
          "output_type": "execute_result",
          "data": {
            "text/plain": [
              "(Abhijit, won)     6.287599\n",
              "(Abhijit, won)    58.370616\n",
              "dtype: float64"
            ]
          },
          "metadata": {
            "tags": []
          },
          "execution_count": 236
        }
      ]
    },
    {
      "metadata": {
        "id": "3aBjAafeqp3f",
        "colab_type": "text"
      },
      "cell_type": "markdown",
      "source": [
        "**Indexing Summary **\n",
        "\n",
        "1. Create an index named dates, representing a range of dates starting from 1-Sep-2017 to 15-Sep-2017.\n",
        "\n",
        "2. Convert the following list of date strings into datetime objects. Capture the result in search_dates\n",
        "\n",
        "                    datelist = ['14-Sep-2017', '9-Sep-2017']\n",
        "\n",
        "3. Filter those index dates from dates which match dates in search_dates. Display the filtered dates.  \n",
        "\n",
        "     Hint: use isin method associated with DatetimeIndex objects.\n",
        "     \n",
        "\n",
        "4. Add 1 hours 2 Days to the filtered days and display it\n",
        "\n",
        "\n",
        "5. Create a multi index named mi_index of two levels, represented in the below array arraylist. Display levels of mi_index.\n",
        "\n",
        "                      `arraylist = [['classA'] * 5 + ['classB'] * 5, ['s1', 's2', 's3','s4', 's5'] * 2]`"
      ]
    },
    {
      "metadata": {
        "id": "ITBwAuRCrQJx",
        "colab_type": "code",
        "outputId": "94ff93c1-4447-42f1-c22c-445252002678",
        "colab": {
          "base_uri": "https://localhost:8080/",
          "height": 258
        }
      },
      "cell_type": "code",
      "source": [
        "#1\n",
        "dates = pd.date_range('9/1/2017', periods=15, freq = 'D')\n",
        "print(dates, end='\\n\\n')\n",
        "\n",
        "#2\n",
        "datelist = ['14-Sep-2017', '9-Sep-2017']\n",
        "search_dates = pd.to_datetime(datelist)\n",
        "print(search_dates, end= '\\n\\n')\n",
        "\n",
        "\n",
        "#3\n",
        "filtered_dates_bool = dates.isin(search_dates)\n",
        "#print (filtered_dates_bool, end='\\n\\n')\n",
        "\n",
        "filtered_dates = dates[filtered_dates_bool]\n",
        "print (filtered_dates, end='\\n\\n')\n",
        "\n",
        "#4\n",
        "print(filtered_dates + pd.Timedelta('1 days 2 hours'), end='\\n\\n')\n",
        "\n",
        "#5\n",
        "arraylist = [['classA'] * 5 + ['classB'] * 5, ['s1', 's2', 's3','s4', 's5'] * 2]\n",
        "mi_index = pd.MultiIndex.from_arrays(arraylist)\n",
        "print(mi_index.levels)"
      ],
      "execution_count": 237,
      "outputs": [
        {
          "output_type": "stream",
          "text": [
            "DatetimeIndex(['2017-09-01', '2017-09-02', '2017-09-03', '2017-09-04',\n",
            "               '2017-09-05', '2017-09-06', '2017-09-07', '2017-09-08',\n",
            "               '2017-09-09', '2017-09-10', '2017-09-11', '2017-09-12',\n",
            "               '2017-09-13', '2017-09-14', '2017-09-15'],\n",
            "              dtype='datetime64[ns]', freq='D')\n",
            "\n",
            "DatetimeIndex(['2017-09-14', '2017-09-09'], dtype='datetime64[ns]', freq=None)\n",
            "\n",
            "DatetimeIndex(['2017-09-09', '2017-09-14'], dtype='datetime64[ns]', freq=None)\n",
            "\n",
            "DatetimeIndex(['2017-09-10 02:00:00', '2017-09-15 02:00:00'], dtype='datetime64[ns]', freq=None)\n",
            "\n",
            "[['classA', 'classB'], ['s1', 's2', 's3', 's4', 's5']]\n"
          ],
          "name": "stdout"
        }
      ]
    },
    {
      "metadata": {
        "id": "SJj69VhyvAUq",
        "colab_type": "code",
        "outputId": "c1548fef-4040-4d20-90dd-102af6384eea",
        "colab": {
          "base_uri": "https://localhost:8080/",
          "height": 54
        }
      },
      "cell_type": "code",
      "source": [
        "pd.bdate_range('11-Sep-2017', '17-Sep-2017', freq='2D')"
      ],
      "execution_count": 238,
      "outputs": [
        {
          "output_type": "execute_result",
          "data": {
            "text/plain": [
              "DatetimeIndex(['2017-09-11', '2017-09-13', '2017-09-15', '2017-09-17'], dtype='datetime64[ns]', freq='2D')"
            ]
          },
          "metadata": {
            "tags": []
          },
          "execution_count": 238
        }
      ]
    },
    {
      "metadata": {
        "id": "yW9koYy3vJDT",
        "colab_type": "code",
        "outputId": "872a4c5b-dfff-457e-cf65-628df953980f",
        "colab": {
          "base_uri": "https://localhost:8080/",
          "height": 54
        }
      },
      "cell_type": "code",
      "source": [
        "pd.period_range('11-Sep-2017', '17-Sep-2017', freq='M')"
      ],
      "execution_count": 239,
      "outputs": [
        {
          "output_type": "execute_result",
          "data": {
            "text/plain": [
              "PeriodIndex(['2017-09'], dtype='period[M]', freq='M')"
            ]
          },
          "metadata": {
            "tags": []
          },
          "execution_count": 239
        }
      ]
    },
    {
      "metadata": {
        "id": "8-BVYNEiwGci",
        "colab_type": "code",
        "outputId": "58f2d1a0-2a99-4038-a2c8-5d05a6ea4195",
        "colab": {
          "base_uri": "https://localhost:8080/",
          "height": 88
        }
      },
      "cell_type": "code",
      "source": [
        "d = pd.date_range('11-Sep-2017', '17-Sep-2017', freq='2D')\n",
        "print(d + pd.Timedelta('1 days 2 hours'))"
      ],
      "execution_count": 240,
      "outputs": [
        {
          "output_type": "stream",
          "text": [
            "DatetimeIndex(['2017-09-12 02:00:00', '2017-09-14 02:00:00',\n",
            "               '2017-09-16 02:00:00', '2017-09-18 02:00:00'],\n",
            "              dtype='datetime64[ns]', freq='2D')\n"
          ],
          "name": "stdout"
        }
      ]
    },
    {
      "metadata": {
        "id": "Zk1NWgMjwY29",
        "colab_type": "text"
      },
      "cell_type": "markdown",
      "source": [
        "# Data Cleaning \n",
        "\n",
        "Data Cleaning alludes to change of crude information to a helpful organized shape, which is utilized for further examination. \n",
        "\n",
        "The procedure incorporates different ways like managing missing fields, removing duplicates etc.\n",
        "\n",
        "- Remove **duplicate** records\n",
        "  `d = d.drop_duplicates()`\n",
        "  \n",
        "- **Missing** Values\n",
        "  - **Find** missing values\n",
        "  `d['col_name'].isnull().value_counts()`\n",
        "  \n",
        "  - **Remove** all rows with missing values\n",
        "  `d = d.dropna(how='any')`\n",
        "  \n",
        "  - **Replace** missing data\n",
        "  `d = d.fillna(0)\n",
        "    d  =  d.fillna(method='pad')\n",
        "    d  =  d.fillna(df.mean())`\n",
        "  \n",
        "- **Extract** data from a existing column and put into a new column (use regular expression to copy first word)\n",
        " `df['new_col_name'] = df['existing_col_name'].str.extract('\\W+')`\n",
        " \n",
        "- **Replace** data\n",
        "`df['existing_col_name'] = df['existing_col_name'].str.replace('^Abhi', 'Joyee')`\n",
        "\n",
        "- **Filter** specific rows\n",
        "`df[df['col_name'] == 'somevalue']`\n"
      ]
    },
    {
      "metadata": {
        "id": "f5KN5FpT0wMz",
        "colab_type": "text"
      },
      "cell_type": "markdown",
      "source": [
        "**Summary Data Cleaning **\n",
        "\n",
        "\n",
        "1. Set height and weight values of student s3 to NaN in the data frame df_A\n",
        "2. Also set the weight of s5 to NaN in df_A.\n",
        "3. Drop the rows having null values in any of the columns and assign the result to df_drop.\n",
        "4. Display df_drop index."
      ]
    },
    {
      "metadata": {
        "id": "BkdEevo00vVu",
        "colab_type": "code",
        "outputId": "24e5f490-9967-4e67-8080-0765d9575f3e",
        "colab": {
          "base_uri": "https://localhost:8080/",
          "height": 428
        }
      },
      "cell_type": "code",
      "source": [
        "print(df_A, end='\\n\\n\\n')\n",
        "\n",
        "#1\n",
        "df_A.loc['s3', 'heights'] = np.nan\n",
        "df_A.loc['s3', 'weights'] = np.nan\n",
        "\n",
        "#2\n",
        "df_A.loc['s5', 'weights'] = np.nan\n",
        "\n",
        "#3\n",
        "print(df_A, end='\\n\\n\\n')\n",
        "\n",
        "df_drop = df_A.dropna(how='any')\n",
        "\n",
        "print(df_drop, end='\\n\\n\\n')\n",
        "\n",
        "#4\n",
        "df_drop.index\n",
        "\n"
      ],
      "execution_count": 241,
      "outputs": [
        {
          "output_type": "stream",
          "text": [
            "    heights  weights\n",
            "s1    176.2     85.1\n",
            "s2    158.4     90.2\n",
            "s3    167.6     76.8\n",
            "s4    156.2     80.4\n",
            "s5    161.4     78.9\n",
            "\n",
            "\n",
            "    heights  weights\n",
            "s1    176.2     85.1\n",
            "s2    158.4     90.2\n",
            "s3      NaN      NaN\n",
            "s4    156.2     80.4\n",
            "s5    161.4      NaN\n",
            "\n",
            "\n",
            "    heights  weights\n",
            "s1    176.2     85.1\n",
            "s2    158.4     90.2\n",
            "s4    156.2     80.4\n",
            "\n",
            "\n"
          ],
          "name": "stdout"
        },
        {
          "output_type": "execute_result",
          "data": {
            "text/plain": [
              "Index(['s1', 's2', 's4'], dtype='object')"
            ]
          },
          "metadata": {
            "tags": []
          },
          "execution_count": 241
        }
      ]
    },
    {
      "metadata": {
        "id": "LtZlp0z36DtP",
        "colab_type": "text"
      },
      "cell_type": "markdown",
      "source": [
        "# Data Aggregation\n",
        "\n",
        "Data aggregation is useful when you want to group some data together based on certain condition.\n",
        "\n",
        "You can create such group and make a comparative study.\n"
      ]
    },
    {
      "metadata": {
        "id": "eGW5eNwH9XY6",
        "colab_type": "text"
      },
      "cell_type": "markdown",
      "source": [
        "- **Filtering examples:-**"
      ]
    },
    {
      "metadata": {
        "id": "p4VxwUKp6VnG",
        "colab_type": "code",
        "outputId": "aa8312b3-4662-4402-aea8-c3aea235fe10",
        "colab": {
          "base_uri": "https://localhost:8080/",
          "height": 187
        }
      },
      "cell_type": "code",
      "source": [
        "file = ur.urlopen(ur.Request(\"https://raw.githubusercontent.com/uiuc-cse/data-fa14/gh-pages/data/iris.csv\"))\n",
        "\n",
        "data = pd.read_csv(file, sep = ',' , skiprows=1, decimal= '.', names = ['sepal_length', 'sepal_width', 'petal_length', 'petal_width', 'target'])\n",
        "\n",
        "print(type(data))\n",
        "\n",
        "print (\"Total Count\")\n",
        "print(data['target'].count())\n",
        "\n",
        "print('setoa count')\n",
        "setoa = data[data['target'] == 'setosa'] \n",
        "print(setoa['target'].count())\n",
        "\n",
        "\n",
        "print(setoa['petal_length'].min())\n",
        "print(setoa['petal_length'].median())\n",
        "print(setoa['petal_length'].mode())\n",
        "print(setoa['petal_length'].std())"
      ],
      "execution_count": 242,
      "outputs": [
        {
          "output_type": "stream",
          "text": [
            "<class 'pandas.core.frame.DataFrame'>\n",
            "Total Count\n",
            "150\n",
            "setoa count\n",
            "50\n",
            "1.0\n",
            "1.5\n",
            "0    1.5\n",
            "dtype: float64\n",
            "0.17351115943644546\n"
          ],
          "name": "stdout"
        }
      ]
    },
    {
      "metadata": {
        "id": "aB0i9WNP9dI-",
        "colab_type": "text"
      },
      "cell_type": "markdown",
      "source": [
        "- ** Transforming examples**"
      ]
    },
    {
      "metadata": {
        "id": "4i4Tc6FP9hHk",
        "colab_type": "code",
        "outputId": "fb8d62cf-1acd-4a9d-e61b-a775a3f429e4",
        "colab": {
          "base_uri": "https://localhost:8080/",
          "height": 544
        }
      },
      "cell_type": "code",
      "source": [
        "df_bef = pd.DataFrame({'temp':pd.Series(28 + 10*np.random.randn(10)),\n",
        "\n",
        "                   'rain':pd.Series(100 + 50*np.random.randn(10)),\n",
        "\n",
        "                   'location':list('AAAAABBBBB')\n",
        "\n",
        "})\n",
        "\n",
        "print('Before replacements')\n",
        "print(df_bef, end = '\\n\\n')\n",
        "\n",
        "# define replacement dictionary\n",
        "replacements = {\n",
        "\n",
        "'location': {'A':'Hyderabad', 'B':'Mumbai'}\n",
        "\n",
        "}\n",
        "\n",
        "df_rpl = df_bef.replace(replacements, regex=True)\n",
        "\n",
        "print(df_rpl, end = '\\n\\n')\n",
        "\n",
        "\n",
        "#you can also use replacement based on specific pattern\n",
        "\n",
        "mumbai_replacements = df_rpl.loc[df_rpl.location.str.contains('umb'),:]\n",
        "print(mumbai_replacements)"
      ],
      "execution_count": 243,
      "outputs": [
        {
          "output_type": "stream",
          "text": [
            "Before replacements\n",
            "  location        rain       temp\n",
            "0        A   62.309456  36.066258\n",
            "1        A   46.200355  21.682243\n",
            "2        A  127.080478  22.768586\n",
            "3        A  167.304232  23.252115\n",
            "4        A  132.952404  30.846773\n",
            "5        B  110.164743  20.099462\n",
            "6        B  162.696959  11.800856\n",
            "7        B   46.399348  37.127003\n",
            "8        B  -26.995007  29.873916\n",
            "9        B   30.180790  29.736350\n",
            "\n",
            "    location        rain       temp\n",
            "0  Hyderabad   62.309456  36.066258\n",
            "1  Hyderabad   46.200355  21.682243\n",
            "2  Hyderabad  127.080478  22.768586\n",
            "3  Hyderabad  167.304232  23.252115\n",
            "4  Hyderabad  132.952404  30.846773\n",
            "5     Mumbai  110.164743  20.099462\n",
            "6     Mumbai  162.696959  11.800856\n",
            "7     Mumbai   46.399348  37.127003\n",
            "8     Mumbai  -26.995007  29.873916\n",
            "9     Mumbai   30.180790  29.736350\n",
            "\n",
            "  location        rain       temp\n",
            "5   Mumbai  110.164743  20.099462\n",
            "6   Mumbai  162.696959  11.800856\n",
            "7   Mumbai   46.399348  37.127003\n",
            "8   Mumbai  -26.995007  29.873916\n",
            "9   Mumbai   30.180790  29.736350\n"
          ],
          "name": "stdout"
        }
      ]
    },
    {
      "metadata": {
        "id": "zX60NyKe--DF",
        "colab_type": "text"
      },
      "cell_type": "markdown",
      "source": [
        "- ** Grouping examples**"
      ]
    },
    {
      "metadata": {
        "id": "mdxx-Khq-__D",
        "colab_type": "code",
        "outputId": "6f5e7a1f-9bf0-4911-cc3b-bd4a8fa4b2de",
        "colab": {
          "base_uri": "https://localhost:8080/",
          "height": 85
        }
      },
      "cell_type": "code",
      "source": [
        "regions = df_rpl.groupby('location')\n",
        "\n",
        "print(regions.mean())"
      ],
      "execution_count": 244,
      "outputs": [
        {
          "output_type": "stream",
          "text": [
            "                 rain       temp\n",
            "location                        \n",
            "Hyderabad  107.169385  26.923195\n",
            "Mumbai      64.489367  25.727517\n"
          ],
          "name": "stdout"
        }
      ]
    },
    {
      "metadata": {
        "id": "RMAdBe4L_LFl",
        "colab_type": "text"
      },
      "cell_type": "markdown",
      "source": [
        "**Data Grouping summary**\n",
        "\n",
        "1. Filter the rows from df_A, whose Student_height > 160.0 and Student_weight < 80.0 and display the filtered rows.\n",
        "2. Filter the rows from df_A, whose index values end with 5 and display them.\n",
        "3. Create a new column Gender in data frame df_A using the below command.\n",
        "     `df_A['Gender'] = ['M', 'F', 'M', 'M', 'F']``\n",
        "     \n",
        "4. Group df_A based on Gender and calculated mean height and weight of each group.\n",
        "5. Print the column 0th and 1st column using lambda() from df_A "
      ]
    },
    {
      "metadata": {
        "id": "Oit1Y0PI_czA",
        "colab_type": "code",
        "outputId": "788eaa66-c597-4710-c559-8d5c83fd4f02",
        "colab": {
          "base_uri": "https://localhost:8080/",
          "height": 561
        }
      },
      "cell_type": "code",
      "source": [
        "#1\n",
        "print(df_A, end ='\\n\\n')\n",
        "df_st = df_A[(df_A['heights'] > 160) & (df_A['weights'] > 80)]\n",
        "print(df_st,  end ='\\n\\n')\n",
        "\n",
        "#2 \n",
        "# Note 5$ is a regular expression for ending with 5\n",
        "# Also note that if you wanted column just type dataframe dot columnname. \n",
        "# Here we wanted indexes so we are saying dataframe dot index\n",
        "print(df_A.iloc[df_A.index.str.contains('5$')],  end ='\\n\\n')\n",
        "\n",
        "\n",
        "#3\n",
        "df_A['Gender'] = ['M', 'F', 'M', 'M', 'F']\n",
        "print(df_A,  end ='\\n\\n')\n",
        "\n",
        "\n",
        "#4\n",
        "genders = df_A.groupby('Gender')\n",
        "print(genders.mean(),  end ='\\n\\n')\n",
        "\n",
        "#5\n",
        "print(df_A.iloc[:, lambda x : [0,1]],  end ='\\n\\n')\n",
        "\n",
        "#print(df_ind,  end ='\\n\\n')"
      ],
      "execution_count": 245,
      "outputs": [
        {
          "output_type": "stream",
          "text": [
            "    heights  weights\n",
            "s1    176.2     85.1\n",
            "s2    158.4     90.2\n",
            "s3      NaN      NaN\n",
            "s4    156.2     80.4\n",
            "s5    161.4      NaN\n",
            "\n",
            "    heights  weights\n",
            "s1    176.2     85.1\n",
            "\n",
            "    heights  weights\n",
            "s5    161.4      NaN\n",
            "\n",
            "    heights  weights Gender\n",
            "s1    176.2     85.1      M\n",
            "s2    158.4     90.2      F\n",
            "s3      NaN      NaN      M\n",
            "s4    156.2     80.4      M\n",
            "s5    161.4      NaN      F\n",
            "\n",
            "        heights  weights\n",
            "Gender                  \n",
            "F         159.9    90.20\n",
            "M         166.2    82.75\n",
            "\n",
            "    heights  weights\n",
            "s1    176.2     85.1\n",
            "s2    158.4     90.2\n",
            "s3      NaN      NaN\n",
            "s4    156.2     80.4\n",
            "s5    161.4      NaN\n",
            "\n"
          ],
          "name": "stdout"
        }
      ]
    },
    {
      "metadata": {
        "id": "8TiI4V3kOWtD",
        "colab_type": "text"
      },
      "cell_type": "markdown",
      "source": [
        "# Data Merging\n",
        "\n",
        "- `Data` Merging refers to combining data stored in multiple entities based on a specific criteria.\n",
        "\n",
        "- Pandas provides utilities like merge, which is used to merge two or more data frames."
      ]
    },
    {
      "metadata": {
        "id": "bU65DiIuQL_A",
        "colab_type": "code",
        "outputId": "a4c9b77d-bba6-40dc-e7e5-5e38c2cc23ed",
        "colab": {
          "base_uri": "https://localhost:8080/",
          "height": 204
        }
      },
      "cell_type": "code",
      "source": [
        "df1 = pd.DataFrame({'org': [111, 747, 777, 888, 638], 'logo': [1, 2, 3, 1, 1], 'key': ['K0', 'K1', 'K2', 'K3', 'K4']})\n",
        "df2 = pd.DataFrame({'org': [112, 748, 778, 889, 639], 'logo': [10, 20, 30, 10, 10], 'key': ['K0', 'K1', 'K2', 'K3', 'K4']})\n",
        "df1"
      ],
      "execution_count": 246,
      "outputs": [
        {
          "output_type": "execute_result",
          "data": {
            "text/html": [
              "<div>\n",
              "<style scoped>\n",
              "    .dataframe tbody tr th:only-of-type {\n",
              "        vertical-align: middle;\n",
              "    }\n",
              "\n",
              "    .dataframe tbody tr th {\n",
              "        vertical-align: top;\n",
              "    }\n",
              "\n",
              "    .dataframe thead th {\n",
              "        text-align: right;\n",
              "    }\n",
              "</style>\n",
              "<table border=\"1\" class=\"dataframe\">\n",
              "  <thead>\n",
              "    <tr style=\"text-align: right;\">\n",
              "      <th></th>\n",
              "      <th>key</th>\n",
              "      <th>logo</th>\n",
              "      <th>org</th>\n",
              "    </tr>\n",
              "  </thead>\n",
              "  <tbody>\n",
              "    <tr>\n",
              "      <th>0</th>\n",
              "      <td>K0</td>\n",
              "      <td>1</td>\n",
              "      <td>111</td>\n",
              "    </tr>\n",
              "    <tr>\n",
              "      <th>1</th>\n",
              "      <td>K1</td>\n",
              "      <td>2</td>\n",
              "      <td>747</td>\n",
              "    </tr>\n",
              "    <tr>\n",
              "      <th>2</th>\n",
              "      <td>K2</td>\n",
              "      <td>3</td>\n",
              "      <td>777</td>\n",
              "    </tr>\n",
              "    <tr>\n",
              "      <th>3</th>\n",
              "      <td>K3</td>\n",
              "      <td>1</td>\n",
              "      <td>888</td>\n",
              "    </tr>\n",
              "    <tr>\n",
              "      <th>4</th>\n",
              "      <td>K4</td>\n",
              "      <td>1</td>\n",
              "      <td>638</td>\n",
              "    </tr>\n",
              "  </tbody>\n",
              "</table>\n",
              "</div>"
            ],
            "text/plain": [
              "  key  logo  org\n",
              "0  K0     1  111\n",
              "1  K1     2  747\n",
              "2  K2     3  777\n",
              "3  K3     1  888\n",
              "4  K4     1  638"
            ]
          },
          "metadata": {
            "tags": []
          },
          "execution_count": 246
        }
      ]
    },
    {
      "metadata": {
        "id": "YnKJ0yMaRPzJ",
        "colab_type": "code",
        "outputId": "76a15a13-0c0d-4b48-eab6-6cbc5d791eca",
        "colab": {
          "base_uri": "https://localhost:8080/",
          "height": 204
        }
      },
      "cell_type": "code",
      "source": [
        "pd.DataFrame.merge(df1, df2, on='key')"
      ],
      "execution_count": 247,
      "outputs": [
        {
          "output_type": "execute_result",
          "data": {
            "text/html": [
              "<div>\n",
              "<style scoped>\n",
              "    .dataframe tbody tr th:only-of-type {\n",
              "        vertical-align: middle;\n",
              "    }\n",
              "\n",
              "    .dataframe tbody tr th {\n",
              "        vertical-align: top;\n",
              "    }\n",
              "\n",
              "    .dataframe thead th {\n",
              "        text-align: right;\n",
              "    }\n",
              "</style>\n",
              "<table border=\"1\" class=\"dataframe\">\n",
              "  <thead>\n",
              "    <tr style=\"text-align: right;\">\n",
              "      <th></th>\n",
              "      <th>key</th>\n",
              "      <th>logo_x</th>\n",
              "      <th>org_x</th>\n",
              "      <th>logo_y</th>\n",
              "      <th>org_y</th>\n",
              "    </tr>\n",
              "  </thead>\n",
              "  <tbody>\n",
              "    <tr>\n",
              "      <th>0</th>\n",
              "      <td>K0</td>\n",
              "      <td>1</td>\n",
              "      <td>111</td>\n",
              "      <td>10</td>\n",
              "      <td>112</td>\n",
              "    </tr>\n",
              "    <tr>\n",
              "      <th>1</th>\n",
              "      <td>K1</td>\n",
              "      <td>2</td>\n",
              "      <td>747</td>\n",
              "      <td>20</td>\n",
              "      <td>748</td>\n",
              "    </tr>\n",
              "    <tr>\n",
              "      <th>2</th>\n",
              "      <td>K2</td>\n",
              "      <td>3</td>\n",
              "      <td>777</td>\n",
              "      <td>30</td>\n",
              "      <td>778</td>\n",
              "    </tr>\n",
              "    <tr>\n",
              "      <th>3</th>\n",
              "      <td>K3</td>\n",
              "      <td>1</td>\n",
              "      <td>888</td>\n",
              "      <td>10</td>\n",
              "      <td>889</td>\n",
              "    </tr>\n",
              "    <tr>\n",
              "      <th>4</th>\n",
              "      <td>K4</td>\n",
              "      <td>1</td>\n",
              "      <td>638</td>\n",
              "      <td>10</td>\n",
              "      <td>639</td>\n",
              "    </tr>\n",
              "  </tbody>\n",
              "</table>\n",
              "</div>"
            ],
            "text/plain": [
              "  key  logo_x  org_x  logo_y  org_y\n",
              "0  K0       1    111      10    112\n",
              "1  K1       2    747      20    748\n",
              "2  K2       3    777      30    778\n",
              "3  K3       1    888      10    889\n",
              "4  K4       1    638      10    639"
            ]
          },
          "metadata": {
            "tags": []
          },
          "execution_count": 247
        }
      ]
    },
    {
      "metadata": {
        "id": "oA_UWfI3Rfg4",
        "colab_type": "code",
        "outputId": "5d8ebaf2-5ba5-4533-b089-f3300ec1f5e6",
        "colab": {
          "base_uri": "https://localhost:8080/",
          "height": 204
        }
      },
      "cell_type": "code",
      "source": [
        "df2 = pd.DataFrame({'org': [112, 748, 778, 889], 'logo': [10, 20, 30, 10], 'key': ['K0', 'K1', 'K4', 'K3']})\n",
        "pd.DataFrame.merge(df1, df2, on='key', how='left') \n",
        "\n",
        "## if you had to match on two columns you can give that by on=['key1' , 'key2']"
      ],
      "execution_count": 248,
      "outputs": [
        {
          "output_type": "execute_result",
          "data": {
            "text/html": [
              "<div>\n",
              "<style scoped>\n",
              "    .dataframe tbody tr th:only-of-type {\n",
              "        vertical-align: middle;\n",
              "    }\n",
              "\n",
              "    .dataframe tbody tr th {\n",
              "        vertical-align: top;\n",
              "    }\n",
              "\n",
              "    .dataframe thead th {\n",
              "        text-align: right;\n",
              "    }\n",
              "</style>\n",
              "<table border=\"1\" class=\"dataframe\">\n",
              "  <thead>\n",
              "    <tr style=\"text-align: right;\">\n",
              "      <th></th>\n",
              "      <th>key</th>\n",
              "      <th>logo_x</th>\n",
              "      <th>org_x</th>\n",
              "      <th>logo_y</th>\n",
              "      <th>org_y</th>\n",
              "    </tr>\n",
              "  </thead>\n",
              "  <tbody>\n",
              "    <tr>\n",
              "      <th>0</th>\n",
              "      <td>K0</td>\n",
              "      <td>1</td>\n",
              "      <td>111</td>\n",
              "      <td>10.0</td>\n",
              "      <td>112.0</td>\n",
              "    </tr>\n",
              "    <tr>\n",
              "      <th>1</th>\n",
              "      <td>K1</td>\n",
              "      <td>2</td>\n",
              "      <td>747</td>\n",
              "      <td>20.0</td>\n",
              "      <td>748.0</td>\n",
              "    </tr>\n",
              "    <tr>\n",
              "      <th>2</th>\n",
              "      <td>K2</td>\n",
              "      <td>3</td>\n",
              "      <td>777</td>\n",
              "      <td>NaN</td>\n",
              "      <td>NaN</td>\n",
              "    </tr>\n",
              "    <tr>\n",
              "      <th>3</th>\n",
              "      <td>K3</td>\n",
              "      <td>1</td>\n",
              "      <td>888</td>\n",
              "      <td>10.0</td>\n",
              "      <td>889.0</td>\n",
              "    </tr>\n",
              "    <tr>\n",
              "      <th>4</th>\n",
              "      <td>K4</td>\n",
              "      <td>1</td>\n",
              "      <td>638</td>\n",
              "      <td>30.0</td>\n",
              "      <td>778.0</td>\n",
              "    </tr>\n",
              "  </tbody>\n",
              "</table>\n",
              "</div>"
            ],
            "text/plain": [
              "  key  logo_x  org_x  logo_y  org_y\n",
              "0  K0       1    111    10.0  112.0\n",
              "1  K1       2    747    20.0  748.0\n",
              "2  K2       3    777     NaN    NaN\n",
              "3  K3       1    888    10.0  889.0\n",
              "4  K4       1    638    30.0  778.0"
            ]
          },
          "metadata": {
            "tags": []
          },
          "execution_count": 248
        }
      ]
    },
    {
      "metadata": {
        "id": "pf59QQNPSNGh",
        "colab_type": "text"
      },
      "cell_type": "markdown",
      "source": [
        "**Problems** \n",
        "\n",
        "Create a row from a list [165.4, 82.7, 'F'].\n",
        "\n",
        "Append the row to data frame df_A and store the captured array in df_AA.\n",
        "\n",
        "Display index values of df_AA."
      ]
    },
    {
      "metadata": {
        "id": "nxNk1NgfSOOW",
        "colab_type": "code",
        "outputId": "202f5f12-cf7e-4997-efaf-865b86ab23d4",
        "colab": {
          "base_uri": "https://localhost:8080/",
          "height": 235
        }
      },
      "cell_type": "code",
      "source": [
        "df_temp = pd.DataFrame({'heights': 165.4, 'weights': 82.7, 'Gender': 'F'}, index=['s6'])\n",
        "\n",
        "df_AA = pd.concat([df_A, df_temp])\n",
        "df_AA"
      ],
      "execution_count": 249,
      "outputs": [
        {
          "output_type": "execute_result",
          "data": {
            "text/html": [
              "<div>\n",
              "<style scoped>\n",
              "    .dataframe tbody tr th:only-of-type {\n",
              "        vertical-align: middle;\n",
              "    }\n",
              "\n",
              "    .dataframe tbody tr th {\n",
              "        vertical-align: top;\n",
              "    }\n",
              "\n",
              "    .dataframe thead th {\n",
              "        text-align: right;\n",
              "    }\n",
              "</style>\n",
              "<table border=\"1\" class=\"dataframe\">\n",
              "  <thead>\n",
              "    <tr style=\"text-align: right;\">\n",
              "      <th></th>\n",
              "      <th>Gender</th>\n",
              "      <th>heights</th>\n",
              "      <th>weights</th>\n",
              "    </tr>\n",
              "  </thead>\n",
              "  <tbody>\n",
              "    <tr>\n",
              "      <th>s1</th>\n",
              "      <td>M</td>\n",
              "      <td>176.2</td>\n",
              "      <td>85.1</td>\n",
              "    </tr>\n",
              "    <tr>\n",
              "      <th>s2</th>\n",
              "      <td>F</td>\n",
              "      <td>158.4</td>\n",
              "      <td>90.2</td>\n",
              "    </tr>\n",
              "    <tr>\n",
              "      <th>s3</th>\n",
              "      <td>M</td>\n",
              "      <td>NaN</td>\n",
              "      <td>NaN</td>\n",
              "    </tr>\n",
              "    <tr>\n",
              "      <th>s4</th>\n",
              "      <td>M</td>\n",
              "      <td>156.2</td>\n",
              "      <td>80.4</td>\n",
              "    </tr>\n",
              "    <tr>\n",
              "      <th>s5</th>\n",
              "      <td>F</td>\n",
              "      <td>161.4</td>\n",
              "      <td>NaN</td>\n",
              "    </tr>\n",
              "    <tr>\n",
              "      <th>s6</th>\n",
              "      <td>F</td>\n",
              "      <td>165.4</td>\n",
              "      <td>82.7</td>\n",
              "    </tr>\n",
              "  </tbody>\n",
              "</table>\n",
              "</div>"
            ],
            "text/plain": [
              "   Gender  heights  weights\n",
              "s1      M    176.2     85.1\n",
              "s2      F    158.4     90.2\n",
              "s3      M      NaN      NaN\n",
              "s4      M    156.2     80.4\n",
              "s5      F    161.4      NaN\n",
              "s6      F    165.4     82.7"
            ]
          },
          "metadata": {
            "tags": []
          },
          "execution_count": 249
        }
      ]
    },
    {
      "metadata": {
        "id": "9q584Oi0Talo",
        "colab_type": "text"
      },
      "cell_type": "markdown",
      "source": [
        "**Next One **\n",
        "\n",
        "Change the index of df_B to [ 's6', 's7', 's8', 's9', 's10']\n",
        "\n",
        "Create the Gender column in df_B with values ['F', 'M', 'F', 'F', 'M']\n",
        "\n",
        "Concatenate two data frames df_A and df_B and assign the result to df."
      ]
    },
    {
      "metadata": {
        "id": "rN7CZrWe2C2B",
        "colab_type": "code",
        "colab": {
          "base_uri": "https://localhost:8080/",
          "height": 563
        },
        "outputId": "ea89708b-cbcc-415e-99c6-8258d49e30b6"
      },
      "cell_type": "code",
      "source": [
        "print(df_B)\n",
        "\n",
        "\n",
        "df_B.index =  ['s6', 's7', 's8', 's9', 's10']\n",
        "print(df_B)\n",
        "\n",
        "df_B['Gender'] = ['F', 'M', 'F', 'F', 'M']\n",
        "\n",
        "\n",
        "df_concatenated = pd.concat([df_A, df_B])\n",
        "df_concatenated"
      ],
      "execution_count": 250,
      "outputs": [
        {
          "output_type": "stream",
          "text": [
            "       heights    weights\n",
            "s1  155.347731  65.710223\n",
            "s2  154.714943  50.176876\n",
            "s3  191.150304  67.517040\n",
            "s4  165.536714  72.916535\n",
            "s5  143.281789  93.881906\n",
            "        heights    weights\n",
            "s6   155.347731  65.710223\n",
            "s7   154.714943  50.176876\n",
            "s8   191.150304  67.517040\n",
            "s9   165.536714  72.916535\n",
            "s10  143.281789  93.881906\n"
          ],
          "name": "stdout"
        },
        {
          "output_type": "execute_result",
          "data": {
            "text/html": [
              "<div>\n",
              "<style scoped>\n",
              "    .dataframe tbody tr th:only-of-type {\n",
              "        vertical-align: middle;\n",
              "    }\n",
              "\n",
              "    .dataframe tbody tr th {\n",
              "        vertical-align: top;\n",
              "    }\n",
              "\n",
              "    .dataframe thead th {\n",
              "        text-align: right;\n",
              "    }\n",
              "</style>\n",
              "<table border=\"1\" class=\"dataframe\">\n",
              "  <thead>\n",
              "    <tr style=\"text-align: right;\">\n",
              "      <th></th>\n",
              "      <th>heights</th>\n",
              "      <th>weights</th>\n",
              "      <th>Gender</th>\n",
              "    </tr>\n",
              "  </thead>\n",
              "  <tbody>\n",
              "    <tr>\n",
              "      <th>s1</th>\n",
              "      <td>176.200000</td>\n",
              "      <td>85.100000</td>\n",
              "      <td>M</td>\n",
              "    </tr>\n",
              "    <tr>\n",
              "      <th>s2</th>\n",
              "      <td>158.400000</td>\n",
              "      <td>90.200000</td>\n",
              "      <td>F</td>\n",
              "    </tr>\n",
              "    <tr>\n",
              "      <th>s3</th>\n",
              "      <td>NaN</td>\n",
              "      <td>NaN</td>\n",
              "      <td>M</td>\n",
              "    </tr>\n",
              "    <tr>\n",
              "      <th>s4</th>\n",
              "      <td>156.200000</td>\n",
              "      <td>80.400000</td>\n",
              "      <td>M</td>\n",
              "    </tr>\n",
              "    <tr>\n",
              "      <th>s5</th>\n",
              "      <td>161.400000</td>\n",
              "      <td>NaN</td>\n",
              "      <td>F</td>\n",
              "    </tr>\n",
              "    <tr>\n",
              "      <th>s6</th>\n",
              "      <td>155.347731</td>\n",
              "      <td>65.710223</td>\n",
              "      <td>F</td>\n",
              "    </tr>\n",
              "    <tr>\n",
              "      <th>s7</th>\n",
              "      <td>154.714943</td>\n",
              "      <td>50.176876</td>\n",
              "      <td>M</td>\n",
              "    </tr>\n",
              "    <tr>\n",
              "      <th>s8</th>\n",
              "      <td>191.150304</td>\n",
              "      <td>67.517040</td>\n",
              "      <td>F</td>\n",
              "    </tr>\n",
              "    <tr>\n",
              "      <th>s9</th>\n",
              "      <td>165.536714</td>\n",
              "      <td>72.916535</td>\n",
              "      <td>F</td>\n",
              "    </tr>\n",
              "    <tr>\n",
              "      <th>s10</th>\n",
              "      <td>143.281789</td>\n",
              "      <td>93.881906</td>\n",
              "      <td>M</td>\n",
              "    </tr>\n",
              "  </tbody>\n",
              "</table>\n",
              "</div>"
            ],
            "text/plain": [
              "        heights    weights Gender\n",
              "s1   176.200000  85.100000      M\n",
              "s2   158.400000  90.200000      F\n",
              "s3          NaN        NaN      M\n",
              "s4   156.200000  80.400000      M\n",
              "s5   161.400000        NaN      F\n",
              "s6   155.347731  65.710223      F\n",
              "s7   154.714943  50.176876      M\n",
              "s8   191.150304  67.517040      F\n",
              "s9   165.536714  72.916535      F\n",
              "s10  143.281789  93.881906      M"
            ]
          },
          "metadata": {
            "tags": []
          },
          "execution_count": 250
        }
      ]
    },
    {
      "metadata": {
        "id": "4HIC_KpaTbRR",
        "colab_type": "text"
      },
      "cell_type": "markdown",
      "source": [
        "**Last One**\n",
        "\n",
        "- Create the following Series.\n",
        "\n",
        "```\n",
        "       nameid = pd.Series(range(101, 111))\n",
        "       name = pd.Series(['person' + str(i) for i in range(1, 11)])\n",
        "```\n",
        "\n",
        "- Create the data frame master with series nameid and name\n",
        "\n",
        "- Create the data frame transaction using below command.\n",
        "\n",
        "```\n",
        "        transaction = pd.DataFrame({'nameid':[108, 108, 108,103], 'product':['iPhone', 'Nokia', 'Micromax', 'Vivo']})\n",
        "```\n",
        "\n",
        "- Merge master and transaction on nameid and display the merged data frame. perform inner join."
      ]
    },
    {
      "metadata": {
        "id": "CTL-b9yg4xxU",
        "colab_type": "code",
        "colab": {
          "base_uri": "https://localhost:8080/",
          "height": 561
        },
        "outputId": "8953504a-1b23-46ec-d977-06878f61d602"
      },
      "cell_type": "code",
      "source": [
        "nameid = pd.Series(range(101, 111))\n",
        "name = pd.Series(['person' + str(i) for i in range(1, 11)])\n",
        "\n",
        "df_master = pd.DataFrame({'nameid': nameid, 'name': name})\n",
        "print(df_master, end= '\\n\\n')\n",
        "\n",
        "df_transaction = pd.DataFrame({'nameid':[108, 108, 108,103], 'product':['iPhone', 'Nokia', 'Micromax', 'Vivo']})\n",
        "print(df_transaction, end= '\\n\\n')\n",
        "\n",
        "\n",
        "df_merged = pd.merge(df_master, df_transaction, on='nameid', how='left')\n",
        "print(df_merged, end='\\n\\n')"
      ],
      "execution_count": 266,
      "outputs": [
        {
          "output_type": "stream",
          "text": [
            "       name  nameid\n",
            "0   person1     101\n",
            "1   person2     102\n",
            "2   person3     103\n",
            "3   person4     104\n",
            "4   person5     105\n",
            "5   person6     106\n",
            "6   person7     107\n",
            "7   person8     108\n",
            "8   person9     109\n",
            "9  person10     110\n",
            "\n",
            "   nameid   product\n",
            "0     108    iPhone\n",
            "1     108     Nokia\n",
            "2     108  Micromax\n",
            "3     103      Vivo\n",
            "\n",
            "        name  nameid   product\n",
            "0    person1     101       NaN\n",
            "1    person2     102       NaN\n",
            "2    person3     103      Vivo\n",
            "3    person4     104       NaN\n",
            "4    person5     105       NaN\n",
            "5    person6     106       NaN\n",
            "6    person7     107       NaN\n",
            "7    person8     108    iPhone\n",
            "8    person8     108     Nokia\n",
            "9    person8     108  Micromax\n",
            "10   person9     109       NaN\n",
            "11  person10     110       NaN\n",
            "\n"
          ],
          "name": "stdout"
        }
      ]
    },
    {
      "metadata": {
        "id": "jMxdcxdk10hx",
        "colab_type": "text"
      },
      "cell_type": "markdown",
      "source": [
        "**Rough work**"
      ]
    },
    {
      "metadata": {
        "id": "1lAp45urTrZp",
        "colab_type": "code",
        "outputId": "d2e56e29-965b-47a3-e6da-dbc92f43f9ea",
        "colab": {
          "base_uri": "https://localhost:8080/",
          "height": 34
        }
      },
      "cell_type": "code",
      "source": [
        "pd.bdate_range('11-Sep-2017', '17-Sep-2017', freq='2D')"
      ],
      "execution_count": 267,
      "outputs": [
        {
          "output_type": "execute_result",
          "data": {
            "text/plain": [
              "DatetimeIndex(['2017-09-11', '2017-09-13', '2017-09-15', '2017-09-17'], dtype='datetime64[ns]', freq='2D')"
            ]
          },
          "metadata": {
            "tags": []
          },
          "execution_count": 267
        }
      ]
    },
    {
      "metadata": {
        "id": "KcbHKrVYT4Mf",
        "colab_type": "code",
        "outputId": "6fadd391-6a78-4322-9a46-7c76c0b7dacd",
        "colab": {
          "base_uri": "https://localhost:8080/",
          "height": 153
        }
      },
      "cell_type": "code",
      "source": [
        "df = pd.DataFrame({'A':[34, 78, 54], 'B':[12, 67, 43]}, index=['r1', 'r2', 'r3'])\n",
        "print(df)\n",
        "df.B"
      ],
      "execution_count": 253,
      "outputs": [
        {
          "output_type": "stream",
          "text": [
            "     A   B\n",
            "r1  34  12\n",
            "r2  78  67\n",
            "r3  54  43\n"
          ],
          "name": "stdout"
        },
        {
          "output_type": "execute_result",
          "data": {
            "text/plain": [
              "r1    12\n",
              "r2    67\n",
              "r3    43\n",
              "Name: B, dtype: int64"
            ]
          },
          "metadata": {
            "tags": []
          },
          "execution_count": 253
        }
      ]
    },
    {
      "metadata": {
        "id": "xsnY3Q0eUV6h",
        "colab_type": "code",
        "outputId": "fb6bf9e7-b74a-4962-d643-a3ce8ecfd03b",
        "colab": {
          "base_uri": "https://localhost:8080/",
          "height": 68
        }
      },
      "cell_type": "code",
      "source": [
        "df.iloc[1]"
      ],
      "execution_count": 269,
      "outputs": [
        {
          "output_type": "execute_result",
          "data": {
            "text/plain": [
              "A    78\n",
              "B    67\n",
              "Name: r2, dtype: int64"
            ]
          },
          "metadata": {
            "tags": []
          },
          "execution_count": 269
        }
      ]
    },
    {
      "metadata": {
        "id": "7U3Jpe50VJg6",
        "colab_type": "code",
        "outputId": "43593c21-c3c9-43a8-ccff-185d9a71f5c5",
        "colab": {
          "base_uri": "https://localhost:8080/",
          "height": 85
        }
      },
      "cell_type": "code",
      "source": [
        "s = pd.Series([89.2, 76.4, 98.2, 75.9], index=list('abcd'))\n",
        "print(s[['c', 'a']])\n",
        "\n",
        "print ('b' in s)"
      ],
      "execution_count": 270,
      "outputs": [
        {
          "output_type": "stream",
          "text": [
            "c    98.2\n",
            "a    89.2\n",
            "dtype: float64\n",
            "True\n"
          ],
          "name": "stdout"
        }
      ]
    },
    {
      "metadata": {
        "id": "zI3dk6YbVmDR",
        "colab_type": "code",
        "outputId": "7ddc2812-6aee-4981-f9ca-56fcb077a5b8",
        "colab": {
          "base_uri": "https://localhost:8080/",
          "height": 111
        }
      },
      "cell_type": "code",
      "source": [
        "df = pd.DataFrame({'A':[34, 78, 54], 'B':[12, 67, 43]}, index=['r1', 'r2', 'r3'])\n",
        "df.loc['r2':'r3']"
      ],
      "execution_count": 271,
      "outputs": [
        {
          "output_type": "execute_result",
          "data": {
            "text/html": [
              "<div>\n",
              "<style scoped>\n",
              "    .dataframe tbody tr th:only-of-type {\n",
              "        vertical-align: middle;\n",
              "    }\n",
              "\n",
              "    .dataframe tbody tr th {\n",
              "        vertical-align: top;\n",
              "    }\n",
              "\n",
              "    .dataframe thead th {\n",
              "        text-align: right;\n",
              "    }\n",
              "</style>\n",
              "<table border=\"1\" class=\"dataframe\">\n",
              "  <thead>\n",
              "    <tr style=\"text-align: right;\">\n",
              "      <th></th>\n",
              "      <th>A</th>\n",
              "      <th>B</th>\n",
              "    </tr>\n",
              "  </thead>\n",
              "  <tbody>\n",
              "    <tr>\n",
              "      <th>r2</th>\n",
              "      <td>78</td>\n",
              "      <td>67</td>\n",
              "    </tr>\n",
              "    <tr>\n",
              "      <th>r3</th>\n",
              "      <td>54</td>\n",
              "      <td>43</td>\n",
              "    </tr>\n",
              "  </tbody>\n",
              "</table>\n",
              "</div>"
            ],
            "text/plain": [
              "     A   B\n",
              "r2  78  67\n",
              "r3  54  43"
            ]
          },
          "metadata": {
            "tags": []
          },
          "execution_count": 271
        }
      ]
    },
    {
      "metadata": {
        "id": "OFyAwb6gV2LY",
        "colab_type": "code",
        "outputId": "e7139bb6-18f0-4a34-ea2b-f2471a12a4ee",
        "colab": {
          "base_uri": "https://localhost:8080/",
          "height": 34
        }
      },
      "cell_type": "code",
      "source": [
        "data = [{'a': 1, 'b': 2}, {'a': 5, 'b': 10, 'c': 20}]\n",
        "df = pd.DataFrame(data, columns=['a', 'b'])\n",
        "df.shape"
      ],
      "execution_count": 272,
      "outputs": [
        {
          "output_type": "execute_result",
          "data": {
            "text/plain": [
              "(2, 2)"
            ]
          },
          "metadata": {
            "tags": []
          },
          "execution_count": 272
        }
      ]
    }
  ]
}