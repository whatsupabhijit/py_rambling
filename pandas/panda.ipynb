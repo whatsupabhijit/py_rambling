{
  "nbformat": 4,
  "nbformat_minor": 0,
  "metadata": {
    "colab": {
      "name": "panda.ipynb",
      "version": "0.3.2",
      "provenance": [],
      "include_colab_link": true
    },
    "kernelspec": {
      "name": "python3",
      "display_name": "Python 3"
    }
  },
  "cells": [
    {
      "cell_type": "markdown",
      "metadata": {
        "id": "view-in-github",
        "colab_type": "text"
      },
      "source": [
        "<a href=\"https://colab.research.google.com/github/whatsupabhijit/py_rambling/blob/master/panda.ipynb\" target=\"_parent\"><img src=\"https://colab.research.google.com/assets/colab-badge.svg\" alt=\"Open In Colab\"/></a>"
      ]
    },
    {
      "metadata": {
        "id": "HNyEJ7Ly5kqL",
        "colab_type": "toc"
      },
      "cell_type": "markdown",
      "source": [
        ">[Pandas](#scrollTo=dOlkheh4Z1wX)\n",
        "\n",
        ">[Series](#scrollTo=TTeZ84PhacEh)\n",
        "\n",
        ">[Data Frame](#scrollTo=-YfwJSqBfS8I)\n",
        "\n",
        ">[Panel](#scrollTo=YL4siMbofqwZ)\n",
        "\n",
        ">[Data Access](#scrollTo=LO60AuW3_YGw)\n",
        "\n",
        ">[Knowing a Series](#scrollTo=e-do3ytA7dcM)\n",
        "\n",
        ">[Knowing a DataFrame](#scrollTo=6xe4amUS8I5m)\n",
        "\n",
        ">[Pandas I/O](#scrollTo=rNN1p_6G-R4J)\n",
        "\n",
        ">[How to read csv file from an url](#scrollTo=OmHqJ1csErJf)\n",
        "\n",
        ">[How to deal with large datasets in smaller chunks](#scrollTo=uj0qCHjwK5yL)\n",
        "\n",
        ">[Indexing](#scrollTo=i4tKTogSUCmt)\n",
        "\n",
        ">[Single Level Indexing](#scrollTo=17zhQ8yCYHYG)\n",
        "\n",
        ">[Date Level Indexing](#scrollTo=ArvjCQDeeH61)\n",
        "\n",
        ">[Multi Level Indexing / Hierarchical indexing](#scrollTo=rwnqJr9XiDr6)\n",
        "\n",
        ">[Data Cleaning](#scrollTo=Zk1NWgMjwY29)\n",
        "\n",
        ">[Data Aggregation](#scrollTo=LtZlp0z36DtP)\n",
        "\n"
      ]
    },
    {
      "metadata": {
        "id": "dOlkheh4Z1wX",
        "colab_type": "text"
      },
      "cell_type": "markdown",
      "source": [
        "# **Pandas**\n",
        "\n",
        "- `Pandas` is a popular Python data analysis tool.\n",
        "\n",
        "- It provides easy to use and highly efficient data structures.\n",
        "\n",
        "- These data structures deal with numeric or labeled data, stored in the form of tables"
      ]
    },
    {
      "metadata": {
        "id": "83ZJTVAYaPm3",
        "colab_type": "text"
      },
      "cell_type": "markdown",
      "source": [
        "**Data Structures in Pandas**\n",
        "\n",
        "Three fundamental data structures used in pandas are,\n",
        "\n",
        "- Series: A 1-D array.\n",
        "\n",
        "- Data Frame: A 2-D array or two or more Series joined together\n",
        "\n",
        "- Panel: A 3-D array\n"
      ]
    },
    {
      "metadata": {
        "id": "TTeZ84PhacEh",
        "colab_type": "text"
      },
      "cell_type": "markdown",
      "source": [
        "# **Series ** \n",
        "\n",
        "is a 1-D array, holding data values of a single variable, captured from multiple observations.\n",
        "\n",
        "Few examples are:\n",
        "\n",
        "1. Height of each student, belonging to a Class 'C'.''\n",
        "2. Amount of daily rainfall received at Station 'X', in July 2017\n",
        "3. Total sales of a product 'P' in every quarter of 2016."
      ]
    },
    {
      "metadata": {
        "id": "WCUBiTm9a6xR",
        "colab_type": "code",
        "outputId": "ea6b8132-29be-4e61-ada2-29f4015efb6e",
        "colab": {
          "base_uri": "https://localhost:8080/",
          "height": 238
        }
      },
      "cell_type": "code",
      "source": [
        "!pip install panda\n",
        "!pip install request"
      ],
      "execution_count": 233,
      "outputs": [
        {
          "output_type": "stream",
          "text": [
            "Requirement already satisfied: panda in /usr/local/lib/python3.6/dist-packages (0.3.1)\n",
            "Requirement already satisfied: requests in /usr/local/lib/python3.6/dist-packages (from panda) (2.18.4)\n",
            "Requirement already satisfied: setuptools in /usr/local/lib/python3.6/dist-packages (from panda) (40.6.2)\n",
            "Requirement already satisfied: idna<2.7,>=2.5 in /usr/local/lib/python3.6/dist-packages (from requests->panda) (2.6)\n",
            "Requirement already satisfied: chardet<3.1.0,>=3.0.2 in /usr/local/lib/python3.6/dist-packages (from requests->panda) (3.0.4)\n",
            "Requirement already satisfied: urllib3<1.23,>=1.21.1 in /usr/local/lib/python3.6/dist-packages (from requests->panda) (1.22)\n",
            "Requirement already satisfied: certifi>=2017.4.17 in /usr/local/lib/python3.6/dist-packages (from requests->panda) (2018.10.15)\n",
            "Requirement already satisfied: request in /usr/local/lib/python3.6/dist-packages (2018.11.20)\n",
            "Requirement already satisfied: get in /usr/local/lib/python3.6/dist-packages (from request) (2018.11.19)\n",
            "Requirement already satisfied: setuptools in /usr/local/lib/python3.6/dist-packages (from request) (40.6.2)\n",
            "Requirement already satisfied: post in /usr/local/lib/python3.6/dist-packages (from request) (2018.11.20)\n",
            "Requirement already satisfied: query-string in /usr/local/lib/python3.6/dist-packages (from get->request) (2018.11.20)\n",
            "Requirement already satisfied: public in /usr/local/lib/python3.6/dist-packages (from query-string->get->request) (2018.11.20)\n"
          ],
          "name": "stdout"
        }
      ]
    },
    {
      "metadata": {
        "id": "lyFMslLOFc_G",
        "colab_type": "code",
        "colab": {}
      },
      "cell_type": "code",
      "source": [
        "import numpy as np\n",
        "import pandas as pd   # mind the extra 's' in pandas as importing panda alone gives you error"
      ],
      "execution_count": 0,
      "outputs": []
    },
    {
      "metadata": {
        "id": "RSomb7xgbryo",
        "colab_type": "code",
        "outputId": "0ab8c6bf-be42-4ee8-f5a1-2835126eb2c4",
        "colab": {
          "base_uri": "https://localhost:8080/",
          "height": 85
        }
      },
      "cell_type": "code",
      "source": [
        "## creating panda series from a dictionary\n",
        "\n",
        "d = {'Math': 180, 'Physics': 157, 'Chemistry:': 157}\n",
        "pd.Series(d)"
      ],
      "execution_count": 235,
      "outputs": [
        {
          "output_type": "execute_result",
          "data": {
            "text/plain": [
              "Chemistry:    157\n",
              "Math          180\n",
              "Physics       157\n",
              "dtype: int64"
            ]
          },
          "metadata": {
            "tags": []
          },
          "execution_count": 235
        }
      ]
    },
    {
      "metadata": {
        "id": "N9qf3zcDcRKJ",
        "colab_type": "code",
        "outputId": "ea6a92cd-c15d-4686-8f85-1a52d405247e",
        "colab": {
          "base_uri": "https://localhost:8080/",
          "height": 85
        }
      },
      "cell_type": "code",
      "source": [
        "# Creating a panda series from numpy\n",
        "\n",
        "n = 30 + 25 * np.random.randn(3) \n",
        "\n",
        "pd.Series(n, index = ['Math', 'Physics', 'Chemistry'])"
      ],
      "execution_count": 236,
      "outputs": [
        {
          "output_type": "execute_result",
          "data": {
            "text/plain": [
              "Math         73.851304\n",
              "Physics      29.396952\n",
              "Chemistry    28.361811\n",
              "dtype: float64"
            ]
          },
          "metadata": {
            "tags": []
          },
          "execution_count": 236
        }
      ]
    },
    {
      "metadata": {
        "id": "To1jAxG6dEPK",
        "colab_type": "text"
      },
      "cell_type": "markdown",
      "source": [
        "**Problem 1.1**\n",
        "Create a series named heights_A with values 176.2, 158.4, 167.6, 156.2, and 161.4, which represent heights of 5 students of class A.\n",
        "\n",
        "Label each student as s1, s2, s3, s4, and s5.\n",
        "\n",
        "Determine the shape of heights_A and display it."
      ]
    },
    {
      "metadata": {
        "id": "LGmH7R2CdC5R",
        "colab_type": "code",
        "outputId": "c1ea9e7b-2e27-478b-e20d-b8ff0c1296b9",
        "colab": {
          "base_uri": "https://localhost:8080/",
          "height": 34
        }
      },
      "cell_type": "code",
      "source": [
        "ht = [176.2, 158.4, 167.6, 156.2, 161.4]\n",
        "\n",
        "heights_A = pd.Series(ht, index = ['s1', 's2', 's3', 's4', 's5'])\n",
        "heights_A\n",
        "\n",
        "heights_A.shape"
      ],
      "execution_count": 237,
      "outputs": [
        {
          "output_type": "execute_result",
          "data": {
            "text/plain": [
              "(5,)"
            ]
          },
          "metadata": {
            "tags": []
          },
          "execution_count": 237
        }
      ]
    },
    {
      "metadata": {
        "id": "h1uesjcaeZci",
        "colab_type": "text"
      },
      "cell_type": "markdown",
      "source": [
        "**Problem 1.2**\n",
        "Create a series named weights_A with values 85.1, 90.2, 76.8, 80.4, and 78.9, which represent weights of 5 students of class A.\n",
        "\n",
        "Label each student as s1, s2, s3, s4, and s5.\n",
        "\n",
        "Determine data type of weights_A and display it.\n",
        "\n",
        "Hint: Make use of Series method available in pandas library."
      ]
    },
    {
      "metadata": {
        "id": "JuedULX3edR3",
        "colab_type": "code",
        "outputId": "c41eba72-792f-4f82-8683-9f05718ce5a1",
        "colab": {
          "base_uri": "https://localhost:8080/",
          "height": 136
        }
      },
      "cell_type": "code",
      "source": [
        "wt = [85.1, 90.2, 76.8, 80.4,  78.9,]\n",
        "weights_A = pd.Series(wt, index = ['s1', 's2', 's3', 's4', 's5'])\n",
        "\n",
        "print(weights_A)\n",
        "\n",
        "print(weights_A.shape)"
      ],
      "execution_count": 238,
      "outputs": [
        {
          "output_type": "stream",
          "text": [
            "s1    85.1\n",
            "s2    90.2\n",
            "s3    76.8\n",
            "s4    80.4\n",
            "s5    78.9\n",
            "dtype: float64\n",
            "(5,)\n"
          ],
          "name": "stdout"
        }
      ]
    },
    {
      "metadata": {
        "id": "-YfwJSqBfS8I",
        "colab_type": "text"
      },
      "cell_type": "markdown",
      "source": [
        "# ***Data Frame***\n",
        "\n",
        "is 2-D shaped and contains data of diff parameters, captured from multiple observations.\n",
        "\n",
        "Each **observation** is represented by a single **row**, and each **parameter** by a single **column**.\n",
        "\n",
        "Each column can hold different data type.\n",
        "Few examples are:\n",
        "\n",
        "- Height and Weight of all students, belonging to a Class 'C'.\n",
        "- Daily Rainfall received and Average Temperature of a location 'X', in the year 2017.\n",
        "\n",
        "---\n",
        "\n"
      ]
    },
    {
      "metadata": {
        "id": "mdLX5rrSgtsw",
        "colab_type": "code",
        "outputId": "a80c6f8a-7183-4b27-90dc-901d6d2a8f4c",
        "colab": {
          "base_uri": "https://localhost:8080/",
          "height": 142
        }
      },
      "cell_type": "code",
      "source": [
        "## Data frame created from pd.Series\n",
        "\n",
        "s = {'subject': pd.Series(['Math', 'Physics', 'Chemistry']), 'marks': pd.Series([100, 190, 185]) }\n",
        "df = pd.DataFrame(s)\n",
        "df"
      ],
      "execution_count": 239,
      "outputs": [
        {
          "output_type": "execute_result",
          "data": {
            "text/html": [
              "<div>\n",
              "<style scoped>\n",
              "    .dataframe tbody tr th:only-of-type {\n",
              "        vertical-align: middle;\n",
              "    }\n",
              "\n",
              "    .dataframe tbody tr th {\n",
              "        vertical-align: top;\n",
              "    }\n",
              "\n",
              "    .dataframe thead th {\n",
              "        text-align: right;\n",
              "    }\n",
              "</style>\n",
              "<table border=\"1\" class=\"dataframe\">\n",
              "  <thead>\n",
              "    <tr style=\"text-align: right;\">\n",
              "      <th></th>\n",
              "      <th>marks</th>\n",
              "      <th>subject</th>\n",
              "    </tr>\n",
              "  </thead>\n",
              "  <tbody>\n",
              "    <tr>\n",
              "      <th>0</th>\n",
              "      <td>100</td>\n",
              "      <td>Math</td>\n",
              "    </tr>\n",
              "    <tr>\n",
              "      <th>1</th>\n",
              "      <td>190</td>\n",
              "      <td>Physics</td>\n",
              "    </tr>\n",
              "    <tr>\n",
              "      <th>2</th>\n",
              "      <td>185</td>\n",
              "      <td>Chemistry</td>\n",
              "    </tr>\n",
              "  </tbody>\n",
              "</table>\n",
              "</div>"
            ],
            "text/plain": [
              "   marks    subject\n",
              "0    100       Math\n",
              "1    190    Physics\n",
              "2    185  Chemistry"
            ]
          },
          "metadata": {
            "tags": []
          },
          "execution_count": 239
        }
      ]
    },
    {
      "metadata": {
        "id": "h3-keNNfjqwu",
        "colab_type": "code",
        "outputId": "6d2ea159-c652-4844-8879-47deda7a65ee",
        "colab": {
          "base_uri": "https://localhost:8080/",
          "height": 142
        }
      },
      "cell_type": "code",
      "source": [
        "## Data frame created from list\n",
        "\n",
        "s = {'subject': ['Math', 'Physics', 'Chemistry'], 'marks': [100, 190, 185] }\n",
        "df = pd.DataFrame(s)\n",
        "df"
      ],
      "execution_count": 240,
      "outputs": [
        {
          "output_type": "execute_result",
          "data": {
            "text/html": [
              "<div>\n",
              "<style scoped>\n",
              "    .dataframe tbody tr th:only-of-type {\n",
              "        vertical-align: middle;\n",
              "    }\n",
              "\n",
              "    .dataframe tbody tr th {\n",
              "        vertical-align: top;\n",
              "    }\n",
              "\n",
              "    .dataframe thead th {\n",
              "        text-align: right;\n",
              "    }\n",
              "</style>\n",
              "<table border=\"1\" class=\"dataframe\">\n",
              "  <thead>\n",
              "    <tr style=\"text-align: right;\">\n",
              "      <th></th>\n",
              "      <th>marks</th>\n",
              "      <th>subject</th>\n",
              "    </tr>\n",
              "  </thead>\n",
              "  <tbody>\n",
              "    <tr>\n",
              "      <th>0</th>\n",
              "      <td>100</td>\n",
              "      <td>Math</td>\n",
              "    </tr>\n",
              "    <tr>\n",
              "      <th>1</th>\n",
              "      <td>190</td>\n",
              "      <td>Physics</td>\n",
              "    </tr>\n",
              "    <tr>\n",
              "      <th>2</th>\n",
              "      <td>185</td>\n",
              "      <td>Chemistry</td>\n",
              "    </tr>\n",
              "  </tbody>\n",
              "</table>\n",
              "</div>"
            ],
            "text/plain": [
              "   marks    subject\n",
              "0    100       Math\n",
              "1    190    Physics\n",
              "2    185  Chemistry"
            ]
          },
          "metadata": {
            "tags": []
          },
          "execution_count": 240
        }
      ]
    },
    {
      "metadata": {
        "id": "lmyIM9YZe6uI",
        "colab_type": "text"
      },
      "cell_type": "markdown",
      "source": [
        "**Problem 1.3**\n",
        "Create a Data Frame named df_A, which holds the height and weight of five students namely s1, s2, s3, s4 and s5.\n",
        "\n",
        "Label the columns as Student_height and Student_weight respectively.\n",
        "\n",
        "Display index values of df_A.\n",
        "\n",
        "Hint: Make use of DataFrame method in pandas, and also the series heights_A, weights_A created in previous problems."
      ]
    },
    {
      "metadata": {
        "id": "coZkxy3ytvwR",
        "colab_type": "code",
        "outputId": "3fc11301-3715-4bc7-9da7-e5fdf75fdba6",
        "colab": {
          "base_uri": "https://localhost:8080/",
          "height": 204
        }
      },
      "cell_type": "code",
      "source": [
        "sf_dict = {'heights': heights_A, 'weights': weights_A }\n",
        "df_A = pd.DataFrame(sf_dict)\n",
        "df_A"
      ],
      "execution_count": 241,
      "outputs": [
        {
          "output_type": "execute_result",
          "data": {
            "text/html": [
              "<div>\n",
              "<style scoped>\n",
              "    .dataframe tbody tr th:only-of-type {\n",
              "        vertical-align: middle;\n",
              "    }\n",
              "\n",
              "    .dataframe tbody tr th {\n",
              "        vertical-align: top;\n",
              "    }\n",
              "\n",
              "    .dataframe thead th {\n",
              "        text-align: right;\n",
              "    }\n",
              "</style>\n",
              "<table border=\"1\" class=\"dataframe\">\n",
              "  <thead>\n",
              "    <tr style=\"text-align: right;\">\n",
              "      <th></th>\n",
              "      <th>heights</th>\n",
              "      <th>weights</th>\n",
              "    </tr>\n",
              "  </thead>\n",
              "  <tbody>\n",
              "    <tr>\n",
              "      <th>s1</th>\n",
              "      <td>176.2</td>\n",
              "      <td>85.1</td>\n",
              "    </tr>\n",
              "    <tr>\n",
              "      <th>s2</th>\n",
              "      <td>158.4</td>\n",
              "      <td>90.2</td>\n",
              "    </tr>\n",
              "    <tr>\n",
              "      <th>s3</th>\n",
              "      <td>167.6</td>\n",
              "      <td>76.8</td>\n",
              "    </tr>\n",
              "    <tr>\n",
              "      <th>s4</th>\n",
              "      <td>156.2</td>\n",
              "      <td>80.4</td>\n",
              "    </tr>\n",
              "    <tr>\n",
              "      <th>s5</th>\n",
              "      <td>161.4</td>\n",
              "      <td>78.9</td>\n",
              "    </tr>\n",
              "  </tbody>\n",
              "</table>\n",
              "</div>"
            ],
            "text/plain": [
              "    heights  weights\n",
              "s1    176.2     85.1\n",
              "s2    158.4     90.2\n",
              "s3    167.6     76.8\n",
              "s4    156.2     80.4\n",
              "s5    161.4     78.9"
            ]
          },
          "metadata": {
            "tags": []
          },
          "execution_count": 241
        }
      ]
    },
    {
      "metadata": {
        "id": "-_GQmVSnuY_N",
        "colab_type": "text"
      },
      "cell_type": "markdown",
      "source": [
        "**Problem 1.4**\n",
        "Create two Series named heights_B and weights_B from two random 1-D numpy arrays with five elements each.\n",
        "\n",
        "The first array is obtained from the normal distribution of mean 170.0 and standard deviation 25.0.\n",
        "\n",
        "The second array is derived from the normal distribution of mean 75.0 and standard deviation 12.0.\n",
        "\n",
        "Label both Series elements with s1, s2, s3, s4 and s5."
      ]
    },
    {
      "metadata": {
        "id": "71uugSAruYNt",
        "colab_type": "code",
        "outputId": "0a606334-e3ac-43d9-d63b-de8bdc058796",
        "colab": {
          "base_uri": "https://localhost:8080/",
          "height": 221
        }
      },
      "cell_type": "code",
      "source": [
        "heights_B = pd.Series(170 + 25 * np.random.randn(5), index = ['s1', 's2', 's3', 's4', 's5'])\n",
        "weights_B = pd.Series(75  + 12 * np.random.randn(5), index = ['s1', 's2', 's3', 's4', 's5'])\n",
        "\n",
        "print(heights_B)\n",
        "\n",
        "print(weights_B)"
      ],
      "execution_count": 242,
      "outputs": [
        {
          "output_type": "stream",
          "text": [
            "s1    176.100642\n",
            "s2    146.922438\n",
            "s3    206.415543\n",
            "s4    155.189764\n",
            "s5    196.586201\n",
            "dtype: float64\n",
            "s1    81.158835\n",
            "s2    76.653307\n",
            "s3    69.636956\n",
            "s4    73.602868\n",
            "s5    66.043424\n",
            "dtype: float64\n"
          ],
          "name": "stdout"
        }
      ]
    },
    {
      "metadata": {
        "id": "_y_ywZOOwA6t",
        "colab_type": "text"
      },
      "cell_type": "markdown",
      "source": [
        "**Problem 1.5**\n",
        "Create a Data Frame df_B holding height and weight of students s1, s2, s3, s4 and s5 belonging to class B.\n",
        "\n",
        "Label the columns as Student_height and Student_weight respectively.\n",
        "\n",
        "Display the column names of df_B."
      ]
    },
    {
      "metadata": {
        "id": "ydERgqpkwFjN",
        "colab_type": "code",
        "outputId": "a606c671-0947-46c1-aac8-06fd33ee5a6d",
        "colab": {
          "base_uri": "https://localhost:8080/",
          "height": 204
        }
      },
      "cell_type": "code",
      "source": [
        "df_B = pd.DataFrame({'heights': heights_B, 'weigts': weights_B})\n",
        "df_B"
      ],
      "execution_count": 243,
      "outputs": [
        {
          "output_type": "execute_result",
          "data": {
            "text/html": [
              "<div>\n",
              "<style scoped>\n",
              "    .dataframe tbody tr th:only-of-type {\n",
              "        vertical-align: middle;\n",
              "    }\n",
              "\n",
              "    .dataframe tbody tr th {\n",
              "        vertical-align: top;\n",
              "    }\n",
              "\n",
              "    .dataframe thead th {\n",
              "        text-align: right;\n",
              "    }\n",
              "</style>\n",
              "<table border=\"1\" class=\"dataframe\">\n",
              "  <thead>\n",
              "    <tr style=\"text-align: right;\">\n",
              "      <th></th>\n",
              "      <th>heights</th>\n",
              "      <th>weigts</th>\n",
              "    </tr>\n",
              "  </thead>\n",
              "  <tbody>\n",
              "    <tr>\n",
              "      <th>s1</th>\n",
              "      <td>176.100642</td>\n",
              "      <td>81.158835</td>\n",
              "    </tr>\n",
              "    <tr>\n",
              "      <th>s2</th>\n",
              "      <td>146.922438</td>\n",
              "      <td>76.653307</td>\n",
              "    </tr>\n",
              "    <tr>\n",
              "      <th>s3</th>\n",
              "      <td>206.415543</td>\n",
              "      <td>69.636956</td>\n",
              "    </tr>\n",
              "    <tr>\n",
              "      <th>s4</th>\n",
              "      <td>155.189764</td>\n",
              "      <td>73.602868</td>\n",
              "    </tr>\n",
              "    <tr>\n",
              "      <th>s5</th>\n",
              "      <td>196.586201</td>\n",
              "      <td>66.043424</td>\n",
              "    </tr>\n",
              "  </tbody>\n",
              "</table>\n",
              "</div>"
            ],
            "text/plain": [
              "       heights     weigts\n",
              "s1  176.100642  81.158835\n",
              "s2  146.922438  76.653307\n",
              "s3  206.415543  69.636956\n",
              "s4  155.189764  73.602868\n",
              "s5  196.586201  66.043424"
            ]
          },
          "metadata": {
            "tags": []
          },
          "execution_count": 243
        }
      ]
    },
    {
      "metadata": {
        "id": "YL4siMbofqwZ",
        "colab_type": "text"
      },
      "cell_type": "markdown",
      "source": [
        "# **Panel**\n",
        "\n",
        "holds **two** or **more** Data **Frames** together as a single unit.\n",
        "\n",
        "Few examples are:\n",
        "\n",
        "- Height and Weight of all students, belonging to 3 Classes 'A', 'B', and 'C'.\n",
        "- Daily Rainfall received and Average Temperatures of 3 locations 'X', 'Y', and 'Z' captured in the year 2017.\n",
        "\n",
        "---\n",
        "\n"
      ]
    },
    {
      "metadata": {
        "id": "nCwHt6x6wwoM",
        "colab_type": "text"
      },
      "cell_type": "markdown",
      "source": [
        "**Problem 1.6**\n",
        "Create a panel p, which holds previously created two data frames df_A and df_B.\n",
        "\n",
        "Label the first data frame as ClassA and second as ClassB.\n",
        "\n",
        "\n",
        "Determine the shape of panel p and display it."
      ]
    },
    {
      "metadata": {
        "id": "rJcUK9wDyV1e",
        "colab_type": "code",
        "outputId": "82f35750-1a81-4bbf-9171-1ec30cbe5f0f",
        "colab": {
          "base_uri": "https://localhost:8080/",
          "height": 493
        }
      },
      "cell_type": "code",
      "source": [
        "df_panel = pd.Panel({'ClassA': df_A, 'ClassB': df_B})\n",
        "\n",
        "print('Shape:-')\n",
        "print(df_panel.shape)\n",
        "\n",
        "print('\\n\\nClassA')\n",
        "print(df_panel.ClassA)\n",
        "\n",
        "\n",
        "print('\\n\\nClassB')\n",
        "print(df_panel.ClassB)\n",
        "\n",
        "print(\"\\n\\ndf_panel:- \")\n",
        "print(df_panel)"
      ],
      "execution_count": 244,
      "outputs": [
        {
          "output_type": "stream",
          "text": [
            "Shape:-\n",
            "(2, 5, 3)\n",
            "\n",
            "\n",
            "ClassA\n",
            "    heights  weights  weigts\n",
            "s1    176.2     85.1     NaN\n",
            "s2    158.4     90.2     NaN\n",
            "s3    167.6     76.8     NaN\n",
            "s4    156.2     80.4     NaN\n",
            "s5    161.4     78.9     NaN\n",
            "\n",
            "\n",
            "ClassB\n",
            "       heights  weights     weigts\n",
            "s1  176.100642      NaN  81.158835\n",
            "s2  146.922438      NaN  76.653307\n",
            "s3  206.415543      NaN  69.636956\n",
            "s4  155.189764      NaN  73.602868\n",
            "s5  196.586201      NaN  66.043424\n",
            "\n",
            "\n",
            "df_panel:- \n",
            "<class 'pandas.core.panel.Panel'>\n",
            "Dimensions: 2 (items) x 5 (major_axis) x 3 (minor_axis)\n",
            "Items axis: ClassA to ClassB\n",
            "Major_axis axis: s1 to s5\n",
            "Minor_axis axis: heights to weigts\n"
          ],
          "name": "stdout"
        }
      ]
    },
    {
      "metadata": {
        "id": "LO60AuW3_YGw",
        "colab_type": "text"
      },
      "cell_type": "markdown",
      "source": [
        "# Data Access\n",
        "\n",
        "Data Access refers to extracting data present in defined data structures.\n",
        "\n",
        "Pandas provide utilities like **loc** and **iloc** to get data from a Series, a DataFrame, or a Panel."
      ]
    },
    {
      "metadata": {
        "id": "IgxsSACKAQm3",
        "colab_type": "text"
      },
      "cell_type": "markdown",
      "source": [
        "**Problem 2.1**\n",
        "\n",
        "Print the second element of series heights_A, as a string."
      ]
    },
    {
      "metadata": {
        "id": "8-wyuvybAXZJ",
        "colab_type": "code",
        "outputId": "40e2b1fb-4d11-4b82-82c7-ea87c593fece",
        "colab": {
          "base_uri": "https://localhost:8080/",
          "height": 68
        }
      },
      "cell_type": "code",
      "source": [
        "#Using index\n",
        "print (heights_A[1])\n",
        "\n",
        "#Using get() and index\n",
        "print (heights_A.get(1))\n",
        "\n",
        "\n",
        "#Using get() and index variable name\n",
        "print (heights_A.get('s2'))"
      ],
      "execution_count": 245,
      "outputs": [
        {
          "output_type": "stream",
          "text": [
            "158.4\n",
            "158.4\n",
            "158.4\n"
          ],
          "name": "stdout"
        }
      ]
    },
    {
      "metadata": {
        "id": "vYqQObffBtdg",
        "colab_type": "text"
      },
      "cell_type": "markdown",
      "source": [
        "**Problem 2.2**\n",
        "\n",
        "Obtain central three elements of Series heights_A."
      ]
    },
    {
      "metadata": {
        "id": "5xwpNQBDBwYG",
        "colab_type": "code",
        "outputId": "feb20908-cf6a-419a-94d8-11df5df911d7",
        "colab": {
          "base_uri": "https://localhost:8080/",
          "height": 85
        }
      },
      "cell_type": "code",
      "source": [
        "print (heights_A[1:-1])"
      ],
      "execution_count": 246,
      "outputs": [
        {
          "output_type": "stream",
          "text": [
            "s2    158.4\n",
            "s3    167.6\n",
            "s4    156.2\n",
            "dtype: float64\n"
          ],
          "name": "stdout"
        }
      ]
    },
    {
      "metadata": {
        "id": "T7B6fFdyFbXm",
        "colab_type": "text"
      },
      "cell_type": "markdown",
      "source": [
        "**Accessing Data from a Data Frame**\n",
        "\n",
        "Pandas allows .loc, .iloc methods for selecting rows.\n",
        "\n",
        "Using square brackets ([ ]) is also allowed, especially for selecting columns."
      ]
    },
    {
      "metadata": {
        "id": "dqxR0g7Darnp",
        "colab_type": "text"
      },
      "cell_type": "markdown",
      "source": [
        "**Problem 2.3**\n",
        "\n",
        "Select the column of df_A, referring to student heights and store in variable height.\n",
        "\n",
        "Display the type of height"
      ]
    },
    {
      "metadata": {
        "id": "wETLIX8xawKq",
        "colab_type": "code",
        "outputId": "c40fc64a-c339-43e8-ad5f-aec3ee12f577",
        "colab": {
          "base_uri": "https://localhost:8080/",
          "height": 340
        }
      },
      "cell_type": "code",
      "source": [
        "print(df_A)\n",
        "\n",
        "height = df_A['heights']\n",
        "\n",
        "print('\\n\\nheight:')\n",
        "print(height)\n",
        "\n",
        "\n",
        "print('\\n\\n Type of Height')\n",
        "print(type(height))   ## You could also use print(type(_))   _ refers to latest one"
      ],
      "execution_count": 247,
      "outputs": [
        {
          "output_type": "stream",
          "text": [
            "    heights  weights\n",
            "s1    176.2     85.1\n",
            "s2    158.4     90.2\n",
            "s3    167.6     76.8\n",
            "s4    156.2     80.4\n",
            "s5    161.4     78.9\n",
            "\n",
            "\n",
            "height:\n",
            "s1    176.2\n",
            "s2    158.4\n",
            "s3    167.6\n",
            "s4    156.2\n",
            "s5    161.4\n",
            "Name: heights, dtype: float64\n",
            "\n",
            "\n",
            " Type of Height\n",
            "<class 'pandas.core.series.Series'>\n"
          ],
          "name": "stdout"
        }
      ]
    },
    {
      "metadata": {
        "id": "_JcKFslmbbpi",
        "colab_type": "text"
      },
      "cell_type": "markdown",
      "source": [
        "**Problem 2.4**\n",
        "\n",
        "Select the rows corresponding to students s1, s2 of df_A and display them."
      ]
    },
    {
      "metadata": {
        "id": "_zv21p1qbeTV",
        "colab_type": "code",
        "outputId": "8eacf26d-4212-439a-8dc9-d234e02736c3",
        "colab": {
          "base_uri": "https://localhost:8080/",
          "height": 111
        }
      },
      "cell_type": "code",
      "source": [
        "df_A[:2]"
      ],
      "execution_count": 248,
      "outputs": [
        {
          "output_type": "execute_result",
          "data": {
            "text/html": [
              "<div>\n",
              "<style scoped>\n",
              "    .dataframe tbody tr th:only-of-type {\n",
              "        vertical-align: middle;\n",
              "    }\n",
              "\n",
              "    .dataframe tbody tr th {\n",
              "        vertical-align: top;\n",
              "    }\n",
              "\n",
              "    .dataframe thead th {\n",
              "        text-align: right;\n",
              "    }\n",
              "</style>\n",
              "<table border=\"1\" class=\"dataframe\">\n",
              "  <thead>\n",
              "    <tr style=\"text-align: right;\">\n",
              "      <th></th>\n",
              "      <th>heights</th>\n",
              "      <th>weights</th>\n",
              "    </tr>\n",
              "  </thead>\n",
              "  <tbody>\n",
              "    <tr>\n",
              "      <th>s1</th>\n",
              "      <td>176.2</td>\n",
              "      <td>85.1</td>\n",
              "    </tr>\n",
              "    <tr>\n",
              "      <th>s2</th>\n",
              "      <td>158.4</td>\n",
              "      <td>90.2</td>\n",
              "    </tr>\n",
              "  </tbody>\n",
              "</table>\n",
              "</div>"
            ],
            "text/plain": [
              "    heights  weights\n",
              "s1    176.2     85.1\n",
              "s2    158.4     90.2"
            ]
          },
          "metadata": {
            "tags": []
          },
          "execution_count": 248
        }
      ]
    },
    {
      "metadata": {
        "id": "W31q_xjKbvrT",
        "colab_type": "code",
        "outputId": "d7ea6c23-8fc8-477b-bb77-26f5bf2e3af4",
        "colab": {
          "base_uri": "https://localhost:8080/",
          "height": 119
        }
      },
      "cell_type": "code",
      "source": [
        "print(df_A.loc['s1'])\n",
        "\n",
        "print(df_A.loc['s2'])"
      ],
      "execution_count": 249,
      "outputs": [
        {
          "output_type": "stream",
          "text": [
            "heights    176.2\n",
            "weights     85.1\n",
            "Name: s1, dtype: float64\n",
            "heights    158.4\n",
            "weights     90.2\n",
            "Name: s2, dtype: float64\n"
          ],
          "name": "stdout"
        }
      ]
    },
    {
      "metadata": {
        "id": "vKc23Au0cctS",
        "colab_type": "text"
      },
      "cell_type": "markdown",
      "source": [
        "**Problem 2.5**\n",
        "\n",
        "Select the rows corresponding to students s1, s2 and s5 of df_A in the order s2, s5, s1 and display them."
      ]
    },
    {
      "metadata": {
        "id": "6eiWYBXTci3p",
        "colab_type": "code",
        "outputId": "b1f40a75-63ae-48ba-a8ea-fd54cddd7b85",
        "colab": {
          "base_uri": "https://localhost:8080/",
          "height": 142
        }
      },
      "cell_type": "code",
      "source": [
        "df_A.loc[['s2', 's5', 's1']]"
      ],
      "execution_count": 250,
      "outputs": [
        {
          "output_type": "execute_result",
          "data": {
            "text/html": [
              "<div>\n",
              "<style scoped>\n",
              "    .dataframe tbody tr th:only-of-type {\n",
              "        vertical-align: middle;\n",
              "    }\n",
              "\n",
              "    .dataframe tbody tr th {\n",
              "        vertical-align: top;\n",
              "    }\n",
              "\n",
              "    .dataframe thead th {\n",
              "        text-align: right;\n",
              "    }\n",
              "</style>\n",
              "<table border=\"1\" class=\"dataframe\">\n",
              "  <thead>\n",
              "    <tr style=\"text-align: right;\">\n",
              "      <th></th>\n",
              "      <th>heights</th>\n",
              "      <th>weights</th>\n",
              "    </tr>\n",
              "  </thead>\n",
              "  <tbody>\n",
              "    <tr>\n",
              "      <th>s2</th>\n",
              "      <td>158.4</td>\n",
              "      <td>90.2</td>\n",
              "    </tr>\n",
              "    <tr>\n",
              "      <th>s5</th>\n",
              "      <td>161.4</td>\n",
              "      <td>78.9</td>\n",
              "    </tr>\n",
              "    <tr>\n",
              "      <th>s1</th>\n",
              "      <td>176.2</td>\n",
              "      <td>85.1</td>\n",
              "    </tr>\n",
              "  </tbody>\n",
              "</table>\n",
              "</div>"
            ],
            "text/plain": [
              "    heights  weights\n",
              "s2    158.4     90.2\n",
              "s5    161.4     78.9\n",
              "s1    176.2     85.1"
            ]
          },
          "metadata": {
            "tags": []
          },
          "execution_count": 250
        }
      ]
    },
    {
      "metadata": {
        "id": "ptWDIE7j5D_Q",
        "colab_type": "text"
      },
      "cell_type": "markdown",
      "source": [
        "**# Problem 2.6**\n",
        "\n",
        "whats the difference between loc and iloc?.\n",
        "\n",
        "\n",
        "loc gets rows (or columns) with particular labels from the index. iloc gets rows (or columns) at particular positions in the index (so it only takes integers). ix usually tries to behave like loc but falls back to behaving like iloc if a label is not present in the index."
      ]
    },
    {
      "metadata": {
        "id": "kSFemaEo0wu-",
        "colab_type": "code",
        "colab": {
          "base_uri": "https://localhost:8080/",
          "height": 119
        },
        "outputId": "50ad8cb1-1cdc-4add-cdc6-1a1cac125687"
      },
      "cell_type": "code",
      "source": [
        "df_p26 = pd.DataFrame({'A':[34, 78, 54], 'B':[12, 67, 43]}, index=['r1', 'r2', 'r3'])\n",
        "\n",
        "print(df_p26.iloc[1:3])   #### taking integer index as input \n",
        " \n",
        "print(df_p26.loc['r2':'r3'])   #### taking given string index as input"
      ],
      "execution_count": 251,
      "outputs": [
        {
          "output_type": "stream",
          "text": [
            "     A   B\n",
            "r2  78  67\n",
            "r3  54  43\n",
            "     A   B\n",
            "r2  78  67\n",
            "r3  54  43\n"
          ],
          "name": "stdout"
        }
      ]
    },
    {
      "metadata": {
        "id": "CbaFI2GZ5sh-",
        "colab_type": "text"
      },
      "cell_type": "markdown",
      "source": [
        "**Problem 2.7**\n",
        "\n",
        "\n",
        "How do you add a new column 'C' to a data frame as similar to the previous one, with 3 rows"
      ]
    },
    {
      "metadata": {
        "id": "9EytxKBO54_C",
        "colab_type": "code",
        "colab": {
          "base_uri": "https://localhost:8080/",
          "height": 142
        },
        "outputId": "b17107ac-4a8a-43e9-c3e9-48d8159a2fbe"
      },
      "cell_type": "code",
      "source": [
        "df_p26['C'] = [12, 98, 45]\n",
        "df_p26"
      ],
      "execution_count": 252,
      "outputs": [
        {
          "output_type": "execute_result",
          "data": {
            "text/html": [
              "<div>\n",
              "<style scoped>\n",
              "    .dataframe tbody tr th:only-of-type {\n",
              "        vertical-align: middle;\n",
              "    }\n",
              "\n",
              "    .dataframe tbody tr th {\n",
              "        vertical-align: top;\n",
              "    }\n",
              "\n",
              "    .dataframe thead th {\n",
              "        text-align: right;\n",
              "    }\n",
              "</style>\n",
              "<table border=\"1\" class=\"dataframe\">\n",
              "  <thead>\n",
              "    <tr style=\"text-align: right;\">\n",
              "      <th></th>\n",
              "      <th>A</th>\n",
              "      <th>B</th>\n",
              "      <th>C</th>\n",
              "    </tr>\n",
              "  </thead>\n",
              "  <tbody>\n",
              "    <tr>\n",
              "      <th>r1</th>\n",
              "      <td>34</td>\n",
              "      <td>12</td>\n",
              "      <td>12</td>\n",
              "    </tr>\n",
              "    <tr>\n",
              "      <th>r2</th>\n",
              "      <td>78</td>\n",
              "      <td>67</td>\n",
              "      <td>98</td>\n",
              "    </tr>\n",
              "    <tr>\n",
              "      <th>r3</th>\n",
              "      <td>54</td>\n",
              "      <td>43</td>\n",
              "      <td>45</td>\n",
              "    </tr>\n",
              "  </tbody>\n",
              "</table>\n",
              "</div>"
            ],
            "text/plain": [
              "     A   B   C\n",
              "r1  34  12  12\n",
              "r2  78  67  98\n",
              "r3  54  43  45"
            ]
          },
          "metadata": {
            "tags": []
          },
          "execution_count": 252
        }
      ]
    },
    {
      "metadata": {
        "id": "rXSEMzSL6MIj",
        "colab_type": "text"
      },
      "cell_type": "markdown",
      "source": [
        "**Problem 2.8**\n",
        "\n",
        "How do you delete a column from a data fram?"
      ]
    },
    {
      "metadata": {
        "id": "9hbHqRAF6R-n",
        "colab_type": "code",
        "colab": {
          "base_uri": "https://localhost:8080/",
          "height": 142
        },
        "outputId": "8a9e4cb8-da29-48b9-b43e-682fede1ccad"
      },
      "cell_type": "code",
      "source": [
        "del df_p26['B']\n",
        "df_p26"
      ],
      "execution_count": 253,
      "outputs": [
        {
          "output_type": "execute_result",
          "data": {
            "text/html": [
              "<div>\n",
              "<style scoped>\n",
              "    .dataframe tbody tr th:only-of-type {\n",
              "        vertical-align: middle;\n",
              "    }\n",
              "\n",
              "    .dataframe tbody tr th {\n",
              "        vertical-align: top;\n",
              "    }\n",
              "\n",
              "    .dataframe thead th {\n",
              "        text-align: right;\n",
              "    }\n",
              "</style>\n",
              "<table border=\"1\" class=\"dataframe\">\n",
              "  <thead>\n",
              "    <tr style=\"text-align: right;\">\n",
              "      <th></th>\n",
              "      <th>A</th>\n",
              "      <th>C</th>\n",
              "    </tr>\n",
              "  </thead>\n",
              "  <tbody>\n",
              "    <tr>\n",
              "      <th>r1</th>\n",
              "      <td>34</td>\n",
              "      <td>12</td>\n",
              "    </tr>\n",
              "    <tr>\n",
              "      <th>r2</th>\n",
              "      <td>78</td>\n",
              "      <td>98</td>\n",
              "    </tr>\n",
              "    <tr>\n",
              "      <th>r3</th>\n",
              "      <td>54</td>\n",
              "      <td>45</td>\n",
              "    </tr>\n",
              "  </tbody>\n",
              "</table>\n",
              "</div>"
            ],
            "text/plain": [
              "     A   C\n",
              "r1  34  12\n",
              "r2  78  98\n",
              "r3  54  45"
            ]
          },
          "metadata": {
            "tags": []
          },
          "execution_count": 253
        }
      ]
    },
    {
      "metadata": {
        "id": "e-do3ytA7dcM",
        "colab_type": "text"
      },
      "cell_type": "markdown",
      "source": [
        "# Knowing a Series\n",
        "\n",
        "It is possible to understand a Series better by using ***describe*** method.\n",
        "\n",
        "The method provides details like mean, std, etc. about a series."
      ]
    },
    {
      "metadata": {
        "id": "8aw0OzGn7qKh",
        "colab_type": "code",
        "colab": {
          "base_uri": "https://localhost:8080/",
          "height": 170
        },
        "outputId": "7be5bc81-fa16-470d-a214-2551bf2c1661"
      },
      "cell_type": "code",
      "source": [
        "temp = pd.Series(28 + 10*np.random.randn(10))\n",
        "\n",
        "print(temp.describe())"
      ],
      "execution_count": 254,
      "outputs": [
        {
          "output_type": "stream",
          "text": [
            "count    10.000000\n",
            "mean     25.039718\n",
            "std      10.500423\n",
            "min      -0.665415\n",
            "25%      21.411860\n",
            "50%      27.509226\n",
            "75%      30.254143\n",
            "max      36.051077\n",
            "dtype: float64\n"
          ],
          "name": "stdout"
        }
      ]
    },
    {
      "metadata": {
        "id": "6xe4amUS8I5m",
        "colab_type": "text"
      },
      "cell_type": "markdown",
      "source": [
        "# Knowing a DataFrame\n",
        "\n",
        "Two methods majorly ***info*** and ***describe*** can be used to know about the data, present in a data frame.\n",
        "\n",
        "- **describe** method by default provides details of **only** ***numeric*** fields.\n",
        "- You can use ***include*** argument to know about other columns.\n",
        "\n"
      ]
    },
    {
      "metadata": {
        "id": "ccBltcAT8QNK",
        "colab_type": "code",
        "colab": {
          "base_uri": "https://localhost:8080/",
          "height": 561
        },
        "outputId": "dd5939bc-6988-4b90-b4ac-bcc4363dd225"
      },
      "cell_type": "code",
      "source": [
        "df = pd.DataFrame({\n",
        "    'temp':pd.Series(28 + 10*np.random.randn(10)), \n",
        "    'rain':pd.Series(100 + 50*np.random.randn(10)),\n",
        "    'location':list('AAAAABBBBB')\n",
        "})\n",
        "\n",
        "print(df.info(), end= \"\\n\\n\")\n",
        "\n",
        "print(df.describe(), end='\\n\\n')\n",
        "\n",
        "print(df.describe(include=['object', 'float64']))  ### object is used to include location"
      ],
      "execution_count": 255,
      "outputs": [
        {
          "output_type": "stream",
          "text": [
            "<class 'pandas.core.frame.DataFrame'>\n",
            "RangeIndex: 10 entries, 0 to 9\n",
            "Data columns (total 3 columns):\n",
            "location    10 non-null object\n",
            "rain        10 non-null float64\n",
            "temp        10 non-null float64\n",
            "dtypes: float64(2), object(1)\n",
            "memory usage: 320.0+ bytes\n",
            "None\n",
            "\n",
            "             rain       temp\n",
            "count   10.000000  10.000000\n",
            "mean    94.578875  31.463634\n",
            "std     50.512439   5.014606\n",
            "min     44.460588  24.697130\n",
            "25%     59.647887  28.144482\n",
            "50%     67.045338  31.707718\n",
            "75%    129.594586  34.254547\n",
            "max    180.362877  39.980212\n",
            "\n",
            "       location        rain       temp\n",
            "count        10   10.000000  10.000000\n",
            "unique        2         NaN        NaN\n",
            "top           A         NaN        NaN\n",
            "freq          5         NaN        NaN\n",
            "mean        NaN   94.578875  31.463634\n",
            "std         NaN   50.512439   5.014606\n",
            "min         NaN   44.460588  24.697130\n",
            "25%         NaN   59.647887  28.144482\n",
            "50%         NaN   67.045338  31.707718\n",
            "75%         NaN  129.594586  34.254547\n",
            "max         NaN  180.362877  39.980212\n"
          ],
          "name": "stdout"
        }
      ]
    },
    {
      "metadata": {
        "id": "rNN1p_6G-R4J",
        "colab_type": "text"
      },
      "cell_type": "markdown",
      "source": [
        "# Pandas I/O\n",
        "\n",
        "- pandas.read_csv()                   --> mainly path in  qoutes, delimitter\n",
        "- pandas.read_excel()\n",
        "- pandas.read_sql_table\n",
        "- pandas.read_json()\n",
        "- pandas.DataFrame.to_csv()     --> \n",
        "- pandas.DataFrame.to_excel()\n"
      ]
    },
    {
      "metadata": {
        "id": "VXOMmKkAD_i4",
        "colab_type": "code",
        "colab": {
          "base_uri": "https://localhost:8080/",
          "height": 85
        },
        "outputId": "6a7b1a25-ce60-4cc7-e954-86244737e926"
      },
      "cell_type": "code",
      "source": [
        "# You can always put ?pd.read_csv enter to get what the function requires\n",
        "\n",
        "df_IO = pd.DataFrame({'A': pd.Series([10,20,30]), 'B':pd.Series([90,100,80])})\n",
        "print(df_IO)\n",
        "\n",
        "df_IO.to_csv(\"app.csv\")"
      ],
      "execution_count": 256,
      "outputs": [
        {
          "output_type": "stream",
          "text": [
            "    A    B\n",
            "0  10   90\n",
            "1  20  100\n",
            "2  30   80\n"
          ],
          "name": "stdout"
        }
      ]
    },
    {
      "metadata": {
        "id": "OmHqJ1csErJf",
        "colab_type": "text"
      },
      "cell_type": "markdown",
      "source": [
        "# How to read csv file from an url"
      ]
    },
    {
      "metadata": {
        "id": "KUZCzgcuGxIu",
        "colab_type": "code",
        "colab": {
          "base_uri": "https://localhost:8080/",
          "height": 359
        },
        "outputId": "45ab4806-cfc0-43df-a922-22ae1e5a6fd5"
      },
      "cell_type": "code",
      "source": [
        "import urllib.request as ur\n",
        "\n",
        "file = ur.urlopen(ur.Request(\"https://raw.githubusercontent.com/uiuc-cse/data-fa14/gh-pages/data/iris.csv\"))\n",
        "\n",
        "data = pd.read_csv(file, sep = ',' , header  = None, decimal= '.', names = ['sepal_length', 'sepal_width', 'petal_length', 'petal_width', 'target'])\n",
        "\n",
        "data.head(10)\n"
      ],
      "execution_count": 257,
      "outputs": [
        {
          "output_type": "execute_result",
          "data": {
            "text/html": [
              "<div>\n",
              "<style scoped>\n",
              "    .dataframe tbody tr th:only-of-type {\n",
              "        vertical-align: middle;\n",
              "    }\n",
              "\n",
              "    .dataframe tbody tr th {\n",
              "        vertical-align: top;\n",
              "    }\n",
              "\n",
              "    .dataframe thead th {\n",
              "        text-align: right;\n",
              "    }\n",
              "</style>\n",
              "<table border=\"1\" class=\"dataframe\">\n",
              "  <thead>\n",
              "    <tr style=\"text-align: right;\">\n",
              "      <th></th>\n",
              "      <th>sepal_length</th>\n",
              "      <th>sepal_width</th>\n",
              "      <th>petal_length</th>\n",
              "      <th>petal_width</th>\n",
              "      <th>target</th>\n",
              "    </tr>\n",
              "  </thead>\n",
              "  <tbody>\n",
              "    <tr>\n",
              "      <th>0</th>\n",
              "      <td>sepal_length</td>\n",
              "      <td>sepal_width</td>\n",
              "      <td>petal_length</td>\n",
              "      <td>petal_width</td>\n",
              "      <td>species</td>\n",
              "    </tr>\n",
              "    <tr>\n",
              "      <th>1</th>\n",
              "      <td>5.1</td>\n",
              "      <td>3.5</td>\n",
              "      <td>1.4</td>\n",
              "      <td>0.2</td>\n",
              "      <td>setosa</td>\n",
              "    </tr>\n",
              "    <tr>\n",
              "      <th>2</th>\n",
              "      <td>4.9</td>\n",
              "      <td>3</td>\n",
              "      <td>1.4</td>\n",
              "      <td>0.2</td>\n",
              "      <td>setosa</td>\n",
              "    </tr>\n",
              "    <tr>\n",
              "      <th>3</th>\n",
              "      <td>4.7</td>\n",
              "      <td>3.2</td>\n",
              "      <td>1.3</td>\n",
              "      <td>0.2</td>\n",
              "      <td>setosa</td>\n",
              "    </tr>\n",
              "    <tr>\n",
              "      <th>4</th>\n",
              "      <td>4.6</td>\n",
              "      <td>3.1</td>\n",
              "      <td>1.5</td>\n",
              "      <td>0.2</td>\n",
              "      <td>setosa</td>\n",
              "    </tr>\n",
              "    <tr>\n",
              "      <th>5</th>\n",
              "      <td>5</td>\n",
              "      <td>3.6</td>\n",
              "      <td>1.4</td>\n",
              "      <td>0.2</td>\n",
              "      <td>setosa</td>\n",
              "    </tr>\n",
              "    <tr>\n",
              "      <th>6</th>\n",
              "      <td>5.4</td>\n",
              "      <td>3.9</td>\n",
              "      <td>1.7</td>\n",
              "      <td>0.4</td>\n",
              "      <td>setosa</td>\n",
              "    </tr>\n",
              "    <tr>\n",
              "      <th>7</th>\n",
              "      <td>4.6</td>\n",
              "      <td>3.4</td>\n",
              "      <td>1.4</td>\n",
              "      <td>0.3</td>\n",
              "      <td>setosa</td>\n",
              "    </tr>\n",
              "    <tr>\n",
              "      <th>8</th>\n",
              "      <td>5</td>\n",
              "      <td>3.4</td>\n",
              "      <td>1.5</td>\n",
              "      <td>0.2</td>\n",
              "      <td>setosa</td>\n",
              "    </tr>\n",
              "    <tr>\n",
              "      <th>9</th>\n",
              "      <td>4.4</td>\n",
              "      <td>2.9</td>\n",
              "      <td>1.4</td>\n",
              "      <td>0.2</td>\n",
              "      <td>setosa</td>\n",
              "    </tr>\n",
              "  </tbody>\n",
              "</table>\n",
              "</div>"
            ],
            "text/plain": [
              "   sepal_length  sepal_width  petal_length  petal_width   target\n",
              "0  sepal_length  sepal_width  petal_length  petal_width  species\n",
              "1           5.1          3.5           1.4          0.2   setosa\n",
              "2           4.9            3           1.4          0.2   setosa\n",
              "3           4.7          3.2           1.3          0.2   setosa\n",
              "4           4.6          3.1           1.5          0.2   setosa\n",
              "5             5          3.6           1.4          0.2   setosa\n",
              "6           5.4          3.9           1.7          0.4   setosa\n",
              "7           4.6          3.4           1.4          0.3   setosa\n",
              "8             5          3.4           1.5          0.2   setosa\n",
              "9           4.4          2.9           1.4          0.2   setosa"
            ]
          },
          "metadata": {
            "tags": []
          },
          "execution_count": 257
        }
      ]
    },
    {
      "metadata": {
        "id": "sJHgOoi0KGGk",
        "colab_type": "text"
      },
      "cell_type": "markdown",
      "source": [
        "To read from mysql database you can use below commands. Since I don't have mysql database loaded here just showing the code snippet required.\n",
        "\n",
        "`from sqlalchemy import create_engine`\n",
        "\n",
        "`engine = create_engine('mysql+localhost:8888/table')`\n",
        "\n",
        "`df = pd.read_sql_table('Table:', engine)`\n",
        "`df`\n",
        "\n"
      ]
    },
    {
      "metadata": {
        "id": "uj0qCHjwK5yL",
        "colab_type": "text"
      },
      "cell_type": "markdown",
      "source": [
        "# **How to deal with large datasets in smaller chunks**\n",
        "\n",
        "- Set the **iterator** to True in pandas methods\n",
        "- use the **get_chunk()** to receive data."
      ]
    },
    {
      "metadata": {
        "id": "e8Y5hS79PhiE",
        "colab_type": "code",
        "colab": {
          "base_uri": "https://localhost:8080/",
          "height": 111
        },
        "outputId": "90c220b0-0895-45c0-f9fe-496d4f583c1c"
      },
      "cell_type": "code",
      "source": [
        "import urllib.request as ur\n",
        "\n",
        "file = ur.urlopen(ur.Request(\"https://raw.githubusercontent.com/uiuc-cse/data-fa14/gh-pages/data/iris.csv\"))\n",
        "\n",
        "data_iterator = pd.read_csv(file, sep = ',' , header  = None, decimal= '.', names = ['sepal_length', 'sepal_width', 'petal_length', 'petal_width', 'target'], \n",
        "                            iterator = True)\n",
        "\n",
        "chunk = [data_iterator.get_chunk(100), data_iterator.get_chunk(5), data_iterator.get_chunk(2)]\n",
        "\n",
        "chunk[2] "
      ],
      "execution_count": 258,
      "outputs": [
        {
          "output_type": "execute_result",
          "data": {
            "text/html": [
              "<div>\n",
              "<style scoped>\n",
              "    .dataframe tbody tr th:only-of-type {\n",
              "        vertical-align: middle;\n",
              "    }\n",
              "\n",
              "    .dataframe tbody tr th {\n",
              "        vertical-align: top;\n",
              "    }\n",
              "\n",
              "    .dataframe thead th {\n",
              "        text-align: right;\n",
              "    }\n",
              "</style>\n",
              "<table border=\"1\" class=\"dataframe\">\n",
              "  <thead>\n",
              "    <tr style=\"text-align: right;\">\n",
              "      <th></th>\n",
              "      <th>sepal_length</th>\n",
              "      <th>sepal_width</th>\n",
              "      <th>petal_length</th>\n",
              "      <th>petal_width</th>\n",
              "      <th>target</th>\n",
              "    </tr>\n",
              "  </thead>\n",
              "  <tbody>\n",
              "    <tr>\n",
              "      <th>105</th>\n",
              "      <td>6.5</td>\n",
              "      <td>3</td>\n",
              "      <td>5.8</td>\n",
              "      <td>2.2</td>\n",
              "      <td>virginica</td>\n",
              "    </tr>\n",
              "    <tr>\n",
              "      <th>106</th>\n",
              "      <td>7.6</td>\n",
              "      <td>3</td>\n",
              "      <td>6.6</td>\n",
              "      <td>2.1</td>\n",
              "      <td>virginica</td>\n",
              "    </tr>\n",
              "  </tbody>\n",
              "</table>\n",
              "</div>"
            ],
            "text/plain": [
              "     sepal_length  sepal_width  petal_length  petal_width     target\n",
              "105           6.5            3           5.8          2.2  virginica\n",
              "106           7.6            3           6.6          2.1  virginica"
            ]
          },
          "metadata": {
            "tags": []
          },
          "execution_count": 258
        }
      ]
    },
    {
      "metadata": {
        "id": "velo7IvKQwEw",
        "colab_type": "text"
      },
      "cell_type": "markdown",
      "source": [
        "**Reading Data from Json**\n",
        "\n",
        "pandas provides the utilities read_json and to_json to deal with JSON strings or files."
      ]
    },
    {
      "metadata": {
        "id": "xCgDgSQGQ_EW",
        "colab_type": "code",
        "colab": {
          "base_uri": "https://localhost:8080/",
          "height": 214
        },
        "outputId": "9e97bd8f-9229-4e87-e09a-5b68818e32dc"
      },
      "cell_type": "code",
      "source": [
        "import urllib.request as ur\n",
        "\n",
        "file = ur.urlopen(ur.Request(\"https://raw.githubusercontent.com/whatsupabhijit/py_rambling/master/pandas/contact.json\"))\n",
        "\n",
        "##\n",
        "## If you don't want to take from url and simply declare in your code\n",
        "## then import json and use json.dumps(give your json variable name here)\n",
        "#\n",
        "# import json\n",
        "# person = [your json goes here]\n",
        "# person_json_str = json.dumps(person)\n",
        "# df_json = pd.read_json(person_json_str)\n",
        "#\n",
        "\n",
        "df_json = pd.read_json(file)\n",
        "\n",
        "df_json.head(1)"
      ],
      "execution_count": 259,
      "outputs": [
        {
          "output_type": "execute_result",
          "data": {
            "text/html": [
              "<div>\n",
              "<style scoped>\n",
              "    .dataframe tbody tr th:only-of-type {\n",
              "        vertical-align: middle;\n",
              "    }\n",
              "\n",
              "    .dataframe tbody tr th {\n",
              "        vertical-align: top;\n",
              "    }\n",
              "\n",
              "    .dataframe thead th {\n",
              "        text-align: right;\n",
              "    }\n",
              "</style>\n",
              "<table border=\"1\" class=\"dataframe\">\n",
              "  <thead>\n",
              "    <tr style=\"text-align: right;\">\n",
              "      <th></th>\n",
              "      <th>_id</th>\n",
              "      <th>about</th>\n",
              "      <th>address</th>\n",
              "      <th>age</th>\n",
              "      <th>balance</th>\n",
              "      <th>company</th>\n",
              "      <th>email</th>\n",
              "      <th>eyeColor</th>\n",
              "      <th>favoriteFruit</th>\n",
              "      <th>friends</th>\n",
              "      <th>...</th>\n",
              "      <th>guid</th>\n",
              "      <th>index</th>\n",
              "      <th>isActive</th>\n",
              "      <th>latitude</th>\n",
              "      <th>longitude</th>\n",
              "      <th>name</th>\n",
              "      <th>phone</th>\n",
              "      <th>picture</th>\n",
              "      <th>registered</th>\n",
              "      <th>tags</th>\n",
              "    </tr>\n",
              "  </thead>\n",
              "  <tbody>\n",
              "    <tr>\n",
              "      <th>0</th>\n",
              "      <td>5bf8e6475fc62129cdf61a9a</td>\n",
              "      <td>Voluptate fugiat ut nisi aute adipisicing volu...</td>\n",
              "      <td>526 Oliver Street, Edgar, Delaware, 6455</td>\n",
              "      <td>32</td>\n",
              "      <td>$3,010.22</td>\n",
              "      <td>ENORMO</td>\n",
              "      <td>hodgesrivera@enormo.com</td>\n",
              "      <td>green</td>\n",
              "      <td>strawberry</td>\n",
              "      <td>[{'id': 0, 'name': 'Berta Hays'}, {'id': 1, 'n...</td>\n",
              "      <td>...</td>\n",
              "      <td>90ae433a-6ad4-438d-a6c7-d8668d9df7ef</td>\n",
              "      <td>0</td>\n",
              "      <td>True</td>\n",
              "      <td>38.115627</td>\n",
              "      <td>-21.175877</td>\n",
              "      <td>Hodges Rivera</td>\n",
              "      <td>+1 (933) 471-2714</td>\n",
              "      <td>http://placehold.it/32x32</td>\n",
              "      <td>2018-01-30T09:25:45 -08:00</td>\n",
              "      <td>[esse, minim, reprehenderit, ullamco, consequa...</td>\n",
              "    </tr>\n",
              "  </tbody>\n",
              "</table>\n",
              "<p>1 rows × 22 columns</p>\n",
              "</div>"
            ],
            "text/plain": [
              "                        _id  \\\n",
              "0  5bf8e6475fc62129cdf61a9a   \n",
              "\n",
              "                                               about  \\\n",
              "0  Voluptate fugiat ut nisi aute adipisicing volu...   \n",
              "\n",
              "                                    address  age    balance company  \\\n",
              "0  526 Oliver Street, Edgar, Delaware, 6455   32  $3,010.22  ENORMO   \n",
              "\n",
              "                     email eyeColor favoriteFruit  \\\n",
              "0  hodgesrivera@enormo.com    green    strawberry   \n",
              "\n",
              "                                             friends  \\\n",
              "0  [{'id': 0, 'name': 'Berta Hays'}, {'id': 1, 'n...   \n",
              "\n",
              "                         ...                          \\\n",
              "0                        ...                           \n",
              "\n",
              "                                   guid index isActive   latitude  longitude  \\\n",
              "0  90ae433a-6ad4-438d-a6c7-d8668d9df7ef     0     True  38.115627 -21.175877   \n",
              "\n",
              "            name              phone                    picture  \\\n",
              "0  Hodges Rivera  +1 (933) 471-2714  http://placehold.it/32x32   \n",
              "\n",
              "                   registered  \\\n",
              "0  2018-01-30T09:25:45 -08:00   \n",
              "\n",
              "                                                tags  \n",
              "0  [esse, minim, reprehenderit, ullamco, consequa...  \n",
              "\n",
              "[1 rows x 22 columns]"
            ]
          },
          "metadata": {
            "tags": []
          },
          "execution_count": 259
        }
      ]
    },
    {
      "metadata": {
        "id": "avN2JqpJVSoO",
        "colab_type": "code",
        "colab": {}
      },
      "cell_type": "code",
      "source": [
        "#?pd.DataFrame.to_csv\n",
        "?pd.read_csv"
      ],
      "execution_count": 0,
      "outputs": []
    },
    {
      "metadata": {
        "id": "i4tKTogSUCmt",
        "colab_type": "text"
      },
      "cell_type": "markdown",
      "source": [
        "# Indexing\n",
        "\n",
        "Till now have seen very basic indexing of rows or columns. But pandas provide more. Letss see what we can index and how."
      ]
    },
    {
      "metadata": {
        "id": "17zhQ8yCYHYG",
        "colab_type": "text"
      },
      "cell_type": "markdown",
      "source": [
        "# Single Level Indexing\n",
        "\n",
        "till now we have seen when data frame object was created we passed one index ***paramter***. \n",
        "We can still do that. \n",
        "\n",
        "But DataFrame also has index as an attribute. Once dataframe is created you can set the index ***attribute*** later."
      ]
    },
    {
      "metadata": {
        "id": "QvNBw3OsYrid",
        "colab_type": "code",
        "colab": {
          "base_uri": "https://localhost:8080/",
          "height": 204
        },
        "outputId": "952d8685-bb80-40ee-80e5-1c4625e4fc1b"
      },
      "cell_type": "code",
      "source": [
        "row = 5\n",
        "col = 3\n",
        "\n",
        "df = pd.DataFrame(np.random.rand(row,col))\n",
        "\n",
        "df.index = [ 'row#' + str(i) for i in range(1, row+1) ]\n",
        "\n",
        "df"
      ],
      "execution_count": 261,
      "outputs": [
        {
          "output_type": "execute_result",
          "data": {
            "text/html": [
              "<div>\n",
              "<style scoped>\n",
              "    .dataframe tbody tr th:only-of-type {\n",
              "        vertical-align: middle;\n",
              "    }\n",
              "\n",
              "    .dataframe tbody tr th {\n",
              "        vertical-align: top;\n",
              "    }\n",
              "\n",
              "    .dataframe thead th {\n",
              "        text-align: right;\n",
              "    }\n",
              "</style>\n",
              "<table border=\"1\" class=\"dataframe\">\n",
              "  <thead>\n",
              "    <tr style=\"text-align: right;\">\n",
              "      <th></th>\n",
              "      <th>0</th>\n",
              "      <th>1</th>\n",
              "      <th>2</th>\n",
              "    </tr>\n",
              "  </thead>\n",
              "  <tbody>\n",
              "    <tr>\n",
              "      <th>row#1</th>\n",
              "      <td>0.070575</td>\n",
              "      <td>0.167251</td>\n",
              "      <td>0.611861</td>\n",
              "    </tr>\n",
              "    <tr>\n",
              "      <th>row#2</th>\n",
              "      <td>0.354412</td>\n",
              "      <td>0.595349</td>\n",
              "      <td>0.567792</td>\n",
              "    </tr>\n",
              "    <tr>\n",
              "      <th>row#3</th>\n",
              "      <td>0.524002</td>\n",
              "      <td>0.372878</td>\n",
              "      <td>0.362943</td>\n",
              "    </tr>\n",
              "    <tr>\n",
              "      <th>row#4</th>\n",
              "      <td>0.285114</td>\n",
              "      <td>0.098194</td>\n",
              "      <td>0.322728</td>\n",
              "    </tr>\n",
              "    <tr>\n",
              "      <th>row#5</th>\n",
              "      <td>0.992062</td>\n",
              "      <td>0.059067</td>\n",
              "      <td>0.269783</td>\n",
              "    </tr>\n",
              "  </tbody>\n",
              "</table>\n",
              "</div>"
            ],
            "text/plain": [
              "              0         1         2\n",
              "row#1  0.070575  0.167251  0.611861\n",
              "row#2  0.354412  0.595349  0.567792\n",
              "row#3  0.524002  0.372878  0.362943\n",
              "row#4  0.285114  0.098194  0.322728\n",
              "row#5  0.992062  0.059067  0.269783"
            ]
          },
          "metadata": {
            "tags": []
          },
          "execution_count": 261
        }
      ]
    },
    {
      "metadata": {
        "id": "ArvjCQDeeH61",
        "colab_type": "text"
      },
      "cell_type": "markdown",
      "source": [
        "# Date Level Indexing\n",
        "\n",
        "How to create a date range from any day of specified perio and freequency\n",
        "\n",
        "- **date_range**\n",
        "- **to_datetime**\n",
        "\n",
        "More at [here](http://pandas.pydata.org/pandas-docs/stable/timeseries.html)"
      ]
    },
    {
      "metadata": {
        "id": "3Ym8CwEteUpc",
        "colab_type": "code",
        "colab": {
          "base_uri": "https://localhost:8080/",
          "height": 187
        },
        "outputId": "7dc8c275-a15d-4702-de26-8a5312639c46"
      },
      "cell_type": "code",
      "source": [
        "\n",
        "print(\"These are the 10 days\" , pd.date_range('1/1/2018', periods=10, freq='D'))\n",
        "print(\"These are the 5 months\" , pd.date_range('1/1/2018', periods=5, freq='M'))\n",
        "print(\"These are the 3 years\" , pd.date_range('1/1/2018', periods=3, freq='Y'))\n",
        "print(\"These are the 3 weeks\" , pd.date_range('1/1/2018', periods=3, freq='W'))\n",
        "print(\"These are the 4 Business Quarters\" , pd.date_range('1/1/2018', periods=4, freq='BQ'))"
      ],
      "execution_count": 262,
      "outputs": [
        {
          "output_type": "stream",
          "text": [
            "These are the 10 days DatetimeIndex(['2018-01-01', '2018-01-02', '2018-01-03', '2018-01-04',\n",
            "               '2018-01-05', '2018-01-06', '2018-01-07', '2018-01-08',\n",
            "               '2018-01-09', '2018-01-10'],\n",
            "              dtype='datetime64[ns]', freq='D')\n",
            "These are the 5 months DatetimeIndex(['2018-01-31', '2018-02-28', '2018-03-31', '2018-04-30',\n",
            "               '2018-05-31'],\n",
            "              dtype='datetime64[ns]', freq='M')\n",
            "These are the 3 years DatetimeIndex(['2018-12-31', '2019-12-31', '2020-12-31'], dtype='datetime64[ns]', freq='A-DEC')\n",
            "These are the 3 weeks DatetimeIndex(['2018-01-07', '2018-01-14', '2018-01-21'], dtype='datetime64[ns]', freq='W-SUN')\n",
            "These are the 4 Business Quarters DatetimeIndex(['2018-03-30', '2018-06-29', '2018-09-28', '2018-12-31'], dtype='datetime64[ns]', freq='BQ-DEC')\n"
          ],
          "name": "stdout"
        }
      ]
    },
    {
      "metadata": {
        "id": "B1kUBUiuglv9",
        "colab_type": "code",
        "colab": {
          "base_uri": "https://localhost:8080/",
          "height": 119
        },
        "outputId": "e4017102-87bd-4eb3-cab0-23a1e2dc2223"
      },
      "cell_type": "code",
      "source": [
        "#Date values with formatting\n",
        "\n",
        "print(pd.to_datetime(['20180310', '20181214', 'stringnotindateformat'], format='%Y%m%d', errors='coerce'), end = '\\n\\n') # NaT - Not a Time\n",
        "\n",
        "print(pd.to_datetime(pd.Series(['Jul 31, 2009', '2010-01-10', None])))"
      ],
      "execution_count": 263,
      "outputs": [
        {
          "output_type": "stream",
          "text": [
            "DatetimeIndex(['2018-03-10', '2018-12-14', 'NaT'], dtype='datetime64[ns]', freq=None)\n",
            "\n",
            "0   2009-07-31\n",
            "1   2010-01-10\n",
            "2          NaT\n",
            "dtype: datetime64[ns]\n"
          ],
          "name": "stdout"
        }
      ]
    },
    {
      "metadata": {
        "id": "Lbz0n5Kqhdu8",
        "colab_type": "text"
      },
      "cell_type": "markdown",
      "source": [
        "**All is fine but how is it related to DataFrame**\n"
      ]
    },
    {
      "metadata": {
        "id": "9KcDSQr7hiec",
        "colab_type": "code",
        "colab": {
          "base_uri": "https://localhost:8080/",
          "height": 68
        },
        "outputId": "d45a13f9-9a70-4419-d697-f437c047af3c"
      },
      "cell_type": "code",
      "source": [
        "df_index = pd.DataFrame({'year': [2014, 2015], 'month': [7,2], 'day': [28,16]})\n",
        "\n",
        "pd.to_datetime(df_index)"
      ],
      "execution_count": 264,
      "outputs": [
        {
          "output_type": "execute_result",
          "data": {
            "text/plain": [
              "0   2014-07-28\n",
              "1   2015-02-16\n",
              "dtype: datetime64[ns]"
            ]
          },
          "metadata": {
            "tags": []
          },
          "execution_count": 264
        }
      ]
    },
    {
      "metadata": {
        "id": "OWguKhtKfZyg",
        "colab_type": "code",
        "colab": {}
      },
      "cell_type": "code",
      "source": [
        "?pd.date_range"
      ],
      "execution_count": 0,
      "outputs": []
    },
    {
      "metadata": {
        "id": "rwnqJr9XiDr6",
        "colab_type": "text"
      },
      "cell_type": "markdown",
      "source": [
        "# Multi Level Indexing / Hierarchical indexing\n",
        "\n",
        "We have seen single level indexing. Now we will see hierarchical indexing.\n",
        "\n",
        "To deal with this we need to create Multi Level object.\n",
        "\n",
        "\n"
      ]
    },
    {
      "metadata": {
        "id": "CFoYTms9ifRv",
        "colab_type": "code",
        "colab": {
          "base_uri": "https://localhost:8080/",
          "height": 136
        },
        "outputId": "5dac966e-b246-4534-89c8-7e0a7b51499d"
      },
      "cell_type": "code",
      "source": [
        "lists = [['Abhijit', 'Abhijit',   'Abhijit', 'Joyee', 'Joyee'],\n",
        "         ['won',      'lost',   'won',     'lost',    'won']]\n",
        "\n",
        "\n",
        "m_index = pd.MultiIndex.from_arrays(lists, names = ['name' , 'game'])\n",
        "\n",
        "m_index\n",
        "\n",
        "#Now you can use this multi level index in your Series/DataFrame\n",
        "\n",
        "m_series = pd.Series(np.random.randn(5)*100 % 100, index=m_index)\n",
        "m_series"
      ],
      "execution_count": 266,
      "outputs": [
        {
          "output_type": "execute_result",
          "data": {
            "text/plain": [
              "name     game\n",
              "Abhijit  won     75.771555\n",
              "         lost     2.794214\n",
              "         won     92.700779\n",
              "Joyee    lost    47.760222\n",
              "         won     22.308824\n",
              "dtype: float64"
            ]
          },
          "metadata": {
            "tags": []
          },
          "execution_count": 266
        }
      ]
    },
    {
      "metadata": {
        "id": "_xuo25ImmJYt",
        "colab_type": "code",
        "colab": {
          "base_uri": "https://localhost:8080/",
          "height": 102
        },
        "outputId": "0f97f0e2-8cf7-42d8-a25f-45739e3f4eb1"
      },
      "cell_type": "code",
      "source": [
        "m_series['Abhijit']"
      ],
      "execution_count": 267,
      "outputs": [
        {
          "output_type": "execute_result",
          "data": {
            "text/plain": [
              "game\n",
              "won     75.771555\n",
              "lost     2.794214\n",
              "won     92.700779\n",
              "dtype: float64"
            ]
          },
          "metadata": {
            "tags": []
          },
          "execution_count": 267
        }
      ]
    },
    {
      "metadata": {
        "id": "-6QxL2zcmS7c",
        "colab_type": "code",
        "colab": {
          "base_uri": "https://localhost:8080/",
          "height": 68
        },
        "outputId": "eaf559c2-e55b-423f-9467-6628184b318f"
      },
      "cell_type": "code",
      "source": [
        "m_series['Abhijit','won']"
      ],
      "execution_count": 268,
      "outputs": [
        {
          "output_type": "execute_result",
          "data": {
            "text/plain": [
              "(Abhijit, won)    75.771555\n",
              "(Abhijit, won)    92.700779\n",
              "dtype: float64"
            ]
          },
          "metadata": {
            "tags": []
          },
          "execution_count": 268
        }
      ]
    },
    {
      "metadata": {
        "id": "3aBjAafeqp3f",
        "colab_type": "text"
      },
      "cell_type": "markdown",
      "source": [
        "**Indexing Summary **\n",
        "\n",
        "1. Create an index named dates, representing a range of dates starting from 1-Sep-2017 to 15-Sep-2017.\n",
        "\n",
        "2. Convert the following list of date strings into datetime objects. Capture the result in search_dates\n",
        "\n",
        "                    datelist = ['14-Sep-2017', '9-Sep-2017']\n",
        "\n",
        "3. Filter those index dates from dates which match dates in search_dates. Display the filtered dates.  \n",
        "\n",
        "     Hint: use isin method associated with DatetimeIndex objects.\n",
        "     \n",
        "\n",
        "4. Add 1 hours 2 Days to the filtered days and display it\n",
        "\n",
        "\n",
        "5. Create a multi index named mi_index of two levels, represented in the below array arraylist. Display levels of mi_index.\n",
        "\n",
        "                      `arraylist = [['classA'] * 5 + ['classB'] * 5, ['s1', 's2', 's3','s4', 's5'] * 2]`"
      ]
    },
    {
      "metadata": {
        "id": "ITBwAuRCrQJx",
        "colab_type": "code",
        "colab": {
          "base_uri": "https://localhost:8080/",
          "height": 238
        },
        "outputId": "ecd7d8f7-4ab7-449a-c4fa-7935796f7235"
      },
      "cell_type": "code",
      "source": [
        "#1\n",
        "dates = pd.date_range('9/1/2017', periods=15, freq = 'D')\n",
        "print(dates, end='\\n\\n')\n",
        "\n",
        "#2\n",
        "datelist = ['14-Sep-2017', '9-Sep-2017']\n",
        "search_dates = pd.to_datetime(datelist)\n",
        "print(search_dates, end= '\\n\\n')\n",
        "\n",
        "\n",
        "#3\n",
        "filtered_dates_bool = dates.isin(search_dates)\n",
        "#print (filtered_dates_bool, end='\\n\\n')\n",
        "\n",
        "filtered_dates = dates[filtered_dates_bool]\n",
        "print (filtered_dates, end='\\n\\n')\n",
        "\n",
        "#4\n",
        "print(filtered_dates + pd.Timedelta('1 days 2 hours'), end='\\n\\n')\n",
        "\n",
        "#5\n",
        "arraylist = [['classA'] * 5 + ['classB'] * 5, ['s1', 's2', 's3','s4', 's5'] * 2]\n",
        "mi_index = pd.MultiIndex.from_arrays(arraylist)\n",
        "print(mi_index.levels)"
      ],
      "execution_count": 269,
      "outputs": [
        {
          "output_type": "stream",
          "text": [
            "DatetimeIndex(['2017-09-01', '2017-09-02', '2017-09-03', '2017-09-04',\n",
            "               '2017-09-05', '2017-09-06', '2017-09-07', '2017-09-08',\n",
            "               '2017-09-09', '2017-09-10', '2017-09-11', '2017-09-12',\n",
            "               '2017-09-13', '2017-09-14', '2017-09-15'],\n",
            "              dtype='datetime64[ns]', freq='D')\n",
            "\n",
            "DatetimeIndex(['2017-09-14', '2017-09-09'], dtype='datetime64[ns]', freq=None)\n",
            "\n",
            "DatetimeIndex(['2017-09-09', '2017-09-14'], dtype='datetime64[ns]', freq=None)\n",
            "\n",
            "DatetimeIndex(['2017-09-10 02:00:00', '2017-09-15 02:00:00'], dtype='datetime64[ns]', freq=None)\n",
            "\n",
            "[['classA', 'classB'], ['s1', 's2', 's3', 's4', 's5']]\n"
          ],
          "name": "stdout"
        }
      ]
    },
    {
      "metadata": {
        "id": "SJj69VhyvAUq",
        "colab_type": "code",
        "colab": {
          "base_uri": "https://localhost:8080/",
          "height": 34
        },
        "outputId": "bae1634f-7a32-4dd4-b67e-c91ce7bb48e6"
      },
      "cell_type": "code",
      "source": [
        "pd.bdate_range('11-Sep-2017', '17-Sep-2017', freq='2D')"
      ],
      "execution_count": 270,
      "outputs": [
        {
          "output_type": "execute_result",
          "data": {
            "text/plain": [
              "DatetimeIndex(['2017-09-11', '2017-09-13', '2017-09-15', '2017-09-17'], dtype='datetime64[ns]', freq='2D')"
            ]
          },
          "metadata": {
            "tags": []
          },
          "execution_count": 270
        }
      ]
    },
    {
      "metadata": {
        "id": "yW9koYy3vJDT",
        "colab_type": "code",
        "colab": {
          "base_uri": "https://localhost:8080/",
          "height": 34
        },
        "outputId": "e1a51728-4f81-40fe-ca33-f4bef02150cf"
      },
      "cell_type": "code",
      "source": [
        "pd.period_range('11-Sep-2017', '17-Sep-2017', freq='M')"
      ],
      "execution_count": 271,
      "outputs": [
        {
          "output_type": "execute_result",
          "data": {
            "text/plain": [
              "PeriodIndex(['2017-09'], dtype='period[M]', freq='M')"
            ]
          },
          "metadata": {
            "tags": []
          },
          "execution_count": 271
        }
      ]
    },
    {
      "metadata": {
        "id": "8-BVYNEiwGci",
        "colab_type": "code",
        "colab": {
          "base_uri": "https://localhost:8080/",
          "height": 68
        },
        "outputId": "2a031aac-95e1-4594-b8c2-a245482b02f2"
      },
      "cell_type": "code",
      "source": [
        "d = pd.date_range('11-Sep-2017', '17-Sep-2017', freq='2D')\n",
        "print(d + pd.Timedelta('1 days 2 hours'))"
      ],
      "execution_count": 272,
      "outputs": [
        {
          "output_type": "stream",
          "text": [
            "DatetimeIndex(['2017-09-12 02:00:00', '2017-09-14 02:00:00',\n",
            "               '2017-09-16 02:00:00', '2017-09-18 02:00:00'],\n",
            "              dtype='datetime64[ns]', freq='2D')\n"
          ],
          "name": "stdout"
        }
      ]
    },
    {
      "metadata": {
        "id": "Zk1NWgMjwY29",
        "colab_type": "text"
      },
      "cell_type": "markdown",
      "source": [
        "# Data Cleaning \n",
        "\n",
        "Data Cleaning alludes to change of crude information to a helpful organized shape, which is utilized for further examination. \n",
        "\n",
        "The procedure incorporates different ways like managing missing fields, removing duplicates etc.\n",
        "\n",
        "- Remove **duplicate** records\n",
        "  `d = d.drop_duplicates()`\n",
        "  \n",
        "- **Missing** Values\n",
        "  - **Find** missing values\n",
        "  `d['col_name'].isnull().value_counts()`\n",
        "  \n",
        "  - **Remove** all rows with missing values\n",
        "  `d = d.dropna(how='any')`\n",
        "  \n",
        "  - **Replace** missing data\n",
        "  `d = d.fillna(0)\n",
        "    d  =  d.fillna(method='pad')\n",
        "    d  =  d.fillna(df.mean())`\n",
        "  \n",
        "- **Extract** data from a existing column and put into a new column (use regular expression to copy first word)\n",
        " `df['new_col_name'] = df['existing_col_name'].str.extract('\\W+')`\n",
        " \n",
        "- **Replace** data\n",
        "`df['existing_col_name'] = df['existing_col_name'].str.replace('^Abhi', 'Joyee')`\n",
        "\n",
        "- **Filter** specific rows\n",
        "`df[df['col_name'] == 'somevalue']`\n"
      ]
    },
    {
      "metadata": {
        "id": "f5KN5FpT0wMz",
        "colab_type": "text"
      },
      "cell_type": "markdown",
      "source": [
        "**Summary Data Cleaning **\n",
        "\n",
        "\n",
        "1. Set height and weight values of student s3 to NaN in the data frame df_A\n",
        "2. Also set the weight of s5 to NaN in df_A.\n",
        "3. Drop the rows having null values in any of the columns and assign the result to df_drop.\n",
        "4. Display df_drop index."
      ]
    },
    {
      "metadata": {
        "id": "BkdEevo00vVu",
        "colab_type": "code",
        "colab": {
          "base_uri": "https://localhost:8080/",
          "height": 408
        },
        "outputId": "807a4a43-2b41-4797-d4bc-7ade59af7cc4"
      },
      "cell_type": "code",
      "source": [
        "print(df_A, end='\\n\\n\\n')\n",
        "\n",
        "#1\n",
        "df_A.loc['s3', 'heights'] = np.nan\n",
        "df_A.loc['s3', 'weights'] = np.nan\n",
        "\n",
        "#2\n",
        "df_A.loc['s5', 'weights'] = np.nan\n",
        "\n",
        "#3\n",
        "print(df_A, end='\\n\\n\\n')\n",
        "\n",
        "df_drop = df_A.dropna(how='any')\n",
        "\n",
        "print(df_drop, end='\\n\\n\\n')\n",
        "\n",
        "#4\n",
        "df_drop.index\n",
        "\n"
      ],
      "execution_count": 280,
      "outputs": [
        {
          "output_type": "stream",
          "text": [
            "    heights  weights\n",
            "s1    176.2     85.1\n",
            "s2    158.4     90.2\n",
            "s3      NaN      NaN\n",
            "s4    156.2     80.4\n",
            "s5    161.4      NaN\n",
            "\n",
            "\n",
            "    heights  weights\n",
            "s1    176.2     85.1\n",
            "s2    158.4     90.2\n",
            "s3      NaN      NaN\n",
            "s4    156.2     80.4\n",
            "s5    161.4      NaN\n",
            "\n",
            "\n",
            "    heights  weights\n",
            "s1    176.2     85.1\n",
            "s2    158.4     90.2\n",
            "s4    156.2     80.4\n",
            "\n",
            "\n"
          ],
          "name": "stdout"
        },
        {
          "output_type": "execute_result",
          "data": {
            "text/plain": [
              "Index(['s1', 's2', 's4'], dtype='object')"
            ]
          },
          "metadata": {
            "tags": []
          },
          "execution_count": 280
        }
      ]
    },
    {
      "metadata": {
        "id": "LtZlp0z36DtP",
        "colab_type": "text"
      },
      "cell_type": "markdown",
      "source": [
        "# Data Aggregation\n",
        "\n",
        "Data aggregation is useful when you want to group some data together based on certain condition.\n",
        "\n",
        "You can create such group and make a comparative study.\n"
      ]
    },
    {
      "metadata": {
        "id": "eGW5eNwH9XY6",
        "colab_type": "text"
      },
      "cell_type": "markdown",
      "source": [
        "- **Filtering examples:-**"
      ]
    },
    {
      "metadata": {
        "id": "p4VxwUKp6VnG",
        "colab_type": "code",
        "colab": {
          "base_uri": "https://localhost:8080/",
          "height": 187
        },
        "outputId": "ae2708f5-fe47-4cce-b005-d388fac02122"
      },
      "cell_type": "code",
      "source": [
        "file = ur.urlopen(ur.Request(\"https://raw.githubusercontent.com/uiuc-cse/data-fa14/gh-pages/data/iris.csv\"))\n",
        "\n",
        "data = pd.read_csv(file, sep = ',' , skiprows=1, decimal= '.', names = ['sepal_length', 'sepal_width', 'petal_length', 'petal_width', 'target'])\n",
        "\n",
        "print(type(data))\n",
        "\n",
        "print (\"Total Count\")\n",
        "print(data['target'].count())\n",
        "\n",
        "print('setoa count')\n",
        "setoa = data[data['target'] == 'setosa'] \n",
        "print(setoa['target'].count())\n",
        "\n",
        "\n",
        "print(setoa['petal_length'].min())\n",
        "print(setoa['petal_length'].median())\n",
        "print(setoa['petal_length'].mode())\n",
        "print(setoa['petal_length'].std())"
      ],
      "execution_count": 294,
      "outputs": [
        {
          "output_type": "stream",
          "text": [
            "<class 'pandas.core.frame.DataFrame'>\n",
            "Total Count\n",
            "150\n",
            "setoa count\n",
            "50\n",
            "1.0\n",
            "1.5\n",
            "0    1.5\n",
            "dtype: float64\n",
            "0.17351115943644546\n"
          ],
          "name": "stdout"
        }
      ]
    },
    {
      "metadata": {
        "id": "aB0i9WNP9dI-",
        "colab_type": "text"
      },
      "cell_type": "markdown",
      "source": [
        "- ** Transforming examples**"
      ]
    },
    {
      "metadata": {
        "id": "4i4Tc6FP9hHk",
        "colab_type": "code",
        "colab": {
          "base_uri": "https://localhost:8080/",
          "height": 544
        },
        "outputId": "cd80fe6a-b3da-4d5f-c1eb-50eb2e44fd74"
      },
      "cell_type": "code",
      "source": [
        "df_bef = pd.DataFrame({'temp':pd.Series(28 + 10*np.random.randn(10)),\n",
        "\n",
        "                   'rain':pd.Series(100 + 50*np.random.randn(10)),\n",
        "\n",
        "                   'location':list('AAAAABBBBB')\n",
        "\n",
        "})\n",
        "\n",
        "print('Before replacements')\n",
        "print(df_bef, end = '\\n\\n')\n",
        "\n",
        "# define replacement dictionary\n",
        "replacements = {\n",
        "\n",
        "'location': {'A':'Hyderabad', 'B':'Mumbai'}\n",
        "\n",
        "}\n",
        "\n",
        "df_rpl = df_bef.replace(replacements, regex=True)\n",
        "\n",
        "print(df_rpl, end = '\\n\\n')\n",
        "\n",
        "\n",
        "#you can also use replacement based on specific pattern\n",
        "\n",
        "mumbai_replacements = df_rpl.loc[df_rpl.location.str.contains('umb'),:]\n",
        "print(mumbai_replacements)"
      ],
      "execution_count": 300,
      "outputs": [
        {
          "output_type": "stream",
          "text": [
            "Before replacements\n",
            "  location        rain       temp\n",
            "0        A  179.035015  24.290825\n",
            "1        A   62.330989   8.826666\n",
            "2        A  160.319149  41.372031\n",
            "3        A  122.221123  24.284912\n",
            "4        A   93.507095  35.588372\n",
            "5        B   37.475891  43.875394\n",
            "6        B   41.924148  38.812833\n",
            "7        B  137.384990  31.654383\n",
            "8        B   93.190330  24.317773\n",
            "9        B   31.670485   7.617140\n",
            "\n",
            "    location        rain       temp\n",
            "0  Hyderabad  179.035015  24.290825\n",
            "1  Hyderabad   62.330989   8.826666\n",
            "2  Hyderabad  160.319149  41.372031\n",
            "3  Hyderabad  122.221123  24.284912\n",
            "4  Hyderabad   93.507095  35.588372\n",
            "5     Mumbai   37.475891  43.875394\n",
            "6     Mumbai   41.924148  38.812833\n",
            "7     Mumbai  137.384990  31.654383\n",
            "8     Mumbai   93.190330  24.317773\n",
            "9     Mumbai   31.670485   7.617140\n",
            "\n",
            "  location        rain       temp\n",
            "5   Mumbai   37.475891  43.875394\n",
            "6   Mumbai   41.924148  38.812833\n",
            "7   Mumbai  137.384990  31.654383\n",
            "8   Mumbai   93.190330  24.317773\n",
            "9   Mumbai   31.670485   7.617140\n"
          ],
          "name": "stdout"
        }
      ]
    },
    {
      "metadata": {
        "id": "zX60NyKe--DF",
        "colab_type": "text"
      },
      "cell_type": "markdown",
      "source": [
        "- ** Grouping examples**"
      ]
    },
    {
      "metadata": {
        "id": "mdxx-Khq-__D",
        "colab_type": "code",
        "colab": {
          "base_uri": "https://localhost:8080/",
          "height": 85
        },
        "outputId": "6b77dc2d-4b39-453a-c311-5ce3ac7f261c"
      },
      "cell_type": "code",
      "source": [
        "regions = df_rpl.groupby('location')\n",
        "\n",
        "print(regions.mean())"
      ],
      "execution_count": 339,
      "outputs": [
        {
          "output_type": "stream",
          "text": [
            "                 rain       temp\n",
            "location                        \n",
            "Hyderabad  123.482674  26.872561\n",
            "Mumbai      68.329169  29.255504\n"
          ],
          "name": "stdout"
        }
      ]
    },
    {
      "metadata": {
        "id": "RMAdBe4L_LFl",
        "colab_type": "text"
      },
      "cell_type": "markdown",
      "source": [
        "**Data Grouping summary**\n",
        "\n",
        "1. Filter the rows from df_A, whose Student_height > 160.0 and Student_weight < 80.0 and display the filtered rows.\n",
        "2. Filter the rows from df_A, whose index values end with 5 and display them.\n",
        "3. Create a new column Gender in data frame df_A using the below command.\n",
        "     `df_A['Gender'] = ['M', 'F', 'M', 'M', 'F']``\n",
        "     \n",
        "4. Group df_A based on Gender and calculated mean height and weight of each group.\n",
        "5. Print the column 0th and 1st column using lambda() from df_A "
      ]
    },
    {
      "metadata": {
        "id": "Oit1Y0PI_czA",
        "colab_type": "code",
        "colab": {
          "base_uri": "https://localhost:8080/",
          "height": 510
        },
        "outputId": "01ba2bcd-58c1-4d2c-a5bd-ab7335e81833"
      },
      "cell_type": "code",
      "source": [
        "#1\n",
        "print(df_A, end ='\\n\\n')\n",
        "df_st = df_A[(df_A['heights'] > 160) & (df_st['weights'] > 80)]\n",
        "print(df_st,  end ='\\n\\n')\n",
        "\n",
        "#2\n",
        "#print(df_A.index.)\n",
        "\n",
        "\n",
        "#3\n",
        "df_A['Gender'] = ['M', 'F', 'M', 'M', 'F']\n",
        "print(df_A,  end ='\\n\\n')\n",
        "\n",
        "\n",
        "#4\n",
        "genders = df_A.groupby('Gender')\n",
        "print(genders.mean(),  end ='\\n\\n')\n",
        "\n",
        "#5\n",
        "print(df_A.iloc[:, lambda x : [0,1]],  end ='\\n\\n')\n",
        "\n",
        "#print(df_ind,  end ='\\n\\n')"
      ],
      "execution_count": 361,
      "outputs": [
        {
          "output_type": "stream",
          "text": [
            "    heights  weights Gender\n",
            "s1    176.2     85.1      M\n",
            "s2    158.4     90.2      F\n",
            "s3      NaN      NaN      M\n",
            "s4    156.2     80.4      M\n",
            "s5    161.4      NaN      F\n",
            "\n",
            "    heights  weights Gender\n",
            "s1    176.2     85.1      M\n",
            "\n",
            "    heights  weights Gender\n",
            "s1    176.2     85.1      M\n",
            "s2    158.4     90.2      F\n",
            "s3      NaN      NaN      M\n",
            "s4    156.2     80.4      M\n",
            "s5    161.4      NaN      F\n",
            "\n",
            "        heights  weights\n",
            "Gender                  \n",
            "F         159.9    90.20\n",
            "M         166.2    82.75\n",
            "\n",
            "    heights  weights\n",
            "s1    176.2     85.1\n",
            "s2    158.4     90.2\n",
            "s3      NaN      NaN\n",
            "s4    156.2     80.4\n",
            "s5    161.4      NaN\n",
            "\n"
          ],
          "name": "stdout"
        }
      ]
    }
  ]
}