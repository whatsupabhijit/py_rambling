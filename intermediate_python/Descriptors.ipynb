{
  "nbformat": 4,
  "nbformat_minor": 0,
  "metadata": {
    "colab": {
      "name": "Descriptors.ipynb",
      "version": "0.3.2",
      "provenance": [],
      "include_colab_link": true
    },
    "kernelspec": {
      "name": "python3",
      "display_name": "Python 3"
    }
  },
  "cells": [
    {
      "cell_type": "markdown",
      "metadata": {
        "id": "view-in-github",
        "colab_type": "text"
      },
      "source": [
        "<a href=\"https://colab.research.google.com/github/whatsupabhijit/py_rambling/blob/master/Descriptors.ipynb\" target=\"_parent\"><img src=\"https://colab.research.google.com/assets/colab-badge.svg\" alt=\"Open In Colab\"/></a>"
      ]
    },
    {
      "metadata": {
        "id": "Pk05_64fJpEL",
        "colab_type": "code",
        "colab": {}
      },
      "cell_type": "code",
      "source": [
        "import re"
      ],
      "execution_count": 0,
      "outputs": []
    },
    {
      "metadata": {
        "id": "lFJYSHeDJubx",
        "colab_type": "code",
        "colab": {
          "base_uri": "https://localhost:8080/",
          "height": 34
        },
        "outputId": "1ef676be-8200-45ce-bad7-9b29ce94987d"
      },
      "cell_type": "code",
      "source": [
        "#!/bin/python3\n",
        "\n",
        "import sys\n",
        "import os\n",
        "\n",
        "\n",
        "\n",
        "# Add Celsius class implementation below.\n",
        "\n",
        "class Celsius(object):\n",
        "\n",
        "    def __get__(self, instance, owner):\n",
        "        return 5 * (instance.fahrenheit - 32) / 9\n",
        "\n",
        "    def __set__(self, instance, value):\n",
        "        instance.fahrenheit = 32 + 9 * value / 5\n",
        "\n",
        "# Add temperature class implementation below.        \n",
        "class Temperature:\n",
        "    celsius = Celsius()\n",
        "    def __init__(self, init):\n",
        "        self.fahrenheit = init\n",
        "        \n",
        "\n",
        "#if __name__ == \"__main__\":\n",
        "#    with open(os.environ['OUTPUT_PATH'], 'w') as fout:\n",
        "#        res_lst = list()\n",
        "#        t1 = Temperature(int(input()))\n",
        "#        res_lst.append((t1.fahrenheit, t1.celsius))\n",
        "#        t1.celsius = int(input())\n",
        "#        res_lst.append((t1.fahrenheit, t1.celsius))\n",
        "#        fout.write(\"{}\\n{}\".format(*res_lst))"
      ],
      "execution_count": 4,
      "outputs": [
        {
          "output_type": "execute_result",
          "data": {
            "text/plain": [
              "'Check the Tail section for input/output'"
            ]
          },
          "metadata": {
            "tags": []
          },
          "execution_count": 4
        }
      ]
    },
    {
      "metadata": {
        "id": "jT-Zbf1DJ-rf",
        "colab_type": "code",
        "colab": {
          "base_uri": "https://localhost:8080/",
          "height": 34
        },
        "outputId": "7fbb92b3-13a9-4440-fb71-d00985478ad4"
      },
      "cell_type": "code",
      "source": [
        "t1 = Temperature (212)\n",
        "t1"
      ],
      "execution_count": 8,
      "outputs": [
        {
          "output_type": "execute_result",
          "data": {
            "text/plain": [
              "<__main__.Temperature at 0x7f41fc964828>"
            ]
          },
          "metadata": {
            "tags": []
          },
          "execution_count": 8
        }
      ]
    },
    {
      "metadata": {
        "id": "dgvj85BuKHQP",
        "colab_type": "code",
        "colab": {
          "base_uri": "https://localhost:8080/",
          "height": 34
        },
        "outputId": "9d64ec84-e333-4bdb-e232-ae2bd06322cb"
      },
      "cell_type": "code",
      "source": [
        "t1.celsius"
      ],
      "execution_count": 9,
      "outputs": [
        {
          "output_type": "execute_result",
          "data": {
            "text/plain": [
              "100.0"
            ]
          },
          "metadata": {
            "tags": []
          },
          "execution_count": 9
        }
      ]
    },
    {
      "metadata": {
        "id": "IEz1cMHUKNg-",
        "colab_type": "code",
        "colab": {
          "base_uri": "https://localhost:8080/",
          "height": 34
        },
        "outputId": "deb81b88-64b7-4d95-8690-4c273c38cbe7"
      },
      "cell_type": "code",
      "source": [
        "t1.fahrenheit"
      ],
      "execution_count": 10,
      "outputs": [
        {
          "output_type": "execute_result",
          "data": {
            "text/plain": [
              "212"
            ]
          },
          "metadata": {
            "tags": []
          },
          "execution_count": 10
        }
      ]
    }
  ]
}