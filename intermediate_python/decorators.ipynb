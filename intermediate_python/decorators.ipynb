{
  "nbformat": 4,
  "nbformat_minor": 0,
  "metadata": {
    "colab": {
      "name": "decorators.ipynb",
      "version": "0.3.2",
      "provenance": [],
      "collapsed_sections": [],
      "include_colab_link": true
    },
    "kernelspec": {
      "name": "python3",
      "display_name": "Python 3"
    }
  },
  "cells": [
    {
      "cell_type": "markdown",
      "metadata": {
        "id": "view-in-github",
        "colab_type": "text"
      },
      "source": [
        "<a href=\"https://colab.research.google.com/github/whatsupabhijit/py_rambling/blob/master/decorators.ipynb\" target=\"_parent\"><img src=\"https://colab.research.google.com/assets/colab-badge.svg\" alt=\"Open In Colab\"/></a>"
      ]
    },
    {
      "metadata": {
        "id": "3h_YWRKdvEn8",
        "colab_type": "text"
      },
      "cell_type": "markdown",
      "source": [
        "**How** do you know the name of the function and what arguments are passed to it? How can you write such a decorator?"
      ]
    },
    {
      "metadata": {
        "id": "_THANZJjvOnk",
        "colab_type": "code",
        "colab": {}
      },
      "cell_type": "code",
      "source": [
        "#Add log function and inner function implementation here\n",
        "def log(func):\n",
        "    def inner(*args, **kargs):\n",
        "        str_template = \"Accessed the function -->'{}' <-- with arguments {} {}\".format(func.__name__,\n",
        "                                                                                args,\n",
        "                                                                                kargs)\n",
        "\n",
        "        return str_template + ' and the reslut of the function was \\n ' + str(func(*args, **kargs))\n",
        "    return inner"
      ],
      "execution_count": 0,
      "outputs": []
    },
    {
      "metadata": {
        "id": "oakft3ShvV4U",
        "colab_type": "code",
        "colab": {
          "base_uri": "https://localhost:8080/",
          "height": 34
        },
        "outputId": "aca6d717-ecfb-4383-e16b-3f366256466b"
      },
      "cell_type": "code",
      "source": [
        "@log    \n",
        "def greet(msg):\n",
        "    return 'Greeting Message : ' + msg\n",
        "\n",
        "\n",
        "greet('Hello World')"
      ],
      "execution_count": 19,
      "outputs": [
        {
          "output_type": "execute_result",
          "data": {
            "text/plain": [
              "\"Accessed the function -->'greet' <-- with arguments ('Hello World',) {} and the reslut of the function was \\n Greeting Message : Hello World\""
            ]
          },
          "metadata": {
            "tags": []
          },
          "execution_count": 19
        }
      ]
    },
    {
      "metadata": {
        "id": "BUvellQxwSpF",
        "colab_type": "text"
      },
      "cell_type": "markdown",
      "source": [
        "Another useful way to use decorators is to take the return value of a function and prepend and append something "
      ]
    },
    {
      "metadata": {
        "id": "ff1M5h8XwaaD",
        "colab_type": "code",
        "colab": {
          "base_uri": "https://localhost:8080/",
          "height": 34
        },
        "outputId": "b81fd82b-b5a1-4001-82e7-075a0b938f02"
      },
      "cell_type": "code",
      "source": [
        "def bold_tag(func):\n",
        "    \n",
        "    def inner(*args, **kwdargs):\n",
        "        return '<b>'+func(*args, **kwdargs)+'</b>'\n",
        "        \n",
        "    return inner   \n",
        "  \n",
        "@bold_tag  \n",
        "def returnHtml(msg):\n",
        "  return msg\n",
        "\n",
        "\n",
        "print (returnHtml(\"Hello World!\"))"
      ],
      "execution_count": 21,
      "outputs": [
        {
          "output_type": "stream",
          "text": [
            "<b>Hello World!</b>\n"
          ],
          "name": "stdout"
        }
      ]
    },
    {
      "metadata": {
        "id": "aNYvejTjxMZl",
        "colab_type": "text"
      },
      "cell_type": "markdown",
      "source": [
        "**Decorators** can also be used for ***memoization***. That is a challenge for you to implement.\n",
        "\n",
        "You can choose suitable dynamic program and try to add memoization as a decorator in python"
      ]
    },
    {
      "metadata": {
        "id": "t0EZefALxcA0",
        "colab_type": "code",
        "colab": {}
      },
      "cell_type": "code",
      "source": [
        "## TO BE CONTINUED"
      ],
      "execution_count": 0,
      "outputs": []
    }
  ]
}