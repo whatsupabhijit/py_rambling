{
  "nbformat": 4,
  "nbformat_minor": 0,
  "metadata": {
    "colab": {
      "name": "Context_managers.ipynb",
      "version": "0.3.2",
      "provenance": [],
      "include_colab_link": true
    },
    "kernelspec": {
      "name": "python3",
      "display_name": "Python 3"
    }
  },
  "cells": [
    {
      "cell_type": "markdown",
      "metadata": {
        "id": "view-in-github",
        "colab_type": "text"
      },
      "source": [
        "<a href=\"https://colab.research.google.com/github/whatsupabhijit/py_rambling/blob/master/Context_managers.ipynb\" target=\"_parent\"><img src=\"https://colab.research.google.com/assets/colab-badge.svg\" alt=\"Open In Colab\"/></a>"
      ]
    },
    {
      "metadata": {
        "id": "hC-9BblAbG1a",
        "colab_type": "code",
        "colab": {
          "base_uri": "https://localhost:8080/",
          "height": 68
        },
        "outputId": "69d0bb13-2f35-4dad-8361-0ca15f57afb9"
      },
      "cell_type": "code",
      "source": [
        "from contextlib import contextmanager\n",
        "\n",
        "@contextmanager\n",
        "def context():\n",
        "    print('Entering Context')\n",
        "    yield \n",
        "    print(\"Exiting Context\")\n",
        "\n",
        "with context():\n",
        "    print('In Context')"
      ],
      "execution_count": 1,
      "outputs": [
        {
          "output_type": "stream",
          "text": [
            "Entering Context\n",
            "In Context\n",
            "Exiting Context\n"
          ],
          "name": "stdout"
        }
      ]
    },
    {
      "metadata": {
        "id": "vb2boK8ybMee",
        "colab_type": "code",
        "colab": {
          "base_uri": "https://localhost:8080/",
          "height": 68
        },
        "outputId": "6b9f93a9-a4d8-414e-e425-b164abfc55e7"
      },
      "cell_type": "code",
      "source": [
        "from contextlib import contextmanager\n",
        "\n",
        "@contextmanager\n",
        "def tag(name):\n",
        "    print(\"<%s>\" % name)\n",
        "    yield\n",
        "    print(\"</%s>\" % name)\n",
        "\n",
        "with tag('h1') :\n",
        "    print('Hello')"
      ],
      "execution_count": 2,
      "outputs": [
        {
          "output_type": "stream",
          "text": [
            "<h1>\n",
            "Hello\n",
            "</h1>\n"
          ],
          "name": "stdout"
        }
      ]
    },
    {
      "metadata": {
        "id": "i9xjW516dHHt",
        "colab_type": "code",
        "colab": {
          "base_uri": "https://localhost:8080/",
          "height": 102
        },
        "outputId": "dce08bef-91d4-49c9-96c9-8bd71ddc3782"
      },
      "cell_type": "code",
      "source": [
        "## how can you write in file using context managers        \n",
        "        \n",
        "#!/bin/python3\n",
        "\n",
        "import sys\n",
        "import os\n",
        "import inspect\n",
        "\n",
        "\n",
        "\n",
        "# Complete the function below.\n",
        "\n",
        "def writeTo(filename, input_text):\n",
        "    with open(filename, \"w\") as file:\n",
        "        file.write(input_text)\n",
        "\n",
        "\n",
        "\n",
        "if __name__ == \"__main__\":\n",
        "    try:\n",
        "        filename = str(input())\n",
        "    except:\n",
        "        filename = None\n",
        "\n",
        "    try:\n",
        "        input_text = str(input())\n",
        "    except:\n",
        "        input_text = None\n",
        "\n",
        "    res = writeTo(filename, input_text)\n",
        "    \n",
        "    if 'with' in inspect.getsource(writeTo):\n",
        "        print(\"'with' used in 'writeTo' function definition.\")\n",
        "        \n",
        "    if os.path.exists(filename):\n",
        "        print('File :',filename, 'is present on system.')\n",
        "        with open(filename) as fp:\n",
        "            content = fp.read()\n",
        "        if content == input_text:\n",
        "            print('File Contents are :', content)\n",
        "    \n",
        "\n"
      ],
      "execution_count": 4,
      "outputs": [
        {
          "output_type": "stream",
          "text": [
            "file1\n",
            "Python is awesome\n",
            "'with' used in 'writeTo' function definition.\n",
            "File : file1 is present on system.\n",
            "File Contents are : Python is awesome\n"
          ],
          "name": "stdout"
        }
      ]
    },
    {
      "metadata": {
        "id": "SYbfzOHjqbxq",
        "colab_type": "code",
        "colab": {
          "base_uri": "https://localhost:8080/",
          "height": 34
        },
        "outputId": "62c06cf3-bcb8-43df-92eb-f10119de52b6"
      },
      "cell_type": "code",
      "source": [
        "import subprocess\n",
        "\n",
        "pop = subprocess.Popen([\"echo\", \"hello world\"], stdout=subprocess.PIPE)\n",
        "\n",
        "output = pop.communicate()[0]\n",
        "output"
      ],
      "execution_count": 10,
      "outputs": [
        {
          "output_type": "execute_result",
          "data": {
            "text/plain": [
              "b'hello world\\n'"
            ]
          },
          "metadata": {
            "tags": []
          },
          "execution_count": 10
        }
      ]
    },
    {
      "metadata": {
        "id": "0XDQWpIKub3w",
        "colab_type": "code",
        "colab": {
          "base_uri": "https://localhost:8080/",
          "height": 204
        },
        "outputId": "902bb700-1fcb-469c-9d3d-ca4b23e8e9cc"
      },
      "cell_type": "code",
      "source": [
        "#!/bin/python3\n",
        "\n",
        "import sys\n",
        "import os\n",
        "import subprocess\n",
        "import inspect\n",
        "\n",
        "\n",
        "\n",
        "# Complete the function below.\n",
        "\n",
        "def run_process(cmd_args):\n",
        "    with subprocess.Popen(cmd_args, stdout=subprocess.PIPE, stderr=subprocess.PIPE) as process:\n",
        "        result, error = process.communicate()\n",
        "    \n",
        "    return result\n",
        "\n",
        "\n",
        "if __name__ == \"__main__\":\n",
        "\n",
        "    cmd_args_cnt = 0\n",
        "    cmd_args_cnt = int(input())\n",
        "    cmd_args_i = 0\n",
        "    cmd_args = []\n",
        "    while cmd_args_i < cmd_args_cnt:\n",
        "        try:\n",
        "            cmd_args_item = str(input())\n",
        "        except:\n",
        "            cmd_args_item = None\n",
        "        cmd_args.append(cmd_args_item)\n",
        "        cmd_args_i += 1\n",
        "\n",
        "\n",
        "    res = run_process(cmd_args);\n",
        "    \n",
        "    if 'with' in inspect.getsource(run_process):\n",
        "        print(\"'with' used in 'run_process' function definition.\\n\")\n",
        "    \n",
        "    if 'Popen' in inspect.getsource(run_process):\n",
        "        print(\"'Popen' used in 'run_process' function definition.\\n\")\n",
        "        print('Process Output : %s\\n' % str(res.decode(\"utf-8\")))"
      ],
      "execution_count": 27,
      "outputs": [
        {
          "output_type": "stream",
          "text": [
            "3\n",
            "python\n",
            "-c\n",
            "print (\"hello world\")\n",
            "'with' used in 'run_process' function definition.\n",
            "\n",
            "'Popen' used in 'run_process' function definition.\n",
            "\n",
            "Process Output : hello world\n",
            "\n",
            "\n"
          ],
          "name": "stdout"
        }
      ]
    },
    {
      "metadata": {
        "id": "OrP9Q4Me14U9",
        "colab_type": "code",
        "colab": {
          "base_uri": "https://localhost:8080/",
          "height": 136
        },
        "outputId": "0cb6e0f8-47ff-4672-9200-a330c8f21eba"
      },
      "cell_type": "code",
      "source": [
        "## how to zip given file\n",
        "import zipfile\n",
        "import sys\n",
        "import os\n",
        "import inspect\n",
        "\n",
        "# Define 'writeTo' function below, such that \n",
        "# it writes input_text string to filename.\n",
        "def writeTo(filename, input_text):\n",
        "    with open(filename, \"w\") as file:\n",
        "        file.write(input_text)\n",
        "\n",
        "# Define the function 'archive' below, such that\n",
        "# it archives 'filename' into the 'zipfile'\n",
        "def archive(zfile, filename):\n",
        "    with zipfile.ZipFile(zfile, 'w', zipfile.ZIP_DEFLATED) as zf:\n",
        "        zf.write(filename)\n",
        "\n",
        "if __name__ == \"__main__\":\n",
        "    try:\n",
        "        filename = str(input())\n",
        "    except:\n",
        "        filename = None\n",
        "\n",
        "    try:\n",
        "        input_text = str(input())\n",
        "    except:\n",
        "        input_text = None\n",
        "\n",
        "        \n",
        "    try:\n",
        "        zip_file = str(input())\n",
        "    except:\n",
        "        zip_file = None\n",
        "        \n",
        "    res = writeTo(filename, input_text)\n",
        "    \n",
        "    if 'with' in inspect.getsource(writeTo):\n",
        "        print(\"'with' used in 'writeTo' function definition.\")\n",
        "        \n",
        "    if os.path.exists(filename):\n",
        "        print('File :',filename, 'is present on system.')\n",
        " \n",
        "    res = archive(zip_file, filename)\n",
        "    \n",
        "    if 'with' in inspect.getsource(archive):\n",
        "        print(\"'with' used in 'archive' function definition.\")\n",
        "        \n",
        "    if os.path.exists(zip_file):\n",
        "        print('ZipFile :',zip_file, 'is present on system.')    "
      ],
      "execution_count": 29,
      "outputs": [
        {
          "output_type": "stream",
          "text": [
            "sample.txt \n",
            "python is awesome \n",
            "myarchive.zip\n",
            "'with' used in 'writeTo' function definition.\n",
            "File : sample.txt  is present on system.\n",
            "'with' used in 'archive' function definition.\n",
            "ZipFile : myarchive.zip is present on system.\n"
          ],
          "name": "stdout"
        }
      ]
    }
  ]
}