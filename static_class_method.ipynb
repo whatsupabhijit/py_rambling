{
  "nbformat": 4,
  "nbformat_minor": 0,
  "metadata": {
    "colab": {
      "name": "static_class_method_2.ipynb",
      "version": "0.3.2",
      "provenance": [],
      "include_colab_link": true
    },
    "kernelspec": {
      "name": "python3",
      "display_name": "Python 3"
    }
  },
  "cells": [
    {
      "cell_type": "markdown",
      "metadata": {
        "id": "view-in-github",
        "colab_type": "text"
      },
      "source": [
        "<a href=\"https://colab.research.google.com/github/whatsupabhijit/py_rambling/blob/master/static_class_method.ipynb\" target=\"_parent\"><img src=\"https://colab.research.google.com/assets/colab-badge.svg\" alt=\"Open In Colab\"/></a>"
      ]
    },
    {
      "metadata": {
        "id": "pnuthG_qPJxT",
        "colab_type": "text"
      },
      "cell_type": "markdown",
      "source": [
        "Define a **class** Circle with attribute **radiu**s\n",
        "define a class variable **no**__**of**_**circles** which determines the number of circles created\n",
        "a method area that calculates the **are**a\n",
        "\n",
        "print areas, class variable, class method\n",
        "\n",
        "\n",
        "If input is \"1,2,3\"\n",
        "\n",
        "output should be\n",
        "\n",
        "[3.14, 12.56, 28.26]\n",
        "\n",
        "3\n",
        "3\n",
        "\n",
        "\n",
        "\n",
        "Also add a class method to return the class variable"
      ]
    },
    {
      "metadata": {
        "id": "7WMD0kunPh-l",
        "colab_type": "code",
        "outputId": "e22873c0-448d-4382-c602-aaae2a35bf02",
        "colab": {
          "base_uri": "https://localhost:8080/",
          "height": 68
        }
      },
      "cell_type": "code",
      "source": [
        "import os\n",
        "import sys\n",
        "\n",
        "#Add Circle class implementation below\n",
        "class Circle:\n",
        "\n",
        "    no_of_circles = 0\n",
        "\n",
        "    def __init__(self, r):\n",
        "        self.radius = r\n",
        "        Circle.no_of_circles += 1\n",
        "\n",
        "    def area(self):\n",
        "        return 3.14 * self.radius ** 2\n",
        "        \n",
        "    @classmethod\n",
        "    def getCircleCount(self):\n",
        "        return Circle.no_of_circles\n",
        "        \n",
        "\n",
        "if __name__ == \"__main__\":\n",
        "#     with open(os.environ['OUTPUT_PATH'], 'w') as fout:\n",
        "        res_lst = \"1,2,3\"\n",
        "  \n",
        "        output = []\n",
        "        lst = list(map(lambda x: float(x.strip()), res_lst.split(',')))\n",
        "        for radius in lst:\n",
        "            output.append(Circle(radius).area())\n",
        "            \n",
        "    \n",
        "        print(output)\n",
        "        print (Circle.no_of_circles)\n",
        "        print(Circle.getCircleCount())\n",
        "#       fout.write(\"{}\\n{}\".format(str(res_lst), str(Circle.no_of_circles)))\n"
      ],
      "execution_count": 0,
      "outputs": [
        {
          "output_type": "stream",
          "text": [
            "[3.14, 12.56, 28.26]\n",
            "3\n",
            "3\n"
          ],
          "name": "stdout"
        }
      ]
    },
    {
      "metadata": {
        "id": "KSveBHKFSo70",
        "colab_type": "text"
      },
      "cell_type": "markdown",
      "source": [
        "Now add a static method to return the pi value and use that static method"
      ]
    },
    {
      "metadata": {
        "id": "VXD-626jSuKT",
        "colab_type": "code",
        "outputId": "04daec08-374c-4246-eccc-a11679a5c0c1",
        "colab": {
          "base_uri": "https://localhost:8080/",
          "height": 68
        }
      },
      "cell_type": "code",
      "source": [
        "import os\n",
        "import sys\n",
        "\n",
        "#Add circle class implementation here\n",
        "\n",
        "class Circle:\n",
        "\n",
        "    no_of_circles = 0\n",
        "\n",
        "    def __init__(self, r):\n",
        "        self.radius = r\n",
        "        Circle.no_of_circles += 1\n",
        "\n",
        "    @staticmethod\n",
        "    def getPi():\n",
        "        return 3.14\n",
        "\n",
        "    def area(self):\n",
        "        return self.getPi() * self.radius ** 2\n",
        "\n",
        "    @classmethod\n",
        "    def getCircleCount(self):\n",
        "        return Circle.no_of_circles\n",
        "        \n",
        "\n",
        "\n",
        "if __name__ == \"__main__\":\n",
        "#     with open(os.environ['OUTPUT_PATH'], 'w') as fout:\n",
        "        res_lst = \"1,2,3\"\n",
        "  \n",
        "        output = []\n",
        "        lst = list(map(lambda x: float(x.strip()), res_lst.split(',')))\n",
        "        for radius in lst:\n",
        "            output.append(Circle(radius).area())\n",
        "            \n",
        "    \n",
        "        print(output)\n",
        "        print (Circle.no_of_circles)\n",
        "        print(Circle.getCircleCount())\n",
        "#       fout.write(\"{}\\n{}\".format(str(res_lst), str(Circle.no_of_circles)))\n"
      ],
      "execution_count": 0,
      "outputs": [
        {
          "output_type": "stream",
          "text": [
            "[3.14, 12.56, 28.26]\n",
            "3\n",
            "3\n"
          ],
          "name": "stdout"
        }
      ]
    },
    {
      "metadata": {
        "id": "F60TxhEdTr7c",
        "colab_type": "code",
        "colab": {
          "base_uri": "https://localhost:8080/",
          "height": 51
        },
        "outputId": "b2912445-3cd1-4d08-bab1-ef0f03529056"
      },
      "cell_type": "code",
      "source": [
        "class A:\n",
        "\n",
        "    @classmethod\n",
        "    def getC(self):\n",
        "        print('In Class A, method getC.')\n",
        "\n",
        "class B(A):\n",
        "    pass\n",
        "\n",
        "b = B()\n",
        "B.getC()\n",
        "b.getC()"
      ],
      "execution_count": 9,
      "outputs": [
        {
          "output_type": "stream",
          "text": [
            "In Class A, method getC.\n",
            "In Class A, method getC.\n"
          ],
          "name": "stdout"
        }
      ]
    },
    {
      "metadata": {
        "id": "50EBVvwfTvWV",
        "colab_type": "code",
        "colab": {
          "base_uri": "https://localhost:8080/",
          "height": 197
        },
        "outputId": "e4947b97-0fe7-46bb-ac03-459081adfff9"
      },
      "cell_type": "code",
      "source": [
        "class A:\n",
        "\n",
        "    @staticmethod\n",
        "    @classmethod\n",
        "    def m1(self):\n",
        "        print('Hello')\n",
        "\n",
        "A.m1(5)"
      ],
      "execution_count": 10,
      "outputs": [
        {
          "output_type": "error",
          "ename": "TypeError",
          "evalue": "ignored",
          "traceback": [
            "\u001b[0;31m---------------------------------------------------------------------------\u001b[0m",
            "\u001b[0;31mTypeError\u001b[0m                                 Traceback (most recent call last)",
            "\u001b[0;32m<ipython-input-10-67281bb618b6>\u001b[0m in \u001b[0;36m<module>\u001b[0;34m()\u001b[0m\n\u001b[1;32m      6\u001b[0m         \u001b[0mprint\u001b[0m\u001b[0;34m(\u001b[0m\u001b[0;34m'Hello'\u001b[0m\u001b[0;34m)\u001b[0m\u001b[0;34m\u001b[0m\u001b[0m\n\u001b[1;32m      7\u001b[0m \u001b[0;34m\u001b[0m\u001b[0m\n\u001b[0;32m----> 8\u001b[0;31m \u001b[0mA\u001b[0m\u001b[0;34m.\u001b[0m\u001b[0mm1\u001b[0m\u001b[0;34m(\u001b[0m\u001b[0;36m5\u001b[0m\u001b[0;34m)\u001b[0m\u001b[0;34m\u001b[0m\u001b[0m\n\u001b[0m",
            "\u001b[0;31mTypeError\u001b[0m: 'classmethod' object is not callable"
          ]
        }
      ]
    }
  ]
}