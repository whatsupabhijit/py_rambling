{
  "nbformat": 4,
  "nbformat_minor": 0,
  "metadata": {
    "colab": {
      "name": "static_class_method_2.ipynb",
      "version": "0.3.2",
      "provenance": [],
      "include_colab_link": true
    },
    "kernelspec": {
      "name": "python3",
      "display_name": "Python 3"
    }
  },
  "cells": [
    {
      "cell_type": "markdown",
      "metadata": {
        "id": "view-in-github",
        "colab_type": "text"
      },
      "source": [
        "<a href=\"https://colab.research.google.com/github/whatsupabhijit/py_rambling/blob/master/static_class_method.ipynb\" target=\"_parent\"><img src=\"https://colab.research.google.com/assets/colab-badge.svg\" alt=\"Open In Colab\"/></a>"
      ]
    },
    {
      "metadata": {
        "id": "pnuthG_qPJxT",
        "colab_type": "text"
      },
      "cell_type": "markdown",
      "source": [
        "Define a **class** Circle with attribute **radiu**s\n",
        "define a class variable **no**__**of**_**circles** which determines the number of circles created\n",
        "a method area that calculates the **are**a\n",
        "\n",
        "print areas, class variable, class method\n",
        "\n",
        "\n",
        "If input is \"1,2,3\"\n",
        "\n",
        "output should be\n",
        "\n",
        "[3.14, 12.56, 28.26]\n",
        "\n",
        "3\n",
        "3\n",
        "\n",
        "\n",
        "\n",
        "Also add a class method to return the class variable"
      ]
    },
    {
      "metadata": {
        "id": "7WMD0kunPh-l",
        "colab_type": "code",
        "colab": {
          "base_uri": "https://localhost:8080/",
          "height": 68
        },
        "outputId": "e22873c0-448d-4382-c602-aaae2a35bf02"
      },
      "cell_type": "code",
      "source": [
        "import os\n",
        "import sys\n",
        "\n",
        "#Add Circle class implementation below\n",
        "class Circle:\n",
        "\n",
        "    no_of_circles = 0\n",
        "\n",
        "    def __init__(self, r):\n",
        "        self.radius = r\n",
        "        Circle.no_of_circles += 1\n",
        "\n",
        "    def area(self):\n",
        "        return 3.14 * self.radius ** 2\n",
        "        \n",
        "    @classmethod\n",
        "    def getCircleCount(self):\n",
        "        return Circle.no_of_circles\n",
        "        \n",
        "\n",
        "if __name__ == \"__main__\":\n",
        "#     with open(os.environ['OUTPUT_PATH'], 'w') as fout:\n",
        "        res_lst = \"1,2,3\"\n",
        "  \n",
        "        output = []\n",
        "        lst = list(map(lambda x: float(x.strip()), res_lst.split(',')))\n",
        "        for radius in lst:\n",
        "            output.append(Circle(radius).area())\n",
        "            \n",
        "    \n",
        "        print(output)\n",
        "        print (Circle.no_of_circles)\n",
        "        print(Circle.getCircleCount())\n",
        "#       fout.write(\"{}\\n{}\".format(str(res_lst), str(Circle.no_of_circles)))\n"
      ],
      "execution_count": 5,
      "outputs": [
        {
          "output_type": "stream",
          "text": [
            "[3.14, 12.56, 28.26]\n",
            "3\n",
            "3\n"
          ],
          "name": "stdout"
        }
      ]
    },
    {
      "metadata": {
        "id": "KSveBHKFSo70",
        "colab_type": "text"
      },
      "cell_type": "markdown",
      "source": [
        "Now add a static method to return the pi value and use that static method"
      ]
    },
    {
      "metadata": {
        "id": "VXD-626jSuKT",
        "colab_type": "code",
        "colab": {
          "base_uri": "https://localhost:8080/",
          "height": 68
        },
        "outputId": "04daec08-374c-4246-eccc-a11679a5c0c1"
      },
      "cell_type": "code",
      "source": [
        "import os\n",
        "import sys\n",
        "\n",
        "#Add circle class implementation here\n",
        "\n",
        "class Circle:\n",
        "\n",
        "    no_of_circles = 0\n",
        "\n",
        "    def __init__(self, r):\n",
        "        self.radius = r\n",
        "        Circle.no_of_circles += 1\n",
        "\n",
        "    @staticmethod\n",
        "    def getPi():\n",
        "        return 3.14\n",
        "\n",
        "    def area(self):\n",
        "        return self.getPi() * self.radius ** 2\n",
        "\n",
        "    @classmethod\n",
        "    def getCircleCount(self):\n",
        "        return Circle.no_of_circles\n",
        "        \n",
        "\n",
        "\n",
        "if __name__ == \"__main__\":\n",
        "#     with open(os.environ['OUTPUT_PATH'], 'w') as fout:\n",
        "        res_lst = \"1,2,3\"\n",
        "  \n",
        "        output = []\n",
        "        lst = list(map(lambda x: float(x.strip()), res_lst.split(',')))\n",
        "        for radius in lst:\n",
        "            output.append(Circle(radius).area())\n",
        "            \n",
        "    \n",
        "        print(output)\n",
        "        print (Circle.no_of_circles)\n",
        "        print(Circle.getCircleCount())\n",
        "#       fout.write(\"{}\\n{}\".format(str(res_lst), str(Circle.no_of_circles)))\n"
      ],
      "execution_count": 8,
      "outputs": [
        {
          "output_type": "stream",
          "text": [
            "[3.14, 12.56, 28.26]\n",
            "3\n",
            "3\n"
          ],
          "name": "stdout"
        }
      ]
    }
  ]
}