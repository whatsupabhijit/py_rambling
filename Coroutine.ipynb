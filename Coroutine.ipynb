{
  "nbformat": 4,
  "nbformat_minor": 0,
  "metadata": {
    "colab": {
      "name": "Coroutine.ipynb",
      "version": "0.3.2",
      "provenance": [],
      "include_colab_link": true
    },
    "kernelspec": {
      "name": "python3",
      "display_name": "Python 3"
    }
  },
  "cells": [
    {
      "cell_type": "markdown",
      "metadata": {
        "id": "view-in-github",
        "colab_type": "text"
      },
      "source": [
        "<a href=\"https://colab.research.google.com/github/whatsupabhijit/py_rambling/blob/master/Coroutine.ipynb\" target=\"_parent\"><img src=\"https://colab.research.google.com/assets/colab-badge.svg\" alt=\"Open In Colab\"/></a>"
      ]
    },
    {
      "metadata": {
        "id": "WthbZrQX991I",
        "colab_type": "code",
        "outputId": "8e3386f4-ac0e-4596-9b9c-cb2f1c16f209",
        "colab": {
          "base_uri": "https://localhost:8080/",
          "height": 197
        }
      },
      "cell_type": "code",
      "source": [
        "## Coroutine is another kind of generator which can take input on the fly.\n",
        "# You should not use send() to send data to coroutine before starting it with next()\n",
        "\n",
        "\n",
        "def stringDisplay():\n",
        "    while True:\n",
        "        s = yield\n",
        "        print(s*3)\n",
        "\n",
        "\n",
        "c = stringDisplay()\n",
        "c.send('Hi!!')"
      ],
      "execution_count": 1,
      "outputs": [
        {
          "output_type": "error",
          "ename": "TypeError",
          "evalue": "ignored",
          "traceback": [
            "\u001b[0;31m---------------------------------------------------------------------------\u001b[0m",
            "\u001b[0;31mTypeError\u001b[0m                                 Traceback (most recent call last)",
            "\u001b[0;32m<ipython-input-1-30fc12f4ec72>\u001b[0m in \u001b[0;36m<module>\u001b[0;34m()\u001b[0m\n\u001b[1;32m      8\u001b[0m \u001b[0;34m\u001b[0m\u001b[0m\n\u001b[1;32m      9\u001b[0m \u001b[0mc\u001b[0m \u001b[0;34m=\u001b[0m \u001b[0mstringDisplay\u001b[0m\u001b[0;34m(\u001b[0m\u001b[0;34m)\u001b[0m\u001b[0;34m\u001b[0m\u001b[0m\n\u001b[0;32m---> 10\u001b[0;31m \u001b[0mc\u001b[0m\u001b[0;34m.\u001b[0m\u001b[0msend\u001b[0m\u001b[0;34m(\u001b[0m\u001b[0;34m'Hi!!'\u001b[0m\u001b[0;34m)\u001b[0m\u001b[0;34m\u001b[0m\u001b[0m\n\u001b[0m",
            "\u001b[0;31mTypeError\u001b[0m: can't send non-None value to a just-started generator"
          ]
        }
      ]
    },
    {
      "metadata": {
        "id": "Y8LHM5tR-H-0",
        "colab_type": "code",
        "outputId": "0ac8ba5e-56d1-4807-eda3-02073c2090f6",
        "colab": {
          "base_uri": "https://localhost:8080/",
          "height": 68
        }
      },
      "cell_type": "code",
      "source": [
        "def nameFeeder():\n",
        "    while True:\n",
        "        ## Take input with yield\n",
        "        fname = yield\n",
        "        print('First Name:', fname)\n",
        "        lname = yield\n",
        "        print('Last Name:', lname)\n",
        "\n",
        "n = nameFeeder()\n",
        "next(n)\n",
        "n.send('George')\n",
        "n.send('Williams')\n",
        "n.send('John')"
      ],
      "execution_count": 3,
      "outputs": [
        {
          "output_type": "stream",
          "text": [
            "First Name: George\n",
            "Last Name: Williams\n",
            "First Name: John\n"
          ],
          "name": "stdout"
        }
      ]
    },
    {
      "metadata": {
        "id": "UYA-y7yY_x4Z",
        "colab_type": "code",
        "outputId": "15458459-ff82-4d34-dcb3-63a23052ca16",
        "colab": {
          "base_uri": "https://localhost:8080/",
          "height": 34
        }
      },
      "cell_type": "code",
      "source": [
        "## Remember:- we pass data to coroutines using send(x), and we need to take those argument in our function with arg = yield which puts x to arg.\n",
        "#!/bin/python3\n",
        "\n",
        "import sys\n",
        "\n",
        "\n",
        "\n",
        "# Define the coroutine function 'linear_equation' below.\n",
        "\n",
        "def linear_equation(a, b):\n",
        "    while True:\n",
        "        x = yield\n",
        "        ln = (a * (x **2) + b)\n",
        "        print (\"Expression, {:0.1f}*x^2 + {:0.1f}, with x being {:d} equals {:0.1f}\".format(a, b, x, ln) )\n",
        "\n",
        "        \n",
        "if __name__ == \"__main__\":\n",
        "    a = 3.0\n",
        "\n",
        "    b = 4.0\n",
        "\n",
        "    equation1 = linear_equation(a, b)\n",
        "    \n",
        "    next(equation1)\n",
        "    \n",
        "    equation1.send(6)\n",
        "    \n",
        "    equation1.close()\n",
        "    \n",
        "    \n",
        "\n"
      ],
      "execution_count": 8,
      "outputs": [
        {
          "output_type": "stream",
          "text": [
            "Expression, 3.0*x^2 + 4.0, with x being 6 equals 112.0\n"
          ],
          "name": "stdout"
        }
      ]
    },
    {
      "metadata": {
        "id": "PAAFGg5WDH8P",
        "colab_type": "code",
        "outputId": "58067fe5-9133-4763-a68d-33dbb541484d",
        "colab": {
          "base_uri": "https://localhost:8080/",
          "height": 102
        }
      },
      "cell_type": "code",
      "source": [
        "## Sometime user forgets to use next() before using coroutines. that time we should create a decorator as below:-\n",
        "import sys\n",
        "import os\n",
        "\n",
        "# Define 'coroutine_decorator' below\n",
        "def coroutine_decorator(coroutine_func):\n",
        "\n",
        "    def wrapper(*args, **kwdargs):\n",
        "        c = coroutine_func(*args, **kwdargs)\n",
        "        next(c)\n",
        "        return c\n",
        "\n",
        "    return wrapper    \n",
        "    \n",
        "# Define coroutine 'linear_equation' as specified in previous exercise\n",
        "@coroutine_decorator\n",
        "def linear_equation(a, b):\n",
        "    while True:\n",
        "      x = yield\n",
        "      ln = (a * (x **2) + b)\n",
        "      print (\"Expression, {:0.1f}*x^2 + {:0.1f}, with x being {:d} equals {:0.1f}\".format(a, b, x, ln) )    \n",
        "    \n",
        "\n",
        "if __name__ == \"__main__\":\n",
        "    a = float(input())\n",
        "\n",
        "    b = float(input())\n",
        "    \n",
        "    ### note here we are not calling the next() before using send()\n",
        "\n",
        "    equation1 = linear_equation(a, b)\n",
        "    \n",
        "    try:\n",
        "      equation1.send(6)\n",
        "      equation1.send(7) \n",
        "    except:\n",
        "      print (\"error\")\n",
        "    \n",
        "    \n",
        "    try:\n",
        "      equation2 = linear_equation(2, -1)\n",
        "      equation2.send(7)\n",
        "    except:\n",
        "      print (\"error\")\n",
        "    "
      ],
      "execution_count": 0,
      "outputs": [
        {
          "output_type": "stream",
          "text": [
            "3\n",
            "4\n",
            "Expression, 3.0*x^2 + 4.0, with x being 6 equals 112.0\n",
            "Expression, 3.0*x^2 + 4.0, with x being 7 equals 151.0\n",
            "Expression, 2.0*x^2 + -1.0, with x being 7 equals 97.0\n"
          ],
          "name": "stdout"
        }
      ]
    },
    {
      "metadata": {
        "id": "Ry1azZ-pGDlR",
        "colab_type": "code",
        "outputId": "49ec221c-afac-481f-bba5-fdf0170b3ef8",
        "colab": {
          "base_uri": "https://localhost:8080/",
          "height": 85
        }
      },
      "cell_type": "code",
      "source": [
        "@coroutine_decorator\n",
        "def TokenIssuer(tokenId=0):\n",
        "\n",
        "    try:\n",
        "        while True:\n",
        "            name = yield\n",
        "            tokenId += 1\n",
        "            print('Token number of', name, ':', tokenId)\n",
        "\n",
        "    except GeneratorExit:\n",
        "        print('Last issued Token is :', tokenId)\n",
        "\n",
        "\n",
        "\n",
        "t = TokenIssuer(100)\n",
        "\n",
        "t.send('George')\n",
        "t.send('Rosy')\n",
        "t.send('Smith')\n",
        "\n",
        "## when close() is called GenratorExit gets triggered\n",
        "t.close()"
      ],
      "execution_count": 11,
      "outputs": [
        {
          "output_type": "stream",
          "text": [
            "Token number of George : 101\n",
            "Token number of Rosy : 102\n",
            "Token number of Smith : 103\n",
            "Last issued Token is : 103\n"
          ],
          "name": "stdout"
        }
      ]
    },
    {
      "metadata": {
        "id": "rJiurZrPKaa-",
        "colab_type": "code",
        "outputId": "46cee006-b136-4c78-d3c0-4e7a5bd2ae24",
        "colab": {
          "base_uri": "https://localhost:8080/",
          "height": 68
        }
      },
      "cell_type": "code",
      "source": [
        "#!/bin/python3\n",
        "\n",
        "import sys\n",
        "\n",
        "\n",
        "\n",
        "# Define the function 'coroutine_decorator' below\n",
        "def coroutine_decorator(coroutine_func):\n",
        "    def wrapper(*args, **kwdargs):\n",
        "        c = coroutine_func(*args, **kwdargs)\n",
        "        next(c)\n",
        "        return c\n",
        "\n",
        "    return wrapper   \n",
        "\n",
        "# Define the coroutine function 'linear_equation' below\n",
        "@coroutine_decorator\n",
        "def linear_equation(a, b):\n",
        "    while True:\n",
        "      x = yield\n",
        "      ln = (a * (x **2) + b)\n",
        "      print (\"Expression, {:d}*x^2 + {:d}, with x being {:d} equals {:0.1f}\".format(a, b, x, ln) )  \n",
        "\n",
        "# Define the coroutine function 'numberParser' below\n",
        "@coroutine_decorator\n",
        "def numberParser():\n",
        "    equation1 = linear_equation(3, 4)\n",
        "    equation2 = linear_equation(2, -1)\n",
        "\n",
        "    # code to send the input number to both the linear equations\n",
        "    return equation1\n",
        "\n",
        "def main(x):\n",
        "    #n = numberParser()\n",
        "    equation1 = linear_equation(int(3.0), int(4.0))\n",
        "    equation2 = linear_equation(int(2.0), int(-1.0))    \n",
        "    equation1.send(int(x))\n",
        "    equation2.send(int(x))\n",
        "    #n.send(x)\n",
        "    \n",
        "\n",
        "if __name__ == \"__main__\":\n",
        "    x = float(input())\n",
        "\n",
        "    res = main(x);\n",
        "    \n",
        "\n"
      ],
      "execution_count": 10,
      "outputs": [
        {
          "output_type": "stream",
          "text": [
            "6\n",
            "Expression, 3*x^2 + 4, with x being 6 equals 112.0\n",
            "Expression, 2*x^2 + -1, with x being 6 equals 71.0\n"
          ],
          "name": "stdout"
        }
      ]
    }
  ]
}