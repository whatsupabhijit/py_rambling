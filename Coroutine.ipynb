{
  "nbformat": 4,
  "nbformat_minor": 0,
  "metadata": {
    "colab": {
      "name": "Coroutine.ipynb",
      "version": "0.3.2",
      "provenance": [],
      "include_colab_link": true
    },
    "kernelspec": {
      "name": "python3",
      "display_name": "Python 3"
    }
  },
  "cells": [
    {
      "cell_type": "markdown",
      "metadata": {
        "id": "view-in-github",
        "colab_type": "text"
      },
      "source": [
        "<a href=\"https://colab.research.google.com/github/whatsupabhijit/py_rambling/blob/master/Coroutine.ipynb\" target=\"_parent\"><img src=\"https://colab.research.google.com/assets/colab-badge.svg\" alt=\"Open In Colab\"/></a>"
      ]
    },
    {
      "metadata": {
        "id": "WthbZrQX991I",
        "colab_type": "code",
        "colab": {
          "base_uri": "https://localhost:8080/",
          "height": 197
        },
        "outputId": "34fcdb4f-0191-4ec8-8022-4a82dfe5eeb3"
      },
      "cell_type": "code",
      "source": [
        "def stringDisplay():\n",
        "    while True:\n",
        "        s = yield\n",
        "        print(s*3)\n",
        "\n",
        "\n",
        "c = stringDisplay()\n",
        "c.send('Hi!!')"
      ],
      "execution_count": 1,
      "outputs": [
        {
          "output_type": "error",
          "ename": "TypeError",
          "evalue": "ignored",
          "traceback": [
            "\u001b[0;31m---------------------------------------------------------------------------\u001b[0m",
            "\u001b[0;31mTypeError\u001b[0m                                 Traceback (most recent call last)",
            "\u001b[0;32m<ipython-input-1-300ea95d0149>\u001b[0m in \u001b[0;36m<module>\u001b[0;34m()\u001b[0m\n\u001b[1;32m      6\u001b[0m \u001b[0;34m\u001b[0m\u001b[0m\n\u001b[1;32m      7\u001b[0m \u001b[0mc\u001b[0m \u001b[0;34m=\u001b[0m \u001b[0mstringDisplay\u001b[0m\u001b[0;34m(\u001b[0m\u001b[0;34m)\u001b[0m\u001b[0;34m\u001b[0m\u001b[0m\n\u001b[0;32m----> 8\u001b[0;31m \u001b[0mc\u001b[0m\u001b[0;34m.\u001b[0m\u001b[0msend\u001b[0m\u001b[0;34m(\u001b[0m\u001b[0;34m'Hi!!'\u001b[0m\u001b[0;34m)\u001b[0m\u001b[0;34m\u001b[0m\u001b[0m\n\u001b[0m",
            "\u001b[0;31mTypeError\u001b[0m: can't send non-None value to a just-started generator"
          ]
        }
      ]
    },
    {
      "metadata": {
        "id": "Y8LHM5tR-H-0",
        "colab_type": "code",
        "colab": {
          "base_uri": "https://localhost:8080/",
          "height": 68
        },
        "outputId": "37458003-a621-4968-b6cb-779427fc14d0"
      },
      "cell_type": "code",
      "source": [
        "def nameFeeder():\n",
        "    while True:\n",
        "        fname = yield\n",
        "        print('First Name:', fname)\n",
        "        lname = yield\n",
        "        print('Last Name:', lname)\n",
        "\n",
        "n = nameFeeder()\n",
        "next(n)\n",
        "n.send('George')\n",
        "n.send('Williams')\n",
        "n.send('John')"
      ],
      "execution_count": 2,
      "outputs": [
        {
          "output_type": "stream",
          "text": [
            "First Name: George\n",
            "Last Name: Williams\n",
            "First Name: John\n"
          ],
          "name": "stdout"
        }
      ]
    },
    {
      "metadata": {
        "id": "UYA-y7yY_x4Z",
        "colab_type": "code",
        "colab": {
          "base_uri": "https://localhost:8080/",
          "height": 34
        },
        "outputId": "e92819a4-abfb-453e-8ef7-65b4620ecf3d"
      },
      "cell_type": "code",
      "source": [
        "## Remember:- we pass data to coroutines using send(x), and we need to take those argument in our function with arg = yield which puts x to arg.\n",
        "#!/bin/python3\n",
        "\n",
        "import sys\n",
        "\n",
        "\n",
        "\n",
        "# Define the coroutine function 'linear_equation' below.\n",
        "\n",
        "def linear_equation(a, b):\n",
        "    while True:\n",
        "      x = yield\n",
        "      ln = (a * (x **2) + b)\n",
        "      print (\"Expression, {:0.1f}*x^2 + {:0.1f}, with x being {:d} equals {:0.1f}\".format(a, b, x, ln) )\n",
        "\n",
        "\n",
        "if __name__ == \"__main__\":\n",
        "    a = 3.0\n",
        "\n",
        "    b = 4.0\n",
        "\n",
        "    equation1 = linear_equation(a, b)\n",
        "    \n",
        "    next(equation1)\n",
        "    \n",
        "    equation1.send(6)\n",
        "    \n",
        "    equation1.close()\n",
        "    \n",
        "    \n",
        "\n"
      ],
      "execution_count": 30,
      "outputs": [
        {
          "output_type": "stream",
          "text": [
            "Expression, 3.0*x^2 + 4.0, with x being 6 equals 112.0\n"
          ],
          "name": "stdout"
        }
      ]
    },
    {
      "metadata": {
        "id": "PAAFGg5WDH8P",
        "colab_type": "code",
        "colab": {
          "base_uri": "https://localhost:8080/",
          "height": 102
        },
        "outputId": "58067fe5-9133-4763-a68d-33dbb541484d"
      },
      "cell_type": "code",
      "source": [
        "## Sometime user forgets to use next() before using coroutines. that time we should create a decorator as below:-\n",
        "import sys\n",
        "import os\n",
        "\n",
        "# Define 'coroutine_decorator' below\n",
        "def coroutine_decorator(coroutine_func):\n",
        "\n",
        "    def wrapper(*args, **kwdargs):\n",
        "        c = coroutine_func(*args, **kwdargs)\n",
        "        next(c)\n",
        "        return c\n",
        "\n",
        "    return wrapper    \n",
        "    \n",
        "# Define coroutine 'linear_equation' as specified in previous exercise\n",
        "@coroutine_decorator\n",
        "def linear_equation(a, b):\n",
        "    while True:\n",
        "      x = yield\n",
        "      ln = (a * (x **2) + b)\n",
        "      print (\"Expression, {:0.1f}*x^2 + {:0.1f}, with x being {:d} equals {:0.1f}\".format(a, b, x, ln) )    \n",
        "    \n",
        "\n",
        "if __name__ == \"__main__\":\n",
        "    a = float(input())\n",
        "\n",
        "    b = float(input())\n",
        "    \n",
        "    ### note here we are not calling the next() before using send()\n",
        "\n",
        "    equation1 = linear_equation(a, b)\n",
        "    \n",
        "    try:\n",
        "      equation1.send(6)\n",
        "      equation1.send(7) \n",
        "    except:\n",
        "      print (\"finished\")\n",
        "    \n",
        "    \n",
        "    try:\n",
        "      equation2 = linear_equation(2, -1)\n",
        "      equation2.send(7)\n",
        "    except:\n",
        "      print (\"finished\")\n",
        "    "
      ],
      "execution_count": 29,
      "outputs": [
        {
          "output_type": "stream",
          "text": [
            "3\n",
            "4\n",
            "Expression, 3.0*x^2 + 4.0, with x being 6 equals 112.0\n",
            "Expression, 3.0*x^2 + 4.0, with x being 7 equals 151.0\n",
            "Expression, 2.0*x^2 + -1.0, with x being 7 equals 97.0\n"
          ],
          "name": "stdout"
        }
      ]
    },
    {
      "metadata": {
        "id": "Ry1azZ-pGDlR",
        "colab_type": "code",
        "colab": {
          "base_uri": "https://localhost:8080/",
          "height": 85
        },
        "outputId": "a479e341-162d-4576-884b-79daf51fddc4"
      },
      "cell_type": "code",
      "source": [
        "@coroutine_decorator\n",
        "def TokenIssuer(tokenId=0):\n",
        "\n",
        "    try:\n",
        "        while True:\n",
        "            name = yield\n",
        "            tokenId += 1\n",
        "            print('Token number of', name, ':', tokenId)\n",
        "\n",
        "    except GeneratorExit:\n",
        "        print('Last issued Token is :', tokenId)\n",
        "\n",
        "\n",
        "\n",
        "t = TokenIssuer(100)\n",
        "\n",
        "t.send('George')\n",
        "t.send('Rosy')\n",
        "t.send('Smith')\n",
        "\n",
        "## when close() is called GenratorExit gets triggered\n",
        "t.close()"
      ],
      "execution_count": 19,
      "outputs": [
        {
          "output_type": "stream",
          "text": [
            "Token number of George : 101\n",
            "Token number of Rosy : 102\n",
            "Token number of Smith : 103\n",
            "Last issued Token is : 103\n"
          ],
          "name": "stdout"
        }
      ]
    },
    {
      "metadata": {
        "id": "rJiurZrPKaa-",
        "colab_type": "code",
        "colab": {
          "base_uri": "https://localhost:8080/",
          "height": 68
        },
        "outputId": "52b8df4c-d8e7-485a-e94b-00098d10c017"
      },
      "cell_type": "code",
      "source": [
        "#!/bin/python3\n",
        "\n",
        "import sys\n",
        "\n",
        "\n",
        "\n",
        "# Define the function 'coroutine_decorator' below\n",
        "def coroutine_decorator(coroutine_func):\n",
        "    def wrapper(*args, **kwdargs):\n",
        "        c = coroutine_func(*args, **kwdargs)\n",
        "        next(c)\n",
        "        return c\n",
        "\n",
        "    return wrapper   \n",
        "\n",
        "# Define the coroutine function 'linear_equation' below\n",
        "@coroutine_decorator\n",
        "def linear_equation(a, b):\n",
        "    while True:\n",
        "      x = yield\n",
        "      ln = (a * (x **2) + b)\n",
        "      print (\"Expression, {:d}*x^2 + {:d}, with x being {:d} equals {:0.1f}\".format(a, b, x, ln) )  \n",
        "\n",
        "# Define the coroutine function 'numberParser' below\n",
        "@coroutine_decorator\n",
        "def numberParser():\n",
        "    equation1 = linear_equation(3, 4)\n",
        "    equation2 = linear_equation(2, -1)\n",
        "\n",
        "    # code to send the input number to both the linear equations\n",
        "    return equation1\n",
        "\n",
        "def main(x):\n",
        "    #n = numberParser()\n",
        "    equation1 = linear_equation(int(3.0), int(4.0))\n",
        "    equation2 = linear_equation(int(2.0), int(-1.0))    \n",
        "    equation1.send(int(x))\n",
        "    equation2.send(int(x))\n",
        "    #n.send(x)\n",
        "    \n",
        "\n",
        "if __name__ == \"__main__\":\n",
        "    x = float(input())\n",
        "\n",
        "    res = main(x);\n",
        "    \n",
        "\n"
      ],
      "execution_count": 28,
      "outputs": [
        {
          "output_type": "stream",
          "text": [
            "6\n",
            "Expression, 3*x^2 + 4, with x being 6 equals 112.0\n",
            "Expression, 2*x^2 + -1, with x being 6 equals 71.0\n"
          ],
          "name": "stdout"
        }
      ]
    }
  ]
}