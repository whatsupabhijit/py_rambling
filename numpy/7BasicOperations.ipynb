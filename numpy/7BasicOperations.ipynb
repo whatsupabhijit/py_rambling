{
 "cells": [
  {
   "cell_type": "code",
   "execution_count": 1,
   "metadata": {},
   "outputs": [],
   "source": [
    "import numpy as np"
   ]
  },
  {
   "cell_type": "markdown",
   "metadata": {},
   "source": [
    "## Basic Operations with Scalars\n",
    "Operations in Numpy are carried out element wise.\n",
    "\n",
    "Hence the expression `x + 10`, increases every element of array `x` by `10`."
   ]
  },
  {
   "cell_type": "code",
   "execution_count": 2,
   "metadata": {},
   "outputs": [
    {
     "name": "stdout",
     "output_type": "stream",
     "text": [
      "[[10 11 12]\n",
      " [13 14 15]]\n",
      "\n",
      "[[ 0  3  6]\n",
      " [ 9 12 15]]\n",
      "\n",
      "[[0 1 0]\n",
      " [1 0 1]]\n"
     ]
    }
   ],
   "source": [
    "x = np.arange(6).reshape(2,3)\n",
    "\n",
    "print(x + 10, end='\\n\\n')\n",
    "\n",
    "print(x * 3, end='\\n\\n')\n",
    "\n",
    "print(x % 2)"
   ]
  },
  {
   "cell_type": "markdown",
   "metadata": {},
   "source": [
    "## Basic Operations between Arrays\n",
    "Operations between arrays also happen element wise."
   ]
  },
  {
   "cell_type": "code",
   "execution_count": 3,
   "metadata": {},
   "outputs": [
    {
     "name": "stdout",
     "output_type": "stream",
     "text": [
      "[[-1  1]\n",
      " [-2  2]]\n",
      "\n",
      "[[ 4 -4]\n",
      " [ 5 -5]]\n",
      "\n",
      "[[ 3 -3]\n",
      " [ 3 -3]]\n",
      "\n",
      "[[ -4  -4]\n",
      " [-10 -10]]\n"
     ]
    }
   ],
   "source": [
    "x = np.array([[-1, 1], [-2, 2]])\n",
    "y = np.array([[4, -4], [5, -5]])\n",
    "\n",
    "print(x, end='\\n\\n')\n",
    "print(y, end='\\n\\n')\n",
    "print(x + y, end='\\n\\n')\n",
    "print(x * y)"
   ]
  },
  {
   "cell_type": "markdown",
   "metadata": {},
   "source": [
    "## Broadcasting in NumPy\n",
    "\n",
    "+ Element wise operations between arrays are possible only when they have the same shape or compatible for Broadcasting.\n",
    "\n",
    "\n",
    "+ Steps followed to verify the feasibility of Broadcasting between arrays are:\n",
    "\n",
    "\n",
    "      1. Initially, compare the dimensions of all arrays.\n",
    "  \n",
    "      2. If dimensions do not match, prepend 1's to shape of a smaller array so that it matches dimensions of a larger array.\n",
    "  \n",
    "      3. Start comparing array shapes from the last dimension and move backward.\n",
    "  \n",
    "      4. If the shape of both arrays are equal or either of it has a shape of 1, continue the comparison.\n",
    "  \n",
    "      5. Else at any dimension, if step 4 fails, broadcasting between arrays is not feasible.\n",
    "  \n",
    "\n",
    "+ Finally, the resulted broadcasting array shape would be maximum of two compared shapes in each dimension.\n"
   ]
  },
  {
   "cell_type": "markdown",
   "metadata": {},
   "source": [
    "## Given: s1 = (4, 3); s2 = (3,)\n",
    "\n",
    "Step 1 and 2: s1 = (4, 3); s2 = (1, 3)\n",
    "\n",
    "Step 3 and 4: pass in 2 dimensions\n",
    "\n",
    "Result : Broadcasting feasible;\n",
    "\n",
    "         resulted array shape - (4,3) "
   ]
  },
  {
   "cell_type": "markdown",
   "metadata": {},
   "source": [
    "## Given: s1 = (5,); s2 = (5,4,3)\n",
    "\n",
    "Step 1 and 2: s1 = (1, 1, 5); s2 = (5, 4, 3)\n",
    "\n",
    "Step 3 and 4: fail in last dimension. ( 5 != 3)\n",
    "\n",
    "Result : Broadcasting not feasible. \n",
    "\n",
    "\n",
    "\n",
    "To know more on Universal functions, refer https://docs.scipy.org/doc/numpy/reference/ufuncs.html."
   ]
  },
  {
   "cell_type": "markdown",
   "metadata": {},
   "source": [
    "## NumPy Universal Functions\n",
    "Numpy provides a lot of mathematical functions, in the form of `Universal function`s."
   ]
  },
  {
   "cell_type": "code",
   "execution_count": 4,
   "metadata": {},
   "outputs": [
    {
     "name": "stdout",
     "output_type": "stream",
     "text": [
      "[[0 1]\n",
      " [4 9]]\n",
      "\n",
      "[[0.         0.84147098]\n",
      " [0.90929743 0.14112001]]\n",
      "\n",
      "[[0 2]\n",
      " [4 6]]\n"
     ]
    }
   ],
   "source": [
    "x = np.array([[0,1], [2,3]])\n",
    "y = np.array([[0,1], [2,3]])\n",
    "\n",
    "\n",
    "\n",
    "print(np.square(x), end='\\n\\n')\n",
    "\n",
    "print(np.sin(x), end='\\n\\n')\n",
    "\n",
    "print(np.add(x,y))  # simillarly np.multiply....is there. just write np. and then press tab\n"
   ]
  },
  {
   "cell_type": "markdown",
   "metadata": {},
   "source": [
    "## NumPy Array Methods\n",
    "Many of the universal functions are available as methods of `ndarray` class.\n",
    "\n",
    "By default `sum` method adds all array elements.\n",
    "\n",
    "It is also possible to apply sum method on elements of a specific dimension, using `axis` argument.\n"
   ]
  },
  {
   "cell_type": "code",
   "execution_count": 5,
   "metadata": {},
   "outputs": [
    {
     "name": "stdout",
     "output_type": "stream",
     "text": [
      "6\n",
      "\n",
      "[2 4]\n",
      "\n",
      "[1 5]\n"
     ]
    }
   ],
   "source": [
    "x = np.array([[0,1], [2, 3]])\n",
    "\n",
    "print(x.sum(), end='\\n\\n')\n",
    "\n",
    "print(x.sum(axis=0), end='\\n\\n')\n",
    "\n",
    "print(x.sum(axis=1))    # type np array name \".\" and then press tab to know more"
   ]
  },
  {
   "cell_type": "code",
   "execution_count": null,
   "metadata": {},
   "outputs": [],
   "source": []
  }
 ],
 "metadata": {
  "kernelspec": {
   "display_name": "Python 3",
   "language": "python",
   "name": "python3"
  },
  "language_info": {
   "codemirror_mode": {
    "name": "ipython",
    "version": 3
   },
   "file_extension": ".py",
   "mimetype": "text/x-python",
   "name": "python",
   "nbconvert_exporter": "python",
   "pygments_lexer": "ipython3",
   "version": "3.6.5"
  }
 },
 "nbformat": 4,
 "nbformat_minor": 2
}
