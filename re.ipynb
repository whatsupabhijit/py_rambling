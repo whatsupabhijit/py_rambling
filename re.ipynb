{
  "nbformat": 4,
  "nbformat_minor": 0,
  "metadata": {
    "colab": {
      "name": "re.ipynb",
      "version": "0.3.2",
      "provenance": [],
      "include_colab_link": true
    },
    "kernelspec": {
      "name": "python3",
      "display_name": "Python 3"
    }
  },
  "cells": [
    {
      "cell_type": "markdown",
      "metadata": {
        "id": "view-in-github",
        "colab_type": "text"
      },
      "source": [
        "<a href=\"https://colab.research.google.com/github/whatsupabhijit/py_rambling/blob/master/re.ipynb\" target=\"_parent\"><img src=\"https://colab.research.google.com/assets/colab-badge.svg\" alt=\"Open In Colab\"/></a>"
      ]
    },
    {
      "metadata": {
        "id": "YcImqnZzikbE",
        "colab_type": "text"
      },
      "cell_type": "markdown",
      "source": [
        "Source code: [Lib/re.py](https://github.com/python/cpython/tree/3.7/Lib/re.py)\n",
        "\n",
        "Both patterns and strings to be searched can be Unicode strings (str) as well as 8-bit strings (bytes). \n",
        "\n",
        "However, Unicode strings and 8-bit strings cannot be mixed: that is, you cannot match a Unicode string with a byte pattern or vice-versa.\n",
        "\n",
        "Similarly, when asking for a substitution, the replacement string must be of the same type as both the pattern and the search string."
      ]
    },
    {
      "metadata": {
        "id": "KpM8yhmSjgub",
        "colab_type": "text"
      },
      "cell_type": "markdown",
      "source": [
        "There is a fantastic[ cheat sheet](https://medium.com/factory-mind/regex-tutorial-a-simple-cheatsheet-by-examples-649dc1c3f285) for the general requiar expression not specific to pythonic re module. I suggest to read that first. If you are well versed with that you can ignore. \n",
        "\n",
        "Python follows 95% of the same syntax with few exceptions. I am just mentioning those mismatch or extra below:-\n",
        "\n",
        "\n",
        "**1. Groups can be used to define flags:-**\n",
        "\n",
        "(?aiLmsux):- (One or more letters from the set 'a', 'i', 'L', 'm', 's', 'u', 'x'.)\n",
        " \n",
        "                       The group matches the empty string; the letters set the corresponding flags: \n",
        "                       re.A (ASCII-only matching), \n",
        "                       re.I (ignore case), \n",
        "                       re.L (locale dependent), \n",
        "                       re.M (multi-line), \n",
        "                       re.S (dot matches all), \n",
        "                       re.U (Unicode matching), and \n",
        "                       re.X (verbose), for the entire regular expression. \n",
        "                       (The flags are described in Module Contents.) \n",
        "                       \n",
        "This is useful if you wish to include the flags as part of the regular expression, instead of passing a flag argument to the re.compile() function. Flags should be used first in the expression string.\n",
        "\n",
        "\n",
        "**2. (?P<name>...) ** \n",
        "\n",
        "Similar to regular parentheses, but the substring matched by the group is accessible via the symbolic group name name. Group names must be valid Python identifiers, and each group name must be defined only once within a regular expression. A symbolic group is also a numbered group, just as if the group were not named.\n",
        "\n",
        "Named groups can be referenced in three contexts. If the pattern is `(?P<quote>['\"]).*?(?P=quote)`(i.e. matching a string quoted with either single or double quotes):\n",
        "\n",
        "<table border=\"1\" class=\"last docutils\">\n",
        "<colgroup>\n",
        "<col width=\"53%\">\n",
        "<col width=\"47%\">\n",
        "</colgroup>\n",
        "<thead valign=\"bottom\">\n",
        "<tr class=\"row-odd\"><th class=\"head\">Context of reference to group “quote”</th>\n",
        "<th class=\"head\">Ways to reference it</th>\n",
        "</tr>\n",
        "</thead>\n",
        "<tbody valign=\"top\">\n",
        "<tr class=\"row-even\"><td>in the same pattern itself</td>\n",
        "<td><ul class=\"first last simple\">\n",
        "<li><code class=\"docutils literal notranslate\"><span class=\"pre\">(?P=quote)</span></code> (as shown)</li>\n",
        "<li><code class=\"docutils literal notranslate\"><span class=\"pre\">\\1</span></code></li>\n",
        "</ul>\n",
        "</td>\n",
        "</tr>\n",
        "<tr class=\"row-odd\"><td>when processing match object <em>m</em></td>\n",
        "<td><ul class=\"first last simple\">\n",
        "<li><code class=\"docutils literal notranslate\"><span class=\"pre\">m.group('quote')</span></code></li>\n",
        "<li><code class=\"docutils literal notranslate\"><span class=\"pre\">m.end('quote')</span></code> (etc.)</li>\n",
        "</ul>\n",
        "</td>\n",
        "</tr>\n",
        "<tr class=\"row-even\"><td>in a string passed to the <em>repl</em>\n",
        "argument of <code class=\"docutils literal notranslate\"><span class=\"pre\">re.sub()</span></code></td>\n",
        "<td><ul class=\"first last simple\">\n",
        "<li><code class=\"docutils literal notranslate\"><span class=\"pre\">\\g&lt;quote&gt;</span></code></li>\n",
        "<li><code class=\"docutils literal notranslate\"><span class=\"pre\">\\g&lt;1&gt;</span></code></li>\n",
        "<li><code class=\"docutils literal notranslate\"><span class=\"pre\">\\1</span></code></li>\n",
        "</ul>\n",
        "</td>\n",
        "</tr>\n",
        "</tbody>\n",
        "</table>\n",
        "\n"
      ]
    },
    {
      "metadata": {
        "id": "qEakbkQ1mbpC",
        "colab_type": "text"
      },
      "cell_type": "markdown",
      "source": [
        "**(?P=name)**\n",
        "\n",
        "A backreference to a named group; it matches whatever text was matched by the earlier group named name.\n",
        "\n",
        "**(?#...)**\n",
        "\n",
        "A comment; the contents of the parentheses are simply ignored."
      ]
    },
    {
      "metadata": {
        "id": "Yxlsa0Xkmx2q",
        "colab_type": "code",
        "colab": {}
      },
      "cell_type": "code",
      "source": [
        "## re.compile\n",
        "\n",
        "import re"
      ],
      "execution_count": 0,
      "outputs": []
    },
    {
      "metadata": {
        "id": "VuxAMkcRm3-0",
        "colab_type": "code",
        "colab": {
          "base_uri": "https://localhost:8080/",
          "height": 34
        },
        "outputId": "bbfac087-2b8d-414a-884c-30a641ee7b2b"
      },
      "cell_type": "code",
      "source": [
        "## Compile a regular expression pattern into a regular expression object, which can be used for matching using its match(), search() and other methods, described below.\n",
        "\n",
        "## The expression’s behaviour can be modified by specifying a flags value. Values can be any of the following variables, combined using bitwise OR (the | operator).\n",
        "\n",
        "pattern = r'''[a-z]'''\n",
        "string  = 'A quick brown fox fox jumps over the lazy dog'\n",
        "\n",
        "prog = re.compile(pattern)\n",
        "\n",
        "result = prog.match(string)\n",
        "\n",
        "## or in short cut -> result = re.match(pattern, string)\n",
        "\n",
        "#print (result)"
      ],
      "execution_count": 6,
      "outputs": [
        {
          "output_type": "stream",
          "text": [
            "None\n"
          ],
          "name": "stdout"
        }
      ]
    },
    {
      "metadata": {
        "id": "CUgIhQnPoQ5x",
        "colab_type": "text"
      },
      "cell_type": "markdown",
      "source": [
        "**re.VERBOSE**\n",
        "\n",
        "This flag allows you to write regular expressions that look nicer and are more readable by allowing you to visually separate logical sections of the pattern and add comments. \n",
        "\n",
        "Whitespace within the pattern is ignored, except when in a character class, or when preceded by an unescaped backslash, or within tokens like *?, (?: or (?P<...>. \n",
        "\n",
        "When a line contains a # that is not in a character class and is not preceded by an unescaped backslash, all characters from the leftmost such # through the end of the line are ignored."
      ]
    },
    {
      "metadata": {
        "id": "9VmrVg9TnzN5",
        "colab_type": "code",
        "colab": {}
      },
      "cell_type": "code",
      "source": [
        "# verbose flag explanation self explanatory\n",
        "# This means that the two following regular expression objects that match a decimal number are functionally equal:\n",
        "\n",
        "a = re.compile(r\"\"\"\\d +  # the integral part\n",
        "                   \\.    # the decimal point\n",
        "                   \\d *  # some fractional digits\"\"\", re.X)\n",
        "\n",
        "b = re.compile(r\"\\d+\\.\\d*\")"
      ],
      "execution_count": 0,
      "outputs": []
    },
    {
      "metadata": {
        "id": "kf8ZyVqhodMA",
        "colab_type": "code",
        "colab": {
          "base_uri": "https://localhost:8080/",
          "height": 34
        },
        "outputId": "544792fc-9083-4093-a2e3-5b03481296d9"
      },
      "cell_type": "code",
      "source": [
        "re.split(r'\\W+', 'Words, words, words.')"
      ],
      "execution_count": 8,
      "outputs": [
        {
          "output_type": "execute_result",
          "data": {
            "text/plain": [
              "['Words', 'words', 'words', '']"
            ]
          },
          "metadata": {
            "tags": []
          },
          "execution_count": 8
        }
      ]
    },
    {
      "metadata": {
        "id": "JFiL5JBHoezz",
        "colab_type": "code",
        "colab": {
          "base_uri": "https://localhost:8080/",
          "height": 34
        },
        "outputId": "cefbeaa9-890e-4250-9fbf-233cfedd265f"
      },
      "cell_type": "code",
      "source": [
        "re.split(r'(\\W+)', 'Words, words, words.')"
      ],
      "execution_count": 9,
      "outputs": [
        {
          "output_type": "execute_result",
          "data": {
            "text/plain": [
              "['Words', ', ', 'words', ', ', 'words', '.', '']"
            ]
          },
          "metadata": {
            "tags": []
          },
          "execution_count": 9
        }
      ]
    },
    {
      "metadata": {
        "id": "IS7i-imRoh3K",
        "colab_type": "code",
        "colab": {
          "base_uri": "https://localhost:8080/",
          "height": 34
        },
        "outputId": "b102ec41-3506-4275-e6d7-1c3bd5d60974"
      },
      "cell_type": "code",
      "source": [
        "re.split(r'\\W+', 'Words, words, words.', 1)"
      ],
      "execution_count": 10,
      "outputs": [
        {
          "output_type": "execute_result",
          "data": {
            "text/plain": [
              "['Words', 'words, words.']"
            ]
          },
          "metadata": {
            "tags": []
          },
          "execution_count": 10
        }
      ]
    },
    {
      "metadata": {
        "id": "c2tzWzyWolp6",
        "colab_type": "code",
        "colab": {
          "base_uri": "https://localhost:8080/",
          "height": 34
        },
        "outputId": "648428f8-1b72-4be4-8bc8-70edb01aa9f6"
      },
      "cell_type": "code",
      "source": [
        "re.split(r'(\\W+)', '...words, words...')"
      ],
      "execution_count": 11,
      "outputs": [
        {
          "output_type": "execute_result",
          "data": {
            "text/plain": [
              "['', '...', 'words', ', ', 'words', '...', '']"
            ]
          },
          "metadata": {
            "tags": []
          },
          "execution_count": 11
        }
      ]
    },
    {
      "metadata": {
        "id": "EIftSMTNootR",
        "colab_type": "code",
        "colab": {
          "base_uri": "https://localhost:8080/",
          "height": 282
        },
        "outputId": "4c305535-d1fc-487e-c68a-30be2f4694e7"
      },
      "cell_type": "code",
      "source": [
        "re.split(r'\\b', 'Words, words, words.')"
      ],
      "execution_count": 12,
      "outputs": [
        {
          "output_type": "error",
          "ename": "ValueError",
          "evalue": "ignored",
          "traceback": [
            "\u001b[0;31m---------------------------------------------------------------------------\u001b[0m",
            "\u001b[0;31mValueError\u001b[0m                                Traceback (most recent call last)",
            "\u001b[0;32m<ipython-input-12-9badba26b6c8>\u001b[0m in \u001b[0;36m<module>\u001b[0;34m()\u001b[0m\n\u001b[0;32m----> 1\u001b[0;31m \u001b[0mre\u001b[0m\u001b[0;34m.\u001b[0m\u001b[0msplit\u001b[0m\u001b[0;34m(\u001b[0m\u001b[0;34mr'\\b'\u001b[0m\u001b[0;34m,\u001b[0m \u001b[0;34m'Words, words, words.'\u001b[0m\u001b[0;34m)\u001b[0m\u001b[0;34m\u001b[0m\u001b[0m\n\u001b[0m",
            "\u001b[0;32m/usr/lib/python3.6/re.py\u001b[0m in \u001b[0;36msplit\u001b[0;34m(pattern, string, maxsplit, flags)\u001b[0m\n\u001b[1;32m    210\u001b[0m     \u001b[0;32mand\u001b[0m \u001b[0mthe\u001b[0m \u001b[0mremainder\u001b[0m \u001b[0mof\u001b[0m \u001b[0mthe\u001b[0m \u001b[0mstring\u001b[0m \u001b[0;32mis\u001b[0m \u001b[0mreturned\u001b[0m \u001b[0;32mas\u001b[0m \u001b[0mthe\u001b[0m \u001b[0mfinal\u001b[0m \u001b[0melement\u001b[0m\u001b[0;34m\u001b[0m\u001b[0m\n\u001b[1;32m    211\u001b[0m     of the list.\"\"\"\n\u001b[0;32m--> 212\u001b[0;31m     \u001b[0;32mreturn\u001b[0m \u001b[0m_compile\u001b[0m\u001b[0;34m(\u001b[0m\u001b[0mpattern\u001b[0m\u001b[0;34m,\u001b[0m \u001b[0mflags\u001b[0m\u001b[0;34m)\u001b[0m\u001b[0;34m.\u001b[0m\u001b[0msplit\u001b[0m\u001b[0;34m(\u001b[0m\u001b[0mstring\u001b[0m\u001b[0;34m,\u001b[0m \u001b[0mmaxsplit\u001b[0m\u001b[0;34m)\u001b[0m\u001b[0;34m\u001b[0m\u001b[0m\n\u001b[0m\u001b[1;32m    213\u001b[0m \u001b[0;34m\u001b[0m\u001b[0m\n\u001b[1;32m    214\u001b[0m \u001b[0;32mdef\u001b[0m \u001b[0mfindall\u001b[0m\u001b[0;34m(\u001b[0m\u001b[0mpattern\u001b[0m\u001b[0;34m,\u001b[0m \u001b[0mstring\u001b[0m\u001b[0;34m,\u001b[0m \u001b[0mflags\u001b[0m\u001b[0;34m=\u001b[0m\u001b[0;36m0\u001b[0m\u001b[0;34m)\u001b[0m\u001b[0;34m:\u001b[0m\u001b[0;34m\u001b[0m\u001b[0m\n",
            "\u001b[0;31mValueError\u001b[0m: split() requires a non-empty pattern match."
          ]
        }
      ]
    },
    {
      "metadata": {
        "id": "p2BmgtuWotEp",
        "colab_type": "code",
        "colab": {
          "base_uri": "https://localhost:8080/",
          "height": 68
        },
        "outputId": "b6ca1549-dde5-4893-f0fb-bbd73510e20d"
      },
      "cell_type": "code",
      "source": [
        "re.split(r'\\W*', '...words...')"
      ],
      "execution_count": 13,
      "outputs": [
        {
          "output_type": "stream",
          "text": [
            "/usr/lib/python3.6/re.py:212: FutureWarning: split() requires a non-empty pattern match.\n",
            "  return _compile(pattern, flags).split(string, maxsplit)\n"
          ],
          "name": "stderr"
        },
        {
          "output_type": "execute_result",
          "data": {
            "text/plain": [
              "['', 'words', '']"
            ]
          },
          "metadata": {
            "tags": []
          },
          "execution_count": 13
        }
      ]
    },
    {
      "metadata": {
        "id": "MpgkBrgOoyBq",
        "colab_type": "code",
        "colab": {
          "base_uri": "https://localhost:8080/",
          "height": 68
        },
        "outputId": "a436466b-d7d6-4b19-9850-bb5fa41ac3ca"
      },
      "cell_type": "code",
      "source": [
        "re.split(r'(\\W*)', '...words...')"
      ],
      "execution_count": 14,
      "outputs": [
        {
          "output_type": "stream",
          "text": [
            "/usr/lib/python3.6/re.py:212: FutureWarning: split() requires a non-empty pattern match.\n",
            "  return _compile(pattern, flags).split(string, maxsplit)\n"
          ],
          "name": "stderr"
        },
        {
          "output_type": "execute_result",
          "data": {
            "text/plain": [
              "['', '...', 'words', '...', '']"
            ]
          },
          "metadata": {
            "tags": []
          },
          "execution_count": 14
        }
      ]
    },
    {
      "metadata": {
        "id": "86fu20B_o1uC",
        "colab_type": "code",
        "colab": {}
      },
      "cell_type": "code",
      "source": [
        "re.sub(r'def\\s+([a-zA-Z_][a-zA-Z_0-9]*)\\s*\\(\\s*\\):',r'static PyObject*\\npy_\\1(void)\\n{','def myfunc():')'static PyObject*\\npy_myfunc(void)\\n{'"
      ],
      "execution_count": 0,
      "outputs": []
    },
    {
      "metadata": {
        "id": "agneHwzgpU4T",
        "colab_type": "text"
      },
      "cell_type": "markdown",
      "source": [
        "[more](https://docs.python.org/3/library/re.html#regular-expression-syntax)"
      ]
    }
  ]
}