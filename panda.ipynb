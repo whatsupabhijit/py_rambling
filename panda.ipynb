{
  "nbformat": 4,
  "nbformat_minor": 0,
  "metadata": {
    "colab": {
      "name": "panda.ipynb",
      "version": "0.3.2",
      "provenance": [],
      "include_colab_link": true
    },
    "kernelspec": {
      "name": "python3",
      "display_name": "Python 3"
    }
  },
  "cells": [
    {
      "cell_type": "markdown",
      "metadata": {
        "id": "view-in-github",
        "colab_type": "text"
      },
      "source": [
        "<a href=\"https://colab.research.google.com/github/whatsupabhijit/py_rambling/blob/master/panda.ipynb\" target=\"_parent\"><img src=\"https://colab.research.google.com/assets/colab-badge.svg\" alt=\"Open In Colab\"/></a>"
      ]
    },
    {
      "metadata": {
        "id": "dOlkheh4Z1wX",
        "colab_type": "text"
      },
      "cell_type": "markdown",
      "source": [
        "# **Pandas**\n",
        "\n",
        "- `Pandas` is a popular Python data analysis tool.\n",
        "\n",
        "- It provides easy to use and highly efficient data structures.\n",
        "\n",
        "- These data structures deal with numeric or labeled data, stored in the form of tables"
      ]
    },
    {
      "metadata": {
        "id": "83ZJTVAYaPm3",
        "colab_type": "text"
      },
      "cell_type": "markdown",
      "source": [
        "**Data Structures in Pandas**\n",
        "\n",
        "Three fundamental data structures used in pandas are,\n",
        "\n",
        "- Series: A 1-D array.\n",
        "\n",
        "- Data Frame: A 2-D array or two or more Series joined together\n",
        "\n",
        "- Panel: A 3-D array\n"
      ]
    },
    {
      "metadata": {
        "id": "TTeZ84PhacEh",
        "colab_type": "text"
      },
      "cell_type": "markdown",
      "source": [
        "# **Series ** is a 1-D array, holding data values of a single variable, captured from multiple observations.\n",
        "\n",
        "Few examples are:\n",
        "\n",
        "1. Height of each student, belonging to a Class 'C'.''\n",
        "2. Amount of daily rainfall received at Station 'X', in July 2017\n",
        "3. Total sales of a product 'P' in every quarter of 2016."
      ]
    },
    {
      "metadata": {
        "id": "WCUBiTm9a6xR",
        "colab_type": "code",
        "outputId": "898a3a51-9186-4348-a7d4-548fa92adac6",
        "colab": {
          "base_uri": "https://localhost:8080/",
          "height": 496
        }
      },
      "cell_type": "code",
      "source": [
        "!pip install panda\n",
        "!pip install request"
      ],
      "execution_count": 30,
      "outputs": [
        {
          "output_type": "stream",
          "text": [
            "Collecting panda\n",
            "  Downloading https://files.pythonhosted.org/packages/79/03/74996420528fe488ce17c42b6400531c8067d7eb661c304fa3aa8fdad17c/panda-0.3.1.tar.gz\n",
            "Requirement already satisfied: setuptools in /usr/local/lib/python3.6/dist-packages (from panda) (40.6.2)\n",
            "Requirement already satisfied: requests in /usr/local/lib/python3.6/dist-packages (from panda) (2.18.4)\n",
            "Requirement already satisfied: idna<2.7,>=2.5 in /usr/local/lib/python3.6/dist-packages (from requests->panda) (2.6)\n",
            "Requirement already satisfied: chardet<3.1.0,>=3.0.2 in /usr/local/lib/python3.6/dist-packages (from requests->panda) (3.0.4)\n",
            "Requirement already satisfied: urllib3<1.23,>=1.21.1 in /usr/local/lib/python3.6/dist-packages (from requests->panda) (1.22)\n",
            "Requirement already satisfied: certifi>=2017.4.17 in /usr/local/lib/python3.6/dist-packages (from requests->panda) (2018.10.15)\n",
            "Building wheels for collected packages: panda\n",
            "  Running setup.py bdist_wheel for panda ... \u001b[?25l-\b \bdone\n",
            "\u001b[?25h  Stored in directory: /root/.cache/pip/wheels/c6/c8/45/06ed898b0bb401c1ff207dbb05b1587ff28860a236d98b1996\n",
            "Successfully built panda\n",
            "Installing collected packages: panda\n",
            "Successfully installed panda-0.3.1\n",
            "Collecting request\n",
            "  Downloading https://files.pythonhosted.org/packages/14/03/3985ca165063f8825be231383df7e214551a074b69c8358034b5a6c6d556/request-2018.11.20-py2.py3-none-any.whl\n",
            "Requirement already satisfied: setuptools in /usr/local/lib/python3.6/dist-packages (from request) (40.6.2)\n",
            "Collecting get (from request)\n",
            "  Downloading https://files.pythonhosted.org/packages/77/50/a8f316f095765b6299791f8a2263893a01856036be1c377170a91e4696ed/get-2018.11.19-py2.py3-none-any.whl\n",
            "Collecting post (from request)\n",
            "  Downloading https://files.pythonhosted.org/packages/60/bf/9e3a234021486d3f25edda957f82c7228a6b4ce5b413bc6e771f634a6ba9/post-2018.11.20-py2.py3-none-any.whl\n",
            "Collecting query-string (from get->request)\n",
            "  Downloading https://files.pythonhosted.org/packages/a5/b6/7d896d6cdc0660275512e8835ac27ecdddf3540adb8375bb2e5b5ccb56bc/query_string-2018.11.20-py2.py3-none-any.whl\n",
            "Collecting public (from query-string->get->request)\n",
            "  Downloading https://files.pythonhosted.org/packages/36/c8/6dbeeeeb5ae9d897873df6bcdf4141cf8f160fa1e75a8a62d53535ddd19f/public-2018.11.20-py2.py3-none-any.whl\n",
            "Installing collected packages: public, query-string, get, post, request\n",
            "Successfully installed get-2018.11.19 post-2018.11.20 public-2018.11.20 query-string-2018.11.20 request-2018.11.20\n"
          ],
          "name": "stdout"
        }
      ]
    },
    {
      "metadata": {
        "id": "lyFMslLOFc_G",
        "colab_type": "code",
        "colab": {}
      },
      "cell_type": "code",
      "source": [
        "import numpy as np\n",
        "import pandas as pd   # mind the extra 's' in pandas as importing panda alone gives you error"
      ],
      "execution_count": 0,
      "outputs": []
    },
    {
      "metadata": {
        "id": "RSomb7xgbryo",
        "colab_type": "code",
        "outputId": "87f4498a-874d-4c4e-d4a0-0b69e2e90410",
        "colab": {
          "base_uri": "https://localhost:8080/",
          "height": 85
        }
      },
      "cell_type": "code",
      "source": [
        "## creating panda series from a dictionary\n",
        "\n",
        "d = {'Math': 180, 'Physics': 157, 'Chemistry:': 157}\n",
        "pd.Series(d)"
      ],
      "execution_count": 32,
      "outputs": [
        {
          "output_type": "execute_result",
          "data": {
            "text/plain": [
              "Chemistry:    157\n",
              "Math          180\n",
              "Physics       157\n",
              "dtype: int64"
            ]
          },
          "metadata": {
            "tags": []
          },
          "execution_count": 32
        }
      ]
    },
    {
      "metadata": {
        "id": "N9qf3zcDcRKJ",
        "colab_type": "code",
        "outputId": "d083fac7-2291-4595-9122-f70b1f062b35",
        "colab": {
          "base_uri": "https://localhost:8080/",
          "height": 85
        }
      },
      "cell_type": "code",
      "source": [
        "# Creating a panda series from numpy\n",
        "\n",
        "n = 30 + 25 * np.random.randn(3) \n",
        "\n",
        "pd.Series(n, index = ['Math', 'Physics', 'Chemistry'])"
      ],
      "execution_count": 33,
      "outputs": [
        {
          "output_type": "execute_result",
          "data": {
            "text/plain": [
              "Math         46.964490\n",
              "Physics      11.838630\n",
              "Chemistry     7.569658\n",
              "dtype: float64"
            ]
          },
          "metadata": {
            "tags": []
          },
          "execution_count": 33
        }
      ]
    },
    {
      "metadata": {
        "id": "To1jAxG6dEPK",
        "colab_type": "text"
      },
      "cell_type": "markdown",
      "source": [
        "**Problem 1.1**\n",
        "Create a series named heights_A with values 176.2, 158.4, 167.6, 156.2, and 161.4, which represent heights of 5 students of class A.\n",
        "\n",
        "Label each student as s1, s2, s3, s4, and s5.\n",
        "\n",
        "Determine the shape of heights_A and display it."
      ]
    },
    {
      "metadata": {
        "id": "LGmH7R2CdC5R",
        "colab_type": "code",
        "outputId": "d8f72335-a0fd-4c85-80dd-88f2ed7c9303",
        "colab": {
          "base_uri": "https://localhost:8080/",
          "height": 34
        }
      },
      "cell_type": "code",
      "source": [
        "ht = [176.2, 158.4, 167.6, 156.2, 161.4]\n",
        "\n",
        "heights_A = pd.Series(ht, index = ['s1', 's2', 's3', 's4', 's5'])\n",
        "heights_A\n",
        "\n",
        "heights_A.shape"
      ],
      "execution_count": 34,
      "outputs": [
        {
          "output_type": "execute_result",
          "data": {
            "text/plain": [
              "(5,)"
            ]
          },
          "metadata": {
            "tags": []
          },
          "execution_count": 34
        }
      ]
    },
    {
      "metadata": {
        "id": "h1uesjcaeZci",
        "colab_type": "text"
      },
      "cell_type": "markdown",
      "source": [
        "**Problem 1.2**\n",
        "Create a series named weights_A with values 85.1, 90.2, 76.8, 80.4, and 78.9, which represent weights of 5 students of class A.\n",
        "\n",
        "Label each student as s1, s2, s3, s4, and s5.\n",
        "\n",
        "Determine data type of weights_A and display it.\n",
        "\n",
        "Hint: Make use of Series method available in pandas library."
      ]
    },
    {
      "metadata": {
        "id": "JuedULX3edR3",
        "colab_type": "code",
        "outputId": "fb905130-28a9-4f55-f8f6-517a687dc6e1",
        "colab": {
          "base_uri": "https://localhost:8080/",
          "height": 136
        }
      },
      "cell_type": "code",
      "source": [
        "wt = [85.1, 90.2, 76.8, 80.4,  78.9,]\n",
        "weights_A = pd.Series(wt, index = ['s1', 's2', 's3', 's4', 's5'])\n",
        "\n",
        "print(weights_A)\n",
        "\n",
        "print(weights_A.shape)"
      ],
      "execution_count": 35,
      "outputs": [
        {
          "output_type": "stream",
          "text": [
            "s1    85.1\n",
            "s2    90.2\n",
            "s3    76.8\n",
            "s4    80.4\n",
            "s5    78.9\n",
            "dtype: float64\n",
            "(5,)\n"
          ],
          "name": "stdout"
        }
      ]
    },
    {
      "metadata": {
        "id": "-YfwJSqBfS8I",
        "colab_type": "text"
      },
      "cell_type": "markdown",
      "source": [
        "# A ***Data Frame*** is 2-D shaped and contains data of diff parameters, captured from multiple observations.\n",
        "\n",
        "Each **observation** is represented by a single **row**, and each **parameter** by a single **column**.\n",
        "\n",
        "Each column can hold different data type.\n",
        "Few examples are:\n",
        "\n",
        "- Height and Weight of all students, belonging to a Class 'C'.\n",
        "- Daily Rainfall received and Average Temperature of a location 'X', in the year 2017.\n",
        "\n",
        "---\n",
        "\n"
      ]
    },
    {
      "metadata": {
        "id": "mdLX5rrSgtsw",
        "colab_type": "code",
        "outputId": "c6485b50-e225-4248-c8d7-f5362a32c03d",
        "colab": {
          "base_uri": "https://localhost:8080/",
          "height": 142
        }
      },
      "cell_type": "code",
      "source": [
        "## Data frame created from pd.Series\n",
        "\n",
        "s = {'subject': pd.Series(['Math', 'Physics', 'Chemistry']), 'marks': pd.Series([100, 190, 185]) }\n",
        "df = pd.DataFrame(s)\n",
        "df"
      ],
      "execution_count": 36,
      "outputs": [
        {
          "output_type": "execute_result",
          "data": {
            "text/html": [
              "<div>\n",
              "<style scoped>\n",
              "    .dataframe tbody tr th:only-of-type {\n",
              "        vertical-align: middle;\n",
              "    }\n",
              "\n",
              "    .dataframe tbody tr th {\n",
              "        vertical-align: top;\n",
              "    }\n",
              "\n",
              "    .dataframe thead th {\n",
              "        text-align: right;\n",
              "    }\n",
              "</style>\n",
              "<table border=\"1\" class=\"dataframe\">\n",
              "  <thead>\n",
              "    <tr style=\"text-align: right;\">\n",
              "      <th></th>\n",
              "      <th>marks</th>\n",
              "      <th>subject</th>\n",
              "    </tr>\n",
              "  </thead>\n",
              "  <tbody>\n",
              "    <tr>\n",
              "      <th>0</th>\n",
              "      <td>100</td>\n",
              "      <td>Math</td>\n",
              "    </tr>\n",
              "    <tr>\n",
              "      <th>1</th>\n",
              "      <td>190</td>\n",
              "      <td>Physics</td>\n",
              "    </tr>\n",
              "    <tr>\n",
              "      <th>2</th>\n",
              "      <td>185</td>\n",
              "      <td>Chemistry</td>\n",
              "    </tr>\n",
              "  </tbody>\n",
              "</table>\n",
              "</div>"
            ],
            "text/plain": [
              "   marks    subject\n",
              "0    100       Math\n",
              "1    190    Physics\n",
              "2    185  Chemistry"
            ]
          },
          "metadata": {
            "tags": []
          },
          "execution_count": 36
        }
      ]
    },
    {
      "metadata": {
        "id": "h3-keNNfjqwu",
        "colab_type": "code",
        "outputId": "c60d9c8e-38ca-44b6-dab7-6304dd73e214",
        "colab": {
          "base_uri": "https://localhost:8080/",
          "height": 142
        }
      },
      "cell_type": "code",
      "source": [
        "## Data frame created from list\n",
        "\n",
        "s = {'subject': ['Math', 'Physics', 'Chemistry'], 'marks': [100, 190, 185] }\n",
        "df = pd.DataFrame(s)\n",
        "df"
      ],
      "execution_count": 37,
      "outputs": [
        {
          "output_type": "execute_result",
          "data": {
            "text/html": [
              "<div>\n",
              "<style scoped>\n",
              "    .dataframe tbody tr th:only-of-type {\n",
              "        vertical-align: middle;\n",
              "    }\n",
              "\n",
              "    .dataframe tbody tr th {\n",
              "        vertical-align: top;\n",
              "    }\n",
              "\n",
              "    .dataframe thead th {\n",
              "        text-align: right;\n",
              "    }\n",
              "</style>\n",
              "<table border=\"1\" class=\"dataframe\">\n",
              "  <thead>\n",
              "    <tr style=\"text-align: right;\">\n",
              "      <th></th>\n",
              "      <th>marks</th>\n",
              "      <th>subject</th>\n",
              "    </tr>\n",
              "  </thead>\n",
              "  <tbody>\n",
              "    <tr>\n",
              "      <th>0</th>\n",
              "      <td>100</td>\n",
              "      <td>Math</td>\n",
              "    </tr>\n",
              "    <tr>\n",
              "      <th>1</th>\n",
              "      <td>190</td>\n",
              "      <td>Physics</td>\n",
              "    </tr>\n",
              "    <tr>\n",
              "      <th>2</th>\n",
              "      <td>185</td>\n",
              "      <td>Chemistry</td>\n",
              "    </tr>\n",
              "  </tbody>\n",
              "</table>\n",
              "</div>"
            ],
            "text/plain": [
              "   marks    subject\n",
              "0    100       Math\n",
              "1    190    Physics\n",
              "2    185  Chemistry"
            ]
          },
          "metadata": {
            "tags": []
          },
          "execution_count": 37
        }
      ]
    },
    {
      "metadata": {
        "id": "lmyIM9YZe6uI",
        "colab_type": "text"
      },
      "cell_type": "markdown",
      "source": [
        "**Problem 1.3**\n",
        "Create a Data Frame named df_A, which holds the height and weight of five students namely s1, s2, s3, s4 and s5.\n",
        "\n",
        "Label the columns as Student_height and Student_weight respectively.\n",
        "\n",
        "Display index values of df_A.\n",
        "\n",
        "Hint: Make use of DataFrame method in pandas, and also the series heights_A, weights_A created in previous problems."
      ]
    },
    {
      "metadata": {
        "id": "coZkxy3ytvwR",
        "colab_type": "code",
        "outputId": "c423758b-50b0-4a73-9534-f165a457cefd",
        "colab": {
          "base_uri": "https://localhost:8080/",
          "height": 204
        }
      },
      "cell_type": "code",
      "source": [
        "sf_dict = {'heights': heights_A, 'weights': weights_A }\n",
        "df_A = pd.DataFrame(sf_dict)\n",
        "df_A"
      ],
      "execution_count": 38,
      "outputs": [
        {
          "output_type": "execute_result",
          "data": {
            "text/html": [
              "<div>\n",
              "<style scoped>\n",
              "    .dataframe tbody tr th:only-of-type {\n",
              "        vertical-align: middle;\n",
              "    }\n",
              "\n",
              "    .dataframe tbody tr th {\n",
              "        vertical-align: top;\n",
              "    }\n",
              "\n",
              "    .dataframe thead th {\n",
              "        text-align: right;\n",
              "    }\n",
              "</style>\n",
              "<table border=\"1\" class=\"dataframe\">\n",
              "  <thead>\n",
              "    <tr style=\"text-align: right;\">\n",
              "      <th></th>\n",
              "      <th>heights</th>\n",
              "      <th>weights</th>\n",
              "    </tr>\n",
              "  </thead>\n",
              "  <tbody>\n",
              "    <tr>\n",
              "      <th>s1</th>\n",
              "      <td>176.2</td>\n",
              "      <td>85.1</td>\n",
              "    </tr>\n",
              "    <tr>\n",
              "      <th>s2</th>\n",
              "      <td>158.4</td>\n",
              "      <td>90.2</td>\n",
              "    </tr>\n",
              "    <tr>\n",
              "      <th>s3</th>\n",
              "      <td>167.6</td>\n",
              "      <td>76.8</td>\n",
              "    </tr>\n",
              "    <tr>\n",
              "      <th>s4</th>\n",
              "      <td>156.2</td>\n",
              "      <td>80.4</td>\n",
              "    </tr>\n",
              "    <tr>\n",
              "      <th>s5</th>\n",
              "      <td>161.4</td>\n",
              "      <td>78.9</td>\n",
              "    </tr>\n",
              "  </tbody>\n",
              "</table>\n",
              "</div>"
            ],
            "text/plain": [
              "    heights  weights\n",
              "s1    176.2     85.1\n",
              "s2    158.4     90.2\n",
              "s3    167.6     76.8\n",
              "s4    156.2     80.4\n",
              "s5    161.4     78.9"
            ]
          },
          "metadata": {
            "tags": []
          },
          "execution_count": 38
        }
      ]
    },
    {
      "metadata": {
        "id": "-_GQmVSnuY_N",
        "colab_type": "text"
      },
      "cell_type": "markdown",
      "source": [
        "**Problem 1.4**\n",
        "Create two Series named heights_B and weights_B from two random 1-D numpy arrays with five elements each.\n",
        "\n",
        "The first array is obtained from the normal distribution of mean 170.0 and standard deviation 25.0.\n",
        "\n",
        "The second array is derived from the normal distribution of mean 75.0 and standard deviation 12.0.\n",
        "\n",
        "Label both Series elements with s1, s2, s3, s4 and s5."
      ]
    },
    {
      "metadata": {
        "id": "71uugSAruYNt",
        "colab_type": "code",
        "outputId": "179c60bc-ab13-4d6d-ca11-4a3a9e989d00",
        "colab": {
          "base_uri": "https://localhost:8080/",
          "height": 221
        }
      },
      "cell_type": "code",
      "source": [
        "heights_B = pd.Series(170 + 25 * np.random.randn(5), index = ['s1', 's2', 's3', 's4', 's5'])\n",
        "weights_B = pd.Series(75  + 12 * np.random.randn(5), index = ['s1', 's2', 's3', 's4', 's5'])\n",
        "\n",
        "print(heights_B)\n",
        "\n",
        "print(weights_B)"
      ],
      "execution_count": 39,
      "outputs": [
        {
          "output_type": "stream",
          "text": [
            "s1    174.359272\n",
            "s2    195.443941\n",
            "s3    183.597668\n",
            "s4    214.585255\n",
            "s5    175.436158\n",
            "dtype: float64\n",
            "s1    68.458848\n",
            "s2    88.282270\n",
            "s3    67.525174\n",
            "s4    79.642886\n",
            "s5    74.686855\n",
            "dtype: float64\n"
          ],
          "name": "stdout"
        }
      ]
    },
    {
      "metadata": {
        "id": "_y_ywZOOwA6t",
        "colab_type": "text"
      },
      "cell_type": "markdown",
      "source": [
        "**Problem 1.5**\n",
        "Create a Data Frame df_B holding height and weight of students s1, s2, s3, s4 and s5 belonging to class B.\n",
        "\n",
        "Label the columns as Student_height and Student_weight respectively.\n",
        "\n",
        "Display the column names of df_B."
      ]
    },
    {
      "metadata": {
        "id": "ydERgqpkwFjN",
        "colab_type": "code",
        "outputId": "6b63b9f6-108f-4782-eea9-207a46cbf6e0",
        "colab": {
          "base_uri": "https://localhost:8080/",
          "height": 204
        }
      },
      "cell_type": "code",
      "source": [
        "df_B = pd.DataFrame({'heights': heights_B, 'weigts': weights_B})\n",
        "df_B"
      ],
      "execution_count": 40,
      "outputs": [
        {
          "output_type": "execute_result",
          "data": {
            "text/html": [
              "<div>\n",
              "<style scoped>\n",
              "    .dataframe tbody tr th:only-of-type {\n",
              "        vertical-align: middle;\n",
              "    }\n",
              "\n",
              "    .dataframe tbody tr th {\n",
              "        vertical-align: top;\n",
              "    }\n",
              "\n",
              "    .dataframe thead th {\n",
              "        text-align: right;\n",
              "    }\n",
              "</style>\n",
              "<table border=\"1\" class=\"dataframe\">\n",
              "  <thead>\n",
              "    <tr style=\"text-align: right;\">\n",
              "      <th></th>\n",
              "      <th>heights</th>\n",
              "      <th>weigts</th>\n",
              "    </tr>\n",
              "  </thead>\n",
              "  <tbody>\n",
              "    <tr>\n",
              "      <th>s1</th>\n",
              "      <td>174.359272</td>\n",
              "      <td>68.458848</td>\n",
              "    </tr>\n",
              "    <tr>\n",
              "      <th>s2</th>\n",
              "      <td>195.443941</td>\n",
              "      <td>88.282270</td>\n",
              "    </tr>\n",
              "    <tr>\n",
              "      <th>s3</th>\n",
              "      <td>183.597668</td>\n",
              "      <td>67.525174</td>\n",
              "    </tr>\n",
              "    <tr>\n",
              "      <th>s4</th>\n",
              "      <td>214.585255</td>\n",
              "      <td>79.642886</td>\n",
              "    </tr>\n",
              "    <tr>\n",
              "      <th>s5</th>\n",
              "      <td>175.436158</td>\n",
              "      <td>74.686855</td>\n",
              "    </tr>\n",
              "  </tbody>\n",
              "</table>\n",
              "</div>"
            ],
            "text/plain": [
              "       heights     weigts\n",
              "s1  174.359272  68.458848\n",
              "s2  195.443941  88.282270\n",
              "s3  183.597668  67.525174\n",
              "s4  214.585255  79.642886\n",
              "s5  175.436158  74.686855"
            ]
          },
          "metadata": {
            "tags": []
          },
          "execution_count": 40
        }
      ]
    },
    {
      "metadata": {
        "id": "YL4siMbofqwZ",
        "colab_type": "text"
      },
      "cell_type": "markdown",
      "source": [
        "# A **Panel** holds **two** or **more** Data **Frames** together as a single unit.\n",
        "\n",
        "Few examples are:\n",
        "\n",
        "- Height and Weight of all students, belonging to 3 Classes 'A', 'B', and 'C'.\n",
        "- Daily Rainfall received and Average Temperatures of 3 locations 'X', 'Y', and 'Z' captured in the year 2017.\n",
        "\n",
        "---\n",
        "\n"
      ]
    },
    {
      "metadata": {
        "id": "nCwHt6x6wwoM",
        "colab_type": "text"
      },
      "cell_type": "markdown",
      "source": [
        "**Problem 1.6**\n",
        "Create a panel p, which holds previously created two data frames df_A and df_B.\n",
        "\n",
        "Label the first data frame as ClassA and second as ClassB.\n",
        "\n",
        "\n",
        "Determine the shape of panel p and display it."
      ]
    },
    {
      "metadata": {
        "id": "rJcUK9wDyV1e",
        "colab_type": "code",
        "outputId": "211f6c44-db16-44b4-f753-706e2d72f132",
        "colab": {
          "base_uri": "https://localhost:8080/",
          "height": 493
        }
      },
      "cell_type": "code",
      "source": [
        "df_panel = pd.Panel({'ClassA': df_A, 'ClassB': df_B})\n",
        "\n",
        "print('Shape:-')\n",
        "print(df_panel.shape)\n",
        "\n",
        "print('\\n\\nClassA')\n",
        "print(df_panel.ClassA)\n",
        "\n",
        "\n",
        "print('\\n\\nClassB')\n",
        "print(df_panel.ClassB)\n",
        "\n",
        "print(\"\\n\\ndf_panel:- \")\n",
        "print(df_panel)"
      ],
      "execution_count": 41,
      "outputs": [
        {
          "output_type": "stream",
          "text": [
            "Shape:-\n",
            "(2, 5, 3)\n",
            "\n",
            "\n",
            "ClassA\n",
            "    heights  weights  weigts\n",
            "s1    176.2     85.1     NaN\n",
            "s2    158.4     90.2     NaN\n",
            "s3    167.6     76.8     NaN\n",
            "s4    156.2     80.4     NaN\n",
            "s5    161.4     78.9     NaN\n",
            "\n",
            "\n",
            "ClassB\n",
            "       heights  weights     weigts\n",
            "s1  174.359272      NaN  68.458848\n",
            "s2  195.443941      NaN  88.282270\n",
            "s3  183.597668      NaN  67.525174\n",
            "s4  214.585255      NaN  79.642886\n",
            "s5  175.436158      NaN  74.686855\n",
            "\n",
            "\n",
            "df_panel:- \n",
            "<class 'pandas.core.panel.Panel'>\n",
            "Dimensions: 2 (items) x 5 (major_axis) x 3 (minor_axis)\n",
            "Items axis: ClassA to ClassB\n",
            "Major_axis axis: s1 to s5\n",
            "Minor_axis axis: heights to weigts\n"
          ],
          "name": "stdout"
        }
      ]
    },
    {
      "metadata": {
        "id": "LO60AuW3_YGw",
        "colab_type": "text"
      },
      "cell_type": "markdown",
      "source": [
        "# Data Access\n",
        "\n",
        "Data Access refers to extracting data present in defined data structures.\n",
        "\n",
        "Pandas provide utilities like **loc** and **iloc** to get data from a Series, a DataFrame, or a Panel."
      ]
    },
    {
      "metadata": {
        "id": "IgxsSACKAQm3",
        "colab_type": "text"
      },
      "cell_type": "markdown",
      "source": [
        "**Problem 2.1**\n",
        "\n",
        "Print the second element of series heights_A, as a string."
      ]
    },
    {
      "metadata": {
        "id": "8-wyuvybAXZJ",
        "colab_type": "code",
        "outputId": "dc3be570-0093-4850-e361-6f74ca8ec5f1",
        "colab": {
          "base_uri": "https://localhost:8080/",
          "height": 68
        }
      },
      "cell_type": "code",
      "source": [
        "#Using index\n",
        "print (heights_A[1])\n",
        "\n",
        "#Using get() and index\n",
        "print (heights_A.get(1))\n",
        "\n",
        "\n",
        "#Using get() and index variable name\n",
        "print (heights_A.get('s2'))"
      ],
      "execution_count": 42,
      "outputs": [
        {
          "output_type": "stream",
          "text": [
            "158.4\n",
            "158.4\n",
            "158.4\n"
          ],
          "name": "stdout"
        }
      ]
    },
    {
      "metadata": {
        "id": "vYqQObffBtdg",
        "colab_type": "text"
      },
      "cell_type": "markdown",
      "source": [
        "**Problem 2.2**\n",
        "\n",
        "Obtain central three elements of Series heights_A."
      ]
    },
    {
      "metadata": {
        "id": "5xwpNQBDBwYG",
        "colab_type": "code",
        "outputId": "9e86e50c-030e-402a-9b49-14136d6d9669",
        "colab": {
          "base_uri": "https://localhost:8080/",
          "height": 85
        }
      },
      "cell_type": "code",
      "source": [
        "print (heights_A[1:-1])"
      ],
      "execution_count": 43,
      "outputs": [
        {
          "output_type": "stream",
          "text": [
            "s2    158.4\n",
            "s3    167.6\n",
            "s4    156.2\n",
            "dtype: float64\n"
          ],
          "name": "stdout"
        }
      ]
    },
    {
      "metadata": {
        "id": "T7B6fFdyFbXm",
        "colab_type": "text"
      },
      "cell_type": "markdown",
      "source": [
        "**Accessing Data from a Data Frame**\n",
        "\n",
        "Pandas allows .loc, .iloc methods for selecting rows.\n",
        "\n",
        "Using square brackets ([ ]) is also allowed, especially for selecting columns."
      ]
    },
    {
      "metadata": {
        "id": "dqxR0g7Darnp",
        "colab_type": "text"
      },
      "cell_type": "markdown",
      "source": [
        "**Problem 2.3**\n",
        "\n",
        "Select the column of df_A, referring to student heights and store in variable height.\n",
        "\n",
        "Display the type of height"
      ]
    },
    {
      "metadata": {
        "id": "wETLIX8xawKq",
        "colab_type": "code",
        "outputId": "c3b11ea8-41f7-43a8-adc2-20fb8dc583fa",
        "colab": {
          "base_uri": "https://localhost:8080/",
          "height": 340
        }
      },
      "cell_type": "code",
      "source": [
        "print(df_A)\n",
        "\n",
        "height = df_A['heights']\n",
        "\n",
        "print('\\n\\nheight:')\n",
        "print(height)\n",
        "\n",
        "\n",
        "print('\\n\\n Type of Height')\n",
        "print(type(height))   ## You could also use print(type(_))   _ refers to latest one"
      ],
      "execution_count": 44,
      "outputs": [
        {
          "output_type": "stream",
          "text": [
            "    heights  weights\n",
            "s1    176.2     85.1\n",
            "s2    158.4     90.2\n",
            "s3    167.6     76.8\n",
            "s4    156.2     80.4\n",
            "s5    161.4     78.9\n",
            "\n",
            "\n",
            "height:\n",
            "s1    176.2\n",
            "s2    158.4\n",
            "s3    167.6\n",
            "s4    156.2\n",
            "s5    161.4\n",
            "Name: heights, dtype: float64\n",
            "\n",
            "\n",
            " Type of Height\n",
            "<class 'pandas.core.series.Series'>\n"
          ],
          "name": "stdout"
        }
      ]
    },
    {
      "metadata": {
        "id": "_JcKFslmbbpi",
        "colab_type": "text"
      },
      "cell_type": "markdown",
      "source": [
        "**Problem 2.4**\n",
        "\n",
        "Select the rows corresponding to students s1, s2 of df_A and display them."
      ]
    },
    {
      "metadata": {
        "id": "_zv21p1qbeTV",
        "colab_type": "code",
        "outputId": "1babf1ec-f3be-446d-ca08-1743ff52d20d",
        "colab": {
          "base_uri": "https://localhost:8080/",
          "height": 111
        }
      },
      "cell_type": "code",
      "source": [
        "df_A[:2]"
      ],
      "execution_count": 45,
      "outputs": [
        {
          "output_type": "execute_result",
          "data": {
            "text/html": [
              "<div>\n",
              "<style scoped>\n",
              "    .dataframe tbody tr th:only-of-type {\n",
              "        vertical-align: middle;\n",
              "    }\n",
              "\n",
              "    .dataframe tbody tr th {\n",
              "        vertical-align: top;\n",
              "    }\n",
              "\n",
              "    .dataframe thead th {\n",
              "        text-align: right;\n",
              "    }\n",
              "</style>\n",
              "<table border=\"1\" class=\"dataframe\">\n",
              "  <thead>\n",
              "    <tr style=\"text-align: right;\">\n",
              "      <th></th>\n",
              "      <th>heights</th>\n",
              "      <th>weights</th>\n",
              "    </tr>\n",
              "  </thead>\n",
              "  <tbody>\n",
              "    <tr>\n",
              "      <th>s1</th>\n",
              "      <td>176.2</td>\n",
              "      <td>85.1</td>\n",
              "    </tr>\n",
              "    <tr>\n",
              "      <th>s2</th>\n",
              "      <td>158.4</td>\n",
              "      <td>90.2</td>\n",
              "    </tr>\n",
              "  </tbody>\n",
              "</table>\n",
              "</div>"
            ],
            "text/plain": [
              "    heights  weights\n",
              "s1    176.2     85.1\n",
              "s2    158.4     90.2"
            ]
          },
          "metadata": {
            "tags": []
          },
          "execution_count": 45
        }
      ]
    },
    {
      "metadata": {
        "id": "W31q_xjKbvrT",
        "colab_type": "code",
        "outputId": "717468d7-a61a-4384-8d57-6eb950a72541",
        "colab": {
          "base_uri": "https://localhost:8080/",
          "height": 119
        }
      },
      "cell_type": "code",
      "source": [
        "print(df_A.loc['s1'])\n",
        "\n",
        "print(df_A.loc['s2'])"
      ],
      "execution_count": 46,
      "outputs": [
        {
          "output_type": "stream",
          "text": [
            "heights    176.2\n",
            "weights     85.1\n",
            "Name: s1, dtype: float64\n",
            "heights    158.4\n",
            "weights     90.2\n",
            "Name: s2, dtype: float64\n"
          ],
          "name": "stdout"
        }
      ]
    },
    {
      "metadata": {
        "id": "vKc23Au0cctS",
        "colab_type": "text"
      },
      "cell_type": "markdown",
      "source": [
        "**Problem 2.5**\n",
        "\n",
        "Select the rows corresponding to students s1, s2 and s5 of df_A in the order s2, s5, s1 and display them."
      ]
    },
    {
      "metadata": {
        "id": "6eiWYBXTci3p",
        "colab_type": "code",
        "outputId": "cf851729-a368-43e9-c337-858a9370dc4d",
        "colab": {
          "base_uri": "https://localhost:8080/",
          "height": 142
        }
      },
      "cell_type": "code",
      "source": [
        "df_A.loc[['s2', 's5', 's1']]"
      ],
      "execution_count": 47,
      "outputs": [
        {
          "output_type": "execute_result",
          "data": {
            "text/html": [
              "<div>\n",
              "<style scoped>\n",
              "    .dataframe tbody tr th:only-of-type {\n",
              "        vertical-align: middle;\n",
              "    }\n",
              "\n",
              "    .dataframe tbody tr th {\n",
              "        vertical-align: top;\n",
              "    }\n",
              "\n",
              "    .dataframe thead th {\n",
              "        text-align: right;\n",
              "    }\n",
              "</style>\n",
              "<table border=\"1\" class=\"dataframe\">\n",
              "  <thead>\n",
              "    <tr style=\"text-align: right;\">\n",
              "      <th></th>\n",
              "      <th>heights</th>\n",
              "      <th>weights</th>\n",
              "    </tr>\n",
              "  </thead>\n",
              "  <tbody>\n",
              "    <tr>\n",
              "      <th>s2</th>\n",
              "      <td>158.4</td>\n",
              "      <td>90.2</td>\n",
              "    </tr>\n",
              "    <tr>\n",
              "      <th>s5</th>\n",
              "      <td>161.4</td>\n",
              "      <td>78.9</td>\n",
              "    </tr>\n",
              "    <tr>\n",
              "      <th>s1</th>\n",
              "      <td>176.2</td>\n",
              "      <td>85.1</td>\n",
              "    </tr>\n",
              "  </tbody>\n",
              "</table>\n",
              "</div>"
            ],
            "text/plain": [
              "    heights  weights\n",
              "s2    158.4     90.2\n",
              "s5    161.4     78.9\n",
              "s1    176.2     85.1"
            ]
          },
          "metadata": {
            "tags": []
          },
          "execution_count": 47
        }
      ]
    },
    {
      "metadata": {
        "id": "ptWDIE7j5D_Q",
        "colab_type": "text"
      },
      "cell_type": "markdown",
      "source": [
        "**# Problem 2.6**\n",
        "\n",
        "whats the difference between loc and iloc?.\n",
        "\n",
        "\n",
        "loc gets rows (or columns) with particular labels from the index. iloc gets rows (or columns) at particular positions in the index (so it only takes integers). ix usually tries to behave like loc but falls back to behaving like iloc if a label is not present in the index."
      ]
    },
    {
      "metadata": {
        "id": "kSFemaEo0wu-",
        "colab_type": "code",
        "colab": {
          "base_uri": "https://localhost:8080/",
          "height": 119
        },
        "outputId": "d0cbbc0e-322d-464e-9cb5-ba39dd5494a1"
      },
      "cell_type": "code",
      "source": [
        "df_p26 = pd.DataFrame({'A':[34, 78, 54], 'B':[12, 67, 43]}, index=['r1', 'r2', 'r3'])\n",
        "\n",
        "print(df_p26.iloc[1:3])   #### taking integer index as input \n",
        " \n",
        "print(df_p26.loc['r2':'r3'])   #### taking given string index as input"
      ],
      "execution_count": 65,
      "outputs": [
        {
          "output_type": "stream",
          "text": [
            "     A   B\n",
            "r2  78  67\n",
            "r3  54  43\n",
            "     A   B\n",
            "r2  78  67\n",
            "r3  54  43\n"
          ],
          "name": "stdout"
        }
      ]
    },
    {
      "metadata": {
        "id": "CbaFI2GZ5sh-",
        "colab_type": "text"
      },
      "cell_type": "markdown",
      "source": [
        "**Problem 2.7**\n",
        "\n",
        "\n",
        "How do you add a new column 'C' to a data frame as similar to the previous one, with 3 rows"
      ]
    },
    {
      "metadata": {
        "id": "9EytxKBO54_C",
        "colab_type": "code",
        "colab": {
          "base_uri": "https://localhost:8080/",
          "height": 142
        },
        "outputId": "6e5b74ac-6a87-4d33-eb5f-d3e0cf9b4d86"
      },
      "cell_type": "code",
      "source": [
        "df_p26['C'] = [12, 98, 45]\n",
        "df_p26"
      ],
      "execution_count": 68,
      "outputs": [
        {
          "output_type": "execute_result",
          "data": {
            "text/html": [
              "<div>\n",
              "<style scoped>\n",
              "    .dataframe tbody tr th:only-of-type {\n",
              "        vertical-align: middle;\n",
              "    }\n",
              "\n",
              "    .dataframe tbody tr th {\n",
              "        vertical-align: top;\n",
              "    }\n",
              "\n",
              "    .dataframe thead th {\n",
              "        text-align: right;\n",
              "    }\n",
              "</style>\n",
              "<table border=\"1\" class=\"dataframe\">\n",
              "  <thead>\n",
              "    <tr style=\"text-align: right;\">\n",
              "      <th></th>\n",
              "      <th>A</th>\n",
              "      <th>B</th>\n",
              "      <th>C</th>\n",
              "    </tr>\n",
              "  </thead>\n",
              "  <tbody>\n",
              "    <tr>\n",
              "      <th>r1</th>\n",
              "      <td>34</td>\n",
              "      <td>12</td>\n",
              "      <td>12</td>\n",
              "    </tr>\n",
              "    <tr>\n",
              "      <th>r2</th>\n",
              "      <td>78</td>\n",
              "      <td>67</td>\n",
              "      <td>98</td>\n",
              "    </tr>\n",
              "    <tr>\n",
              "      <th>r3</th>\n",
              "      <td>54</td>\n",
              "      <td>43</td>\n",
              "      <td>45</td>\n",
              "    </tr>\n",
              "  </tbody>\n",
              "</table>\n",
              "</div>"
            ],
            "text/plain": [
              "     A   B   C\n",
              "r1  34  12  12\n",
              "r2  78  67  98\n",
              "r3  54  43  45"
            ]
          },
          "metadata": {
            "tags": []
          },
          "execution_count": 68
        }
      ]
    },
    {
      "metadata": {
        "id": "rXSEMzSL6MIj",
        "colab_type": "text"
      },
      "cell_type": "markdown",
      "source": [
        "**Problem 2.8**\n",
        "\n",
        "How do you delete a column from a data fram?"
      ]
    },
    {
      "metadata": {
        "id": "9hbHqRAF6R-n",
        "colab_type": "code",
        "colab": {
          "base_uri": "https://localhost:8080/",
          "height": 142
        },
        "outputId": "f617ac2b-278a-4448-d90f-3f7b936202a2"
      },
      "cell_type": "code",
      "source": [
        "del df_p26['B']\n",
        "df_p26"
      ],
      "execution_count": 69,
      "outputs": [
        {
          "output_type": "execute_result",
          "data": {
            "text/html": [
              "<div>\n",
              "<style scoped>\n",
              "    .dataframe tbody tr th:only-of-type {\n",
              "        vertical-align: middle;\n",
              "    }\n",
              "\n",
              "    .dataframe tbody tr th {\n",
              "        vertical-align: top;\n",
              "    }\n",
              "\n",
              "    .dataframe thead th {\n",
              "        text-align: right;\n",
              "    }\n",
              "</style>\n",
              "<table border=\"1\" class=\"dataframe\">\n",
              "  <thead>\n",
              "    <tr style=\"text-align: right;\">\n",
              "      <th></th>\n",
              "      <th>A</th>\n",
              "      <th>C</th>\n",
              "    </tr>\n",
              "  </thead>\n",
              "  <tbody>\n",
              "    <tr>\n",
              "      <th>r1</th>\n",
              "      <td>34</td>\n",
              "      <td>12</td>\n",
              "    </tr>\n",
              "    <tr>\n",
              "      <th>r2</th>\n",
              "      <td>78</td>\n",
              "      <td>98</td>\n",
              "    </tr>\n",
              "    <tr>\n",
              "      <th>r3</th>\n",
              "      <td>54</td>\n",
              "      <td>45</td>\n",
              "    </tr>\n",
              "  </tbody>\n",
              "</table>\n",
              "</div>"
            ],
            "text/plain": [
              "     A   C\n",
              "r1  34  12\n",
              "r2  78  98\n",
              "r3  54  45"
            ]
          },
          "metadata": {
            "tags": []
          },
          "execution_count": 69
        }
      ]
    },
    {
      "metadata": {
        "id": "e-do3ytA7dcM",
        "colab_type": "text"
      },
      "cell_type": "markdown",
      "source": [
        "# Knowing a Series\n",
        "\n",
        "It is possible to understand a Series better by using ***describe*** method.\n",
        "\n",
        "The method provides details like mean, std, etc. about a series."
      ]
    },
    {
      "metadata": {
        "id": "8aw0OzGn7qKh",
        "colab_type": "code",
        "colab": {
          "base_uri": "https://localhost:8080/",
          "height": 170
        },
        "outputId": "85e4aee5-cb49-4495-aa9b-e64b5d990f29"
      },
      "cell_type": "code",
      "source": [
        "temp = pd.Series(28 + 10*np.random.randn(10))\n",
        "\n",
        "print(temp.describe())"
      ],
      "execution_count": 71,
      "outputs": [
        {
          "output_type": "stream",
          "text": [
            "count    10.000000\n",
            "mean     24.824926\n",
            "std      12.243934\n",
            "min      -1.654203\n",
            "25%      16.894413\n",
            "50%      29.899773\n",
            "75%      33.180425\n",
            "max      37.426783\n",
            "dtype: float64\n"
          ],
          "name": "stdout"
        }
      ]
    },
    {
      "metadata": {
        "id": "6xe4amUS8I5m",
        "colab_type": "text"
      },
      "cell_type": "markdown",
      "source": [
        "# Knowing a DataFrame\n",
        "\n",
        "Two methods majorly ***info*** and ***describe*** can be used to know about the data, present in a data frame.\n",
        "\n",
        "- **describe** method by default provides details of **only** ***numeric*** fields.\n",
        "- You can use ***include*** argument to know about other columns.\n",
        "\n"
      ]
    },
    {
      "metadata": {
        "id": "ccBltcAT8QNK",
        "colab_type": "code",
        "colab": {
          "base_uri": "https://localhost:8080/",
          "height": 561
        },
        "outputId": "bc4a2578-6156-4151-8462-93a333d3229f"
      },
      "cell_type": "code",
      "source": [
        "df = pd.DataFrame({\n",
        "    'temp':pd.Series(28 + 10*np.random.randn(10)), \n",
        "    'rain':pd.Series(100 + 50*np.random.randn(10)),\n",
        "    'location':list('AAAAABBBBB')\n",
        "})\n",
        "\n",
        "print(df.info(), end= \"\\n\\n\")\n",
        "\n",
        "print(df.describe(), end='\\n\\n')\n",
        "\n",
        "print(df.describe(include=['object', 'float64']))  ### object is used to include location"
      ],
      "execution_count": 79,
      "outputs": [
        {
          "output_type": "stream",
          "text": [
            "<class 'pandas.core.frame.DataFrame'>\n",
            "RangeIndex: 10 entries, 0 to 9\n",
            "Data columns (total 3 columns):\n",
            "location    10 non-null object\n",
            "rain        10 non-null float64\n",
            "temp        10 non-null float64\n",
            "dtypes: float64(2), object(1)\n",
            "memory usage: 320.0+ bytes\n",
            "None\n",
            "\n",
            "             rain       temp\n",
            "count   10.000000  10.000000\n",
            "mean    82.432916  24.917036\n",
            "std     61.340448   8.849187\n",
            "min    -10.135947  11.152692\n",
            "25%     32.898724  17.700087\n",
            "50%     95.646498  25.403062\n",
            "75%    125.735164  32.196103\n",
            "max    161.618502  37.847981\n",
            "\n",
            "       location        rain       temp\n",
            "count        10   10.000000  10.000000\n",
            "unique        2         NaN        NaN\n",
            "top           A         NaN        NaN\n",
            "freq          5         NaN        NaN\n",
            "mean        NaN   82.432916  24.917036\n",
            "std         NaN   61.340448   8.849187\n",
            "min         NaN  -10.135947  11.152692\n",
            "25%         NaN   32.898724  17.700087\n",
            "50%         NaN   95.646498  25.403062\n",
            "75%         NaN  125.735164  32.196103\n",
            "max         NaN  161.618502  37.847981\n"
          ],
          "name": "stdout"
        }
      ]
    }
  ]
}