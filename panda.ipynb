{
  "nbformat": 4,
  "nbformat_minor": 0,
  "metadata": {
    "colab": {
      "name": "panda.ipynb",
      "version": "0.3.2",
      "provenance": [],
      "include_colab_link": true
    },
    "kernelspec": {
      "name": "python3",
      "display_name": "Python 3"
    }
  },
  "cells": [
    {
      "cell_type": "markdown",
      "metadata": {
        "id": "view-in-github",
        "colab_type": "text"
      },
      "source": [
        "<a href=\"https://colab.research.google.com/github/whatsupabhijit/py_rambling/blob/master/panda.ipynb\" target=\"_parent\"><img src=\"https://colab.research.google.com/assets/colab-badge.svg\" alt=\"Open In Colab\"/></a>"
      ]
    },
    {
      "metadata": {
        "id": "dOlkheh4Z1wX",
        "colab_type": "text"
      },
      "cell_type": "markdown",
      "source": [
        "# **Pandas**\n",
        "\n",
        "- `Pandas` is a popular Python data analysis tool.\n",
        "\n",
        "- It provides easy to use and highly efficient data structures.\n",
        "\n",
        "- These data structures deal with numeric or labeled data, stored in the form of tables"
      ]
    },
    {
      "metadata": {
        "id": "83ZJTVAYaPm3",
        "colab_type": "text"
      },
      "cell_type": "markdown",
      "source": [
        "**Data Structures in Pandas**\n",
        "\n",
        "Three fundamental data structures used in pandas are,\n",
        "\n",
        "- Series: A 1-D array.\n",
        "\n",
        "- Data Frame: A 2-D array or two or more Series joined together\n",
        "\n",
        "- Panel: A 3-D array\n"
      ]
    },
    {
      "metadata": {
        "id": "TTeZ84PhacEh",
        "colab_type": "text"
      },
      "cell_type": "markdown",
      "source": [
        "# **Series ** is a 1-D array, holding data values of a single variable, captured from multiple observations.\n",
        "\n",
        "Few examples are:\n",
        "\n",
        "1. Height of each student, belonging to a Class 'C'.''\n",
        "2. Amount of daily rainfall received at Station 'X', in July 2017\n",
        "3. Total sales of a product 'P' in every quarter of 2016."
      ]
    },
    {
      "metadata": {
        "id": "WCUBiTm9a6xR",
        "colab_type": "code",
        "colab": {
          "base_uri": "https://localhost:8080/",
          "height": 666
        },
        "outputId": "12e2765b-6448-4cd7-ae63-dd1bfe3ad733"
      },
      "cell_type": "code",
      "source": [
        "!pip install panda\n",
        "!pip install request"
      ],
      "execution_count": 2,
      "outputs": [
        {
          "output_type": "stream",
          "text": [
            "Collecting panda\n",
            "  Downloading https://files.pythonhosted.org/packages/79/03/74996420528fe488ce17c42b6400531c8067d7eb661c304fa3aa8fdad17c/panda-0.3.1.tar.gz\n",
            "Requirement already satisfied: setuptools in /usr/local/lib/python3.6/dist-packages (from panda) (40.6.2)\n",
            "Requirement already satisfied: requests in /usr/local/lib/python3.6/dist-packages (from panda) (2.18.4)\n",
            "Requirement already satisfied: chardet<3.1.0,>=3.0.2 in /usr/local/lib/python3.6/dist-packages (from requests->panda) (3.0.4)\n",
            "Requirement already satisfied: urllib3<1.23,>=1.21.1 in /usr/local/lib/python3.6/dist-packages (from requests->panda) (1.22)\n",
            "Requirement already satisfied: idna<2.7,>=2.5 in /usr/local/lib/python3.6/dist-packages (from requests->panda) (2.6)\n",
            "Requirement already satisfied: certifi>=2017.4.17 in /usr/local/lib/python3.6/dist-packages (from requests->panda) (2018.10.15)\n",
            "Building wheels for collected packages: panda\n",
            "  Running setup.py bdist_wheel for panda ... \u001b[?25l-\b \bdone\n",
            "\u001b[?25h  Stored in directory: /root/.cache/pip/wheels/c6/c8/45/06ed898b0bb401c1ff207dbb05b1587ff28860a236d98b1996\n",
            "Successfully built panda\n",
            "Installing collected packages: panda\n",
            "Successfully installed panda-0.3.1\n",
            "Collecting request\n",
            "  Downloading https://files.pythonhosted.org/packages/b8/13/b88a65f14470f3e17d72a1a930f173b36717c211685dbbadfc2e5ba21303/request-1.0.2.tar.gz\n",
            "Collecting get (from request)\n",
            "  Downloading https://files.pythonhosted.org/packages/dc/bd/264e65844b66e2b5fa829f3f6c526056ee14a0508fb6b454e0af4105a21c/get-1.0.3.tar.gz\n",
            "Collecting post (from request)\n",
            "  Downloading https://files.pythonhosted.org/packages/7f/ea/ddf22395dcee7a45b7ab7564a087725cafc778f421268814cd8a5ec9ffdf/post-1.0.2.tar.gz\n",
            "Requirement already satisfied: setuptools in /usr/local/lib/python3.6/dist-packages (from request) (40.6.2)\n",
            "Collecting query_string (from get->request)\n",
            "  Downloading https://files.pythonhosted.org/packages/be/2d/719132c49c715743afff3781e04489cd21189914a563b56837f891fd02ac/query_string-1.0.2.tar.gz\n",
            "Collecting public (from query_string->get->request)\n",
            "  Downloading https://files.pythonhosted.org/packages/0e/45/1a8ab7780a60b8dbfd030b3b8d8515f80f4ff5c6a1b39f4fcb956575f421/public-2.0.1-py2.py3-none-any.whl\n",
            "Building wheels for collected packages: request, get, post, query-string\n",
            "  Running setup.py bdist_wheel for request ... \u001b[?25l-\b \bdone\n",
            "\u001b[?25h  Stored in directory: /root/.cache/pip/wheels/2d/97/9e/52761f5f62936056448f467ea6e60f13405a4d2c95fd98d141\n",
            "  Running setup.py bdist_wheel for get ... \u001b[?25l-\b \bdone\n",
            "\u001b[?25h  Stored in directory: /root/.cache/pip/wheels/bf/93/96/706b669b49bb26e647439e1539f151b2b2df889327bcac0c22\n",
            "  Running setup.py bdist_wheel for post ... \u001b[?25l-\b \bdone\n",
            "\u001b[?25h  Stored in directory: /root/.cache/pip/wheels/0b/43/70/98791de554b42699fef279ec02ad5f9bd088cf6a97bb60bb3e\n",
            "  Running setup.py bdist_wheel for query-string ... \u001b[?25l-\b \bdone\n",
            "\u001b[?25h  Stored in directory: /root/.cache/pip/wheels/78/2f/5d/0cacc1571db01f715f3173cd906aa21abde2864857397b759f\n",
            "Successfully built request get post query-string\n",
            "Installing collected packages: public, query-string, get, post, request\n",
            "Successfully installed get-1.0.3 post-1.0.2 public-2.0.1 query-string-1.0.2 request-1.0.2\n"
          ],
          "name": "stdout"
        }
      ]
    },
    {
      "metadata": {
        "id": "lyFMslLOFc_G",
        "colab_type": "code",
        "colab": {}
      },
      "cell_type": "code",
      "source": [
        "import numpy as np\n",
        "import pandas as pd   # mind the extra 's' in pandas as importing panda alone gives you error"
      ],
      "execution_count": 0,
      "outputs": []
    },
    {
      "metadata": {
        "id": "RSomb7xgbryo",
        "colab_type": "code",
        "outputId": "0111e407-1c4e-4b2a-963a-3f1983d97d2c",
        "colab": {
          "base_uri": "https://localhost:8080/",
          "height": 85
        }
      },
      "cell_type": "code",
      "source": [
        "## creating panda series from a dictionary\n",
        "\n",
        "d = {'Math': 180, 'Physics': 157, 'Chemistry:': 157}\n",
        "pd.Series(d)"
      ],
      "execution_count": 4,
      "outputs": [
        {
          "output_type": "execute_result",
          "data": {
            "text/plain": [
              "Chemistry:    157\n",
              "Math          180\n",
              "Physics       157\n",
              "dtype: int64"
            ]
          },
          "metadata": {
            "tags": []
          },
          "execution_count": 4
        }
      ]
    },
    {
      "metadata": {
        "id": "N9qf3zcDcRKJ",
        "colab_type": "code",
        "outputId": "da3a45b7-23ee-4303-e68a-da85682b5a29",
        "colab": {
          "base_uri": "https://localhost:8080/",
          "height": 85
        }
      },
      "cell_type": "code",
      "source": [
        "# Creating a panda series from numpy\n",
        "\n",
        "n = np.random.randn(3) * -100\n",
        "\n",
        "pd.Series(n, index = ['Math', 'Physics', 'Chemistry'])"
      ],
      "execution_count": 5,
      "outputs": [
        {
          "output_type": "execute_result",
          "data": {
            "text/plain": [
              "Math         24.815602\n",
              "Physics     -13.187098\n",
              "Chemistry   -44.146338\n",
              "dtype: float64"
            ]
          },
          "metadata": {
            "tags": []
          },
          "execution_count": 5
        }
      ]
    },
    {
      "metadata": {
        "id": "To1jAxG6dEPK",
        "colab_type": "text"
      },
      "cell_type": "markdown",
      "source": [
        "**Problem 1.1**\n",
        "Create a series named heights_A with values 176.2, 158.4, 167.6, 156.2, and 161.4, which represent heights of 5 students of class A.\n",
        "\n",
        "Label each student as s1, s2, s3, s4, and s5.\n",
        "\n",
        "Determine the shape of heights_A and display it."
      ]
    },
    {
      "metadata": {
        "id": "LGmH7R2CdC5R",
        "colab_type": "code",
        "outputId": "d5b4e35b-487a-422e-9754-900ae15f03e9",
        "colab": {
          "base_uri": "https://localhost:8080/",
          "height": 34
        }
      },
      "cell_type": "code",
      "source": [
        "ht = [176.2, 158.4, 167.6, 156.2, 161.4]\n",
        "\n",
        "heights_A = pd.Series(ht, index = ['s1', 's2', 's3', 's4', 's5'])\n",
        "heights_A\n",
        "\n",
        "heights_A.shape"
      ],
      "execution_count": 6,
      "outputs": [
        {
          "output_type": "execute_result",
          "data": {
            "text/plain": [
              "(5,)"
            ]
          },
          "metadata": {
            "tags": []
          },
          "execution_count": 6
        }
      ]
    },
    {
      "metadata": {
        "id": "h1uesjcaeZci",
        "colab_type": "text"
      },
      "cell_type": "markdown",
      "source": [
        "**Problem 1.2**\n",
        "Create a series named weights_A with values 85.1, 90.2, 76.8, 80.4, and 78.9, which represent weights of 5 students of class A.\n",
        "\n",
        "Label each student as s1, s2, s3, s4, and s5.\n",
        "\n",
        "Determine data type of weights_A and display it.\n",
        "\n",
        "Hint: Make use of Series method available in pandas library."
      ]
    },
    {
      "metadata": {
        "id": "JuedULX3edR3",
        "colab_type": "code",
        "outputId": "2c62c75c-fb65-4c40-f91c-7fc53748f8de",
        "colab": {
          "base_uri": "https://localhost:8080/",
          "height": 34
        }
      },
      "cell_type": "code",
      "source": [
        "wt = [85.1, 90.2, 76.8, 80.4,  78.9,]\n",
        "weights_A = pd.Series(wt, index = ['s1', 's2', 's3', 's4', 's5'])\n",
        "\n",
        "weights_A\n",
        "\n",
        "weights_A.shape"
      ],
      "execution_count": 7,
      "outputs": [
        {
          "output_type": "execute_result",
          "data": {
            "text/plain": [
              "(5,)"
            ]
          },
          "metadata": {
            "tags": []
          },
          "execution_count": 7
        }
      ]
    },
    {
      "metadata": {
        "id": "-YfwJSqBfS8I",
        "colab_type": "text"
      },
      "cell_type": "markdown",
      "source": [
        "# A ***Data Frame*** is 2-D shaped and contains data of diff parameters, captured from multiple observations.\n",
        "\n",
        "Each **observation** is represented by a single **row**, and each **parameter** by a single **column**.\n",
        "\n",
        "Each column can hold different data type.\n",
        "Few examples are:\n",
        "\n",
        "- Height and Weight of all students, belonging to a Class 'C'.\n",
        "- Daily Rainfall received and Average Temperature of a location 'X', in the year 2017.\n",
        "\n",
        "---\n",
        "\n"
      ]
    },
    {
      "metadata": {
        "id": "mdLX5rrSgtsw",
        "colab_type": "code",
        "outputId": "9f8464b4-d5bd-4909-d91b-b1c6066a543f",
        "colab": {
          "base_uri": "https://localhost:8080/",
          "height": 142
        }
      },
      "cell_type": "code",
      "source": [
        "## Data frame created from pd.Series\n",
        "\n",
        "s = {'subject': pd.Series(['Math', 'Physics', 'Chemistry']), 'marks': pd.Series([100, 190, 185]) }\n",
        "df = pd.DataFrame(s)\n",
        "df"
      ],
      "execution_count": 8,
      "outputs": [
        {
          "output_type": "execute_result",
          "data": {
            "text/html": [
              "<div>\n",
              "<style scoped>\n",
              "    .dataframe tbody tr th:only-of-type {\n",
              "        vertical-align: middle;\n",
              "    }\n",
              "\n",
              "    .dataframe tbody tr th {\n",
              "        vertical-align: top;\n",
              "    }\n",
              "\n",
              "    .dataframe thead th {\n",
              "        text-align: right;\n",
              "    }\n",
              "</style>\n",
              "<table border=\"1\" class=\"dataframe\">\n",
              "  <thead>\n",
              "    <tr style=\"text-align: right;\">\n",
              "      <th></th>\n",
              "      <th>marks</th>\n",
              "      <th>subject</th>\n",
              "    </tr>\n",
              "  </thead>\n",
              "  <tbody>\n",
              "    <tr>\n",
              "      <th>0</th>\n",
              "      <td>100</td>\n",
              "      <td>Math</td>\n",
              "    </tr>\n",
              "    <tr>\n",
              "      <th>1</th>\n",
              "      <td>190</td>\n",
              "      <td>Physics</td>\n",
              "    </tr>\n",
              "    <tr>\n",
              "      <th>2</th>\n",
              "      <td>185</td>\n",
              "      <td>Chemistry</td>\n",
              "    </tr>\n",
              "  </tbody>\n",
              "</table>\n",
              "</div>"
            ],
            "text/plain": [
              "   marks    subject\n",
              "0    100       Math\n",
              "1    190    Physics\n",
              "2    185  Chemistry"
            ]
          },
          "metadata": {
            "tags": []
          },
          "execution_count": 8
        }
      ]
    },
    {
      "metadata": {
        "id": "h3-keNNfjqwu",
        "colab_type": "code",
        "outputId": "d3008e49-0930-43cf-f835-186a5e1389d4",
        "colab": {
          "base_uri": "https://localhost:8080/",
          "height": 142
        }
      },
      "cell_type": "code",
      "source": [
        "## Data frame created from list\n",
        "\n",
        "s = {'subject': ['Math', 'Physics', 'Chemistry'], 'marks': [100, 190, 185] }\n",
        "df = pd.DataFrame(s)\n",
        "df"
      ],
      "execution_count": 9,
      "outputs": [
        {
          "output_type": "execute_result",
          "data": {
            "text/html": [
              "<div>\n",
              "<style scoped>\n",
              "    .dataframe tbody tr th:only-of-type {\n",
              "        vertical-align: middle;\n",
              "    }\n",
              "\n",
              "    .dataframe tbody tr th {\n",
              "        vertical-align: top;\n",
              "    }\n",
              "\n",
              "    .dataframe thead th {\n",
              "        text-align: right;\n",
              "    }\n",
              "</style>\n",
              "<table border=\"1\" class=\"dataframe\">\n",
              "  <thead>\n",
              "    <tr style=\"text-align: right;\">\n",
              "      <th></th>\n",
              "      <th>marks</th>\n",
              "      <th>subject</th>\n",
              "    </tr>\n",
              "  </thead>\n",
              "  <tbody>\n",
              "    <tr>\n",
              "      <th>0</th>\n",
              "      <td>100</td>\n",
              "      <td>Math</td>\n",
              "    </tr>\n",
              "    <tr>\n",
              "      <th>1</th>\n",
              "      <td>190</td>\n",
              "      <td>Physics</td>\n",
              "    </tr>\n",
              "    <tr>\n",
              "      <th>2</th>\n",
              "      <td>185</td>\n",
              "      <td>Chemistry</td>\n",
              "    </tr>\n",
              "  </tbody>\n",
              "</table>\n",
              "</div>"
            ],
            "text/plain": [
              "   marks    subject\n",
              "0    100       Math\n",
              "1    190    Physics\n",
              "2    185  Chemistry"
            ]
          },
          "metadata": {
            "tags": []
          },
          "execution_count": 9
        }
      ]
    },
    {
      "metadata": {
        "id": "lmyIM9YZe6uI",
        "colab_type": "text"
      },
      "cell_type": "markdown",
      "source": [
        "**Problem 1.3**\n",
        "Create a Data Frame named df_A, which holds the height and weight of five students namely s1, s2, s3, s4 and s5.\n",
        "\n",
        "Label the columns as Student_height and Student_weight respectively.\n",
        "\n",
        "Display index values of df_A.\n",
        "\n",
        "Hint: Make use of DataFrame method in pandas, and also the series heights_A, weights_A created in previous problems."
      ]
    },
    {
      "metadata": {
        "id": "coZkxy3ytvwR",
        "colab_type": "code",
        "outputId": "55695584-8fa1-4968-ac32-9018fbc9c36e",
        "colab": {
          "base_uri": "https://localhost:8080/",
          "height": 204
        }
      },
      "cell_type": "code",
      "source": [
        "sf_dict = {'heights': heights_A, 'weights': weights_A }\n",
        "df_A = pd.DataFrame(sf_dict)\n",
        "df_A"
      ],
      "execution_count": 10,
      "outputs": [
        {
          "output_type": "execute_result",
          "data": {
            "text/html": [
              "<div>\n",
              "<style scoped>\n",
              "    .dataframe tbody tr th:only-of-type {\n",
              "        vertical-align: middle;\n",
              "    }\n",
              "\n",
              "    .dataframe tbody tr th {\n",
              "        vertical-align: top;\n",
              "    }\n",
              "\n",
              "    .dataframe thead th {\n",
              "        text-align: right;\n",
              "    }\n",
              "</style>\n",
              "<table border=\"1\" class=\"dataframe\">\n",
              "  <thead>\n",
              "    <tr style=\"text-align: right;\">\n",
              "      <th></th>\n",
              "      <th>heights</th>\n",
              "      <th>weights</th>\n",
              "    </tr>\n",
              "  </thead>\n",
              "  <tbody>\n",
              "    <tr>\n",
              "      <th>s1</th>\n",
              "      <td>176.2</td>\n",
              "      <td>85.1</td>\n",
              "    </tr>\n",
              "    <tr>\n",
              "      <th>s2</th>\n",
              "      <td>158.4</td>\n",
              "      <td>90.2</td>\n",
              "    </tr>\n",
              "    <tr>\n",
              "      <th>s3</th>\n",
              "      <td>167.6</td>\n",
              "      <td>76.8</td>\n",
              "    </tr>\n",
              "    <tr>\n",
              "      <th>s4</th>\n",
              "      <td>156.2</td>\n",
              "      <td>80.4</td>\n",
              "    </tr>\n",
              "    <tr>\n",
              "      <th>s5</th>\n",
              "      <td>161.4</td>\n",
              "      <td>78.9</td>\n",
              "    </tr>\n",
              "  </tbody>\n",
              "</table>\n",
              "</div>"
            ],
            "text/plain": [
              "    heights  weights\n",
              "s1    176.2     85.1\n",
              "s2    158.4     90.2\n",
              "s3    167.6     76.8\n",
              "s4    156.2     80.4\n",
              "s5    161.4     78.9"
            ]
          },
          "metadata": {
            "tags": []
          },
          "execution_count": 10
        }
      ]
    },
    {
      "metadata": {
        "id": "-_GQmVSnuY_N",
        "colab_type": "text"
      },
      "cell_type": "markdown",
      "source": [
        "**Problem 1.4**\n",
        "Create two Series named heights_B and weights_B from two random 1-D numpy arrays with five elements each.\n",
        "\n",
        "The first array is obtained from the normal distribution of mean 170.0 and standard deviation 25.0.\n",
        "\n",
        "The second array is derived from the normal distribution of mean 75.0 and standard deviation 12.0.\n",
        "\n",
        "Label both Series elements with s1, s2, s3, s4 and s5."
      ]
    },
    {
      "metadata": {
        "id": "71uugSAruYNt",
        "colab_type": "code",
        "outputId": "de74043e-17f4-4be6-f8d7-7bf408526f67",
        "colab": {
          "base_uri": "https://localhost:8080/",
          "height": 221
        }
      },
      "cell_type": "code",
      "source": [
        "heights_B = pd.Series(170 + 25 * np.random.randn(5), index = ['s1', 's2', 's3', 's4', 's5'])\n",
        "weights_B = pd.Series(75  + 12 * np.random.randn(5), index = ['s1', 's2', 's3', 's4', 's5'])\n",
        "\n",
        "print(heights_B)\n",
        "\n",
        "print(weights_B)"
      ],
      "execution_count": 11,
      "outputs": [
        {
          "output_type": "stream",
          "text": [
            "s1    111.187747\n",
            "s2    210.780859\n",
            "s3    156.852524\n",
            "s4    186.788002\n",
            "s5    225.075621\n",
            "dtype: float64\n",
            "s1    67.759492\n",
            "s2    64.008790\n",
            "s3    64.454443\n",
            "s4    71.132318\n",
            "s5    57.217313\n",
            "dtype: float64\n"
          ],
          "name": "stdout"
        }
      ]
    },
    {
      "metadata": {
        "id": "_y_ywZOOwA6t",
        "colab_type": "text"
      },
      "cell_type": "markdown",
      "source": [
        "**Problem 1.5**\n",
        "Create a Data Frame df_B holding height and weight of students s1, s2, s3, s4 and s5 belonging to class B.\n",
        "\n",
        "Label the columns as Student_height and Student_weight respectively.\n",
        "\n",
        "Display the column names of df_B."
      ]
    },
    {
      "metadata": {
        "id": "ydERgqpkwFjN",
        "colab_type": "code",
        "outputId": "f53d9d44-0ce9-421b-b25b-53f7c7918c53",
        "colab": {
          "base_uri": "https://localhost:8080/",
          "height": 204
        }
      },
      "cell_type": "code",
      "source": [
        "df_B = pd.DataFrame({'heights': heights_B, 'weigts': weights_B})\n",
        "df_B"
      ],
      "execution_count": 12,
      "outputs": [
        {
          "output_type": "execute_result",
          "data": {
            "text/html": [
              "<div>\n",
              "<style scoped>\n",
              "    .dataframe tbody tr th:only-of-type {\n",
              "        vertical-align: middle;\n",
              "    }\n",
              "\n",
              "    .dataframe tbody tr th {\n",
              "        vertical-align: top;\n",
              "    }\n",
              "\n",
              "    .dataframe thead th {\n",
              "        text-align: right;\n",
              "    }\n",
              "</style>\n",
              "<table border=\"1\" class=\"dataframe\">\n",
              "  <thead>\n",
              "    <tr style=\"text-align: right;\">\n",
              "      <th></th>\n",
              "      <th>heights</th>\n",
              "      <th>weigts</th>\n",
              "    </tr>\n",
              "  </thead>\n",
              "  <tbody>\n",
              "    <tr>\n",
              "      <th>s1</th>\n",
              "      <td>111.187747</td>\n",
              "      <td>67.759492</td>\n",
              "    </tr>\n",
              "    <tr>\n",
              "      <th>s2</th>\n",
              "      <td>210.780859</td>\n",
              "      <td>64.008790</td>\n",
              "    </tr>\n",
              "    <tr>\n",
              "      <th>s3</th>\n",
              "      <td>156.852524</td>\n",
              "      <td>64.454443</td>\n",
              "    </tr>\n",
              "    <tr>\n",
              "      <th>s4</th>\n",
              "      <td>186.788002</td>\n",
              "      <td>71.132318</td>\n",
              "    </tr>\n",
              "    <tr>\n",
              "      <th>s5</th>\n",
              "      <td>225.075621</td>\n",
              "      <td>57.217313</td>\n",
              "    </tr>\n",
              "  </tbody>\n",
              "</table>\n",
              "</div>"
            ],
            "text/plain": [
              "       heights     weigts\n",
              "s1  111.187747  67.759492\n",
              "s2  210.780859  64.008790\n",
              "s3  156.852524  64.454443\n",
              "s4  186.788002  71.132318\n",
              "s5  225.075621  57.217313"
            ]
          },
          "metadata": {
            "tags": []
          },
          "execution_count": 12
        }
      ]
    },
    {
      "metadata": {
        "id": "YL4siMbofqwZ",
        "colab_type": "text"
      },
      "cell_type": "markdown",
      "source": [
        "# A **Panel** holds **two** or **more** Data **Frames** together as a single unit.\n",
        "\n",
        "Few examples are:\n",
        "\n",
        "- Height and Weight of all students, belonging to 3 Classes 'A', 'B', and 'C'.\n",
        "- Daily Rainfall received and Average Temperatures of 3 locations 'X', 'Y', and 'Z' captured in the year 2017.\n",
        "\n",
        "---\n",
        "\n"
      ]
    },
    {
      "metadata": {
        "id": "nCwHt6x6wwoM",
        "colab_type": "text"
      },
      "cell_type": "markdown",
      "source": [
        "**Problem 1.6**\n",
        "Create a panel p, which holds previously created two data frames df_A and df_B.\n",
        "\n",
        "Label the first data frame as ClassA and second as ClassB.\n",
        "\n",
        "\n",
        "Determine the shape of panel p and display it."
      ]
    },
    {
      "metadata": {
        "id": "rJcUK9wDyV1e",
        "colab_type": "code",
        "outputId": "f6c1ad0e-5eb3-4441-ac18-dad09cb5a014",
        "colab": {
          "base_uri": "https://localhost:8080/",
          "height": 493
        }
      },
      "cell_type": "code",
      "source": [
        "df_panel = pd.Panel({'ClassA': df_A, 'ClassB': df_B})\n",
        "\n",
        "print('Shape:-')\n",
        "print(df_panel.shape)\n",
        "\n",
        "print('\\n\\nClassA')\n",
        "print(df_panel.ClassA)\n",
        "\n",
        "\n",
        "print('\\n\\nClassB')\n",
        "print(df_panel.ClassB)\n",
        "\n",
        "print(\"\\n\\ndf_panel:- \")\n",
        "print(df_panel)"
      ],
      "execution_count": 13,
      "outputs": [
        {
          "output_type": "stream",
          "text": [
            "Shape:-\n",
            "(2, 5, 3)\n",
            "\n",
            "\n",
            "ClassA\n",
            "    heights  weights  weigts\n",
            "s1    176.2     85.1     NaN\n",
            "s2    158.4     90.2     NaN\n",
            "s3    167.6     76.8     NaN\n",
            "s4    156.2     80.4     NaN\n",
            "s5    161.4     78.9     NaN\n",
            "\n",
            "\n",
            "ClassB\n",
            "       heights  weights     weigts\n",
            "s1  111.187747      NaN  67.759492\n",
            "s2  210.780859      NaN  64.008790\n",
            "s3  156.852524      NaN  64.454443\n",
            "s4  186.788002      NaN  71.132318\n",
            "s5  225.075621      NaN  57.217313\n",
            "\n",
            "\n",
            "df_panel:- \n",
            "<class 'pandas.core.panel.Panel'>\n",
            "Dimensions: 2 (items) x 5 (major_axis) x 3 (minor_axis)\n",
            "Items axis: ClassA to ClassB\n",
            "Major_axis axis: s1 to s5\n",
            "Minor_axis axis: heights to weigts\n"
          ],
          "name": "stdout"
        }
      ]
    },
    {
      "metadata": {
        "id": "LO60AuW3_YGw",
        "colab_type": "text"
      },
      "cell_type": "markdown",
      "source": [
        "# Data Access\n",
        "\n",
        "Data Access refers to extracting data present in defined data structures.\n",
        "\n",
        "Pandas provide utilities like **loc** and **iloc** to get data from a Series, a DataFrame, or a Panel."
      ]
    },
    {
      "metadata": {
        "id": "IgxsSACKAQm3",
        "colab_type": "text"
      },
      "cell_type": "markdown",
      "source": [
        "**Problem 2.1**\n",
        "\n",
        "Print the second element of series heights_A, as a string."
      ]
    },
    {
      "metadata": {
        "id": "8-wyuvybAXZJ",
        "colab_type": "code",
        "colab": {
          "base_uri": "https://localhost:8080/",
          "height": 68
        },
        "outputId": "b64c6a27-4017-447f-a59b-e18c044a5f94"
      },
      "cell_type": "code",
      "source": [
        "#Using index\n",
        "print (heights_A[1])\n",
        "\n",
        "#Using get() and index\n",
        "print (heights_A.get(1))\n",
        "\n",
        "\n",
        "#Using get() and index variable name\n",
        "print (heights_A.get('s2'))"
      ],
      "execution_count": 19,
      "outputs": [
        {
          "output_type": "stream",
          "text": [
            "158.4\n",
            "158.4\n",
            "158.4\n"
          ],
          "name": "stdout"
        }
      ]
    },
    {
      "metadata": {
        "id": "vYqQObffBtdg",
        "colab_type": "text"
      },
      "cell_type": "markdown",
      "source": [
        "**Problem 2.2**\n",
        "\n",
        "Obtain central three elements of Series heights_A."
      ]
    },
    {
      "metadata": {
        "id": "5xwpNQBDBwYG",
        "colab_type": "code",
        "colab": {
          "base_uri": "https://localhost:8080/",
          "height": 85
        },
        "outputId": "998ff7b3-83b2-4b76-ddcd-27bf465e4f59"
      },
      "cell_type": "code",
      "source": [
        "print (heights_A[1:-1])"
      ],
      "execution_count": 21,
      "outputs": [
        {
          "output_type": "stream",
          "text": [
            "s2    158.4\n",
            "s3    167.6\n",
            "s4    156.2\n",
            "dtype: float64\n"
          ],
          "name": "stdout"
        }
      ]
    },
    {
      "metadata": {
        "id": "T7B6fFdyFbXm",
        "colab_type": "text"
      },
      "cell_type": "markdown",
      "source": [
        "**Accessing Data from a Data Frame**\n",
        "\n",
        "Pandas allows .loc, .iloc methods for selecting rows.\n",
        "\n",
        "Using square brackets ([ ]) is also allowed, especially for selecting columns."
      ]
    },
    {
      "metadata": {
        "id": "dqxR0g7Darnp",
        "colab_type": "text"
      },
      "cell_type": "markdown",
      "source": [
        "**Problem 2.3**\n",
        "\n",
        "Select the column of df_A, referring to student heights and store in variable height.\n",
        "\n",
        "Display the type of height"
      ]
    },
    {
      "metadata": {
        "id": "wETLIX8xawKq",
        "colab_type": "code",
        "colab": {
          "base_uri": "https://localhost:8080/",
          "height": 340
        },
        "outputId": "5c64ec81-c170-4517-f37d-d432da082aa5"
      },
      "cell_type": "code",
      "source": [
        "print(df_A)\n",
        "\n",
        "height = df_A['heights']\n",
        "\n",
        "print('\\n\\nheight:')\n",
        "print(height)\n",
        "\n",
        "\n",
        "print('\\n\\n Type of Height')\n",
        "print(type(height))   ## You could also use print(type(_))   _ refers to latest one"
      ],
      "execution_count": 29,
      "outputs": [
        {
          "output_type": "stream",
          "text": [
            "    heights  weights\n",
            "s1    176.2     85.1\n",
            "s2    158.4     90.2\n",
            "s3    167.6     76.8\n",
            "s4    156.2     80.4\n",
            "s5    161.4     78.9\n",
            "\n",
            "\n",
            "height:\n",
            "s1    176.2\n",
            "s2    158.4\n",
            "s3    167.6\n",
            "s4    156.2\n",
            "s5    161.4\n",
            "Name: heights, dtype: float64\n",
            "\n",
            "\n",
            " Type of Height\n",
            "<class 'pandas.core.series.Series'>\n"
          ],
          "name": "stdout"
        }
      ]
    },
    {
      "metadata": {
        "id": "_JcKFslmbbpi",
        "colab_type": "text"
      },
      "cell_type": "markdown",
      "source": [
        "**Problem 2.4**\n",
        "\n",
        "Select the rows corresponding to students s1, s2 of df_A and display them."
      ]
    },
    {
      "metadata": {
        "id": "_zv21p1qbeTV",
        "colab_type": "code",
        "colab": {
          "base_uri": "https://localhost:8080/",
          "height": 111
        },
        "outputId": "47d47881-e439-485e-a38d-c63ee73b7ec4"
      },
      "cell_type": "code",
      "source": [
        "df_A[:2]"
      ],
      "execution_count": 34,
      "outputs": [
        {
          "output_type": "execute_result",
          "data": {
            "text/html": [
              "<div>\n",
              "<style scoped>\n",
              "    .dataframe tbody tr th:only-of-type {\n",
              "        vertical-align: middle;\n",
              "    }\n",
              "\n",
              "    .dataframe tbody tr th {\n",
              "        vertical-align: top;\n",
              "    }\n",
              "\n",
              "    .dataframe thead th {\n",
              "        text-align: right;\n",
              "    }\n",
              "</style>\n",
              "<table border=\"1\" class=\"dataframe\">\n",
              "  <thead>\n",
              "    <tr style=\"text-align: right;\">\n",
              "      <th></th>\n",
              "      <th>heights</th>\n",
              "      <th>weights</th>\n",
              "    </tr>\n",
              "  </thead>\n",
              "  <tbody>\n",
              "    <tr>\n",
              "      <th>s1</th>\n",
              "      <td>176.2</td>\n",
              "      <td>85.1</td>\n",
              "    </tr>\n",
              "    <tr>\n",
              "      <th>s2</th>\n",
              "      <td>158.4</td>\n",
              "      <td>90.2</td>\n",
              "    </tr>\n",
              "  </tbody>\n",
              "</table>\n",
              "</div>"
            ],
            "text/plain": [
              "    heights  weights\n",
              "s1    176.2     85.1\n",
              "s2    158.4     90.2"
            ]
          },
          "metadata": {
            "tags": []
          },
          "execution_count": 34
        }
      ]
    },
    {
      "metadata": {
        "id": "W31q_xjKbvrT",
        "colab_type": "code",
        "colab": {
          "base_uri": "https://localhost:8080/",
          "height": 119
        },
        "outputId": "708ade81-28c0-4ff2-f3ea-557b8bbda538"
      },
      "cell_type": "code",
      "source": [
        "print(df_A.loc['s1'])\n",
        "\n",
        "print(df_A.loc['s2'])"
      ],
      "execution_count": 38,
      "outputs": [
        {
          "output_type": "stream",
          "text": [
            "heights    176.2\n",
            "weights     85.1\n",
            "Name: s1, dtype: float64\n",
            "heights    158.4\n",
            "weights     90.2\n",
            "Name: s2, dtype: float64\n"
          ],
          "name": "stdout"
        }
      ]
    },
    {
      "metadata": {
        "id": "vKc23Au0cctS",
        "colab_type": "text"
      },
      "cell_type": "markdown",
      "source": [
        "**Problem 2.5**\n",
        "\n",
        "Select the rows corresponding to students s1, s2 and s5 of df_A in the order s2, s5, s1 and display them."
      ]
    },
    {
      "metadata": {
        "id": "6eiWYBXTci3p",
        "colab_type": "code",
        "colab": {
          "base_uri": "https://localhost:8080/",
          "height": 142
        },
        "outputId": "103b5fbe-d7f5-4848-d795-a8bf73879a89"
      },
      "cell_type": "code",
      "source": [
        "df_A.loc[['s2', 's5', 's1']]"
      ],
      "execution_count": 42,
      "outputs": [
        {
          "output_type": "execute_result",
          "data": {
            "text/html": [
              "<div>\n",
              "<style scoped>\n",
              "    .dataframe tbody tr th:only-of-type {\n",
              "        vertical-align: middle;\n",
              "    }\n",
              "\n",
              "    .dataframe tbody tr th {\n",
              "        vertical-align: top;\n",
              "    }\n",
              "\n",
              "    .dataframe thead th {\n",
              "        text-align: right;\n",
              "    }\n",
              "</style>\n",
              "<table border=\"1\" class=\"dataframe\">\n",
              "  <thead>\n",
              "    <tr style=\"text-align: right;\">\n",
              "      <th></th>\n",
              "      <th>heights</th>\n",
              "      <th>weights</th>\n",
              "    </tr>\n",
              "  </thead>\n",
              "  <tbody>\n",
              "    <tr>\n",
              "      <th>s2</th>\n",
              "      <td>158.4</td>\n",
              "      <td>90.2</td>\n",
              "    </tr>\n",
              "    <tr>\n",
              "      <th>s5</th>\n",
              "      <td>161.4</td>\n",
              "      <td>78.9</td>\n",
              "    </tr>\n",
              "    <tr>\n",
              "      <th>s1</th>\n",
              "      <td>176.2</td>\n",
              "      <td>85.1</td>\n",
              "    </tr>\n",
              "  </tbody>\n",
              "</table>\n",
              "</div>"
            ],
            "text/plain": [
              "    heights  weights\n",
              "s2    158.4     90.2\n",
              "s5    161.4     78.9\n",
              "s1    176.2     85.1"
            ]
          },
          "metadata": {
            "tags": []
          },
          "execution_count": 42
        }
      ]
    }
  ]
}