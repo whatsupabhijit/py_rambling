{
  "nbformat": 4,
  "nbformat_minor": 0,
  "metadata": {
    "colab": {
      "name": "panda.ipynb",
      "version": "0.3.2",
      "provenance": [],
      "include_colab_link": true
    },
    "kernelspec": {
      "name": "python3",
      "display_name": "Python 3"
    }
  },
  "cells": [
    {
      "cell_type": "markdown",
      "metadata": {
        "id": "view-in-github",
        "colab_type": "text"
      },
      "source": [
        "<a href=\"https://colab.research.google.com/github/whatsupabhijit/py_rambling/blob/master/panda.ipynb\" target=\"_parent\"><img src=\"https://colab.research.google.com/assets/colab-badge.svg\" alt=\"Open In Colab\"/></a>"
      ]
    },
    {
      "metadata": {
        "id": "dOlkheh4Z1wX",
        "colab_type": "text"
      },
      "cell_type": "markdown",
      "source": [
        "**Pandas**\n",
        "\n",
        "- `Pandas` is a popular Python data analysis tool.\n",
        "\n",
        "- It provides easy to use and highly efficient data structures.\n",
        "\n",
        "- These data structures deal with numeric or labeled data, stored in the form of tables"
      ]
    },
    {
      "metadata": {
        "id": "83ZJTVAYaPm3",
        "colab_type": "text"
      },
      "cell_type": "markdown",
      "source": [
        "**Data Structures in Pandas**\n",
        "\n",
        "Three fundamental data structures used in pandas are,\n",
        "\n",
        "- Series: A 1-D array.\n",
        "\n",
        "- Data Frame: A 2-D array or two or more Series joined together\n",
        "\n",
        "- Panel: A 3-D array\n"
      ]
    },
    {
      "metadata": {
        "id": "TTeZ84PhacEh",
        "colab_type": "text"
      },
      "cell_type": "markdown",
      "source": [
        "**Series ** is a 1-D array, holding data values of a single variable, captured from multiple observations.\n",
        "\n",
        "Few examples are:\n",
        "\n",
        "1. Height of each student, belonging to a Class 'C'.''\n",
        "2. Amount of daily rainfall received at Station 'X', in July 2017\n",
        "3. Total sales of a product 'P' in every quarter of 2016."
      ]
    },
    {
      "metadata": {
        "id": "WCUBiTm9a6xR",
        "colab_type": "code",
        "colab": {}
      },
      "cell_type": "code",
      "source": [
        "!pip install panda\n",
        "!pip install request"
      ],
      "execution_count": 0,
      "outputs": []
    },
    {
      "metadata": {
        "id": "lyFMslLOFc_G",
        "colab_type": "code",
        "colab": {}
      },
      "cell_type": "code",
      "source": [
        "import numpy as np\n",
        "import pandas as pd   # mind the extra 's' in pandas as importing panda alone gives you error"
      ],
      "execution_count": 0,
      "outputs": []
    },
    {
      "metadata": {
        "id": "RSomb7xgbryo",
        "colab_type": "code",
        "colab": {
          "base_uri": "https://localhost:8080/",
          "height": 85
        },
        "outputId": "bb95e4cd-6933-4171-954d-179baab56636"
      },
      "cell_type": "code",
      "source": [
        "## creating panda series from a dictionary\n",
        "\n",
        "d = {'Math': 180, 'Physics': 157, 'Chemistry:': 157}\n",
        "pd.Series(d)"
      ],
      "execution_count": 21,
      "outputs": [
        {
          "output_type": "execute_result",
          "data": {
            "text/plain": [
              "Chemistry:    157\n",
              "Math          180\n",
              "Physics       157\n",
              "dtype: int64"
            ]
          },
          "metadata": {
            "tags": []
          },
          "execution_count": 21
        }
      ]
    },
    {
      "metadata": {
        "id": "N9qf3zcDcRKJ",
        "colab_type": "code",
        "colab": {
          "base_uri": "https://localhost:8080/",
          "height": 85
        },
        "outputId": "d8a21554-cb3f-4030-9f66-7e749c0a30c7"
      },
      "cell_type": "code",
      "source": [
        "# Creating a panda series from numpy\n",
        "\n",
        "n = np.random.randn(3) * -100\n",
        "\n",
        "pd.Series(n, index = ['Math', 'Physics', 'Chemistry'])"
      ],
      "execution_count": 20,
      "outputs": [
        {
          "output_type": "execute_result",
          "data": {
            "text/plain": [
              "Math         149.982057\n",
              "Physics      159.821153\n",
              "Chemistry   -150.817059\n",
              "dtype: float64"
            ]
          },
          "metadata": {
            "tags": []
          },
          "execution_count": 20
        }
      ]
    },
    {
      "metadata": {
        "id": "To1jAxG6dEPK",
        "colab_type": "text"
      },
      "cell_type": "markdown",
      "source": [
        "**Problem 1.1**\n",
        "Create a series named heights_A with values 176.2, 158.4, 167.6, 156.2, and 161.4, which represent heights of 5 students of class A.\n",
        "\n",
        "Label each student as s1, s2, s3, s4, and s5.\n",
        "\n",
        "Determine the shape of heights_A and display it."
      ]
    },
    {
      "metadata": {
        "id": "LGmH7R2CdC5R",
        "colab_type": "code",
        "colab": {
          "base_uri": "https://localhost:8080/",
          "height": 34
        },
        "outputId": "06351a59-2ebe-422e-94ca-eb32a9f1e5fe"
      },
      "cell_type": "code",
      "source": [
        "ht = [176.2, 158.4, 167.6, 156.2, 161.4]\n",
        "\n",
        "heights_A = pd.Series(ht, index = ['s1', 's2', 's3', 's4', 's5'])\n",
        "heights_A\n",
        "\n",
        "heights_A.shape"
      ],
      "execution_count": 31,
      "outputs": [
        {
          "output_type": "execute_result",
          "data": {
            "text/plain": [
              "(5,)"
            ]
          },
          "metadata": {
            "tags": []
          },
          "execution_count": 31
        }
      ]
    },
    {
      "metadata": {
        "id": "h1uesjcaeZci",
        "colab_type": "text"
      },
      "cell_type": "markdown",
      "source": [
        "**Problem 1.2**\n",
        "Create a series named weights_A with values 85.1, 90.2, 76.8, 80.4, and 78.9, which represent weights of 5 students of class A.\n",
        "\n",
        "Label each student as s1, s2, s3, s4, and s5.\n",
        "\n",
        "Determine data type of weights_A and display it.\n",
        "\n",
        "Hint: Make use of Series method available in pandas library."
      ]
    },
    {
      "metadata": {
        "id": "JuedULX3edR3",
        "colab_type": "code",
        "colab": {
          "base_uri": "https://localhost:8080/",
          "height": 34
        },
        "outputId": "da4bf46a-0ea1-4534-84fa-4dc8590c84fc"
      },
      "cell_type": "code",
      "source": [
        "wt = [85.1, 90.2, 76.8, 80.4,  78.9,]\n",
        "weights_A = pd.Series(wt, index = ['s1', 's2', 's3', 's4', 's5'])\n",
        "\n",
        "weights_A\n",
        "\n",
        "weights_A.shape"
      ],
      "execution_count": 33,
      "outputs": [
        {
          "output_type": "execute_result",
          "data": {
            "text/plain": [
              "(5,)"
            ]
          },
          "metadata": {
            "tags": []
          },
          "execution_count": 33
        }
      ]
    },
    {
      "metadata": {
        "id": "-YfwJSqBfS8I",
        "colab_type": "text"
      },
      "cell_type": "markdown",
      "source": [
        "A **Data Frame** is 2-D shaped and contains data of different parameters, captured from multiple observations.\n",
        "\n",
        "Each **observation** is represented by a single **row**, and each **parameter** by a single **column**.\n",
        "\n",
        "Each column can hold different data type.\n",
        "Few examples are:\n",
        "\n",
        "- Height and Weight of all students, belonging to a Class 'C'.\n",
        "- Daily Rainfall received and Average Temperature of a location 'X', in the year 2017.\n",
        "\n",
        "---\n",
        "\n"
      ]
    },
    {
      "metadata": {
        "id": "mdLX5rrSgtsw",
        "colab_type": "code",
        "colab": {
          "base_uri": "https://localhost:8080/",
          "height": 142
        },
        "outputId": "64a9eb86-f2b9-49ba-b38e-4a0bbd1d2e6b"
      },
      "cell_type": "code",
      "source": [
        "## Data frame created from pd.Series\n",
        "\n",
        "s = {'subject': pd.Series(['Math', 'Physics', 'Chemistry']), 'marks': pd.Series([100, 190, 185]) }\n",
        "df = pd.DataFrame(s)\n",
        "df"
      ],
      "execution_count": 47,
      "outputs": [
        {
          "output_type": "execute_result",
          "data": {
            "text/html": [
              "<div>\n",
              "<style scoped>\n",
              "    .dataframe tbody tr th:only-of-type {\n",
              "        vertical-align: middle;\n",
              "    }\n",
              "\n",
              "    .dataframe tbody tr th {\n",
              "        vertical-align: top;\n",
              "    }\n",
              "\n",
              "    .dataframe thead th {\n",
              "        text-align: right;\n",
              "    }\n",
              "</style>\n",
              "<table border=\"1\" class=\"dataframe\">\n",
              "  <thead>\n",
              "    <tr style=\"text-align: right;\">\n",
              "      <th></th>\n",
              "      <th>marks</th>\n",
              "      <th>subject</th>\n",
              "    </tr>\n",
              "  </thead>\n",
              "  <tbody>\n",
              "    <tr>\n",
              "      <th>0</th>\n",
              "      <td>100</td>\n",
              "      <td>Math</td>\n",
              "    </tr>\n",
              "    <tr>\n",
              "      <th>1</th>\n",
              "      <td>190</td>\n",
              "      <td>Physics</td>\n",
              "    </tr>\n",
              "    <tr>\n",
              "      <th>2</th>\n",
              "      <td>185</td>\n",
              "      <td>Chemistry</td>\n",
              "    </tr>\n",
              "  </tbody>\n",
              "</table>\n",
              "</div>"
            ],
            "text/plain": [
              "   marks    subject\n",
              "0    100       Math\n",
              "1    190    Physics\n",
              "2    185  Chemistry"
            ]
          },
          "metadata": {
            "tags": []
          },
          "execution_count": 47
        }
      ]
    },
    {
      "metadata": {
        "id": "h3-keNNfjqwu",
        "colab_type": "code",
        "colab": {
          "base_uri": "https://localhost:8080/",
          "height": 142
        },
        "outputId": "444131a0-8168-4c04-fe07-af07e0106875"
      },
      "cell_type": "code",
      "source": [
        "## Data frame created from list\n",
        "\n",
        "s = {'subject': ['Math', 'Physics', 'Chemistry'], 'marks': [100, 190, 185] }\n",
        "df = pd.DataFrame(s)\n",
        "df"
      ],
      "execution_count": 48,
      "outputs": [
        {
          "output_type": "execute_result",
          "data": {
            "text/html": [
              "<div>\n",
              "<style scoped>\n",
              "    .dataframe tbody tr th:only-of-type {\n",
              "        vertical-align: middle;\n",
              "    }\n",
              "\n",
              "    .dataframe tbody tr th {\n",
              "        vertical-align: top;\n",
              "    }\n",
              "\n",
              "    .dataframe thead th {\n",
              "        text-align: right;\n",
              "    }\n",
              "</style>\n",
              "<table border=\"1\" class=\"dataframe\">\n",
              "  <thead>\n",
              "    <tr style=\"text-align: right;\">\n",
              "      <th></th>\n",
              "      <th>marks</th>\n",
              "      <th>subject</th>\n",
              "    </tr>\n",
              "  </thead>\n",
              "  <tbody>\n",
              "    <tr>\n",
              "      <th>0</th>\n",
              "      <td>100</td>\n",
              "      <td>Math</td>\n",
              "    </tr>\n",
              "    <tr>\n",
              "      <th>1</th>\n",
              "      <td>190</td>\n",
              "      <td>Physics</td>\n",
              "    </tr>\n",
              "    <tr>\n",
              "      <th>2</th>\n",
              "      <td>185</td>\n",
              "      <td>Chemistry</td>\n",
              "    </tr>\n",
              "  </tbody>\n",
              "</table>\n",
              "</div>"
            ],
            "text/plain": [
              "   marks    subject\n",
              "0    100       Math\n",
              "1    190    Physics\n",
              "2    185  Chemistry"
            ]
          },
          "metadata": {
            "tags": []
          },
          "execution_count": 48
        }
      ]
    },
    {
      "metadata": {
        "id": "lmyIM9YZe6uI",
        "colab_type": "text"
      },
      "cell_type": "markdown",
      "source": [
        "**Problem 1.3**\n",
        "Create a Data Frame named df_A, which holds the height and weight of five students namely s1, s2, s3, s4 and s5.\n",
        "\n",
        "Label the columns as Student_height and Student_weight respectively.\n",
        "\n",
        "Display index values of df_A.\n",
        "\n",
        "Hint: Make use of DataFrame method in pandas, and also the series heights_A, weights_A created in previous problems."
      ]
    },
    {
      "metadata": {
        "id": "coZkxy3ytvwR",
        "colab_type": "code",
        "colab": {
          "base_uri": "https://localhost:8080/",
          "height": 204
        },
        "outputId": "5e24acbc-1c59-41d2-e6af-8c6ddf7f6b3e"
      },
      "cell_type": "code",
      "source": [
        "sf_dict = {'heights': heights_A, 'weights': weights_A }\n",
        "df_A = pd.DataFrame(sf_dict)\n",
        "df_A"
      ],
      "execution_count": 49,
      "outputs": [
        {
          "output_type": "execute_result",
          "data": {
            "text/html": [
              "<div>\n",
              "<style scoped>\n",
              "    .dataframe tbody tr th:only-of-type {\n",
              "        vertical-align: middle;\n",
              "    }\n",
              "\n",
              "    .dataframe tbody tr th {\n",
              "        vertical-align: top;\n",
              "    }\n",
              "\n",
              "    .dataframe thead th {\n",
              "        text-align: right;\n",
              "    }\n",
              "</style>\n",
              "<table border=\"1\" class=\"dataframe\">\n",
              "  <thead>\n",
              "    <tr style=\"text-align: right;\">\n",
              "      <th></th>\n",
              "      <th>heights</th>\n",
              "      <th>weights</th>\n",
              "    </tr>\n",
              "  </thead>\n",
              "  <tbody>\n",
              "    <tr>\n",
              "      <th>s1</th>\n",
              "      <td>176.2</td>\n",
              "      <td>85.1</td>\n",
              "    </tr>\n",
              "    <tr>\n",
              "      <th>s2</th>\n",
              "      <td>158.4</td>\n",
              "      <td>90.2</td>\n",
              "    </tr>\n",
              "    <tr>\n",
              "      <th>s3</th>\n",
              "      <td>167.6</td>\n",
              "      <td>76.8</td>\n",
              "    </tr>\n",
              "    <tr>\n",
              "      <th>s4</th>\n",
              "      <td>156.2</td>\n",
              "      <td>80.4</td>\n",
              "    </tr>\n",
              "    <tr>\n",
              "      <th>s5</th>\n",
              "      <td>161.4</td>\n",
              "      <td>78.9</td>\n",
              "    </tr>\n",
              "  </tbody>\n",
              "</table>\n",
              "</div>"
            ],
            "text/plain": [
              "    heights  weights\n",
              "s1    176.2     85.1\n",
              "s2    158.4     90.2\n",
              "s3    167.6     76.8\n",
              "s4    156.2     80.4\n",
              "s5    161.4     78.9"
            ]
          },
          "metadata": {
            "tags": []
          },
          "execution_count": 49
        }
      ]
    },
    {
      "metadata": {
        "id": "-_GQmVSnuY_N",
        "colab_type": "text"
      },
      "cell_type": "markdown",
      "source": [
        "**Problem 1.4**\n",
        "Create two Series named heights_B and weights_B from two random 1-D numpy arrays with five elements each.\n",
        "\n",
        "The first array is obtained from the normal distribution of mean 170.0 and standard deviation 25.0.\n",
        "\n",
        "The second array is derived from the normal distribution of mean 75.0 and standard deviation 12.0.\n",
        "\n",
        "Label both Series elements with s1, s2, s3, s4 and s5."
      ]
    },
    {
      "metadata": {
        "id": "71uugSAruYNt",
        "colab_type": "code",
        "colab": {
          "base_uri": "https://localhost:8080/",
          "height": 221
        },
        "outputId": "90cb1083-f387-4db9-f74c-9264f0070fab"
      },
      "cell_type": "code",
      "source": [
        "heights_B = pd.Series(170 + 25 * np.random.randn(5), index = ['s1', 's2', 's3', 's4', 's5'])\n",
        "weights_B = pd.Series(75  + 12 * np.random.randn(5), index = ['s1', 's2', 's3', 's4', 's5'])\n",
        "\n",
        "print(heights_B)\n",
        "\n",
        "print(weights_B)"
      ],
      "execution_count": 63,
      "outputs": [
        {
          "output_type": "stream",
          "text": [
            "s1    164.286371\n",
            "s2    162.092376\n",
            "s3    135.527418\n",
            "s4    149.485393\n",
            "s5    174.172744\n",
            "dtype: float64\n",
            "s1    64.294766\n",
            "s2    88.820302\n",
            "s3    92.638241\n",
            "s4    69.384514\n",
            "s5    81.990551\n",
            "dtype: float64\n"
          ],
          "name": "stdout"
        }
      ]
    },
    {
      "metadata": {
        "id": "_y_ywZOOwA6t",
        "colab_type": "text"
      },
      "cell_type": "markdown",
      "source": [
        "**Problem 1.5**\n",
        "Create a Data Frame df_B holding height and weight of students s1, s2, s3, s4 and s5 belonging to class B.\n",
        "\n",
        "Label the columns as Student_height and Student_weight respectively.\n",
        "\n",
        "Display the column names of df_B."
      ]
    },
    {
      "metadata": {
        "id": "ydERgqpkwFjN",
        "colab_type": "code",
        "colab": {
          "base_uri": "https://localhost:8080/",
          "height": 204
        },
        "outputId": "33d2f95a-4ea6-411d-84ab-7dca9be69398"
      },
      "cell_type": "code",
      "source": [
        "df_B = pd.DataFrame({'heights': heights_B, 'weigts': weights_B})\n",
        "df_B"
      ],
      "execution_count": 65,
      "outputs": [
        {
          "output_type": "execute_result",
          "data": {
            "text/html": [
              "<div>\n",
              "<style scoped>\n",
              "    .dataframe tbody tr th:only-of-type {\n",
              "        vertical-align: middle;\n",
              "    }\n",
              "\n",
              "    .dataframe tbody tr th {\n",
              "        vertical-align: top;\n",
              "    }\n",
              "\n",
              "    .dataframe thead th {\n",
              "        text-align: right;\n",
              "    }\n",
              "</style>\n",
              "<table border=\"1\" class=\"dataframe\">\n",
              "  <thead>\n",
              "    <tr style=\"text-align: right;\">\n",
              "      <th></th>\n",
              "      <th>heights</th>\n",
              "      <th>weigts</th>\n",
              "    </tr>\n",
              "  </thead>\n",
              "  <tbody>\n",
              "    <tr>\n",
              "      <th>s1</th>\n",
              "      <td>164.286371</td>\n",
              "      <td>64.294766</td>\n",
              "    </tr>\n",
              "    <tr>\n",
              "      <th>s2</th>\n",
              "      <td>162.092376</td>\n",
              "      <td>88.820302</td>\n",
              "    </tr>\n",
              "    <tr>\n",
              "      <th>s3</th>\n",
              "      <td>135.527418</td>\n",
              "      <td>92.638241</td>\n",
              "    </tr>\n",
              "    <tr>\n",
              "      <th>s4</th>\n",
              "      <td>149.485393</td>\n",
              "      <td>69.384514</td>\n",
              "    </tr>\n",
              "    <tr>\n",
              "      <th>s5</th>\n",
              "      <td>174.172744</td>\n",
              "      <td>81.990551</td>\n",
              "    </tr>\n",
              "  </tbody>\n",
              "</table>\n",
              "</div>"
            ],
            "text/plain": [
              "       heights     weigts\n",
              "s1  164.286371  64.294766\n",
              "s2  162.092376  88.820302\n",
              "s3  135.527418  92.638241\n",
              "s4  149.485393  69.384514\n",
              "s5  174.172744  81.990551"
            ]
          },
          "metadata": {
            "tags": []
          },
          "execution_count": 65
        }
      ]
    },
    {
      "metadata": {
        "id": "YL4siMbofqwZ",
        "colab_type": "text"
      },
      "cell_type": "markdown",
      "source": [
        "A **Panel** holds **two** or **more** Data **Frames** together as a single unit.\n",
        "\n",
        "Few examples are:\n",
        "\n",
        "- Height and Weight of all students, belonging to 3 Classes 'A', 'B', and 'C'.\n",
        "- Daily Rainfall received and Average Temperatures of 3 locations 'X', 'Y', and 'Z' captured in the year 2017.\n",
        "\n",
        "---\n",
        "\n"
      ]
    },
    {
      "metadata": {
        "id": "nCwHt6x6wwoM",
        "colab_type": "text"
      },
      "cell_type": "markdown",
      "source": [
        "**Problem 1.6**\n",
        "Create a panel p, which holds previously created two data frames df_A and df_B.\n",
        "\n",
        "Label the first data frame as ClassA and second as ClassB.\n",
        "\n",
        "\n",
        "Determine the shape of panel p and display it."
      ]
    },
    {
      "metadata": {
        "id": "rJcUK9wDyV1e",
        "colab_type": "code",
        "colab": {
          "base_uri": "https://localhost:8080/",
          "height": 493
        },
        "outputId": "06c7c97c-6aa2-48cb-9fb9-92a191661f99"
      },
      "cell_type": "code",
      "source": [
        "df_panel = pd.Panel({'ClassA': df_A, 'ClassB': df_B})\n",
        "\n",
        "print('Shape:-')\n",
        "print(df_panel.shape)\n",
        "\n",
        "print('\\n\\nClassA')\n",
        "print(df_panel.ClassA)\n",
        "\n",
        "\n",
        "print('\\n\\nClassB')\n",
        "print(df_panel.ClassB)\n",
        "\n",
        "print(\"\\n\\ndf_panel:- \")\n",
        "print(df_panel)"
      ],
      "execution_count": 78,
      "outputs": [
        {
          "output_type": "stream",
          "text": [
            "Shape:-\n",
            "(2, 5, 3)\n",
            "\n",
            "\n",
            "ClassA\n",
            "    heights  weights  weigts\n",
            "s1    176.2     85.1     NaN\n",
            "s2    158.4     90.2     NaN\n",
            "s3    167.6     76.8     NaN\n",
            "s4    156.2     80.4     NaN\n",
            "s5    161.4     78.9     NaN\n",
            "\n",
            "\n",
            "ClassB\n",
            "       heights  weights     weigts\n",
            "s1  164.286371      NaN  64.294766\n",
            "s2  162.092376      NaN  88.820302\n",
            "s3  135.527418      NaN  92.638241\n",
            "s4  149.485393      NaN  69.384514\n",
            "s5  174.172744      NaN  81.990551\n",
            "\n",
            "\n",
            "df_panel:- \n",
            "<class 'pandas.core.panel.Panel'>\n",
            "Dimensions: 2 (items) x 5 (major_axis) x 3 (minor_axis)\n",
            "Items axis: ClassA to ClassB\n",
            "Major_axis axis: s1 to s5\n",
            "Minor_axis axis: heights to weigts\n"
          ],
          "name": "stdout"
        }
      ]
    }
  ]
}