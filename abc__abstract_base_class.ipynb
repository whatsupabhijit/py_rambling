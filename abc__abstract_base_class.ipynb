{
  "nbformat": 4,
  "nbformat_minor": 0,
  "metadata": {
    "colab": {
      "name": "abc _abstract_base_class.ipynb",
      "version": "0.3.2",
      "provenance": [],
      "include_colab_link": true
    },
    "kernelspec": {
      "name": "python3",
      "display_name": "Python 3"
    }
  },
  "cells": [
    {
      "cell_type": "markdown",
      "metadata": {
        "id": "view-in-github",
        "colab_type": "text"
      },
      "source": [
        "<a href=\"https://colab.research.google.com/github/whatsupabhijit/py_rambling/blob/master/abc__abstract_base_class.ipynb\" target=\"_parent\"><img src=\"https://colab.research.google.com/assets/colab-badge.svg\" alt=\"Open In Colab\"/></a>"
      ]
    },
    {
      "metadata": {
        "id": "dyquev5TW5_a",
        "colab_type": "code",
        "colab": {
          "base_uri": "https://localhost:8080/",
          "height": 469
        },
        "outputId": "c66cd0fd-8f3e-4d11-c671-cb2426a4eb18"
      },
      "cell_type": "code",
      "source": [
        "from abc import ABC, abstractmethod\n",
        "\n",
        "class A(ABC):\n",
        "\n",
        "    @abstractmethod\n",
        "    @classmethod\n",
        "    def m1(self):\n",
        "        print('In class A, Method m1.')\n",
        "\n",
        "class B(A):\n",
        "\n",
        "    @classmethod\n",
        "    def m1(self):\n",
        "        print('In class B, Method m1.')\n",
        "\n",
        "b = B()\n",
        "b.m1()\n",
        "B.m1()\n",
        "A.m1()"
      ],
      "execution_count": 1,
      "outputs": [
        {
          "output_type": "error",
          "ename": "AttributeError",
          "evalue": "ignored",
          "traceback": [
            "\u001b[0;31m---------------------------------------------------------------------------\u001b[0m",
            "\u001b[0;31mAttributeError\u001b[0m                            Traceback (most recent call last)",
            "\u001b[0;32m<ipython-input-1-f9fc992e5cfa>\u001b[0m in \u001b[0;36m<module>\u001b[0;34m()\u001b[0m\n\u001b[1;32m      1\u001b[0m \u001b[0;32mfrom\u001b[0m \u001b[0mabc\u001b[0m \u001b[0;32mimport\u001b[0m \u001b[0mABC\u001b[0m\u001b[0;34m,\u001b[0m \u001b[0mabstractmethod\u001b[0m\u001b[0;34m\u001b[0m\u001b[0m\n\u001b[1;32m      2\u001b[0m \u001b[0;34m\u001b[0m\u001b[0m\n\u001b[0;32m----> 3\u001b[0;31m \u001b[0;32mclass\u001b[0m \u001b[0mA\u001b[0m\u001b[0;34m(\u001b[0m\u001b[0mABC\u001b[0m\u001b[0;34m)\u001b[0m\u001b[0;34m:\u001b[0m\u001b[0;34m\u001b[0m\u001b[0m\n\u001b[0m\u001b[1;32m      4\u001b[0m \u001b[0;34m\u001b[0m\u001b[0m\n\u001b[1;32m      5\u001b[0m     \u001b[0;34m@\u001b[0m\u001b[0mabstractmethod\u001b[0m\u001b[0;34m\u001b[0m\u001b[0m\n",
            "\u001b[0;32m<ipython-input-1-f9fc992e5cfa>\u001b[0m in \u001b[0;36mA\u001b[0;34m()\u001b[0m\n\u001b[1;32m      4\u001b[0m \u001b[0;34m\u001b[0m\u001b[0m\n\u001b[1;32m      5\u001b[0m     \u001b[0;34m@\u001b[0m\u001b[0mabstractmethod\u001b[0m\u001b[0;34m\u001b[0m\u001b[0m\n\u001b[0;32m----> 6\u001b[0;31m     \u001b[0;34m@\u001b[0m\u001b[0mclassmethod\u001b[0m\u001b[0;34m\u001b[0m\u001b[0m\n\u001b[0m\u001b[1;32m      7\u001b[0m     \u001b[0;32mdef\u001b[0m \u001b[0mm1\u001b[0m\u001b[0;34m(\u001b[0m\u001b[0mself\u001b[0m\u001b[0;34m)\u001b[0m\u001b[0;34m:\u001b[0m\u001b[0;34m\u001b[0m\u001b[0m\n\u001b[1;32m      8\u001b[0m         \u001b[0mprint\u001b[0m\u001b[0;34m(\u001b[0m\u001b[0;34m'In class A, Method m1.'\u001b[0m\u001b[0;34m)\u001b[0m\u001b[0;34m\u001b[0m\u001b[0m\n",
            "\u001b[0;32m/usr/lib/python3.6/abc.py\u001b[0m in \u001b[0;36mabstractmethod\u001b[0;34m(funcobj)\u001b[0m\n\u001b[1;32m     23\u001b[0m                 \u001b[0;34m...\u001b[0m\u001b[0;34m\u001b[0m\u001b[0m\n\u001b[1;32m     24\u001b[0m     \"\"\"\n\u001b[0;32m---> 25\u001b[0;31m     \u001b[0mfuncobj\u001b[0m\u001b[0;34m.\u001b[0m\u001b[0m__isabstractmethod__\u001b[0m \u001b[0;34m=\u001b[0m \u001b[0;32mTrue\u001b[0m\u001b[0;34m\u001b[0m\u001b[0m\n\u001b[0m\u001b[1;32m     26\u001b[0m     \u001b[0;32mreturn\u001b[0m \u001b[0mfuncobj\u001b[0m\u001b[0;34m\u001b[0m\u001b[0m\n\u001b[1;32m     27\u001b[0m \u001b[0;34m\u001b[0m\u001b[0m\n",
            "\u001b[0;31mAttributeError\u001b[0m: attribute '__isabstractmethod__' of 'classmethod' objects is not writable"
          ]
        }
      ]
    },
    {
      "metadata": {
        "id": "gyFwQJdoW-Zu",
        "colab_type": "code",
        "colab": {
          "base_uri": "https://localhost:8080/",
          "height": 34
        },
        "outputId": "da6e5d2f-7533-4346-d9d1-8d4353273c5b"
      },
      "cell_type": "code",
      "source": [
        "from abc import ABC, abstractmethod\n",
        "\n",
        "class A(ABC):\n",
        "\n",
        "    @abstractmethod\n",
        "    def m1(self):\n",
        "        print('In class A, Method m1.')\n",
        "\n",
        "class B(A):\n",
        "\n",
        "    @staticmethod\n",
        "    def m1(self):\n",
        "        print('In class B, Method m1.')\n",
        "\n",
        "b = B()\n",
        "B.m1(b)"
      ],
      "execution_count": 2,
      "outputs": [
        {
          "output_type": "stream",
          "text": [
            "In class B, Method m1.\n"
          ],
          "name": "stdout"
        }
      ]
    },
    {
      "metadata": {
        "id": "LuKITvRzXEvs",
        "colab_type": "code",
        "colab": {
          "base_uri": "https://localhost:8080/",
          "height": 214
        },
        "outputId": "2004560b-b102-4b08-c978-aca59b26ba5e"
      },
      "cell_type": "code",
      "source": [
        "from abc import ABC, abstractmethod\n",
        "\n",
        "class A(ABC):\n",
        "    \n",
        "    @abstractmethod\n",
        "    def m1():\n",
        "        print('In class A, Method m1.')\n",
        "\n",
        "    def m2():\n",
        "        print('In class A, Method m2.')\n",
        "\n",
        "class B(A):\n",
        "\n",
        "    def m2():\n",
        "        print('In class B, Method m2.')\n",
        "        \n",
        "\n",
        "b = B()\n",
        "b.m2()"
      ],
      "execution_count": 6,
      "outputs": [
        {
          "output_type": "error",
          "ename": "TypeError",
          "evalue": "ignored",
          "traceback": [
            "\u001b[0;31m---------------------------------------------------------------------------\u001b[0m",
            "\u001b[0;31mTypeError\u001b[0m                                 Traceback (most recent call last)",
            "\u001b[0;32m<ipython-input-6-14bd7915f673>\u001b[0m in \u001b[0;36m<module>\u001b[0;34m()\u001b[0m\n\u001b[1;32m     16\u001b[0m \u001b[0;34m\u001b[0m\u001b[0m\n\u001b[1;32m     17\u001b[0m \u001b[0;34m\u001b[0m\u001b[0m\n\u001b[0;32m---> 18\u001b[0;31m \u001b[0mb\u001b[0m \u001b[0;34m=\u001b[0m \u001b[0mB\u001b[0m\u001b[0;34m(\u001b[0m\u001b[0;34m)\u001b[0m\u001b[0;34m\u001b[0m\u001b[0m\n\u001b[0m\u001b[1;32m     19\u001b[0m \u001b[0mb\u001b[0m\u001b[0;34m.\u001b[0m\u001b[0mm2\u001b[0m\u001b[0;34m(\u001b[0m\u001b[0;34m)\u001b[0m\u001b[0;34m\u001b[0m\u001b[0m\n",
            "\u001b[0;31mTypeError\u001b[0m: Can't instantiate abstract class B with abstract methods m1"
          ]
        }
      ]
    },
    {
      "metadata": {
        "id": "BIPc_J2zYlK6",
        "colab_type": "code",
        "colab": {
          "base_uri": "https://localhost:8080/",
          "height": 85
        },
        "outputId": "c99c20d1-7e1e-419c-f55f-8e4499dc5aca"
      },
      "cell_type": "code",
      "source": [
        "import inspect\n",
        "\n",
        "from abc import ABC, abstractmethod\n",
        "\n",
        "# Define the abstract class 'Animal' below\n",
        "# with abstract method 'say'\n",
        "class Animal(ABC):\n",
        "\n",
        "    @abstractmethod\n",
        "    def say():\n",
        "        pass\n",
        "\n",
        "\n",
        "# Define class Dog derived from Animal\n",
        "# Also define 'say' method inside 'Dog' class\n",
        "class Dog(Animal):\n",
        "    def say(self):\n",
        "        return ('I speak Booooo')\n",
        "\n",
        "\n",
        "if __name__ == '__main__':\n",
        "    \n",
        "    if issubclass(Animal, ABC):\n",
        "        print(\"'Animal' is an abstract class\" )\n",
        "    \n",
        "    if '@abstractmethod' in inspect.getsource(Animal.say):\n",
        "        print(\"'say' is an abstract method\")\n",
        "        \n",
        "    if issubclass(Dog, Animal):\n",
        "        print(\"'Dog' is dervied from 'Animal' class\" )\n",
        "    \n",
        "    d1 = Dog()\n",
        "    print(\"Dog,'d1', says :\", d1.say())"
      ],
      "execution_count": 7,
      "outputs": [
        {
          "output_type": "stream",
          "text": [
            "'Animal' is an abstract class\n",
            "'say' is an abstract method\n",
            "'Dog' is dervied from 'Animal' class\n",
            "Dog,'d1', says : I speak Booooo\n"
          ],
          "name": "stdout"
        }
      ]
    }
  ]
}